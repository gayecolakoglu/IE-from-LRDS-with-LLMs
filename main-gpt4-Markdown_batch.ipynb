{
 "cells": [
  {
   "cell_type": "code",
   "execution_count": 1,
   "id": "f19c93bb-c247-4af8-b6cb-c90ab566c459",
   "metadata": {},
   "outputs": [
    {
     "name": "stderr",
     "output_type": "stream",
     "text": [
      "/home/gaye/miniconda3/envs/vt2/lib/python3.11/site-packages/fuzzywuzzy/fuzz.py:11: UserWarning: Using slow pure-python SequenceMatcher. Install python-Levenshtein to remove this warning\n",
      "  warnings.warn('Using slow pure-python SequenceMatcher. Install python-Levenshtein to remove this warning')\n"
     ]
    }
   ],
   "source": [
    "import os\n",
    "import hashlib\n",
    "from os import path, makedirs\n",
    "import shutil\n",
    "import logging\n",
    "import time\n",
    "import pandas as pd\n",
    "import tempfile\n",
    "import json\n",
    "import requests\n",
    "import base64\n",
    "from modules.data_processing import categorize_files_by_template, pdf_to_image_paths\n",
    "from modules.arrange_conf_md import get_log_directory_md, get_output_directory_md, get_data_paths\n",
    "from modules.batch_processing import split_jsonl_file, send_batch_requests\n",
    "from config import MODEL_gpt_4, prompt_md\n",
    "from multiprocessing import current_process"
   ]
  },
  {
   "cell_type": "code",
   "execution_count": 2,
   "id": "dfdb5c0e-028b-4db9-ad36-d244ad0e47c8",
   "metadata": {},
   "outputs": [
    {
     "name": "stderr",
     "output_type": "stream",
     "text": [
      "2025-02-24 11:42:24,197 - INFO - Logging setup complete.\n"
     ]
    },
    {
     "name": "stdout",
     "output_type": "stream",
     "text": [
      "log_directory:  gpt4_Markdown_outputs/reg/\n",
      "base_output_directory:  gpt4_Markdown_outputs/reg/\n",
      "folder_path: vrdu2/registration-form/main/pdfs\n",
      "dataset_path: vrdu2/registration-form/main/dataset.jsonl.gz\n",
      "dtype: reg\n"
     ]
    }
   ],
   "source": [
    "directory = 'vrdu2/registration-form/few_shot-splits/'\n",
    "# directory = 'VT2/vrdu2/ad-buy-form/few_shot-splits/'\n",
    "\n",
    "# Arrange logging and output dirs accordıng to model and form type\n",
    "model = MODEL_gpt_4  #MODEL_gpt_4 #  or \n",
    "log_directory = get_log_directory_md(directory, model) \n",
    "base_output_directory = get_output_directory_md(directory, model)\n",
    "\n",
    "print(\"log_directory: \", log_directory)\n",
    "print(\"base_output_directory: \", base_output_directory)\n",
    "\n",
    "# Arrange folder and dataset dirs based on the provided main dir\n",
    "folder_path, dataset_path, dtype = get_data_paths(directory)\n",
    "\n",
    "print(\"folder_path:\", folder_path)\n",
    "print(\"dataset_path:\", dataset_path)\n",
    "print(\"dtype:\", dtype)\n",
    "\n",
    "log_file_path = path.join(log_directory, f\"experiment_{current_process().pid}.log\")\n",
    "logging.basicConfig(level=logging.INFO,\n",
    "                    format='%(asctime)s - %(levelname)s - %(message)s',\n",
    "                    handlers=[\n",
    "                        logging.FileHandler(log_file_path),\n",
    "                        logging.StreamHandler()\n",
    "                    ])\n",
    "\n",
    "# Example logging\n",
    "logging.info(\"Logging setup complete.\")"
   ]
  },
  {
   "cell_type": "code",
   "execution_count": 3,
   "id": "e2b5ac35-01e7-4d79-9d78-b07fc330806d",
   "metadata": {},
   "outputs": [
    {
     "name": "stdout",
     "output_type": "stream",
     "text": [
      "CSV file has been saved to gpt4_Markdown_outputs/reg/all_experiment_combinations.csv\n"
     ]
    }
   ],
   "source": [
    "import itertools\n",
    "\n",
    "sample_size = 40\n",
    "level_types = [\"UTL\", \"STL\"]\n",
    "\n",
    "combinations = []\n",
    "experiment_id = 0\n",
    "\n",
    "for level_type in level_types:\n",
    "    combination = {\n",
    "        'experiment_id': experiment_id,\n",
    "        'dataset': \"vrdu\",\n",
    "        'sample_size': sample_size,\n",
    "        'level_type': level_type\n",
    "    }\n",
    "    combinations.append(combination)\n",
    "    experiment_id += 1\n",
    "    \n",
    "# Creating a DataFrame\n",
    "df = pd.DataFrame(combinations)\n",
    "\n",
    "# Saving to CSV\n",
    "csv_file_path = path.join(base_output_directory, 'all_experiment_combinations.csv')\n",
    "df.to_csv(csv_file_path, index=False)\n",
    "\n",
    "print(f\"CSV file has been saved to {csv_file_path}\")"
   ]
  },
  {
   "cell_type": "code",
   "execution_count": 14,
   "id": "949f6f74-7380-4808-ac31-669cf9585eef",
   "metadata": {},
   "outputs": [],
   "source": [
    "def process_batch_responses_local(file_path, output_dir, all_filename_mappings):\n",
    "    print(\"Processing file: \", file_path)\n",
    "    \n",
    "    with open(file_path, 'r', encoding='utf-8') as f:\n",
    "        file_content = f.read()\n",
    "    \n",
    "    print(\"file_content: \", file_content[:500])  # Print the first 500 characters for inspection\n",
    "\n",
    "    for line in file_content.splitlines():\n",
    "        response = json.loads(line)\n",
    "        custom_id = response['custom_id']\n",
    "        message_content = response['response']['body']['choices'][0]['message']['content']\n",
    "\n",
    "        parts = custom_id.split('_')\n",
    "        experiment_id = parts[0]\n",
    "        level_type = parts[1]\n",
    "        template_type = parts[2]\n",
    "        sanitized_filename = '_'.join(parts[3:-2])\n",
    "        page_num = parts[-1]\n",
    "        \n",
    "        original_filename = all_filename_mappings.get(sanitized_filename, sanitized_filename).replace(\".pdf\", \"\")\n",
    "        \n",
    "        markdown_dir = os.path.join(output_dir, level_type, template_type)\n",
    "        markdown_file_path = os.path.join(markdown_dir, f\"{original_filename}.md\")\n",
    "        os.makedirs(markdown_dir, exist_ok=True)\n",
    "\n",
    "        with open(markdown_file_path, 'a', encoding='utf-8') as f:\n",
    "            f.write(message_content + '\\n\\n')\n",
    "\n",
    "        logging.info(f\"Markdown file updated at {markdown_file_path}\")\n",
    "        print(f\"Markdown file updated at {markdown_file_path}\")\n",
    "\n",
    "def retrieve_and_process_batch_results(response_dir, output_dir, all_filename_mappings):\n",
    "     for filename in os.listdir(response_dir):\n",
    "        if filename.endswith(\".jsonl\"):\n",
    "            file_path = os.path.join(response_dir, filename)\n",
    "            process_batch_responses_local(file_path, output_dir, all_filename_mappings)\n",
    "\n",
    "def sanitize_filename(filename):\n",
    "    sanitized = filename.replace(\" \", \"_\").replace(\",\", \"\").replace(\"(\", \"\").replace(\")\", \"\").replace(\"&\", \"\").replace(\"'\", \"\").replace(\"\\\"\", \"\").replace(\".\", \"\").replace(\"/\", \"\").strip()\n",
    "    return sanitized, filename\n",
    "\n",
    "def generate_custom_id(experiment_id, level_type, template_type, filename, page_num, task_counter):\n",
    "    # Create a hash to ensure the custom_id is unique\n",
    "    unique_string = f\"{experiment_id}_{level_type}_{template_type}_{filename}_{page_num}_{task_counter}\"\n",
    "    unique_hash = hashlib.md5(unique_string.encode()).hexdigest()\n",
    "    return f\"{experiment_id}_{level_type}_{template_type}_{filename}_{page_num}_{unique_hash}\"\n",
    "    \n",
    "def perform_experiment(sample_size, experiment_id, output_file, **kwargs):\n",
    "    logging.info(f\"Starting experiment with ID {experiment_id}\")\n",
    "    print(f\"Starting experiment with ID {experiment_id}\")\n",
    "    try:\n",
    "        level_type = kwargs.get('level_type', 'STL')\n",
    "        template_types = ['Amendment', 'Dissemination', 'Short-Form']\n",
    "        logging.debug(f\"Categorizing files by template for experiment ID {experiment_id}\")\n",
    "\n",
    "        categorized_files = categorize_files_by_template(os.path.join(directory, 'prompts'))\n",
    "        logging.debug(f\"Loaded categorized files for level_type {level_type}\")\n",
    "\n",
    "        task_counter = 0  \n",
    "        existing_custom_ids = set()\n",
    "        filename_mapping = {}\n",
    "        \n",
    "        for template_type in template_types:\n",
    "            print(\"s---------------Template type: \", template_type)\n",
    "            print(\"s---------------Level type: \", level_type) \n",
    "            logging.info(f\"Processing template type: {template_type}\")\n",
    "            \n",
    "            files_list = list(categorized_files[level_type][template_type])\n",
    "            sample_files = files_list[:sample_size]\n",
    "            logging.debug(f\"Loaded sample files for template type {template_type}: {sample_files}\")\n",
    "\n",
    "            for filename in sample_files:\n",
    "                if filename.endswith(\".pdf\"):\n",
    "                    logging.info(f\"Experiment {experiment_id}: Processing file {filename}\")\n",
    "                    print(f\"Experiment {experiment_id}: Processing file {filename}\")\n",
    "\n",
    "                    success = False\n",
    "                    retry_count = 0\n",
    "                    max_retries = 10\n",
    "                    sanitized_filename, original_filename = sanitize_filename(filename)\n",
    "                    filename_mapping[sanitized_filename] = original_filename \n",
    "\n",
    "                    while not success and retry_count < max_retries:\n",
    "                        try:\n",
    "                            pdf_path = os.path.join(folder_path, filename)\n",
    "                            with tempfile.TemporaryDirectory() as temp_pdf_dir:\n",
    "                                temp_pdf_path = os.path.join(temp_pdf_dir, filename)\n",
    "                                shutil.copy(pdf_path, temp_pdf_path)\n",
    "\n",
    "                                images = pdf_to_image_paths(temp_pdf_path, temp_pdf_dir)\n",
    "                                if not images:\n",
    "                                    logging.error(f\"No images generated from PDF: {pdf_path}\")\n",
    "                                    print(f\"No images generated from PDF: {pdf_path}\")\n",
    "                                    break\n",
    "\n",
    "                                for page_num, image_path in enumerate(images):\n",
    "                                    if image_path.startswith(\"http\"):\n",
    "                                        image_url = image_path\n",
    "                                    else:\n",
    "                                        image_url = f\"data:image/jpeg;base64,{encode_image(image_path)}\"\n",
    "                                        \n",
    "                                    custom_id = generate_custom_id(experiment_id, level_type, template_type, sanitized_filename, page_num, task_counter)\n",
    "\n",
    "                                    while custom_id in existing_custom_ids:\n",
    "                                        task_counter += 1\n",
    "                                        custom_id = generate_custom_id(experiment_id, level_type, template_type, sanitized_filename, page_num, task_counter)\n",
    "\n",
    "                                    existing_custom_ids.add(custom_id)\n",
    "                                    task_counter += 1\n",
    "                                    \n",
    "                                    request_body = {\n",
    "                                        \"model\": MODEL,\n",
    "                                        \"temperature\": 0.0,\n",
    "                                        \"messages\": [\n",
    "                                            {\n",
    "                                                \"role\": \"system\",\n",
    "                                                \"content\": \"You are a helpful assistant.\",\n",
    "                                            },\n",
    "                                            {\n",
    "                                                \"role\": \"user\", \n",
    "                                                \"content\": [\n",
    "                                                    {\"type\": \"text\", \"text\": prompt_md},\n",
    "                                                    {\n",
    "                                                        \"type\": \"image_url\",\n",
    "                                                        \"image_url\": {\"url\": image_url}\n",
    "                                                    }\n",
    "                                                ]\n",
    "                                            },\n",
    "                                        ],\n",
    "                                    }\n",
    "                                    task = {\n",
    "                                        \"custom_id\": custom_id,\n",
    "                                        \"method\": \"POST\",\n",
    "                                        \"url\": \"/v1/chat/completions\",\n",
    "                                        \"body\": request_body,\n",
    "                                    }\n",
    "                                    with open(output_file, \"a\") as file:\n",
    "                                        file.write(json.dumps(task) + \"\\n\")\n",
    "\n",
    "                                success = True\n",
    "                        except requests.exceptions.HTTPError as e:\n",
    "                            if e.response.status_code == 429:\n",
    "                                retry_count += 1\n",
    "                                logging.warning(f\"Rate limit reached for file {filename}. Retrying... ({retry_count}/{max_retries})\")\n",
    "                                print(f\"Rate limit reached for file {filename}. Retrying... ({retry_count}/{max_retries})\")\n",
    "                                time.sleep(2 ** retry_count)\n",
    "                            else:\n",
    "                                logging.error(f\"HTTP error while processing file {filename}: {e}\")\n",
    "                                print(f\"HTTP error while processing file {filename}: {e}\")\n",
    "                                break  # Exit loop on non-rate limit HTTP errors\n",
    "                        except Exception as e:\n",
    "                            logging.error(f\"An error occurred while processing file {filename}: {e}\")\n",
    "                            print(f\"An error occurred while processing file {filename}: {e}\")\n",
    "                            break  # Exit loop on other errors\n",
    "\n",
    "    except Exception as e:\n",
    "        logging.error(f\"Error during experiment {experiment_id}: {e}\")\n",
    "        print(f\"Error during experiment {experiment_id}: {e}\")\n",
    "        return pd.DataFrame()\n",
    "\n",
    "    return filename_mapping"
   ]
  },
  {
   "cell_type": "code",
   "execution_count": 16,
   "id": "7dbd5ea6-d825-4605-846a-02e3186bf3b1",
   "metadata": {
    "scrolled": true
   },
   "outputs": [],
   "source": [
    "def run_experiment(params, output_file):\n",
    "    sample_size, kwargs, experiment_id = params\n",
    "\n",
    "    logging.info(f\"Preparing to run experiment ID {experiment_id}\")\n",
    "    print(f\"Preparing to run experiment ID {experiment_id}\")\n",
    "    try:\n",
    "        filename_mapping = perform_experiment(sample_size, experiment_id, output_file, **kwargs)\n",
    "        return filename_mapping\n",
    "    except Exception as e:\n",
    "        logging.error(f\"An error occurred in experiment {experiment_id}: {e}\")\n",
    "        print(f\"An error occurred in experiment {experiment_id}: {e}\")\n",
    "\n",
    "def test_experiment_serially(output_file):\n",
    "    all_filename_mappings = {}\n",
    "    for i, params in enumerate(experiment_params):\n",
    "        print(f\"Testing Experiment {i} with params: {params}\")\n",
    "        try:\n",
    "            filename_mapping = run_experiment(params, output_file)\n",
    "            all_filename_mappings.update(filename_mapping)  # Collect all mappings\n",
    "            print(\"Experiment completed successfully.\")\n",
    "        except Exception as e:\n",
    "            print(f\"Experiment resulted in an exception: {e}\")\n",
    "    return all_filename_mappings"
   ]
  },
  {
   "cell_type": "code",
   "execution_count": 17,
   "id": "2fe6c978-e692-49e1-90f8-13b4d0ff6a52",
   "metadata": {
    "scrolled": true
   },
   "outputs": [
    {
     "name": "stderr",
     "output_type": "stream",
     "text": [
      "2024-08-09 10:16:59,474 - INFO - Preparing to run experiment ID 0\n",
      "2024-08-09 10:16:59,477 - INFO - Starting experiment with ID 0\n",
      "2024-08-09 10:16:59,480 - INFO - Processing template type: Amendment\n",
      "2024-08-09 10:16:59,481 - INFO - Experiment 0: Processing file 19790101_Representative of the Turkish Republic of Northern Cyprus_Amendment_Amendment.pdf\n"
     ]
    },
    {
     "name": "stdout",
     "output_type": "stream",
     "text": [
      "Testing Experiment 0 with params: (40, {'level_type': 'UTL'}, 0)\n",
      "Preparing to run experiment ID 0\n",
      "Starting experiment with ID 0\n",
      "s---------------Template type:  Amendment\n",
      "s---------------Level type:  UTL\n",
      "Experiment 0: Processing file 19790101_Representative of the Turkish Republic of Northern Cyprus_Amendment_Amendment.pdf\n"
     ]
    },
    {
     "name": "stderr",
     "output_type": "stream",
     "text": [
      "2024-08-09 10:17:00,287 - INFO - Converted and resized image saved to /tmp/tmpqfxqyzlc/page_1.jpg with final quality 85\n"
     ]
    },
    {
     "name": "stdout",
     "output_type": "stream",
     "text": [
      "Converted and resized image saved to /tmp/tmpqfxqyzlc/page_1.jpg with final quality 85\n"
     ]
    },
    {
     "name": "stderr",
     "output_type": "stream",
     "text": [
      "2024-08-09 10:17:00,613 - INFO - Converted and resized image saved to /tmp/tmpqfxqyzlc/page_2.jpg with final quality 85\n",
      "2024-08-09 10:17:00,615 - INFO - Converted PDF /tmp/tmpqfxqyzlc/19790101_Representative of the Turkish Republic of Northern Cyprus_Amendment_Amendment.pdf to images: ['/tmp/tmpqfxqyzlc/page_1.jpg', '/tmp/tmpqfxqyzlc/page_2.jpg']\n",
      "2024-08-09 10:17:00,624 - INFO - Experiment 0: Processing file 20090930_Garvey, Schubert _ Barer_Amendment_Amendment.pdf\n"
     ]
    },
    {
     "name": "stdout",
     "output_type": "stream",
     "text": [
      "Converted and resized image saved to /tmp/tmpqfxqyzlc/page_2.jpg with final quality 85\n",
      "Converted PDF /tmp/tmpqfxqyzlc/19790101_Representative of the Turkish Republic of Northern Cyprus_Amendment_Amendment.pdf to images: ['/tmp/tmpqfxqyzlc/page_1.jpg', '/tmp/tmpqfxqyzlc/page_2.jpg']\n",
      "Experiment 0: Processing file 20090930_Garvey, Schubert _ Barer_Amendment_Amendment.pdf\n"
     ]
    },
    {
     "name": "stderr",
     "output_type": "stream",
     "text": [
      "2024-08-09 10:17:01,263 - INFO - Converted and resized image saved to /tmp/tmp0zltaa44/page_1.jpg with final quality 85\n"
     ]
    },
    {
     "name": "stdout",
     "output_type": "stream",
     "text": [
      "Converted and resized image saved to /tmp/tmp0zltaa44/page_1.jpg with final quality 85\n"
     ]
    },
    {
     "name": "stderr",
     "output_type": "stream",
     "text": [
      "2024-08-09 10:17:01,535 - INFO - Converted and resized image saved to /tmp/tmp0zltaa44/page_2.jpg with final quality 85\n",
      "2024-08-09 10:17:01,536 - INFO - Converted PDF /tmp/tmp0zltaa44/20090930_Garvey, Schubert _ Barer_Amendment_Amendment.pdf to images: ['/tmp/tmp0zltaa44/page_1.jpg', '/tmp/tmp0zltaa44/page_2.jpg']\n",
      "2024-08-09 10:17:01,546 - INFO - Experiment 0: Processing file 19770101_Representative of the Turkish Republic of Northern Cyprus_Amendment_Amendment.pdf\n"
     ]
    },
    {
     "name": "stdout",
     "output_type": "stream",
     "text": [
      "Converted and resized image saved to /tmp/tmp0zltaa44/page_2.jpg with final quality 85\n",
      "Converted PDF /tmp/tmp0zltaa44/20090930_Garvey, Schubert _ Barer_Amendment_Amendment.pdf to images: ['/tmp/tmp0zltaa44/page_1.jpg', '/tmp/tmp0zltaa44/page_2.jpg']\n",
      "Experiment 0: Processing file 19770101_Representative of the Turkish Republic of Northern Cyprus_Amendment_Amendment.pdf\n"
     ]
    },
    {
     "name": "stderr",
     "output_type": "stream",
     "text": [
      "2024-08-09 10:17:02,329 - INFO - Converted and resized image saved to /tmp/tmpgfd24tfj/page_1.jpg with final quality 85\n"
     ]
    },
    {
     "name": "stdout",
     "output_type": "stream",
     "text": [
      "Converted and resized image saved to /tmp/tmpgfd24tfj/page_1.jpg with final quality 85\n"
     ]
    },
    {
     "name": "stderr",
     "output_type": "stream",
     "text": [
      "2024-08-09 10:17:02,713 - INFO - Converted and resized image saved to /tmp/tmpgfd24tfj/page_2.jpg with final quality 85\n",
      "2024-08-09 10:17:02,715 - INFO - Converted PDF /tmp/tmpgfd24tfj/19770101_Representative of the Turkish Republic of Northern Cyprus_Amendment_Amendment.pdf to images: ['/tmp/tmpgfd24tfj/page_1.jpg', '/tmp/tmpgfd24tfj/page_2.jpg']\n",
      "2024-08-09 10:17:02,725 - INFO - Experiment 0: Processing file 19830401_Bermuda Tourism Authority_Amendment_Amendment.pdf\n"
     ]
    },
    {
     "name": "stdout",
     "output_type": "stream",
     "text": [
      "Converted and resized image saved to /tmp/tmpgfd24tfj/page_2.jpg with final quality 85\n",
      "Converted PDF /tmp/tmpgfd24tfj/19770101_Representative of the Turkish Republic of Northern Cyprus_Amendment_Amendment.pdf to images: ['/tmp/tmpgfd24tfj/page_1.jpg', '/tmp/tmpgfd24tfj/page_2.jpg']\n",
      "Experiment 0: Processing file 19830401_Bermuda Tourism Authority_Amendment_Amendment.pdf\n"
     ]
    },
    {
     "name": "stderr",
     "output_type": "stream",
     "text": [
      "2024-08-09 10:17:03,318 - INFO - Converted and resized image saved to /tmp/tmpel_s5ejk/page_1.jpg with final quality 85\n",
      "2024-08-09 10:17:03,319 - INFO - Converted PDF /tmp/tmpel_s5ejk/19830401_Bermuda Tourism Authority_Amendment_Amendment.pdf to images: ['/tmp/tmpel_s5ejk/page_1.jpg']\n",
      "2024-08-09 10:17:03,326 - INFO - Experiment 0: Processing file 20120604_Squire Patton Boggs, LLP_Amendment_Amendment.pdf\n"
     ]
    },
    {
     "name": "stdout",
     "output_type": "stream",
     "text": [
      "Converted and resized image saved to /tmp/tmpel_s5ejk/page_1.jpg with final quality 85\n",
      "Converted PDF /tmp/tmpel_s5ejk/19830401_Bermuda Tourism Authority_Amendment_Amendment.pdf to images: ['/tmp/tmpel_s5ejk/page_1.jpg']\n",
      "Experiment 0: Processing file 20120604_Squire Patton Boggs, LLP_Amendment_Amendment.pdf\n"
     ]
    },
    {
     "name": "stderr",
     "output_type": "stream",
     "text": [
      "2024-08-09 10:17:04,026 - INFO - Converted and resized image saved to /tmp/tmp99grc__l/page_1.jpg with final quality 85\n"
     ]
    },
    {
     "name": "stdout",
     "output_type": "stream",
     "text": [
      "Converted and resized image saved to /tmp/tmp99grc__l/page_1.jpg with final quality 85\n"
     ]
    },
    {
     "name": "stderr",
     "output_type": "stream",
     "text": [
      "2024-08-09 10:17:04,358 - INFO - Converted and resized image saved to /tmp/tmp99grc__l/page_2.jpg with final quality 85\n",
      "2024-08-09 10:17:04,363 - INFO - Converted PDF /tmp/tmp99grc__l/20120604_Squire Patton Boggs, LLP_Amendment_Amendment.pdf to images: ['/tmp/tmp99grc__l/page_1.jpg', '/tmp/tmp99grc__l/page_2.jpg']\n",
      "2024-08-09 10:17:04,369 - INFO - Experiment 0: Processing file 20140813_Fratelli Group_Amendment_Amendment.pdf\n"
     ]
    },
    {
     "name": "stdout",
     "output_type": "stream",
     "text": [
      "Converted and resized image saved to /tmp/tmp99grc__l/page_2.jpg with final quality 85\n",
      "Converted PDF /tmp/tmp99grc__l/20120604_Squire Patton Boggs, LLP_Amendment_Amendment.pdf to images: ['/tmp/tmp99grc__l/page_1.jpg', '/tmp/tmp99grc__l/page_2.jpg']\n",
      "Experiment 0: Processing file 20140813_Fratelli Group_Amendment_Amendment.pdf\n"
     ]
    },
    {
     "name": "stderr",
     "output_type": "stream",
     "text": [
      "2024-08-09 10:17:05,035 - INFO - Converted and resized image saved to /tmp/tmpewg6w8hx/page_1.jpg with final quality 85\n"
     ]
    },
    {
     "name": "stdout",
     "output_type": "stream",
     "text": [
      "Converted and resized image saved to /tmp/tmpewg6w8hx/page_1.jpg with final quality 85\n"
     ]
    },
    {
     "name": "stderr",
     "output_type": "stream",
     "text": [
      "2024-08-09 10:17:05,349 - INFO - Converted and resized image saved to /tmp/tmpewg6w8hx/page_2.jpg with final quality 85\n",
      "2024-08-09 10:17:05,350 - INFO - Converted PDF /tmp/tmpewg6w8hx/20140813_Fratelli Group_Amendment_Amendment.pdf to images: ['/tmp/tmpewg6w8hx/page_1.jpg', '/tmp/tmpewg6w8hx/page_2.jpg']\n",
      "2024-08-09 10:17:05,363 - INFO - Experiment 0: Processing file 19901201_CMGRP, Inc._Amendment_Amendment.pdf\n"
     ]
    },
    {
     "name": "stdout",
     "output_type": "stream",
     "text": [
      "Converted and resized image saved to /tmp/tmpewg6w8hx/page_2.jpg with final quality 85\n",
      "Converted PDF /tmp/tmpewg6w8hx/20140813_Fratelli Group_Amendment_Amendment.pdf to images: ['/tmp/tmpewg6w8hx/page_1.jpg', '/tmp/tmpewg6w8hx/page_2.jpg']\n",
      "Experiment 0: Processing file 19901201_CMGRP, Inc._Amendment_Amendment.pdf\n"
     ]
    },
    {
     "name": "stderr",
     "output_type": "stream",
     "text": [
      "2024-08-09 10:17:06,007 - INFO - Converted and resized image saved to /tmp/tmpym5odzqt/page_1.jpg with final quality 85\n"
     ]
    },
    {
     "name": "stdout",
     "output_type": "stream",
     "text": [
      "Converted and resized image saved to /tmp/tmpym5odzqt/page_1.jpg with final quality 85\n"
     ]
    },
    {
     "name": "stderr",
     "output_type": "stream",
     "text": [
      "2024-08-09 10:17:06,264 - INFO - Converted and resized image saved to /tmp/tmpym5odzqt/page_2.jpg with final quality 85\n",
      "2024-08-09 10:17:06,266 - INFO - Converted PDF /tmp/tmpym5odzqt/19901201_CMGRP, Inc._Amendment_Amendment.pdf to images: ['/tmp/tmpym5odzqt/page_1.jpg', '/tmp/tmpym5odzqt/page_2.jpg']\n",
      "2024-08-09 10:17:06,276 - INFO - Experiment 0: Processing file 20170224_Alston _ Bird, LLP_Amendment_Amendment.pdf\n"
     ]
    },
    {
     "name": "stdout",
     "output_type": "stream",
     "text": [
      "Converted and resized image saved to /tmp/tmpym5odzqt/page_2.jpg with final quality 85\n",
      "Converted PDF /tmp/tmpym5odzqt/19901201_CMGRP, Inc._Amendment_Amendment.pdf to images: ['/tmp/tmpym5odzqt/page_1.jpg', '/tmp/tmpym5odzqt/page_2.jpg']\n",
      "Experiment 0: Processing file 20170224_Alston _ Bird, LLP_Amendment_Amendment.pdf\n"
     ]
    },
    {
     "name": "stderr",
     "output_type": "stream",
     "text": [
      "2024-08-09 10:17:06,960 - INFO - Converted and resized image saved to /tmp/tmpl0ou55oe/page_1.jpg with final quality 85\n"
     ]
    },
    {
     "name": "stdout",
     "output_type": "stream",
     "text": [
      "Converted and resized image saved to /tmp/tmpl0ou55oe/page_1.jpg with final quality 85\n"
     ]
    },
    {
     "name": "stderr",
     "output_type": "stream",
     "text": [
      "2024-08-09 10:17:07,248 - INFO - Converted and resized image saved to /tmp/tmpl0ou55oe/page_2.jpg with final quality 85\n",
      "2024-08-09 10:17:07,249 - INFO - Converted PDF /tmp/tmpl0ou55oe/20170224_Alston _ Bird, LLP_Amendment_Amendment.pdf to images: ['/tmp/tmpl0ou55oe/page_1.jpg', '/tmp/tmpl0ou55oe/page_2.jpg']\n",
      "2024-08-09 10:17:07,261 - INFO - Experiment 0: Processing file 19850801_St. Lucia Tourist Board_Amendment_Amendment.pdf\n"
     ]
    },
    {
     "name": "stdout",
     "output_type": "stream",
     "text": [
      "Converted and resized image saved to /tmp/tmpl0ou55oe/page_2.jpg with final quality 85\n",
      "Converted PDF /tmp/tmpl0ou55oe/20170224_Alston _ Bird, LLP_Amendment_Amendment.pdf to images: ['/tmp/tmpl0ou55oe/page_1.jpg', '/tmp/tmpl0ou55oe/page_2.jpg']\n",
      "Experiment 0: Processing file 19850801_St. Lucia Tourist Board_Amendment_Amendment.pdf\n"
     ]
    },
    {
     "name": "stderr",
     "output_type": "stream",
     "text": [
      "2024-08-09 10:17:07,892 - INFO - Converted and resized image saved to /tmp/tmphbmie6ca/page_1.jpg with final quality 85\n"
     ]
    },
    {
     "name": "stdout",
     "output_type": "stream",
     "text": [
      "Converted and resized image saved to /tmp/tmphbmie6ca/page_1.jpg with final quality 85\n"
     ]
    },
    {
     "name": "stderr",
     "output_type": "stream",
     "text": [
      "2024-08-09 10:17:08,184 - INFO - Converted and resized image saved to /tmp/tmphbmie6ca/page_2.jpg with final quality 85\n",
      "2024-08-09 10:17:08,185 - INFO - Converted PDF /tmp/tmphbmie6ca/19850801_St. Lucia Tourist Board_Amendment_Amendment.pdf to images: ['/tmp/tmphbmie6ca/page_1.jpg', '/tmp/tmphbmie6ca/page_2.jpg']\n",
      "2024-08-09 10:17:08,195 - INFO - Experiment 0: Processing file 20131127_Independent Diplomat, Inc._Amendment_Amendment.pdf\n"
     ]
    },
    {
     "name": "stdout",
     "output_type": "stream",
     "text": [
      "Converted and resized image saved to /tmp/tmphbmie6ca/page_2.jpg with final quality 85\n",
      "Converted PDF /tmp/tmphbmie6ca/19850801_St. Lucia Tourist Board_Amendment_Amendment.pdf to images: ['/tmp/tmphbmie6ca/page_1.jpg', '/tmp/tmphbmie6ca/page_2.jpg']\n",
      "Experiment 0: Processing file 20131127_Independent Diplomat, Inc._Amendment_Amendment.pdf\n"
     ]
    },
    {
     "name": "stderr",
     "output_type": "stream",
     "text": [
      "2024-08-09 10:17:08,896 - INFO - Converted and resized image saved to /tmp/tmpwp0v8g3r/page_1.jpg with final quality 85\n"
     ]
    },
    {
     "name": "stdout",
     "output_type": "stream",
     "text": [
      "Converted and resized image saved to /tmp/tmpwp0v8g3r/page_1.jpg with final quality 85\n"
     ]
    },
    {
     "name": "stderr",
     "output_type": "stream",
     "text": [
      "2024-08-09 10:17:09,169 - INFO - Converted and resized image saved to /tmp/tmpwp0v8g3r/page_2.jpg with final quality 85\n",
      "2024-08-09 10:17:09,171 - INFO - Converted PDF /tmp/tmpwp0v8g3r/20131127_Independent Diplomat, Inc._Amendment_Amendment.pdf to images: ['/tmp/tmpwp0v8g3r/page_1.jpg', '/tmp/tmpwp0v8g3r/page_2.jpg']\n",
      "2024-08-09 10:17:09,186 - INFO - Experiment 0: Processing file 20180430_Public Strategies Washington, Inc._Amendment_Amendment.pdf\n"
     ]
    },
    {
     "name": "stdout",
     "output_type": "stream",
     "text": [
      "Converted and resized image saved to /tmp/tmpwp0v8g3r/page_2.jpg with final quality 85\n",
      "Converted PDF /tmp/tmpwp0v8g3r/20131127_Independent Diplomat, Inc._Amendment_Amendment.pdf to images: ['/tmp/tmpwp0v8g3r/page_1.jpg', '/tmp/tmpwp0v8g3r/page_2.jpg']\n",
      "Experiment 0: Processing file 20180430_Public Strategies Washington, Inc._Amendment_Amendment.pdf\n"
     ]
    },
    {
     "name": "stderr",
     "output_type": "stream",
     "text": [
      "2024-08-09 10:17:09,929 - INFO - Converted and resized image saved to /tmp/tmpdk6ke___/page_1.jpg with final quality 85\n"
     ]
    },
    {
     "name": "stdout",
     "output_type": "stream",
     "text": [
      "Converted and resized image saved to /tmp/tmpdk6ke___/page_1.jpg with final quality 85\n"
     ]
    },
    {
     "name": "stderr",
     "output_type": "stream",
     "text": [
      "2024-08-09 10:17:10,196 - INFO - Converted and resized image saved to /tmp/tmpdk6ke___/page_2.jpg with final quality 85\n",
      "2024-08-09 10:17:10,198 - INFO - Converted PDF /tmp/tmpdk6ke___/20180430_Public Strategies Washington, Inc._Amendment_Amendment.pdf to images: ['/tmp/tmpdk6ke___/page_1.jpg', '/tmp/tmpdk6ke___/page_2.jpg']\n",
      "2024-08-09 10:17:10,212 - INFO - Experiment 0: Processing file 20130815_Squire Patton Boggs, LLP_Amendment_Amendment.pdf\n"
     ]
    },
    {
     "name": "stdout",
     "output_type": "stream",
     "text": [
      "Converted and resized image saved to /tmp/tmpdk6ke___/page_2.jpg with final quality 85\n",
      "Converted PDF /tmp/tmpdk6ke___/20180430_Public Strategies Washington, Inc._Amendment_Amendment.pdf to images: ['/tmp/tmpdk6ke___/page_1.jpg', '/tmp/tmpdk6ke___/page_2.jpg']\n",
      "Experiment 0: Processing file 20130815_Squire Patton Boggs, LLP_Amendment_Amendment.pdf\n"
     ]
    },
    {
     "name": "stderr",
     "output_type": "stream",
     "text": [
      "2024-08-09 10:17:10,948 - INFO - Converted and resized image saved to /tmp/tmpg52rsm06/page_1.jpg with final quality 85\n"
     ]
    },
    {
     "name": "stdout",
     "output_type": "stream",
     "text": [
      "Converted and resized image saved to /tmp/tmpg52rsm06/page_1.jpg with final quality 85\n"
     ]
    },
    {
     "name": "stderr",
     "output_type": "stream",
     "text": [
      "2024-08-09 10:17:11,229 - INFO - Converted and resized image saved to /tmp/tmpg52rsm06/page_2.jpg with final quality 85\n",
      "2024-08-09 10:17:11,230 - INFO - Converted PDF /tmp/tmpg52rsm06/20130815_Squire Patton Boggs, LLP_Amendment_Amendment.pdf to images: ['/tmp/tmpg52rsm06/page_1.jpg', '/tmp/tmpg52rsm06/page_2.jpg']\n",
      "2024-08-09 10:17:11,244 - INFO - Experiment 0: Processing file 20180124_Nickles Group, LLC_Amendment_Amendment.pdf\n"
     ]
    },
    {
     "name": "stdout",
     "output_type": "stream",
     "text": [
      "Converted and resized image saved to /tmp/tmpg52rsm06/page_2.jpg with final quality 85\n",
      "Converted PDF /tmp/tmpg52rsm06/20130815_Squire Patton Boggs, LLP_Amendment_Amendment.pdf to images: ['/tmp/tmpg52rsm06/page_1.jpg', '/tmp/tmpg52rsm06/page_2.jpg']\n",
      "Experiment 0: Processing file 20180124_Nickles Group, LLC_Amendment_Amendment.pdf\n"
     ]
    },
    {
     "name": "stderr",
     "output_type": "stream",
     "text": [
      "2024-08-09 10:17:12,005 - INFO - Converted and resized image saved to /tmp/tmp3tpn3n1b/page_1.jpg with final quality 85\n"
     ]
    },
    {
     "name": "stdout",
     "output_type": "stream",
     "text": [
      "Converted and resized image saved to /tmp/tmp3tpn3n1b/page_1.jpg with final quality 85\n"
     ]
    },
    {
     "name": "stderr",
     "output_type": "stream",
     "text": [
      "2024-08-09 10:17:12,276 - INFO - Converted and resized image saved to /tmp/tmp3tpn3n1b/page_2.jpg with final quality 85\n",
      "2024-08-09 10:17:12,277 - INFO - Converted PDF /tmp/tmp3tpn3n1b/20180124_Nickles Group, LLC_Amendment_Amendment.pdf to images: ['/tmp/tmp3tpn3n1b/page_1.jpg', '/tmp/tmp3tpn3n1b/page_2.jpg']\n",
      "2024-08-09 10:17:12,292 - INFO - Experiment 0: Processing file 19760201_Italian Government Tourist Board (ENIT), Los Angeles_Amendment_Amendment.pdf\n"
     ]
    },
    {
     "name": "stdout",
     "output_type": "stream",
     "text": [
      "Converted and resized image saved to /tmp/tmp3tpn3n1b/page_2.jpg with final quality 85\n",
      "Converted PDF /tmp/tmp3tpn3n1b/20180124_Nickles Group, LLC_Amendment_Amendment.pdf to images: ['/tmp/tmp3tpn3n1b/page_1.jpg', '/tmp/tmp3tpn3n1b/page_2.jpg']\n",
      "Experiment 0: Processing file 19760201_Italian Government Tourist Board (ENIT), Los Angeles_Amendment_Amendment.pdf\n"
     ]
    },
    {
     "name": "stderr",
     "output_type": "stream",
     "text": [
      "2024-08-09 10:17:13,133 - INFO - Converted and resized image saved to /tmp/tmpn1npreha/page_1.jpg with final quality 85\n"
     ]
    },
    {
     "name": "stdout",
     "output_type": "stream",
     "text": [
      "Converted and resized image saved to /tmp/tmpn1npreha/page_1.jpg with final quality 85\n"
     ]
    },
    {
     "name": "stderr",
     "output_type": "stream",
     "text": [
      "2024-08-09 10:17:13,453 - INFO - Converted and resized image saved to /tmp/tmpn1npreha/page_2.jpg with final quality 85\n"
     ]
    },
    {
     "name": "stdout",
     "output_type": "stream",
     "text": [
      "Converted and resized image saved to /tmp/tmpn1npreha/page_2.jpg with final quality 85\n"
     ]
    },
    {
     "name": "stderr",
     "output_type": "stream",
     "text": [
      "2024-08-09 10:17:13,740 - INFO - Converted and resized image saved to /tmp/tmpn1npreha/page_3.jpg with final quality 85\n",
      "2024-08-09 10:17:13,741 - INFO - Converted PDF /tmp/tmpn1npreha/19760201_Italian Government Tourist Board (ENIT), Los Angeles_Amendment_Amendment.pdf to images: ['/tmp/tmpn1npreha/page_1.jpg', '/tmp/tmpn1npreha/page_2.jpg', '/tmp/tmpn1npreha/page_3.jpg']\n",
      "2024-08-09 10:17:13,755 - INFO - Experiment 0: Processing file 19920201_Sidley Austin, LLP_Amendment_Amendment.pdf\n"
     ]
    },
    {
     "name": "stdout",
     "output_type": "stream",
     "text": [
      "Converted and resized image saved to /tmp/tmpn1npreha/page_3.jpg with final quality 85\n",
      "Converted PDF /tmp/tmpn1npreha/19760201_Italian Government Tourist Board (ENIT), Los Angeles_Amendment_Amendment.pdf to images: ['/tmp/tmpn1npreha/page_1.jpg', '/tmp/tmpn1npreha/page_2.jpg', '/tmp/tmpn1npreha/page_3.jpg']\n",
      "Experiment 0: Processing file 19920201_Sidley Austin, LLP_Amendment_Amendment.pdf\n"
     ]
    },
    {
     "name": "stderr",
     "output_type": "stream",
     "text": [
      "2024-08-09 10:17:14,397 - INFO - Converted and resized image saved to /tmp/tmp3hv8gqi_/page_1.jpg with final quality 85\n"
     ]
    },
    {
     "name": "stdout",
     "output_type": "stream",
     "text": [
      "Converted and resized image saved to /tmp/tmp3hv8gqi_/page_1.jpg with final quality 85\n"
     ]
    },
    {
     "name": "stderr",
     "output_type": "stream",
     "text": [
      "2024-08-09 10:17:14,656 - INFO - Converted and resized image saved to /tmp/tmp3hv8gqi_/page_2.jpg with final quality 85\n",
      "2024-08-09 10:17:14,657 - INFO - Converted PDF /tmp/tmp3hv8gqi_/19920201_Sidley Austin, LLP_Amendment_Amendment.pdf to images: ['/tmp/tmp3hv8gqi_/page_1.jpg', '/tmp/tmp3hv8gqi_/page_2.jpg']\n",
      "2024-08-09 10:17:14,668 - INFO - Experiment 0: Processing file 20180123_Fleishman-Hillard, Inc._Amendment_Amendment.pdf\n"
     ]
    },
    {
     "name": "stdout",
     "output_type": "stream",
     "text": [
      "Converted and resized image saved to /tmp/tmp3hv8gqi_/page_2.jpg with final quality 85\n",
      "Converted PDF /tmp/tmp3hv8gqi_/19920201_Sidley Austin, LLP_Amendment_Amendment.pdf to images: ['/tmp/tmp3hv8gqi_/page_1.jpg', '/tmp/tmp3hv8gqi_/page_2.jpg']\n",
      "Experiment 0: Processing file 20180123_Fleishman-Hillard, Inc._Amendment_Amendment.pdf\n"
     ]
    },
    {
     "name": "stderr",
     "output_type": "stream",
     "text": [
      "2024-08-09 10:17:15,446 - INFO - Converted and resized image saved to /tmp/tmpo1_kv9o9/page_1.jpg with final quality 85\n"
     ]
    },
    {
     "name": "stdout",
     "output_type": "stream",
     "text": [
      "Converted and resized image saved to /tmp/tmpo1_kv9o9/page_1.jpg with final quality 85\n"
     ]
    },
    {
     "name": "stderr",
     "output_type": "stream",
     "text": [
      "2024-08-09 10:17:15,707 - INFO - Converted and resized image saved to /tmp/tmpo1_kv9o9/page_2.jpg with final quality 85\n",
      "2024-08-09 10:17:15,709 - INFO - Converted PDF /tmp/tmpo1_kv9o9/20180123_Fleishman-Hillard, Inc._Amendment_Amendment.pdf to images: ['/tmp/tmpo1_kv9o9/page_1.jpg', '/tmp/tmpo1_kv9o9/page_2.jpg']\n",
      "2024-08-09 10:17:15,722 - INFO - Experiment 0: Processing file 20150105_Squire Patton Boggs, LLP_Amendment_Amendment.pdf\n"
     ]
    },
    {
     "name": "stdout",
     "output_type": "stream",
     "text": [
      "Converted and resized image saved to /tmp/tmpo1_kv9o9/page_2.jpg with final quality 85\n",
      "Converted PDF /tmp/tmpo1_kv9o9/20180123_Fleishman-Hillard, Inc._Amendment_Amendment.pdf to images: ['/tmp/tmpo1_kv9o9/page_1.jpg', '/tmp/tmpo1_kv9o9/page_2.jpg']\n",
      "Experiment 0: Processing file 20150105_Squire Patton Boggs, LLP_Amendment_Amendment.pdf\n"
     ]
    },
    {
     "name": "stderr",
     "output_type": "stream",
     "text": [
      "2024-08-09 10:17:16,370 - INFO - Converted and resized image saved to /tmp/tmplfs9kwxd/page_1.jpg with final quality 85\n"
     ]
    },
    {
     "name": "stdout",
     "output_type": "stream",
     "text": [
      "Converted and resized image saved to /tmp/tmplfs9kwxd/page_1.jpg with final quality 85\n"
     ]
    },
    {
     "name": "stderr",
     "output_type": "stream",
     "text": [
      "2024-08-09 10:17:16,624 - INFO - Converted and resized image saved to /tmp/tmplfs9kwxd/page_2.jpg with final quality 85\n",
      "2024-08-09 10:17:16,626 - INFO - Converted PDF /tmp/tmplfs9kwxd/20150105_Squire Patton Boggs, LLP_Amendment_Amendment.pdf to images: ['/tmp/tmplfs9kwxd/page_1.jpg', '/tmp/tmplfs9kwxd/page_2.jpg']\n",
      "2024-08-09 10:17:16,637 - INFO - Experiment 0: Processing file 20150203_Burson-Marsteller, LLC (Miami Office)_Amendment_Amendment.pdf\n"
     ]
    },
    {
     "name": "stdout",
     "output_type": "stream",
     "text": [
      "Converted and resized image saved to /tmp/tmplfs9kwxd/page_2.jpg with final quality 85\n",
      "Converted PDF /tmp/tmplfs9kwxd/20150105_Squire Patton Boggs, LLP_Amendment_Amendment.pdf to images: ['/tmp/tmplfs9kwxd/page_1.jpg', '/tmp/tmplfs9kwxd/page_2.jpg']\n",
      "Experiment 0: Processing file 20150203_Burson-Marsteller, LLC (Miami Office)_Amendment_Amendment.pdf\n"
     ]
    },
    {
     "name": "stderr",
     "output_type": "stream",
     "text": [
      "2024-08-09 10:17:17,338 - INFO - Converted and resized image saved to /tmp/tmp21hbvw7m/page_1.jpg with final quality 85\n"
     ]
    },
    {
     "name": "stdout",
     "output_type": "stream",
     "text": [
      "Converted and resized image saved to /tmp/tmp21hbvw7m/page_1.jpg with final quality 85\n"
     ]
    },
    {
     "name": "stderr",
     "output_type": "stream",
     "text": [
      "2024-08-09 10:17:17,649 - INFO - Converted and resized image saved to /tmp/tmp21hbvw7m/page_2.jpg with final quality 85\n",
      "2024-08-09 10:17:17,650 - INFO - Converted PDF /tmp/tmp21hbvw7m/20150203_Burson-Marsteller, LLC (Miami Office)_Amendment_Amendment.pdf to images: ['/tmp/tmp21hbvw7m/page_1.jpg', '/tmp/tmp21hbvw7m/page_2.jpg']\n",
      "2024-08-09 10:17:17,663 - INFO - Experiment 0: Processing file 20180105_Hill and Knowlton Strategies, LLC_Amendment_Amendment.pdf\n"
     ]
    },
    {
     "name": "stdout",
     "output_type": "stream",
     "text": [
      "Converted and resized image saved to /tmp/tmp21hbvw7m/page_2.jpg with final quality 85\n",
      "Converted PDF /tmp/tmp21hbvw7m/20150203_Burson-Marsteller, LLC (Miami Office)_Amendment_Amendment.pdf to images: ['/tmp/tmp21hbvw7m/page_1.jpg', '/tmp/tmp21hbvw7m/page_2.jpg']\n",
      "Experiment 0: Processing file 20180105_Hill and Knowlton Strategies, LLC_Amendment_Amendment.pdf\n"
     ]
    },
    {
     "name": "stderr",
     "output_type": "stream",
     "text": [
      "2024-08-09 10:17:18,405 - INFO - Converted and resized image saved to /tmp/tmplkji6on5/page_1.jpg with final quality 85\n"
     ]
    },
    {
     "name": "stdout",
     "output_type": "stream",
     "text": [
      "Converted and resized image saved to /tmp/tmplkji6on5/page_1.jpg with final quality 85\n"
     ]
    },
    {
     "name": "stderr",
     "output_type": "stream",
     "text": [
      "2024-08-09 10:17:18,670 - INFO - Converted and resized image saved to /tmp/tmplkji6on5/page_2.jpg with final quality 85\n",
      "2024-08-09 10:17:18,671 - INFO - Converted PDF /tmp/tmplkji6on5/20180105_Hill and Knowlton Strategies, LLC_Amendment_Amendment.pdf to images: ['/tmp/tmplkji6on5/page_1.jpg', '/tmp/tmplkji6on5/page_2.jpg']\n",
      "2024-08-09 10:17:18,683 - INFO - Experiment 0: Processing file 19961018_DLA Piper US LLP_Amendment_Amendment.pdf\n"
     ]
    },
    {
     "name": "stdout",
     "output_type": "stream",
     "text": [
      "Converted and resized image saved to /tmp/tmplkji6on5/page_2.jpg with final quality 85\n",
      "Converted PDF /tmp/tmplkji6on5/20180105_Hill and Knowlton Strategies, LLC_Amendment_Amendment.pdf to images: ['/tmp/tmplkji6on5/page_1.jpg', '/tmp/tmplkji6on5/page_2.jpg']\n",
      "Experiment 0: Processing file 19961018_DLA Piper US LLP_Amendment_Amendment.pdf\n"
     ]
    },
    {
     "name": "stderr",
     "output_type": "stream",
     "text": [
      "2024-08-09 10:17:19,446 - INFO - Converted and resized image saved to /tmp/tmpvv2n1mlx/page_1.jpg with final quality 85\n"
     ]
    },
    {
     "name": "stdout",
     "output_type": "stream",
     "text": [
      "Converted and resized image saved to /tmp/tmpvv2n1mlx/page_1.jpg with final quality 85\n"
     ]
    },
    {
     "name": "stderr",
     "output_type": "stream",
     "text": [
      "2024-08-09 10:17:19,699 - INFO - Converted and resized image saved to /tmp/tmpvv2n1mlx/page_2.jpg with final quality 85\n"
     ]
    },
    {
     "name": "stdout",
     "output_type": "stream",
     "text": [
      "Converted and resized image saved to /tmp/tmpvv2n1mlx/page_2.jpg with final quality 85\n"
     ]
    },
    {
     "name": "stderr",
     "output_type": "stream",
     "text": [
      "2024-08-09 10:17:19,961 - INFO - Converted and resized image saved to /tmp/tmpvv2n1mlx/page_3.jpg with final quality 85\n",
      "2024-08-09 10:17:19,962 - INFO - Converted PDF /tmp/tmpvv2n1mlx/19961018_DLA Piper US LLP_Amendment_Amendment.pdf to images: ['/tmp/tmpvv2n1mlx/page_1.jpg', '/tmp/tmpvv2n1mlx/page_2.jpg', '/tmp/tmpvv2n1mlx/page_3.jpg']\n",
      "2024-08-09 10:17:19,973 - INFO - Experiment 0: Processing file 20110527_Monaco Government Tourist Office_Amendment_Amendment.pdf\n"
     ]
    },
    {
     "name": "stdout",
     "output_type": "stream",
     "text": [
      "Converted and resized image saved to /tmp/tmpvv2n1mlx/page_3.jpg with final quality 85\n",
      "Converted PDF /tmp/tmpvv2n1mlx/19961018_DLA Piper US LLP_Amendment_Amendment.pdf to images: ['/tmp/tmpvv2n1mlx/page_1.jpg', '/tmp/tmpvv2n1mlx/page_2.jpg', '/tmp/tmpvv2n1mlx/page_3.jpg']\n",
      "Experiment 0: Processing file 20110527_Monaco Government Tourist Office_Amendment_Amendment.pdf\n"
     ]
    },
    {
     "name": "stderr",
     "output_type": "stream",
     "text": [
      "2024-08-09 10:17:20,626 - INFO - Converted and resized image saved to /tmp/tmptsdfvqpw/page_1.jpg with final quality 85\n"
     ]
    },
    {
     "name": "stdout",
     "output_type": "stream",
     "text": [
      "Converted and resized image saved to /tmp/tmptsdfvqpw/page_1.jpg with final quality 85\n"
     ]
    },
    {
     "name": "stderr",
     "output_type": "stream",
     "text": [
      "2024-08-09 10:17:20,905 - INFO - Converted and resized image saved to /tmp/tmptsdfvqpw/page_2.jpg with final quality 85\n",
      "2024-08-09 10:17:20,906 - INFO - Converted PDF /tmp/tmptsdfvqpw/20110527_Monaco Government Tourist Office_Amendment_Amendment.pdf to images: ['/tmp/tmptsdfvqpw/page_1.jpg', '/tmp/tmptsdfvqpw/page_2.jpg']\n",
      "2024-08-09 10:17:20,917 - INFO - Experiment 0: Processing file 20160406_Rokk Solutions, LLC_Amendment_Amendment.pdf\n"
     ]
    },
    {
     "name": "stdout",
     "output_type": "stream",
     "text": [
      "Converted and resized image saved to /tmp/tmptsdfvqpw/page_2.jpg with final quality 85\n",
      "Converted PDF /tmp/tmptsdfvqpw/20110527_Monaco Government Tourist Office_Amendment_Amendment.pdf to images: ['/tmp/tmptsdfvqpw/page_1.jpg', '/tmp/tmptsdfvqpw/page_2.jpg']\n",
      "Experiment 0: Processing file 20160406_Rokk Solutions, LLC_Amendment_Amendment.pdf\n"
     ]
    },
    {
     "name": "stderr",
     "output_type": "stream",
     "text": [
      "2024-08-09 10:17:21,593 - INFO - Converted and resized image saved to /tmp/tmpvy8vs6xk/page_1.jpg with final quality 85\n"
     ]
    },
    {
     "name": "stdout",
     "output_type": "stream",
     "text": [
      "Converted and resized image saved to /tmp/tmpvy8vs6xk/page_1.jpg with final quality 85\n"
     ]
    },
    {
     "name": "stderr",
     "output_type": "stream",
     "text": [
      "2024-08-09 10:17:21,884 - INFO - Converted and resized image saved to /tmp/tmpvy8vs6xk/page_2.jpg with final quality 85\n",
      "2024-08-09 10:17:21,885 - INFO - Converted PDF /tmp/tmpvy8vs6xk/20160406_Rokk Solutions, LLC_Amendment_Amendment.pdf to images: ['/tmp/tmpvy8vs6xk/page_1.jpg', '/tmp/tmpvy8vs6xk/page_2.jpg']\n",
      "2024-08-09 10:17:21,898 - INFO - Experiment 0: Processing file 19820401_Bermuda Tourism Authority_Amendment_Amendment.pdf\n"
     ]
    },
    {
     "name": "stdout",
     "output_type": "stream",
     "text": [
      "Converted and resized image saved to /tmp/tmpvy8vs6xk/page_2.jpg with final quality 85\n",
      "Converted PDF /tmp/tmpvy8vs6xk/20160406_Rokk Solutions, LLC_Amendment_Amendment.pdf to images: ['/tmp/tmpvy8vs6xk/page_1.jpg', '/tmp/tmpvy8vs6xk/page_2.jpg']\n",
      "Experiment 0: Processing file 19820401_Bermuda Tourism Authority_Amendment_Amendment.pdf\n"
     ]
    },
    {
     "name": "stderr",
     "output_type": "stream",
     "text": [
      "2024-08-09 10:17:22,508 - INFO - Converted and resized image saved to /tmp/tmpqj2ku7yr/page_1.jpg with final quality 85\n",
      "2024-08-09 10:17:22,509 - INFO - Converted PDF /tmp/tmpqj2ku7yr/19820401_Bermuda Tourism Authority_Amendment_Amendment.pdf to images: ['/tmp/tmpqj2ku7yr/page_1.jpg']\n",
      "2024-08-09 10:17:22,513 - INFO - Experiment 0: Processing file 20030714_Arnold _ Porter Kaye Scholer, LLP_Amendment_Amendment.pdf\n"
     ]
    },
    {
     "name": "stdout",
     "output_type": "stream",
     "text": [
      "Converted and resized image saved to /tmp/tmpqj2ku7yr/page_1.jpg with final quality 85\n",
      "Converted PDF /tmp/tmpqj2ku7yr/19820401_Bermuda Tourism Authority_Amendment_Amendment.pdf to images: ['/tmp/tmpqj2ku7yr/page_1.jpg']\n",
      "Experiment 0: Processing file 20030714_Arnold _ Porter Kaye Scholer, LLP_Amendment_Amendment.pdf\n"
     ]
    },
    {
     "name": "stderr",
     "output_type": "stream",
     "text": [
      "2024-08-09 10:17:23,156 - INFO - Converted and resized image saved to /tmp/tmp4k2l_jsq/page_1.jpg with final quality 85\n"
     ]
    },
    {
     "name": "stdout",
     "output_type": "stream",
     "text": [
      "Converted and resized image saved to /tmp/tmp4k2l_jsq/page_1.jpg with final quality 85\n"
     ]
    },
    {
     "name": "stderr",
     "output_type": "stream",
     "text": [
      "2024-08-09 10:17:23,411 - INFO - Converted and resized image saved to /tmp/tmp4k2l_jsq/page_2.jpg with final quality 85\n",
      "2024-08-09 10:17:23,412 - INFO - Converted PDF /tmp/tmp4k2l_jsq/20030714_Arnold _ Porter Kaye Scholer, LLP_Amendment_Amendment.pdf to images: ['/tmp/tmp4k2l_jsq/page_1.jpg', '/tmp/tmp4k2l_jsq/page_2.jpg']\n",
      "2024-08-09 10:17:23,424 - INFO - Experiment 0: Processing file 20020611_CMGRP, Inc._Amendment_Amendment.pdf\n"
     ]
    },
    {
     "name": "stdout",
     "output_type": "stream",
     "text": [
      "Converted and resized image saved to /tmp/tmp4k2l_jsq/page_2.jpg with final quality 85\n",
      "Converted PDF /tmp/tmp4k2l_jsq/20030714_Arnold _ Porter Kaye Scholer, LLP_Amendment_Amendment.pdf to images: ['/tmp/tmp4k2l_jsq/page_1.jpg', '/tmp/tmp4k2l_jsq/page_2.jpg']\n",
      "Experiment 0: Processing file 20020611_CMGRP, Inc._Amendment_Amendment.pdf\n"
     ]
    },
    {
     "name": "stderr",
     "output_type": "stream",
     "text": [
      "2024-08-09 10:17:24,085 - INFO - Converted and resized image saved to /tmp/tmpy1rm4_nz/page_1.jpg with final quality 85\n"
     ]
    },
    {
     "name": "stdout",
     "output_type": "stream",
     "text": [
      "Converted and resized image saved to /tmp/tmpy1rm4_nz/page_1.jpg with final quality 85\n"
     ]
    },
    {
     "name": "stderr",
     "output_type": "stream",
     "text": [
      "2024-08-09 10:17:24,342 - INFO - Converted and resized image saved to /tmp/tmpy1rm4_nz/page_2.jpg with final quality 85\n",
      "2024-08-09 10:17:24,343 - INFO - Converted PDF /tmp/tmpy1rm4_nz/20020611_CMGRP, Inc._Amendment_Amendment.pdf to images: ['/tmp/tmpy1rm4_nz/page_1.jpg', '/tmp/tmpy1rm4_nz/page_2.jpg']\n",
      "2024-08-09 10:17:24,355 - INFO - Experiment 0: Processing file 20010820_Arnold _ Porter Kaye Scholer, LLP_Amendment_Amendment.pdf\n"
     ]
    },
    {
     "name": "stdout",
     "output_type": "stream",
     "text": [
      "Converted and resized image saved to /tmp/tmpy1rm4_nz/page_2.jpg with final quality 85\n",
      "Converted PDF /tmp/tmpy1rm4_nz/20020611_CMGRP, Inc._Amendment_Amendment.pdf to images: ['/tmp/tmpy1rm4_nz/page_1.jpg', '/tmp/tmpy1rm4_nz/page_2.jpg']\n",
      "Experiment 0: Processing file 20010820_Arnold _ Porter Kaye Scholer, LLP_Amendment_Amendment.pdf\n"
     ]
    },
    {
     "name": "stderr",
     "output_type": "stream",
     "text": [
      "2024-08-09 10:17:25,019 - INFO - Converted and resized image saved to /tmp/tmpfyxnq8ny/page_1.jpg with final quality 85\n"
     ]
    },
    {
     "name": "stdout",
     "output_type": "stream",
     "text": [
      "Converted and resized image saved to /tmp/tmpfyxnq8ny/page_1.jpg with final quality 85\n"
     ]
    },
    {
     "name": "stderr",
     "output_type": "stream",
     "text": [
      "2024-08-09 10:17:25,278 - INFO - Converted and resized image saved to /tmp/tmpfyxnq8ny/page_2.jpg with final quality 85\n",
      "2024-08-09 10:17:25,280 - INFO - Converted PDF /tmp/tmpfyxnq8ny/20010820_Arnold _ Porter Kaye Scholer, LLP_Amendment_Amendment.pdf to images: ['/tmp/tmpfyxnq8ny/page_1.jpg', '/tmp/tmpfyxnq8ny/page_2.jpg']\n",
      "2024-08-09 10:17:25,291 - INFO - Experiment 0: Processing file 20170815_Pillsbury Winthrop Shaw Pittman, LLP_Amendment_Amendment.pdf\n"
     ]
    },
    {
     "name": "stdout",
     "output_type": "stream",
     "text": [
      "Converted and resized image saved to /tmp/tmpfyxnq8ny/page_2.jpg with final quality 85\n",
      "Converted PDF /tmp/tmpfyxnq8ny/20010820_Arnold _ Porter Kaye Scholer, LLP_Amendment_Amendment.pdf to images: ['/tmp/tmpfyxnq8ny/page_1.jpg', '/tmp/tmpfyxnq8ny/page_2.jpg']\n",
      "Experiment 0: Processing file 20170815_Pillsbury Winthrop Shaw Pittman, LLP_Amendment_Amendment.pdf\n"
     ]
    },
    {
     "name": "stderr",
     "output_type": "stream",
     "text": [
      "2024-08-09 10:17:25,945 - INFO - Converted and resized image saved to /tmp/tmp5y9htb7e/page_1.jpg with final quality 85\n"
     ]
    },
    {
     "name": "stdout",
     "output_type": "stream",
     "text": [
      "Converted and resized image saved to /tmp/tmp5y9htb7e/page_1.jpg with final quality 85\n"
     ]
    },
    {
     "name": "stderr",
     "output_type": "stream",
     "text": [
      "2024-08-09 10:17:26,204 - INFO - Converted and resized image saved to /tmp/tmp5y9htb7e/page_2.jpg with final quality 85\n",
      "2024-08-09 10:17:26,205 - INFO - Converted PDF /tmp/tmp5y9htb7e/20170815_Pillsbury Winthrop Shaw Pittman, LLP_Amendment_Amendment.pdf to images: ['/tmp/tmp5y9htb7e/page_1.jpg', '/tmp/tmp5y9htb7e/page_2.jpg']\n",
      "2024-08-09 10:17:26,217 - INFO - Experiment 0: Processing file 20150530_Parvin, C. Landon_Amendment_Amendment.pdf\n"
     ]
    },
    {
     "name": "stdout",
     "output_type": "stream",
     "text": [
      "Converted and resized image saved to /tmp/tmp5y9htb7e/page_2.jpg with final quality 85\n",
      "Converted PDF /tmp/tmp5y9htb7e/20170815_Pillsbury Winthrop Shaw Pittman, LLP_Amendment_Amendment.pdf to images: ['/tmp/tmp5y9htb7e/page_1.jpg', '/tmp/tmp5y9htb7e/page_2.jpg']\n",
      "Experiment 0: Processing file 20150530_Parvin, C. Landon_Amendment_Amendment.pdf\n"
     ]
    },
    {
     "name": "stderr",
     "output_type": "stream",
     "text": [
      "2024-08-09 10:17:26,879 - INFO - Converted and resized image saved to /tmp/tmpciks5j8x/page_1.jpg with final quality 85\n"
     ]
    },
    {
     "name": "stdout",
     "output_type": "stream",
     "text": [
      "Converted and resized image saved to /tmp/tmpciks5j8x/page_1.jpg with final quality 85\n"
     ]
    },
    {
     "name": "stderr",
     "output_type": "stream",
     "text": [
      "2024-08-09 10:17:27,181 - INFO - Converted and resized image saved to /tmp/tmpciks5j8x/page_2.jpg with final quality 85\n",
      "2024-08-09 10:17:27,183 - INFO - Converted PDF /tmp/tmpciks5j8x/20150530_Parvin, C. Landon_Amendment_Amendment.pdf to images: ['/tmp/tmpciks5j8x/page_1.jpg', '/tmp/tmpciks5j8x/page_2.jpg']\n",
      "2024-08-09 10:17:27,194 - INFO - Experiment 0: Processing file 20180613_Ballard Partners_Amendment_Amendment.pdf\n"
     ]
    },
    {
     "name": "stdout",
     "output_type": "stream",
     "text": [
      "Converted and resized image saved to /tmp/tmpciks5j8x/page_2.jpg with final quality 85\n",
      "Converted PDF /tmp/tmpciks5j8x/20150530_Parvin, C. Landon_Amendment_Amendment.pdf to images: ['/tmp/tmpciks5j8x/page_1.jpg', '/tmp/tmpciks5j8x/page_2.jpg']\n",
      "Experiment 0: Processing file 20180613_Ballard Partners_Amendment_Amendment.pdf\n"
     ]
    },
    {
     "name": "stderr",
     "output_type": "stream",
     "text": [
      "2024-08-09 10:17:27,951 - INFO - Converted and resized image saved to /tmp/tmpf4leysig/page_1.jpg with final quality 85\n"
     ]
    },
    {
     "name": "stdout",
     "output_type": "stream",
     "text": [
      "Converted and resized image saved to /tmp/tmpf4leysig/page_1.jpg with final quality 85\n"
     ]
    },
    {
     "name": "stderr",
     "output_type": "stream",
     "text": [
      "2024-08-09 10:17:28,238 - INFO - Converted and resized image saved to /tmp/tmpf4leysig/page_2.jpg with final quality 85\n",
      "2024-08-09 10:17:28,239 - INFO - Converted PDF /tmp/tmpf4leysig/20180613_Ballard Partners_Amendment_Amendment.pdf to images: ['/tmp/tmpf4leysig/page_1.jpg', '/tmp/tmpf4leysig/page_2.jpg']\n",
      "2024-08-09 10:17:28,250 - INFO - Experiment 0: Processing file 20120424_Pillsbury Winthrop Shaw Pittman, LLP_Amendment_Amendment.pdf\n"
     ]
    },
    {
     "name": "stdout",
     "output_type": "stream",
     "text": [
      "Converted and resized image saved to /tmp/tmpf4leysig/page_2.jpg with final quality 85\n",
      "Converted PDF /tmp/tmpf4leysig/20180613_Ballard Partners_Amendment_Amendment.pdf to images: ['/tmp/tmpf4leysig/page_1.jpg', '/tmp/tmpf4leysig/page_2.jpg']\n",
      "Experiment 0: Processing file 20120424_Pillsbury Winthrop Shaw Pittman, LLP_Amendment_Amendment.pdf\n"
     ]
    },
    {
     "name": "stderr",
     "output_type": "stream",
     "text": [
      "2024-08-09 10:17:28,924 - INFO - Converted and resized image saved to /tmp/tmpcl8a_8p7/page_1.jpg with final quality 85\n"
     ]
    },
    {
     "name": "stdout",
     "output_type": "stream",
     "text": [
      "Converted and resized image saved to /tmp/tmpcl8a_8p7/page_1.jpg with final quality 85\n"
     ]
    },
    {
     "name": "stderr",
     "output_type": "stream",
     "text": [
      "2024-08-09 10:17:29,201 - INFO - Converted and resized image saved to /tmp/tmpcl8a_8p7/page_2.jpg with final quality 85\n",
      "2024-08-09 10:17:29,202 - INFO - Converted PDF /tmp/tmpcl8a_8p7/20120424_Pillsbury Winthrop Shaw Pittman, LLP_Amendment_Amendment.pdf to images: ['/tmp/tmpcl8a_8p7/page_1.jpg', '/tmp/tmpcl8a_8p7/page_2.jpg']\n",
      "2024-08-09 10:17:29,213 - INFO - Experiment 0: Processing file 19710401_Netherlands Board of Tourism and Conventions (NBTC)_Amendment_Amendment.pdf\n"
     ]
    },
    {
     "name": "stdout",
     "output_type": "stream",
     "text": [
      "Converted and resized image saved to /tmp/tmpcl8a_8p7/page_2.jpg with final quality 85\n",
      "Converted PDF /tmp/tmpcl8a_8p7/20120424_Pillsbury Winthrop Shaw Pittman, LLP_Amendment_Amendment.pdf to images: ['/tmp/tmpcl8a_8p7/page_1.jpg', '/tmp/tmpcl8a_8p7/page_2.jpg']\n",
      "Experiment 0: Processing file 19710401_Netherlands Board of Tourism and Conventions (NBTC)_Amendment_Amendment.pdf\n"
     ]
    },
    {
     "name": "stderr",
     "output_type": "stream",
     "text": [
      "2024-08-09 10:17:29,817 - INFO - Converted and resized image saved to /tmp/tmphmdxwf6y/page_1.jpg with final quality 85\n",
      "2024-08-09 10:17:29,819 - INFO - Converted PDF /tmp/tmphmdxwf6y/19710401_Netherlands Board of Tourism and Conventions (NBTC)_Amendment_Amendment.pdf to images: ['/tmp/tmphmdxwf6y/page_1.jpg']\n",
      "2024-08-09 10:17:29,826 - INFO - Experiment 0: Processing file 20021204_JWI, LLC_Amendment_Amendment.pdf\n"
     ]
    },
    {
     "name": "stdout",
     "output_type": "stream",
     "text": [
      "Converted and resized image saved to /tmp/tmphmdxwf6y/page_1.jpg with final quality 85\n",
      "Converted PDF /tmp/tmphmdxwf6y/19710401_Netherlands Board of Tourism and Conventions (NBTC)_Amendment_Amendment.pdf to images: ['/tmp/tmphmdxwf6y/page_1.jpg']\n",
      "Experiment 0: Processing file 20021204_JWI, LLC_Amendment_Amendment.pdf\n"
     ]
    },
    {
     "name": "stderr",
     "output_type": "stream",
     "text": [
      "2024-08-09 10:17:30,473 - INFO - Converted and resized image saved to /tmp/tmp4hde8p3u/page_1.jpg with final quality 85\n"
     ]
    },
    {
     "name": "stdout",
     "output_type": "stream",
     "text": [
      "Converted and resized image saved to /tmp/tmp4hde8p3u/page_1.jpg with final quality 85\n"
     ]
    },
    {
     "name": "stderr",
     "output_type": "stream",
     "text": [
      "2024-08-09 10:17:30,730 - INFO - Converted and resized image saved to /tmp/tmp4hde8p3u/page_2.jpg with final quality 85\n",
      "2024-08-09 10:17:30,732 - INFO - Converted PDF /tmp/tmp4hde8p3u/20021204_JWI, LLC_Amendment_Amendment.pdf to images: ['/tmp/tmp4hde8p3u/page_1.jpg', '/tmp/tmp4hde8p3u/page_2.jpg']\n",
      "2024-08-09 10:17:30,742 - INFO - Experiment 0: Processing file 20110103_Representative of the Turkish Republic of Northern Cyprus_Amendment_Amendment.pdf\n"
     ]
    },
    {
     "name": "stdout",
     "output_type": "stream",
     "text": [
      "Converted and resized image saved to /tmp/tmp4hde8p3u/page_2.jpg with final quality 85\n",
      "Converted PDF /tmp/tmp4hde8p3u/20021204_JWI, LLC_Amendment_Amendment.pdf to images: ['/tmp/tmp4hde8p3u/page_1.jpg', '/tmp/tmp4hde8p3u/page_2.jpg']\n",
      "Experiment 0: Processing file 20110103_Representative of the Turkish Republic of Northern Cyprus_Amendment_Amendment.pdf\n"
     ]
    },
    {
     "name": "stderr",
     "output_type": "stream",
     "text": [
      "2024-08-09 10:17:31,395 - INFO - Converted and resized image saved to /tmp/tmpiznl4j1r/page_1.jpg with final quality 85\n"
     ]
    },
    {
     "name": "stdout",
     "output_type": "stream",
     "text": [
      "Converted and resized image saved to /tmp/tmpiznl4j1r/page_1.jpg with final quality 85\n"
     ]
    },
    {
     "name": "stderr",
     "output_type": "stream",
     "text": [
      "2024-08-09 10:17:31,659 - INFO - Converted and resized image saved to /tmp/tmpiznl4j1r/page_2.jpg with final quality 85\n",
      "2024-08-09 10:17:31,660 - INFO - Converted PDF /tmp/tmpiznl4j1r/20110103_Representative of the Turkish Republic of Northern Cyprus_Amendment_Amendment.pdf to images: ['/tmp/tmpiznl4j1r/page_1.jpg', '/tmp/tmpiznl4j1r/page_2.jpg']\n",
      "2024-08-09 10:17:31,671 - INFO - Experiment 0: Processing file 20171116_Wiley Rein, LLP_Amendment_Amendment.pdf\n"
     ]
    },
    {
     "name": "stdout",
     "output_type": "stream",
     "text": [
      "Converted and resized image saved to /tmp/tmpiznl4j1r/page_2.jpg with final quality 85\n",
      "Converted PDF /tmp/tmpiznl4j1r/20110103_Representative of the Turkish Republic of Northern Cyprus_Amendment_Amendment.pdf to images: ['/tmp/tmpiznl4j1r/page_1.jpg', '/tmp/tmpiznl4j1r/page_2.jpg']\n",
      "Experiment 0: Processing file 20171116_Wiley Rein, LLP_Amendment_Amendment.pdf\n"
     ]
    },
    {
     "name": "stderr",
     "output_type": "stream",
     "text": [
      "2024-08-09 10:17:32,520 - INFO - Converted and resized image saved to /tmp/tmpa4ak0zj9/page_1.jpg with final quality 85\n"
     ]
    },
    {
     "name": "stdout",
     "output_type": "stream",
     "text": [
      "Converted and resized image saved to /tmp/tmpa4ak0zj9/page_1.jpg with final quality 85\n"
     ]
    },
    {
     "name": "stderr",
     "output_type": "stream",
     "text": [
      "2024-08-09 10:17:32,788 - INFO - Converted and resized image saved to /tmp/tmpa4ak0zj9/page_2.jpg with final quality 85\n"
     ]
    },
    {
     "name": "stdout",
     "output_type": "stream",
     "text": [
      "Converted and resized image saved to /tmp/tmpa4ak0zj9/page_2.jpg with final quality 85\n"
     ]
    },
    {
     "name": "stderr",
     "output_type": "stream",
     "text": [
      "2024-08-09 10:17:33,091 - INFO - Converted and resized image saved to /tmp/tmpa4ak0zj9/page_3.jpg with final quality 85\n",
      "2024-08-09 10:17:33,092 - INFO - Converted PDF /tmp/tmpa4ak0zj9/20171116_Wiley Rein, LLP_Amendment_Amendment.pdf to images: ['/tmp/tmpa4ak0zj9/page_1.jpg', '/tmp/tmpa4ak0zj9/page_2.jpg', '/tmp/tmpa4ak0zj9/page_3.jpg']\n",
      "2024-08-09 10:17:33,108 - INFO - Experiment 0: Processing file 19950929_Hogan Lovells US LLP_Amendment_Amendment.pdf\n"
     ]
    },
    {
     "name": "stdout",
     "output_type": "stream",
     "text": [
      "Converted and resized image saved to /tmp/tmpa4ak0zj9/page_3.jpg with final quality 85\n",
      "Converted PDF /tmp/tmpa4ak0zj9/20171116_Wiley Rein, LLP_Amendment_Amendment.pdf to images: ['/tmp/tmpa4ak0zj9/page_1.jpg', '/tmp/tmpa4ak0zj9/page_2.jpg', '/tmp/tmpa4ak0zj9/page_3.jpg']\n",
      "Experiment 0: Processing file 19950929_Hogan Lovells US LLP_Amendment_Amendment.pdf\n"
     ]
    },
    {
     "name": "stderr",
     "output_type": "stream",
     "text": [
      "2024-08-09 10:17:33,747 - INFO - Converted and resized image saved to /tmp/tmpfu4foepd/page_1.jpg with final quality 85\n"
     ]
    },
    {
     "name": "stdout",
     "output_type": "stream",
     "text": [
      "Converted and resized image saved to /tmp/tmpfu4foepd/page_1.jpg with final quality 85\n"
     ]
    },
    {
     "name": "stderr",
     "output_type": "stream",
     "text": [
      "2024-08-09 10:17:34,001 - INFO - Converted and resized image saved to /tmp/tmpfu4foepd/page_2.jpg with final quality 85\n",
      "2024-08-09 10:17:34,002 - INFO - Converted PDF /tmp/tmpfu4foepd/19950929_Hogan Lovells US LLP_Amendment_Amendment.pdf to images: ['/tmp/tmpfu4foepd/page_1.jpg', '/tmp/tmpfu4foepd/page_2.jpg']\n",
      "2024-08-09 10:17:34,013 - INFO - Experiment 0: Processing file 20081001_Garvey, Schubert _ Barer_Amendment_Amendment.pdf\n"
     ]
    },
    {
     "name": "stdout",
     "output_type": "stream",
     "text": [
      "Converted and resized image saved to /tmp/tmpfu4foepd/page_2.jpg with final quality 85\n",
      "Converted PDF /tmp/tmpfu4foepd/19950929_Hogan Lovells US LLP_Amendment_Amendment.pdf to images: ['/tmp/tmpfu4foepd/page_1.jpg', '/tmp/tmpfu4foepd/page_2.jpg']\n",
      "Experiment 0: Processing file 20081001_Garvey, Schubert _ Barer_Amendment_Amendment.pdf\n"
     ]
    },
    {
     "name": "stderr",
     "output_type": "stream",
     "text": [
      "2024-08-09 10:17:34,662 - INFO - Converted and resized image saved to /tmp/tmp6ijntx_v/page_1.jpg with final quality 85\n"
     ]
    },
    {
     "name": "stdout",
     "output_type": "stream",
     "text": [
      "Converted and resized image saved to /tmp/tmp6ijntx_v/page_1.jpg with final quality 85\n"
     ]
    },
    {
     "name": "stderr",
     "output_type": "stream",
     "text": [
      "2024-08-09 10:17:34,934 - INFO - Converted and resized image saved to /tmp/tmp6ijntx_v/page_2.jpg with final quality 85\n",
      "2024-08-09 10:17:34,935 - INFO - Converted PDF /tmp/tmp6ijntx_v/20081001_Garvey, Schubert _ Barer_Amendment_Amendment.pdf to images: ['/tmp/tmp6ijntx_v/page_1.jpg', '/tmp/tmp6ijntx_v/page_2.jpg']\n",
      "2024-08-09 10:17:34,946 - INFO - Experiment 0: Processing file 20070613_Pillsbury Winthrop Shaw Pittman, LLP_Amendment_Amendment.pdf\n"
     ]
    },
    {
     "name": "stdout",
     "output_type": "stream",
     "text": [
      "Converted and resized image saved to /tmp/tmp6ijntx_v/page_2.jpg with final quality 85\n",
      "Converted PDF /tmp/tmp6ijntx_v/20081001_Garvey, Schubert _ Barer_Amendment_Amendment.pdf to images: ['/tmp/tmp6ijntx_v/page_1.jpg', '/tmp/tmp6ijntx_v/page_2.jpg']\n",
      "Experiment 0: Processing file 20070613_Pillsbury Winthrop Shaw Pittman, LLP_Amendment_Amendment.pdf\n"
     ]
    },
    {
     "name": "stderr",
     "output_type": "stream",
     "text": [
      "2024-08-09 10:17:35,532 - INFO - Converted and resized image saved to /tmp/tmpf1qg2_do/page_1.jpg with final quality 85\n"
     ]
    },
    {
     "name": "stdout",
     "output_type": "stream",
     "text": [
      "Converted and resized image saved to /tmp/tmpf1qg2_do/page_1.jpg with final quality 85\n"
     ]
    },
    {
     "name": "stderr",
     "output_type": "stream",
     "text": [
      "2024-08-09 10:17:35,798 - INFO - Converted and resized image saved to /tmp/tmpf1qg2_do/page_2.jpg with final quality 85\n",
      "2024-08-09 10:17:35,799 - INFO - Converted PDF /tmp/tmpf1qg2_do/20070613_Pillsbury Winthrop Shaw Pittman, LLP_Amendment_Amendment.pdf to images: ['/tmp/tmpf1qg2_do/page_1.jpg', '/tmp/tmpf1qg2_do/page_2.jpg']\n",
      "2024-08-09 10:17:35,810 - INFO - Experiment 0: Processing file 20130131_Sidley Austin, LLP_Amendment_Amendment.pdf\n"
     ]
    },
    {
     "name": "stdout",
     "output_type": "stream",
     "text": [
      "Converted and resized image saved to /tmp/tmpf1qg2_do/page_2.jpg with final quality 85\n",
      "Converted PDF /tmp/tmpf1qg2_do/20070613_Pillsbury Winthrop Shaw Pittman, LLP_Amendment_Amendment.pdf to images: ['/tmp/tmpf1qg2_do/page_1.jpg', '/tmp/tmpf1qg2_do/page_2.jpg']\n",
      "Experiment 0: Processing file 20130131_Sidley Austin, LLP_Amendment_Amendment.pdf\n"
     ]
    },
    {
     "name": "stderr",
     "output_type": "stream",
     "text": [
      "2024-08-09 10:17:36,486 - INFO - Converted and resized image saved to /tmp/tmpkr6cbj5f/page_1.jpg with final quality 85\n"
     ]
    },
    {
     "name": "stdout",
     "output_type": "stream",
     "text": [
      "Converted and resized image saved to /tmp/tmpkr6cbj5f/page_1.jpg with final quality 85\n"
     ]
    },
    {
     "name": "stderr",
     "output_type": "stream",
     "text": [
      "2024-08-09 10:17:36,761 - INFO - Converted and resized image saved to /tmp/tmpkr6cbj5f/page_2.jpg with final quality 85\n",
      "2024-08-09 10:17:36,762 - INFO - Converted PDF /tmp/tmpkr6cbj5f/20130131_Sidley Austin, LLP_Amendment_Amendment.pdf to images: ['/tmp/tmpkr6cbj5f/page_1.jpg', '/tmp/tmpkr6cbj5f/page_2.jpg']\n",
      "2024-08-09 10:17:36,774 - INFO - Experiment 0: Processing file 19920601_JETRO, San Francisco_Amendment_Amendment.pdf\n"
     ]
    },
    {
     "name": "stdout",
     "output_type": "stream",
     "text": [
      "Converted and resized image saved to /tmp/tmpkr6cbj5f/page_2.jpg with final quality 85\n",
      "Converted PDF /tmp/tmpkr6cbj5f/20130131_Sidley Austin, LLP_Amendment_Amendment.pdf to images: ['/tmp/tmpkr6cbj5f/page_1.jpg', '/tmp/tmpkr6cbj5f/page_2.jpg']\n",
      "Experiment 0: Processing file 19920601_JETRO, San Francisco_Amendment_Amendment.pdf\n"
     ]
    },
    {
     "name": "stderr",
     "output_type": "stream",
     "text": [
      "2024-08-09 10:17:37,380 - INFO - Converted and resized image saved to /tmp/tmpactj9jvs/page_1.jpg with final quality 85\n"
     ]
    },
    {
     "name": "stdout",
     "output_type": "stream",
     "text": [
      "Converted and resized image saved to /tmp/tmpactj9jvs/page_1.jpg with final quality 85\n"
     ]
    },
    {
     "name": "stderr",
     "output_type": "stream",
     "text": [
      "2024-08-09 10:17:37,643 - INFO - Converted and resized image saved to /tmp/tmpactj9jvs/page_2.jpg with final quality 85\n",
      "2024-08-09 10:17:37,645 - INFO - Converted PDF /tmp/tmpactj9jvs/19920601_JETRO, San Francisco_Amendment_Amendment.pdf to images: ['/tmp/tmpactj9jvs/page_1.jpg', '/tmp/tmpactj9jvs/page_2.jpg']\n",
      "2024-08-09 10:17:37,656 - INFO - Experiment 0: Processing file 20170901_Bryan Cave, LLP_Amendment_Amendment.pdf\n"
     ]
    },
    {
     "name": "stdout",
     "output_type": "stream",
     "text": [
      "Converted and resized image saved to /tmp/tmpactj9jvs/page_2.jpg with final quality 85\n",
      "Converted PDF /tmp/tmpactj9jvs/19920601_JETRO, San Francisco_Amendment_Amendment.pdf to images: ['/tmp/tmpactj9jvs/page_1.jpg', '/tmp/tmpactj9jvs/page_2.jpg']\n",
      "Experiment 0: Processing file 20170901_Bryan Cave, LLP_Amendment_Amendment.pdf\n"
     ]
    },
    {
     "name": "stderr",
     "output_type": "stream",
     "text": [
      "2024-08-09 10:17:38,317 - INFO - Converted and resized image saved to /tmp/tmppra_jlqy/page_1.jpg with final quality 85\n"
     ]
    },
    {
     "name": "stdout",
     "output_type": "stream",
     "text": [
      "Converted and resized image saved to /tmp/tmppra_jlqy/page_1.jpg with final quality 85\n"
     ]
    },
    {
     "name": "stderr",
     "output_type": "stream",
     "text": [
      "2024-08-09 10:17:38,594 - INFO - Converted and resized image saved to /tmp/tmppra_jlqy/page_2.jpg with final quality 85\n",
      "2024-08-09 10:17:38,596 - INFO - Converted PDF /tmp/tmppra_jlqy/20170901_Bryan Cave, LLP_Amendment_Amendment.pdf to images: ['/tmp/tmppra_jlqy/page_1.jpg', '/tmp/tmppra_jlqy/page_2.jpg']\n",
      "2024-08-09 10:17:38,607 - INFO - Processing template type: Dissemination\n",
      "2024-08-09 10:17:38,608 - INFO - Experiment 0: Processing file 19930901_Scottish Enterprise_Dissemination Report_Dissemination Report.pdf\n"
     ]
    },
    {
     "name": "stdout",
     "output_type": "stream",
     "text": [
      "Converted and resized image saved to /tmp/tmppra_jlqy/page_2.jpg with final quality 85\n",
      "Converted PDF /tmp/tmppra_jlqy/20170901_Bryan Cave, LLP_Amendment_Amendment.pdf to images: ['/tmp/tmppra_jlqy/page_1.jpg', '/tmp/tmppra_jlqy/page_2.jpg']\n",
      "s---------------Template type:  Dissemination\n",
      "s---------------Level type:  UTL\n",
      "Experiment 0: Processing file 19930901_Scottish Enterprise_Dissemination Report_Dissemination Report.pdf\n"
     ]
    },
    {
     "name": "stderr",
     "output_type": "stream",
     "text": [
      "2024-08-09 10:17:39,292 - INFO - Converted and resized image saved to /tmp/tmpbrsys2de/page_1.jpg with final quality 85\n"
     ]
    },
    {
     "name": "stdout",
     "output_type": "stream",
     "text": [
      "Converted and resized image saved to /tmp/tmpbrsys2de/page_1.jpg with final quality 85\n"
     ]
    },
    {
     "name": "stderr",
     "output_type": "stream",
     "text": [
      "2024-08-09 10:17:39,590 - INFO - Converted and resized image saved to /tmp/tmpbrsys2de/page_2.jpg with final quality 85\n",
      "2024-08-09 10:17:39,591 - INFO - Converted PDF /tmp/tmpbrsys2de/19930901_Scottish Enterprise_Dissemination Report_Dissemination Report.pdf to images: ['/tmp/tmpbrsys2de/page_1.jpg', '/tmp/tmpbrsys2de/page_2.jpg']\n",
      "2024-08-09 10:17:39,603 - INFO - Experiment 0: Processing file 19930701_JETRO, Atlanta_Dissemination Report_Dissemination Report.pdf\n"
     ]
    },
    {
     "name": "stdout",
     "output_type": "stream",
     "text": [
      "Converted and resized image saved to /tmp/tmpbrsys2de/page_2.jpg with final quality 85\n",
      "Converted PDF /tmp/tmpbrsys2de/19930901_Scottish Enterprise_Dissemination Report_Dissemination Report.pdf to images: ['/tmp/tmpbrsys2de/page_1.jpg', '/tmp/tmpbrsys2de/page_2.jpg']\n",
      "Experiment 0: Processing file 19930701_JETRO, Atlanta_Dissemination Report_Dissemination Report.pdf\n"
     ]
    },
    {
     "name": "stderr",
     "output_type": "stream",
     "text": [
      "2024-08-09 10:17:40,295 - INFO - Converted and resized image saved to /tmp/tmpaac7og2x/page_1.jpg with final quality 85\n"
     ]
    },
    {
     "name": "stdout",
     "output_type": "stream",
     "text": [
      "Converted and resized image saved to /tmp/tmpaac7og2x/page_1.jpg with final quality 85\n"
     ]
    },
    {
     "name": "stderr",
     "output_type": "stream",
     "text": [
      "2024-08-09 10:17:40,585 - INFO - Converted and resized image saved to /tmp/tmpaac7og2x/page_2.jpg with final quality 85\n",
      "2024-08-09 10:17:40,586 - INFO - Converted PDF /tmp/tmpaac7og2x/19930701_JETRO, Atlanta_Dissemination Report_Dissemination Report.pdf to images: ['/tmp/tmpaac7og2x/page_1.jpg', '/tmp/tmpaac7og2x/page_2.jpg']\n",
      "2024-08-09 10:17:40,598 - INFO - Experiment 0: Processing file 19930801_JETRO, Los Angeles_Dissemination Report_Dissemination Report.pdf\n"
     ]
    },
    {
     "name": "stdout",
     "output_type": "stream",
     "text": [
      "Converted and resized image saved to /tmp/tmpaac7og2x/page_2.jpg with final quality 85\n",
      "Converted PDF /tmp/tmpaac7og2x/19930701_JETRO, Atlanta_Dissemination Report_Dissemination Report.pdf to images: ['/tmp/tmpaac7og2x/page_1.jpg', '/tmp/tmpaac7og2x/page_2.jpg']\n",
      "Experiment 0: Processing file 19930801_JETRO, Los Angeles_Dissemination Report_Dissemination Report.pdf\n"
     ]
    },
    {
     "name": "stderr",
     "output_type": "stream",
     "text": [
      "2024-08-09 10:17:41,281 - INFO - Converted and resized image saved to /tmp/tmpfd1xix3k/page_1.jpg with final quality 85\n"
     ]
    },
    {
     "name": "stdout",
     "output_type": "stream",
     "text": [
      "Converted and resized image saved to /tmp/tmpfd1xix3k/page_1.jpg with final quality 85\n"
     ]
    },
    {
     "name": "stderr",
     "output_type": "stream",
     "text": [
      "2024-08-09 10:17:41,552 - INFO - Converted and resized image saved to /tmp/tmpfd1xix3k/page_2.jpg with final quality 85\n",
      "2024-08-09 10:17:41,554 - INFO - Converted PDF /tmp/tmpfd1xix3k/19930801_JETRO, Los Angeles_Dissemination Report_Dissemination Report.pdf to images: ['/tmp/tmpfd1xix3k/page_1.jpg', '/tmp/tmpfd1xix3k/page_2.jpg']\n",
      "2024-08-09 10:17:41,565 - INFO - Experiment 0: Processing file 19941221_JETRO, Chicago_Dissemination Report_Dissemination Report.pdf\n"
     ]
    },
    {
     "name": "stdout",
     "output_type": "stream",
     "text": [
      "Converted and resized image saved to /tmp/tmpfd1xix3k/page_2.jpg with final quality 85\n",
      "Converted PDF /tmp/tmpfd1xix3k/19930801_JETRO, Los Angeles_Dissemination Report_Dissemination Report.pdf to images: ['/tmp/tmpfd1xix3k/page_1.jpg', '/tmp/tmpfd1xix3k/page_2.jpg']\n",
      "Experiment 0: Processing file 19941221_JETRO, Chicago_Dissemination Report_Dissemination Report.pdf\n"
     ]
    },
    {
     "name": "stderr",
     "output_type": "stream",
     "text": [
      "2024-08-09 10:17:42,204 - INFO - Converted and resized image saved to /tmp/tmpv7x3iu_z/page_1.jpg with final quality 85\n"
     ]
    },
    {
     "name": "stdout",
     "output_type": "stream",
     "text": [
      "Converted and resized image saved to /tmp/tmpv7x3iu_z/page_1.jpg with final quality 85\n"
     ]
    },
    {
     "name": "stderr",
     "output_type": "stream",
     "text": [
      "2024-08-09 10:17:42,471 - INFO - Converted and resized image saved to /tmp/tmpv7x3iu_z/page_2.jpg with final quality 85\n",
      "2024-08-09 10:17:42,473 - INFO - Converted PDF /tmp/tmpv7x3iu_z/19941221_JETRO, Chicago_Dissemination Report_Dissemination Report.pdf to images: ['/tmp/tmpv7x3iu_z/page_1.jpg', '/tmp/tmpv7x3iu_z/page_2.jpg']\n",
      "2024-08-09 10:17:42,483 - INFO - Experiment 0: Processing file 19920701_International Registries, Inc._Dissemination Report_Dissemination Report.pdf\n"
     ]
    },
    {
     "name": "stdout",
     "output_type": "stream",
     "text": [
      "Converted and resized image saved to /tmp/tmpv7x3iu_z/page_2.jpg with final quality 85\n",
      "Converted PDF /tmp/tmpv7x3iu_z/19941221_JETRO, Chicago_Dissemination Report_Dissemination Report.pdf to images: ['/tmp/tmpv7x3iu_z/page_1.jpg', '/tmp/tmpv7x3iu_z/page_2.jpg']\n",
      "Experiment 0: Processing file 19920701_International Registries, Inc._Dissemination Report_Dissemination Report.pdf\n"
     ]
    },
    {
     "name": "stderr",
     "output_type": "stream",
     "text": [
      "2024-08-09 10:17:43,136 - INFO - Converted and resized image saved to /tmp/tmpxcjujbs7/page_1.jpg with final quality 85\n"
     ]
    },
    {
     "name": "stdout",
     "output_type": "stream",
     "text": [
      "Converted and resized image saved to /tmp/tmpxcjujbs7/page_1.jpg with final quality 85\n"
     ]
    },
    {
     "name": "stderr",
     "output_type": "stream",
     "text": [
      "2024-08-09 10:17:43,403 - INFO - Converted and resized image saved to /tmp/tmpxcjujbs7/page_2.jpg with final quality 85\n",
      "2024-08-09 10:17:43,404 - INFO - Converted PDF /tmp/tmpxcjujbs7/19920701_International Registries, Inc._Dissemination Report_Dissemination Report.pdf to images: ['/tmp/tmpxcjujbs7/page_1.jpg', '/tmp/tmpxcjujbs7/page_2.jpg']\n",
      "2024-08-09 10:17:43,415 - INFO - Experiment 0: Processing file 19910801_Representative of the Turkish Republic of Northern Cyprus_Dissemination Report_Dissemination Report.pdf\n"
     ]
    },
    {
     "name": "stdout",
     "output_type": "stream",
     "text": [
      "Converted and resized image saved to /tmp/tmpxcjujbs7/page_2.jpg with final quality 85\n",
      "Converted PDF /tmp/tmpxcjujbs7/19920701_International Registries, Inc._Dissemination Report_Dissemination Report.pdf to images: ['/tmp/tmpxcjujbs7/page_1.jpg', '/tmp/tmpxcjujbs7/page_2.jpg']\n",
      "Experiment 0: Processing file 19910801_Representative of the Turkish Republic of Northern Cyprus_Dissemination Report_Dissemination Report.pdf\n"
     ]
    },
    {
     "name": "stderr",
     "output_type": "stream",
     "text": [
      "2024-08-09 10:17:44,213 - INFO - Converted and resized image saved to /tmp/tmpjqsuello/page_1.jpg with final quality 85\n"
     ]
    },
    {
     "name": "stdout",
     "output_type": "stream",
     "text": [
      "Converted and resized image saved to /tmp/tmpjqsuello/page_1.jpg with final quality 85\n"
     ]
    },
    {
     "name": "stderr",
     "output_type": "stream",
     "text": [
      "2024-08-09 10:17:44,467 - INFO - Converted and resized image saved to /tmp/tmpjqsuello/page_2.jpg with final quality 85\n"
     ]
    },
    {
     "name": "stdout",
     "output_type": "stream",
     "text": [
      "Converted and resized image saved to /tmp/tmpjqsuello/page_2.jpg with final quality 85\n"
     ]
    },
    {
     "name": "stderr",
     "output_type": "stream",
     "text": [
      "2024-08-09 10:17:44,715 - INFO - Converted and resized image saved to /tmp/tmpjqsuello/page_3.jpg with final quality 85\n",
      "2024-08-09 10:17:44,716 - INFO - Converted PDF /tmp/tmpjqsuello/19910801_Representative of the Turkish Republic of Northern Cyprus_Dissemination Report_Dissemination Report.pdf to images: ['/tmp/tmpjqsuello/page_1.jpg', '/tmp/tmpjqsuello/page_2.jpg', '/tmp/tmpjqsuello/page_3.jpg']\n",
      "2024-08-09 10:17:44,727 - INFO - Experiment 0: Processing file 19950110_JETRO, New York_Dissemination Report_Dissemination Report.pdf\n"
     ]
    },
    {
     "name": "stdout",
     "output_type": "stream",
     "text": [
      "Converted and resized image saved to /tmp/tmpjqsuello/page_3.jpg with final quality 85\n",
      "Converted PDF /tmp/tmpjqsuello/19910801_Representative of the Turkish Republic of Northern Cyprus_Dissemination Report_Dissemination Report.pdf to images: ['/tmp/tmpjqsuello/page_1.jpg', '/tmp/tmpjqsuello/page_2.jpg', '/tmp/tmpjqsuello/page_3.jpg']\n",
      "Experiment 0: Processing file 19950110_JETRO, New York_Dissemination Report_Dissemination Report.pdf\n"
     ]
    },
    {
     "name": "stderr",
     "output_type": "stream",
     "text": [
      "2024-08-09 10:17:45,259 - INFO - Converted and resized image saved to /tmp/tmp9cfegv6g/page_1.jpg with final quality 85\n",
      "2024-08-09 10:17:45,260 - INFO - Converted PDF /tmp/tmp9cfegv6g/19950110_JETRO, New York_Dissemination Report_Dissemination Report.pdf to images: ['/tmp/tmp9cfegv6g/page_1.jpg']\n",
      "2024-08-09 10:17:45,269 - INFO - Experiment 0: Processing file 19920901_Daniel J. Edelman, Inc._Dissemination Report_Dissemination Report.pdf\n"
     ]
    },
    {
     "name": "stdout",
     "output_type": "stream",
     "text": [
      "Converted and resized image saved to /tmp/tmp9cfegv6g/page_1.jpg with final quality 85\n",
      "Converted PDF /tmp/tmp9cfegv6g/19950110_JETRO, New York_Dissemination Report_Dissemination Report.pdf to images: ['/tmp/tmp9cfegv6g/page_1.jpg']\n",
      "Experiment 0: Processing file 19920901_Daniel J. Edelman, Inc._Dissemination Report_Dissemination Report.pdf\n"
     ]
    },
    {
     "name": "stderr",
     "output_type": "stream",
     "text": [
      "2024-08-09 10:17:45,822 - INFO - Converted and resized image saved to /tmp/tmpo1kev4bv/page_1.jpg with final quality 85\n",
      "2024-08-09 10:17:45,824 - INFO - Converted PDF /tmp/tmpo1kev4bv/19920901_Daniel J. Edelman, Inc._Dissemination Report_Dissemination Report.pdf to images: ['/tmp/tmpo1kev4bv/page_1.jpg']\n",
      "2024-08-09 10:17:45,833 - INFO - Experiment 0: Processing file 19930601_International Registries, Inc._Dissemination Report_Dissemination Report.pdf\n"
     ]
    },
    {
     "name": "stdout",
     "output_type": "stream",
     "text": [
      "Converted and resized image saved to /tmp/tmpo1kev4bv/page_1.jpg with final quality 85\n",
      "Converted PDF /tmp/tmpo1kev4bv/19920901_Daniel J. Edelman, Inc._Dissemination Report_Dissemination Report.pdf to images: ['/tmp/tmpo1kev4bv/page_1.jpg']\n",
      "Experiment 0: Processing file 19930601_International Registries, Inc._Dissemination Report_Dissemination Report.pdf\n"
     ]
    },
    {
     "name": "stderr",
     "output_type": "stream",
     "text": [
      "2024-08-09 10:17:46,522 - INFO - Converted and resized image saved to /tmp/tmpub127bcz/page_1.jpg with final quality 85\n"
     ]
    },
    {
     "name": "stdout",
     "output_type": "stream",
     "text": [
      "Converted and resized image saved to /tmp/tmpub127bcz/page_1.jpg with final quality 85\n"
     ]
    },
    {
     "name": "stderr",
     "output_type": "stream",
     "text": [
      "2024-08-09 10:17:46,796 - INFO - Converted and resized image saved to /tmp/tmpub127bcz/page_2.jpg with final quality 85\n",
      "2024-08-09 10:17:46,797 - INFO - Converted PDF /tmp/tmpub127bcz/19930601_International Registries, Inc._Dissemination Report_Dissemination Report.pdf to images: ['/tmp/tmpub127bcz/page_1.jpg', '/tmp/tmpub127bcz/page_2.jpg']\n",
      "2024-08-09 10:17:46,808 - INFO - Experiment 0: Processing file 19910501_JETRO, Atlanta_Dissemination Report_Dissemination Report.pdf\n"
     ]
    },
    {
     "name": "stdout",
     "output_type": "stream",
     "text": [
      "Converted and resized image saved to /tmp/tmpub127bcz/page_2.jpg with final quality 85\n",
      "Converted PDF /tmp/tmpub127bcz/19930601_International Registries, Inc._Dissemination Report_Dissemination Report.pdf to images: ['/tmp/tmpub127bcz/page_1.jpg', '/tmp/tmpub127bcz/page_2.jpg']\n",
      "Experiment 0: Processing file 19910501_JETRO, Atlanta_Dissemination Report_Dissemination Report.pdf\n"
     ]
    },
    {
     "name": "stderr",
     "output_type": "stream",
     "text": [
      "2024-08-09 10:17:47,495 - INFO - Converted and resized image saved to /tmp/tmpe4hi2cpz/page_1.jpg with final quality 85\n"
     ]
    },
    {
     "name": "stdout",
     "output_type": "stream",
     "text": [
      "Converted and resized image saved to /tmp/tmpe4hi2cpz/page_1.jpg with final quality 85\n"
     ]
    },
    {
     "name": "stderr",
     "output_type": "stream",
     "text": [
      "2024-08-09 10:17:47,765 - INFO - Converted and resized image saved to /tmp/tmpe4hi2cpz/page_2.jpg with final quality 85\n",
      "2024-08-09 10:17:47,767 - INFO - Converted PDF /tmp/tmpe4hi2cpz/19910501_JETRO, Atlanta_Dissemination Report_Dissemination Report.pdf to images: ['/tmp/tmpe4hi2cpz/page_1.jpg', '/tmp/tmpe4hi2cpz/page_2.jpg']\n",
      "2024-08-09 10:17:47,778 - INFO - Experiment 0: Processing file 19960116_JETRO, Chicago_Dissemination Report_Dissemination Report.pdf\n"
     ]
    },
    {
     "name": "stdout",
     "output_type": "stream",
     "text": [
      "Converted and resized image saved to /tmp/tmpe4hi2cpz/page_2.jpg with final quality 85\n",
      "Converted PDF /tmp/tmpe4hi2cpz/19910501_JETRO, Atlanta_Dissemination Report_Dissemination Report.pdf to images: ['/tmp/tmpe4hi2cpz/page_1.jpg', '/tmp/tmpe4hi2cpz/page_2.jpg']\n",
      "Experiment 0: Processing file 19960116_JETRO, Chicago_Dissemination Report_Dissemination Report.pdf\n"
     ]
    },
    {
     "name": "stderr",
     "output_type": "stream",
     "text": [
      "2024-08-09 10:17:48,437 - INFO - Converted and resized image saved to /tmp/tmpvdvq_q_7/page_1.jpg with final quality 85\n"
     ]
    },
    {
     "name": "stdout",
     "output_type": "stream",
     "text": [
      "Converted and resized image saved to /tmp/tmpvdvq_q_7/page_1.jpg with final quality 85\n"
     ]
    },
    {
     "name": "stderr",
     "output_type": "stream",
     "text": [
      "2024-08-09 10:17:48,683 - INFO - Converted and resized image saved to /tmp/tmpvdvq_q_7/page_2.jpg with final quality 85\n",
      "2024-08-09 10:17:48,685 - INFO - Converted PDF /tmp/tmpvdvq_q_7/19960116_JETRO, Chicago_Dissemination Report_Dissemination Report.pdf to images: ['/tmp/tmpvdvq_q_7/page_1.jpg', '/tmp/tmpvdvq_q_7/page_2.jpg']\n",
      "2024-08-09 10:17:48,695 - INFO - Experiment 0: Processing file 19921201_Far East Trade Services, Inc._Dissemination Report_Dissemination Report.pdf\n"
     ]
    },
    {
     "name": "stdout",
     "output_type": "stream",
     "text": [
      "Converted and resized image saved to /tmp/tmpvdvq_q_7/page_2.jpg with final quality 85\n",
      "Converted PDF /tmp/tmpvdvq_q_7/19960116_JETRO, Chicago_Dissemination Report_Dissemination Report.pdf to images: ['/tmp/tmpvdvq_q_7/page_1.jpg', '/tmp/tmpvdvq_q_7/page_2.jpg']\n",
      "Experiment 0: Processing file 19921201_Far East Trade Services, Inc._Dissemination Report_Dissemination Report.pdf\n"
     ]
    },
    {
     "name": "stderr",
     "output_type": "stream",
     "text": [
      "2024-08-09 10:17:49,369 - INFO - Converted and resized image saved to /tmp/tmptf6ct1of/page_1.jpg with final quality 85\n"
     ]
    },
    {
     "name": "stdout",
     "output_type": "stream",
     "text": [
      "Converted and resized image saved to /tmp/tmptf6ct1of/page_1.jpg with final quality 85\n"
     ]
    },
    {
     "name": "stderr",
     "output_type": "stream",
     "text": [
      "2024-08-09 10:17:49,628 - INFO - Converted and resized image saved to /tmp/tmptf6ct1of/page_2.jpg with final quality 85\n",
      "2024-08-09 10:17:49,629 - INFO - Converted PDF /tmp/tmptf6ct1of/19921201_Far East Trade Services, Inc._Dissemination Report_Dissemination Report.pdf to images: ['/tmp/tmptf6ct1of/page_1.jpg', '/tmp/tmptf6ct1of/page_2.jpg']\n",
      "2024-08-09 10:17:49,640 - INFO - Experiment 0: Processing file 19950619_JETRO, Houston_Dissemination Report_Dissemination Report.pdf\n"
     ]
    },
    {
     "name": "stdout",
     "output_type": "stream",
     "text": [
      "Converted and resized image saved to /tmp/tmptf6ct1of/page_2.jpg with final quality 85\n",
      "Converted PDF /tmp/tmptf6ct1of/19921201_Far East Trade Services, Inc._Dissemination Report_Dissemination Report.pdf to images: ['/tmp/tmptf6ct1of/page_1.jpg', '/tmp/tmptf6ct1of/page_2.jpg']\n",
      "Experiment 0: Processing file 19950619_JETRO, Houston_Dissemination Report_Dissemination Report.pdf\n"
     ]
    },
    {
     "name": "stderr",
     "output_type": "stream",
     "text": [
      "2024-08-09 10:17:50,268 - INFO - Converted and resized image saved to /tmp/tmpulo46zw4/page_1.jpg with final quality 85\n"
     ]
    },
    {
     "name": "stdout",
     "output_type": "stream",
     "text": [
      "Converted and resized image saved to /tmp/tmpulo46zw4/page_1.jpg with final quality 85\n"
     ]
    },
    {
     "name": "stderr",
     "output_type": "stream",
     "text": [
      "2024-08-09 10:17:50,550 - INFO - Converted and resized image saved to /tmp/tmpulo46zw4/page_2.jpg with final quality 85\n",
      "2024-08-09 10:17:50,551 - INFO - Converted PDF /tmp/tmpulo46zw4/19950619_JETRO, Houston_Dissemination Report_Dissemination Report.pdf to images: ['/tmp/tmpulo46zw4/page_1.jpg', '/tmp/tmpulo46zw4/page_2.jpg']\n",
      "2024-08-09 10:17:50,561 - INFO - Experiment 0: Processing file 19930101_Representative of the Turkish Republic of Northern Cyprus_Dissemination Report_Dissemination Report.pdf\n"
     ]
    },
    {
     "name": "stdout",
     "output_type": "stream",
     "text": [
      "Converted and resized image saved to /tmp/tmpulo46zw4/page_2.jpg with final quality 85\n",
      "Converted PDF /tmp/tmpulo46zw4/19950619_JETRO, Houston_Dissemination Report_Dissemination Report.pdf to images: ['/tmp/tmpulo46zw4/page_1.jpg', '/tmp/tmpulo46zw4/page_2.jpg']\n",
      "Experiment 0: Processing file 19930101_Representative of the Turkish Republic of Northern Cyprus_Dissemination Report_Dissemination Report.pdf\n"
     ]
    },
    {
     "name": "stderr",
     "output_type": "stream",
     "text": [
      "2024-08-09 10:17:51,213 - INFO - Converted and resized image saved to /tmp/tmp68px74az/page_1.jpg with final quality 85\n"
     ]
    },
    {
     "name": "stdout",
     "output_type": "stream",
     "text": [
      "Converted and resized image saved to /tmp/tmp68px74az/page_1.jpg with final quality 85\n"
     ]
    },
    {
     "name": "stderr",
     "output_type": "stream",
     "text": [
      "2024-08-09 10:17:51,468 - INFO - Converted and resized image saved to /tmp/tmp68px74az/page_2.jpg with final quality 85\n",
      "2024-08-09 10:17:51,469 - INFO - Converted PDF /tmp/tmp68px74az/19930101_Representative of the Turkish Republic of Northern Cyprus_Dissemination Report_Dissemination Report.pdf to images: ['/tmp/tmp68px74az/page_1.jpg', '/tmp/tmp68px74az/page_2.jpg']\n",
      "2024-08-09 10:17:51,480 - INFO - Experiment 0: Processing file 19930701_JETRO, New York_Dissemination Report_Dissemination Report.pdf\n"
     ]
    },
    {
     "name": "stdout",
     "output_type": "stream",
     "text": [
      "Converted and resized image saved to /tmp/tmp68px74az/page_2.jpg with final quality 85\n",
      "Converted PDF /tmp/tmp68px74az/19930101_Representative of the Turkish Republic of Northern Cyprus_Dissemination Report_Dissemination Report.pdf to images: ['/tmp/tmp68px74az/page_1.jpg', '/tmp/tmp68px74az/page_2.jpg']\n",
      "Experiment 0: Processing file 19930701_JETRO, New York_Dissemination Report_Dissemination Report.pdf\n"
     ]
    },
    {
     "name": "stderr",
     "output_type": "stream",
     "text": [
      "2024-08-09 10:17:52,193 - INFO - Converted and resized image saved to /tmp/tmp195ddg7j/page_1.jpg with final quality 85\n"
     ]
    },
    {
     "name": "stdout",
     "output_type": "stream",
     "text": [
      "Converted and resized image saved to /tmp/tmp195ddg7j/page_1.jpg with final quality 85\n"
     ]
    },
    {
     "name": "stderr",
     "output_type": "stream",
     "text": [
      "2024-08-09 10:17:52,481 - INFO - Converted and resized image saved to /tmp/tmp195ddg7j/page_2.jpg with final quality 85\n",
      "2024-08-09 10:17:52,482 - INFO - Converted PDF /tmp/tmp195ddg7j/19930701_JETRO, New York_Dissemination Report_Dissemination Report.pdf to images: ['/tmp/tmp195ddg7j/page_1.jpg', '/tmp/tmp195ddg7j/page_2.jpg']\n",
      "2024-08-09 10:17:52,494 - INFO - Experiment 0: Processing file 19910201_World Zionist Organization - American Section, Inc._Dissemination Report_Dissemination Report.pdf\n"
     ]
    },
    {
     "name": "stdout",
     "output_type": "stream",
     "text": [
      "Converted and resized image saved to /tmp/tmp195ddg7j/page_2.jpg with final quality 85\n",
      "Converted PDF /tmp/tmp195ddg7j/19930701_JETRO, New York_Dissemination Report_Dissemination Report.pdf to images: ['/tmp/tmp195ddg7j/page_1.jpg', '/tmp/tmp195ddg7j/page_2.jpg']\n",
      "Experiment 0: Processing file 19910201_World Zionist Organization - American Section, Inc._Dissemination Report_Dissemination Report.pdf\n"
     ]
    },
    {
     "name": "stderr",
     "output_type": "stream",
     "text": [
      "2024-08-09 10:17:53,119 - INFO - Converted and resized image saved to /tmp/tmptr_3qyb5/page_1.jpg with final quality 85\n",
      "2024-08-09 10:17:53,120 - INFO - Converted PDF /tmp/tmptr_3qyb5/19910201_World Zionist Organization - American Section, Inc._Dissemination Report_Dissemination Report.pdf to images: ['/tmp/tmptr_3qyb5/page_1.jpg']\n",
      "2024-08-09 10:17:53,129 - INFO - Experiment 0: Processing file 19920401_Quebec Government Office_Dissemination Report_Dissemination Report.pdf\n"
     ]
    },
    {
     "name": "stdout",
     "output_type": "stream",
     "text": [
      "Converted and resized image saved to /tmp/tmptr_3qyb5/page_1.jpg with final quality 85\n",
      "Converted PDF /tmp/tmptr_3qyb5/19910201_World Zionist Organization - American Section, Inc._Dissemination Report_Dissemination Report.pdf to images: ['/tmp/tmptr_3qyb5/page_1.jpg']\n",
      "Experiment 0: Processing file 19920401_Quebec Government Office_Dissemination Report_Dissemination Report.pdf\n"
     ]
    },
    {
     "name": "stderr",
     "output_type": "stream",
     "text": [
      "2024-08-09 10:17:53,823 - INFO - Converted and resized image saved to /tmp/tmpk8m96l3p/page_1.jpg with final quality 85\n"
     ]
    },
    {
     "name": "stdout",
     "output_type": "stream",
     "text": [
      "Converted and resized image saved to /tmp/tmpk8m96l3p/page_1.jpg with final quality 85\n"
     ]
    },
    {
     "name": "stderr",
     "output_type": "stream",
     "text": [
      "2024-08-09 10:17:54,110 - INFO - Converted and resized image saved to /tmp/tmpk8m96l3p/page_2.jpg with final quality 85\n",
      "2024-08-09 10:17:54,111 - INFO - Converted PDF /tmp/tmpk8m96l3p/19920401_Quebec Government Office_Dissemination Report_Dissemination Report.pdf to images: ['/tmp/tmpk8m96l3p/page_1.jpg', '/tmp/tmpk8m96l3p/page_2.jpg']\n",
      "2024-08-09 10:17:54,123 - INFO - Experiment 0: Processing file 19920701_Far East Trade Services, Inc._Dissemination Report_Dissemination Report.pdf\n"
     ]
    },
    {
     "name": "stdout",
     "output_type": "stream",
     "text": [
      "Converted and resized image saved to /tmp/tmpk8m96l3p/page_2.jpg with final quality 85\n",
      "Converted PDF /tmp/tmpk8m96l3p/19920401_Quebec Government Office_Dissemination Report_Dissemination Report.pdf to images: ['/tmp/tmpk8m96l3p/page_1.jpg', '/tmp/tmpk8m96l3p/page_2.jpg']\n",
      "Experiment 0: Processing file 19920701_Far East Trade Services, Inc._Dissemination Report_Dissemination Report.pdf\n"
     ]
    },
    {
     "name": "stderr",
     "output_type": "stream",
     "text": [
      "2024-08-09 10:17:54,869 - INFO - Converted and resized image saved to /tmp/tmpvhiqt69a/page_1.jpg with final quality 85\n"
     ]
    },
    {
     "name": "stdout",
     "output_type": "stream",
     "text": [
      "Converted and resized image saved to /tmp/tmpvhiqt69a/page_1.jpg with final quality 85\n"
     ]
    },
    {
     "name": "stderr",
     "output_type": "stream",
     "text": [
      "2024-08-09 10:17:55,141 - INFO - Converted and resized image saved to /tmp/tmpvhiqt69a/page_2.jpg with final quality 85\n",
      "2024-08-09 10:17:55,142 - INFO - Converted PDF /tmp/tmpvhiqt69a/19920701_Far East Trade Services, Inc._Dissemination Report_Dissemination Report.pdf to images: ['/tmp/tmpvhiqt69a/page_1.jpg', '/tmp/tmpvhiqt69a/page_2.jpg']\n",
      "2024-08-09 10:17:55,154 - INFO - Experiment 0: Processing file 19920701_Hill and Knowlton Strategies, LLC_Dissemination Report_Dissemination Report.pdf\n"
     ]
    },
    {
     "name": "stdout",
     "output_type": "stream",
     "text": [
      "Converted and resized image saved to /tmp/tmpvhiqt69a/page_2.jpg with final quality 85\n",
      "Converted PDF /tmp/tmpvhiqt69a/19920701_Far East Trade Services, Inc._Dissemination Report_Dissemination Report.pdf to images: ['/tmp/tmpvhiqt69a/page_1.jpg', '/tmp/tmpvhiqt69a/page_2.jpg']\n",
      "Experiment 0: Processing file 19920701_Hill and Knowlton Strategies, LLC_Dissemination Report_Dissemination Report.pdf\n"
     ]
    },
    {
     "name": "stderr",
     "output_type": "stream",
     "text": [
      "2024-08-09 10:17:55,831 - INFO - Converted and resized image saved to /tmp/tmpkqov8cv1/page_1.jpg with final quality 85\n"
     ]
    },
    {
     "name": "stdout",
     "output_type": "stream",
     "text": [
      "Converted and resized image saved to /tmp/tmpkqov8cv1/page_1.jpg with final quality 85\n"
     ]
    },
    {
     "name": "stderr",
     "output_type": "stream",
     "text": [
      "2024-08-09 10:17:56,096 - INFO - Converted and resized image saved to /tmp/tmpkqov8cv1/page_2.jpg with final quality 85\n",
      "2024-08-09 10:17:56,097 - INFO - Converted PDF /tmp/tmpkqov8cv1/19920701_Hill and Knowlton Strategies, LLC_Dissemination Report_Dissemination Report.pdf to images: ['/tmp/tmpkqov8cv1/page_1.jpg', '/tmp/tmpkqov8cv1/page_2.jpg']\n",
      "2024-08-09 10:17:56,109 - INFO - Experiment 0: Processing file 19910401_World Zionist Organization - American Section, Inc._Dissemination Report_Dissemination Report.pdf\n"
     ]
    },
    {
     "name": "stdout",
     "output_type": "stream",
     "text": [
      "Converted and resized image saved to /tmp/tmpkqov8cv1/page_2.jpg with final quality 85\n",
      "Converted PDF /tmp/tmpkqov8cv1/19920701_Hill and Knowlton Strategies, LLC_Dissemination Report_Dissemination Report.pdf to images: ['/tmp/tmpkqov8cv1/page_1.jpg', '/tmp/tmpkqov8cv1/page_2.jpg']\n",
      "Experiment 0: Processing file 19910401_World Zionist Organization - American Section, Inc._Dissemination Report_Dissemination Report.pdf\n"
     ]
    },
    {
     "name": "stderr",
     "output_type": "stream",
     "text": [
      "2024-08-09 10:17:56,723 - INFO - Converted and resized image saved to /tmp/tmpuk2a43qi/page_1.jpg with final quality 85\n",
      "2024-08-09 10:17:56,725 - INFO - Converted PDF /tmp/tmpuk2a43qi/19910401_World Zionist Organization - American Section, Inc._Dissemination Report_Dissemination Report.pdf to images: ['/tmp/tmpuk2a43qi/page_1.jpg']\n",
      "2024-08-09 10:17:56,734 - INFO - Experiment 0: Processing file 19920301_JETRO, Los Angeles_Dissemination Report_Dissemination Report.pdf\n"
     ]
    },
    {
     "name": "stdout",
     "output_type": "stream",
     "text": [
      "Converted and resized image saved to /tmp/tmpuk2a43qi/page_1.jpg with final quality 85\n",
      "Converted PDF /tmp/tmpuk2a43qi/19910401_World Zionist Organization - American Section, Inc._Dissemination Report_Dissemination Report.pdf to images: ['/tmp/tmpuk2a43qi/page_1.jpg']\n",
      "Experiment 0: Processing file 19920301_JETRO, Los Angeles_Dissemination Report_Dissemination Report.pdf\n"
     ]
    },
    {
     "name": "stderr",
     "output_type": "stream",
     "text": [
      "2024-08-09 10:17:57,397 - INFO - Converted and resized image saved to /tmp/tmpvk0_lji4/page_1.jpg with final quality 85\n"
     ]
    },
    {
     "name": "stdout",
     "output_type": "stream",
     "text": [
      "Converted and resized image saved to /tmp/tmpvk0_lji4/page_1.jpg with final quality 85\n"
     ]
    },
    {
     "name": "stderr",
     "output_type": "stream",
     "text": [
      "2024-08-09 10:17:57,667 - INFO - Converted and resized image saved to /tmp/tmpvk0_lji4/page_2.jpg with final quality 85\n",
      "2024-08-09 10:17:57,668 - INFO - Converted PDF /tmp/tmpvk0_lji4/19920301_JETRO, Los Angeles_Dissemination Report_Dissemination Report.pdf to images: ['/tmp/tmpvk0_lji4/page_1.jpg', '/tmp/tmpvk0_lji4/page_2.jpg']\n",
      "2024-08-09 10:17:57,679 - INFO - Experiment 0: Processing file 19931101_JETRO, Los Angeles_Dissemination Report_Dissemination Report.pdf\n"
     ]
    },
    {
     "name": "stdout",
     "output_type": "stream",
     "text": [
      "Converted and resized image saved to /tmp/tmpvk0_lji4/page_2.jpg with final quality 85\n",
      "Converted PDF /tmp/tmpvk0_lji4/19920301_JETRO, Los Angeles_Dissemination Report_Dissemination Report.pdf to images: ['/tmp/tmpvk0_lji4/page_1.jpg', '/tmp/tmpvk0_lji4/page_2.jpg']\n",
      "Experiment 0: Processing file 19931101_JETRO, Los Angeles_Dissemination Report_Dissemination Report.pdf\n"
     ]
    },
    {
     "name": "stderr",
     "output_type": "stream",
     "text": [
      "2024-08-09 10:17:58,378 - INFO - Converted and resized image saved to /tmp/tmpq5ebkgk4/page_1.jpg with final quality 85\n"
     ]
    },
    {
     "name": "stdout",
     "output_type": "stream",
     "text": [
      "Converted and resized image saved to /tmp/tmpq5ebkgk4/page_1.jpg with final quality 85\n"
     ]
    },
    {
     "name": "stderr",
     "output_type": "stream",
     "text": [
      "2024-08-09 10:17:58,677 - INFO - Converted and resized image saved to /tmp/tmpq5ebkgk4/page_2.jpg with final quality 85\n",
      "2024-08-09 10:17:58,678 - INFO - Converted PDF /tmp/tmpq5ebkgk4/19931101_JETRO, Los Angeles_Dissemination Report_Dissemination Report.pdf to images: ['/tmp/tmpq5ebkgk4/page_1.jpg', '/tmp/tmpq5ebkgk4/page_2.jpg']\n",
      "2024-08-09 10:17:58,690 - INFO - Experiment 0: Processing file 19931117_KOTRA_Dissemination Report_Dissemination Report.pdf\n"
     ]
    },
    {
     "name": "stdout",
     "output_type": "stream",
     "text": [
      "Converted and resized image saved to /tmp/tmpq5ebkgk4/page_2.jpg with final quality 85\n",
      "Converted PDF /tmp/tmpq5ebkgk4/19931101_JETRO, Los Angeles_Dissemination Report_Dissemination Report.pdf to images: ['/tmp/tmpq5ebkgk4/page_1.jpg', '/tmp/tmpq5ebkgk4/page_2.jpg']\n",
      "Experiment 0: Processing file 19931117_KOTRA_Dissemination Report_Dissemination Report.pdf\n"
     ]
    },
    {
     "name": "stderr",
     "output_type": "stream",
     "text": [
      "2024-08-09 10:17:59,353 - INFO - Converted and resized image saved to /tmp/tmpu_b0hh3a/page_1.jpg with final quality 85\n"
     ]
    },
    {
     "name": "stdout",
     "output_type": "stream",
     "text": [
      "Converted and resized image saved to /tmp/tmpu_b0hh3a/page_1.jpg with final quality 85\n"
     ]
    },
    {
     "name": "stderr",
     "output_type": "stream",
     "text": [
      "2024-08-09 10:17:59,628 - INFO - Converted and resized image saved to /tmp/tmpu_b0hh3a/page_2.jpg with final quality 85\n",
      "2024-08-09 10:17:59,629 - INFO - Converted PDF /tmp/tmpu_b0hh3a/19931117_KOTRA_Dissemination Report_Dissemination Report.pdf to images: ['/tmp/tmpu_b0hh3a/page_1.jpg', '/tmp/tmpu_b0hh3a/page_2.jpg']\n",
      "2024-08-09 10:17:59,641 - INFO - Experiment 0: Processing file 19920901_Representative of the Turkish Republic of Northern Cyprus_Dissemination Report_Dissemination Report.pdf\n"
     ]
    },
    {
     "name": "stdout",
     "output_type": "stream",
     "text": [
      "Converted and resized image saved to /tmp/tmpu_b0hh3a/page_2.jpg with final quality 85\n",
      "Converted PDF /tmp/tmpu_b0hh3a/19931117_KOTRA_Dissemination Report_Dissemination Report.pdf to images: ['/tmp/tmpu_b0hh3a/page_1.jpg', '/tmp/tmpu_b0hh3a/page_2.jpg']\n",
      "Experiment 0: Processing file 19920901_Representative of the Turkish Republic of Northern Cyprus_Dissemination Report_Dissemination Report.pdf\n"
     ]
    },
    {
     "name": "stderr",
     "output_type": "stream",
     "text": [
      "2024-08-09 10:18:00,282 - INFO - Converted and resized image saved to /tmp/tmpvk4qv8k3/page_1.jpg with final quality 85\n"
     ]
    },
    {
     "name": "stdout",
     "output_type": "stream",
     "text": [
      "Converted and resized image saved to /tmp/tmpvk4qv8k3/page_1.jpg with final quality 85\n"
     ]
    },
    {
     "name": "stderr",
     "output_type": "stream",
     "text": [
      "2024-08-09 10:18:00,572 - INFO - Converted and resized image saved to /tmp/tmpvk4qv8k3/page_2.jpg with final quality 85\n",
      "2024-08-09 10:18:00,573 - INFO - Converted PDF /tmp/tmpvk4qv8k3/19920901_Representative of the Turkish Republic of Northern Cyprus_Dissemination Report_Dissemination Report.pdf to images: ['/tmp/tmpvk4qv8k3/page_1.jpg', '/tmp/tmpvk4qv8k3/page_2.jpg']\n",
      "2024-08-09 10:18:00,584 - INFO - Experiment 0: Processing file 19920701_JETRO, New York_Dissemination Report_Dissemination Report.pdf\n"
     ]
    },
    {
     "name": "stdout",
     "output_type": "stream",
     "text": [
      "Converted and resized image saved to /tmp/tmpvk4qv8k3/page_2.jpg with final quality 85\n",
      "Converted PDF /tmp/tmpvk4qv8k3/19920901_Representative of the Turkish Republic of Northern Cyprus_Dissemination Report_Dissemination Report.pdf to images: ['/tmp/tmpvk4qv8k3/page_1.jpg', '/tmp/tmpvk4qv8k3/page_2.jpg']\n",
      "Experiment 0: Processing file 19920701_JETRO, New York_Dissemination Report_Dissemination Report.pdf\n"
     ]
    },
    {
     "name": "stderr",
     "output_type": "stream",
     "text": [
      "2024-08-09 10:18:01,263 - INFO - Converted and resized image saved to /tmp/tmpx8pf_1s4/page_1.jpg with final quality 85\n"
     ]
    },
    {
     "name": "stdout",
     "output_type": "stream",
     "text": [
      "Converted and resized image saved to /tmp/tmpx8pf_1s4/page_1.jpg with final quality 85\n"
     ]
    },
    {
     "name": "stderr",
     "output_type": "stream",
     "text": [
      "2024-08-09 10:18:01,514 - INFO - Converted and resized image saved to /tmp/tmpx8pf_1s4/page_2.jpg with final quality 85\n",
      "2024-08-09 10:18:01,515 - INFO - Converted PDF /tmp/tmpx8pf_1s4/19920701_JETRO, New York_Dissemination Report_Dissemination Report.pdf to images: ['/tmp/tmpx8pf_1s4/page_1.jpg', '/tmp/tmpx8pf_1s4/page_2.jpg']\n",
      "2024-08-09 10:18:01,526 - INFO - Experiment 0: Processing file 19920701_JETRO, Los Angeles_Dissemination Report_Dissemination Report.pdf\n"
     ]
    },
    {
     "name": "stdout",
     "output_type": "stream",
     "text": [
      "Converted and resized image saved to /tmp/tmpx8pf_1s4/page_2.jpg with final quality 85\n",
      "Converted PDF /tmp/tmpx8pf_1s4/19920701_JETRO, New York_Dissemination Report_Dissemination Report.pdf to images: ['/tmp/tmpx8pf_1s4/page_1.jpg', '/tmp/tmpx8pf_1s4/page_2.jpg']\n",
      "Experiment 0: Processing file 19920701_JETRO, Los Angeles_Dissemination Report_Dissemination Report.pdf\n"
     ]
    },
    {
     "name": "stderr",
     "output_type": "stream",
     "text": [
      "2024-08-09 10:18:02,200 - INFO - Converted and resized image saved to /tmp/tmp7zoklcf_/page_1.jpg with final quality 85\n"
     ]
    },
    {
     "name": "stdout",
     "output_type": "stream",
     "text": [
      "Converted and resized image saved to /tmp/tmp7zoklcf_/page_1.jpg with final quality 85\n"
     ]
    },
    {
     "name": "stderr",
     "output_type": "stream",
     "text": [
      "2024-08-09 10:18:02,470 - INFO - Converted and resized image saved to /tmp/tmp7zoklcf_/page_2.jpg with final quality 85\n",
      "2024-08-09 10:18:02,472 - INFO - Converted PDF /tmp/tmp7zoklcf_/19920701_JETRO, Los Angeles_Dissemination Report_Dissemination Report.pdf to images: ['/tmp/tmp7zoklcf_/page_1.jpg', '/tmp/tmp7zoklcf_/page_2.jpg']\n",
      "2024-08-09 10:18:02,483 - INFO - Experiment 0: Processing file 19910201_Akin, Gump, Strauss, Hauer _ Feld, LLP_Dissemination Report_Dissemination Report.pdf\n"
     ]
    },
    {
     "name": "stdout",
     "output_type": "stream",
     "text": [
      "Converted and resized image saved to /tmp/tmp7zoklcf_/page_2.jpg with final quality 85\n",
      "Converted PDF /tmp/tmp7zoklcf_/19920701_JETRO, Los Angeles_Dissemination Report_Dissemination Report.pdf to images: ['/tmp/tmp7zoklcf_/page_1.jpg', '/tmp/tmp7zoklcf_/page_2.jpg']\n",
      "Experiment 0: Processing file 19910201_Akin, Gump, Strauss, Hauer _ Feld, LLP_Dissemination Report_Dissemination Report.pdf\n"
     ]
    },
    {
     "name": "stderr",
     "output_type": "stream",
     "text": [
      "2024-08-09 10:18:03,112 - INFO - Converted and resized image saved to /tmp/tmpsbknn_52/page_1.jpg with final quality 85\n"
     ]
    },
    {
     "name": "stdout",
     "output_type": "stream",
     "text": [
      "Converted and resized image saved to /tmp/tmpsbknn_52/page_1.jpg with final quality 85\n"
     ]
    },
    {
     "name": "stderr",
     "output_type": "stream",
     "text": [
      "2024-08-09 10:18:03,371 - INFO - Converted and resized image saved to /tmp/tmpsbknn_52/page_2.jpg with final quality 85\n",
      "2024-08-09 10:18:03,373 - INFO - Converted PDF /tmp/tmpsbknn_52/19910201_Akin, Gump, Strauss, Hauer _ Feld, LLP_Dissemination Report_Dissemination Report.pdf to images: ['/tmp/tmpsbknn_52/page_1.jpg', '/tmp/tmpsbknn_52/page_2.jpg']\n",
      "2024-08-09 10:18:03,384 - INFO - Experiment 0: Processing file 19920501_Hogan Lovells US LLP_Dissemination Report_Dissemination Report.pdf\n"
     ]
    },
    {
     "name": "stdout",
     "output_type": "stream",
     "text": [
      "Converted and resized image saved to /tmp/tmpsbknn_52/page_2.jpg with final quality 85\n",
      "Converted PDF /tmp/tmpsbknn_52/19910201_Akin, Gump, Strauss, Hauer _ Feld, LLP_Dissemination Report_Dissemination Report.pdf to images: ['/tmp/tmpsbknn_52/page_1.jpg', '/tmp/tmpsbknn_52/page_2.jpg']\n",
      "Experiment 0: Processing file 19920501_Hogan Lovells US LLP_Dissemination Report_Dissemination Report.pdf\n"
     ]
    },
    {
     "name": "stderr",
     "output_type": "stream",
     "text": [
      "2024-08-09 10:18:03,999 - INFO - Converted and resized image saved to /tmp/tmpstj4tvz6/page_1.jpg with final quality 85\n"
     ]
    },
    {
     "name": "stdout",
     "output_type": "stream",
     "text": [
      "Converted and resized image saved to /tmp/tmpstj4tvz6/page_1.jpg with final quality 85\n"
     ]
    },
    {
     "name": "stderr",
     "output_type": "stream",
     "text": [
      "2024-08-09 10:18:04,247 - INFO - Converted and resized image saved to /tmp/tmpstj4tvz6/page_2.jpg with final quality 85\n",
      "2024-08-09 10:18:04,248 - INFO - Converted PDF /tmp/tmpstj4tvz6/19920501_Hogan Lovells US LLP_Dissemination Report_Dissemination Report.pdf to images: ['/tmp/tmpstj4tvz6/page_1.jpg', '/tmp/tmpstj4tvz6/page_2.jpg']\n",
      "2024-08-09 10:18:04,259 - INFO - Experiment 0: Processing file 19930101_JETRO, Los Angeles_Dissemination Report_Dissemination Report.pdf\n"
     ]
    },
    {
     "name": "stdout",
     "output_type": "stream",
     "text": [
      "Converted and resized image saved to /tmp/tmpstj4tvz6/page_2.jpg with final quality 85\n",
      "Converted PDF /tmp/tmpstj4tvz6/19920501_Hogan Lovells US LLP_Dissemination Report_Dissemination Report.pdf to images: ['/tmp/tmpstj4tvz6/page_1.jpg', '/tmp/tmpstj4tvz6/page_2.jpg']\n",
      "Experiment 0: Processing file 19930101_JETRO, Los Angeles_Dissemination Report_Dissemination Report.pdf\n"
     ]
    },
    {
     "name": "stderr",
     "output_type": "stream",
     "text": [
      "2024-08-09 10:18:04,918 - INFO - Converted and resized image saved to /tmp/tmpqbya20yb/page_1.jpg with final quality 85\n"
     ]
    },
    {
     "name": "stdout",
     "output_type": "stream",
     "text": [
      "Converted and resized image saved to /tmp/tmpqbya20yb/page_1.jpg with final quality 85\n"
     ]
    },
    {
     "name": "stderr",
     "output_type": "stream",
     "text": [
      "2024-08-09 10:18:05,178 - INFO - Converted and resized image saved to /tmp/tmpqbya20yb/page_2.jpg with final quality 85\n",
      "2024-08-09 10:18:05,180 - INFO - Converted PDF /tmp/tmpqbya20yb/19930101_JETRO, Los Angeles_Dissemination Report_Dissemination Report.pdf to images: ['/tmp/tmpqbya20yb/page_1.jpg', '/tmp/tmpqbya20yb/page_2.jpg']\n",
      "2024-08-09 10:18:05,190 - INFO - Experiment 0: Processing file 19930901_Hill and Knowlton Strategies, LLC_Dissemination Report_Dissemination Report.pdf\n"
     ]
    },
    {
     "name": "stdout",
     "output_type": "stream",
     "text": [
      "Converted and resized image saved to /tmp/tmpqbya20yb/page_2.jpg with final quality 85\n",
      "Converted PDF /tmp/tmpqbya20yb/19930101_JETRO, Los Angeles_Dissemination Report_Dissemination Report.pdf to images: ['/tmp/tmpqbya20yb/page_1.jpg', '/tmp/tmpqbya20yb/page_2.jpg']\n",
      "Experiment 0: Processing file 19930901_Hill and Knowlton Strategies, LLC_Dissemination Report_Dissemination Report.pdf\n"
     ]
    },
    {
     "name": "stderr",
     "output_type": "stream",
     "text": [
      "2024-08-09 10:18:05,994 - INFO - Converted and resized image saved to /tmp/tmp92lpo79b/page_1.jpg with final quality 85\n"
     ]
    },
    {
     "name": "stdout",
     "output_type": "stream",
     "text": [
      "Converted and resized image saved to /tmp/tmp92lpo79b/page_1.jpg with final quality 85\n"
     ]
    },
    {
     "name": "stderr",
     "output_type": "stream",
     "text": [
      "2024-08-09 10:18:06,325 - INFO - Converted and resized image saved to /tmp/tmp92lpo79b/page_2.jpg with final quality 85\n",
      "2024-08-09 10:18:06,327 - INFO - Converted PDF /tmp/tmp92lpo79b/19930901_Hill and Knowlton Strategies, LLC_Dissemination Report_Dissemination Report.pdf to images: ['/tmp/tmp92lpo79b/page_1.jpg', '/tmp/tmp92lpo79b/page_2.jpg']\n",
      "2024-08-09 10:18:06,338 - INFO - Experiment 0: Processing file 19920701_Daniel J. Edelman, Inc._Dissemination Report_Dissemination Report.pdf\n"
     ]
    },
    {
     "name": "stdout",
     "output_type": "stream",
     "text": [
      "Converted and resized image saved to /tmp/tmp92lpo79b/page_2.jpg with final quality 85\n",
      "Converted PDF /tmp/tmp92lpo79b/19930901_Hill and Knowlton Strategies, LLC_Dissemination Report_Dissemination Report.pdf to images: ['/tmp/tmp92lpo79b/page_1.jpg', '/tmp/tmp92lpo79b/page_2.jpg']\n",
      "Experiment 0: Processing file 19920701_Daniel J. Edelman, Inc._Dissemination Report_Dissemination Report.pdf\n"
     ]
    },
    {
     "name": "stderr",
     "output_type": "stream",
     "text": [
      "2024-08-09 10:18:06,877 - INFO - Converted and resized image saved to /tmp/tmp6d0ls4an/page_1.jpg with final quality 85\n",
      "2024-08-09 10:18:06,879 - INFO - Converted PDF /tmp/tmp6d0ls4an/19920701_Daniel J. Edelman, Inc._Dissemination Report_Dissemination Report.pdf to images: ['/tmp/tmp6d0ls4an/page_1.jpg']\n",
      "2024-08-09 10:18:06,889 - INFO - Experiment 0: Processing file 19911201_Scottish Enterprise_Dissemination Report_Dissemination Report.pdf\n"
     ]
    },
    {
     "name": "stdout",
     "output_type": "stream",
     "text": [
      "Converted and resized image saved to /tmp/tmp6d0ls4an/page_1.jpg with final quality 85\n",
      "Converted PDF /tmp/tmp6d0ls4an/19920701_Daniel J. Edelman, Inc._Dissemination Report_Dissemination Report.pdf to images: ['/tmp/tmp6d0ls4an/page_1.jpg']\n",
      "Experiment 0: Processing file 19911201_Scottish Enterprise_Dissemination Report_Dissemination Report.pdf\n"
     ]
    },
    {
     "name": "stderr",
     "output_type": "stream",
     "text": [
      "2024-08-09 10:18:07,466 - INFO - Converted and resized image saved to /tmp/tmp82_9n_pg/page_1.jpg with final quality 85\n",
      "2024-08-09 10:18:07,467 - INFO - Converted PDF /tmp/tmp82_9n_pg/19911201_Scottish Enterprise_Dissemination Report_Dissemination Report.pdf to images: ['/tmp/tmp82_9n_pg/page_1.jpg']\n",
      "2024-08-09 10:18:07,477 - INFO - Experiment 0: Processing file 19930201_Kobe Trade Information Office_Dissemination Report_Dissemination Report.pdf\n"
     ]
    },
    {
     "name": "stdout",
     "output_type": "stream",
     "text": [
      "Converted and resized image saved to /tmp/tmp82_9n_pg/page_1.jpg with final quality 85\n",
      "Converted PDF /tmp/tmp82_9n_pg/19911201_Scottish Enterprise_Dissemination Report_Dissemination Report.pdf to images: ['/tmp/tmp82_9n_pg/page_1.jpg']\n",
      "Experiment 0: Processing file 19930201_Kobe Trade Information Office_Dissemination Report_Dissemination Report.pdf\n"
     ]
    },
    {
     "name": "stderr",
     "output_type": "stream",
     "text": [
      "2024-08-09 10:18:08,136 - INFO - Converted and resized image saved to /tmp/tmpljva4gab/page_1.jpg with final quality 85\n"
     ]
    },
    {
     "name": "stdout",
     "output_type": "stream",
     "text": [
      "Converted and resized image saved to /tmp/tmpljva4gab/page_1.jpg with final quality 85\n"
     ]
    },
    {
     "name": "stderr",
     "output_type": "stream",
     "text": [
      "2024-08-09 10:18:08,429 - INFO - Converted and resized image saved to /tmp/tmpljva4gab/page_2.jpg with final quality 85\n",
      "2024-08-09 10:18:08,431 - INFO - Converted PDF /tmp/tmpljva4gab/19930201_Kobe Trade Information Office_Dissemination Report_Dissemination Report.pdf to images: ['/tmp/tmpljva4gab/page_1.jpg', '/tmp/tmpljva4gab/page_2.jpg']\n",
      "2024-08-09 10:18:08,444 - INFO - Experiment 0: Processing file 19950522_JETRO, Los Angeles_Dissemination Report_Dissemination Report.pdf\n"
     ]
    },
    {
     "name": "stdout",
     "output_type": "stream",
     "text": [
      "Converted and resized image saved to /tmp/tmpljva4gab/page_2.jpg with final quality 85\n",
      "Converted PDF /tmp/tmpljva4gab/19930201_Kobe Trade Information Office_Dissemination Report_Dissemination Report.pdf to images: ['/tmp/tmpljva4gab/page_1.jpg', '/tmp/tmpljva4gab/page_2.jpg']\n",
      "Experiment 0: Processing file 19950522_JETRO, Los Angeles_Dissemination Report_Dissemination Report.pdf\n"
     ]
    },
    {
     "name": "stderr",
     "output_type": "stream",
     "text": [
      "2024-08-09 10:18:09,106 - INFO - Converted and resized image saved to /tmp/tmpwqsa8wd9/page_1.jpg with final quality 85\n"
     ]
    },
    {
     "name": "stdout",
     "output_type": "stream",
     "text": [
      "Converted and resized image saved to /tmp/tmpwqsa8wd9/page_1.jpg with final quality 85\n"
     ]
    },
    {
     "name": "stderr",
     "output_type": "stream",
     "text": [
      "2024-08-09 10:18:09,355 - INFO - Converted and resized image saved to /tmp/tmpwqsa8wd9/page_2.jpg with final quality 85\n",
      "2024-08-09 10:18:09,357 - INFO - Converted PDF /tmp/tmpwqsa8wd9/19950522_JETRO, Los Angeles_Dissemination Report_Dissemination Report.pdf to images: ['/tmp/tmpwqsa8wd9/page_1.jpg', '/tmp/tmpwqsa8wd9/page_2.jpg']\n",
      "2024-08-09 10:18:09,368 - INFO - Experiment 0: Processing file 19930901_JETRO, Los Angeles_Dissemination Report_Dissemination Report.pdf\n"
     ]
    },
    {
     "name": "stdout",
     "output_type": "stream",
     "text": [
      "Converted and resized image saved to /tmp/tmpwqsa8wd9/page_2.jpg with final quality 85\n",
      "Converted PDF /tmp/tmpwqsa8wd9/19950522_JETRO, Los Angeles_Dissemination Report_Dissemination Report.pdf to images: ['/tmp/tmpwqsa8wd9/page_1.jpg', '/tmp/tmpwqsa8wd9/page_2.jpg']\n",
      "Experiment 0: Processing file 19930901_JETRO, Los Angeles_Dissemination Report_Dissemination Report.pdf\n"
     ]
    },
    {
     "name": "stderr",
     "output_type": "stream",
     "text": [
      "2024-08-09 10:18:10,096 - INFO - Converted and resized image saved to /tmp/tmphoxhst5i/page_1.jpg with final quality 85\n"
     ]
    },
    {
     "name": "stdout",
     "output_type": "stream",
     "text": [
      "Converted and resized image saved to /tmp/tmphoxhst5i/page_1.jpg with final quality 85\n"
     ]
    },
    {
     "name": "stderr",
     "output_type": "stream",
     "text": [
      "2024-08-09 10:18:10,359 - INFO - Converted and resized image saved to /tmp/tmphoxhst5i/page_2.jpg with final quality 85\n",
      "2024-08-09 10:18:10,360 - INFO - Converted PDF /tmp/tmphoxhst5i/19930901_JETRO, Los Angeles_Dissemination Report_Dissemination Report.pdf to images: ['/tmp/tmphoxhst5i/page_1.jpg', '/tmp/tmphoxhst5i/page_2.jpg']\n",
      "2024-08-09 10:18:10,373 - INFO - Experiment 0: Processing file 19931101_Hogan Lovells US LLP_Dissemination Report_Dissemination Report.pdf\n"
     ]
    },
    {
     "name": "stdout",
     "output_type": "stream",
     "text": [
      "Converted and resized image saved to /tmp/tmphoxhst5i/page_2.jpg with final quality 85\n",
      "Converted PDF /tmp/tmphoxhst5i/19930901_JETRO, Los Angeles_Dissemination Report_Dissemination Report.pdf to images: ['/tmp/tmphoxhst5i/page_1.jpg', '/tmp/tmphoxhst5i/page_2.jpg']\n",
      "Experiment 0: Processing file 19931101_Hogan Lovells US LLP_Dissemination Report_Dissemination Report.pdf\n"
     ]
    },
    {
     "name": "stderr",
     "output_type": "stream",
     "text": [
      "2024-08-09 10:18:10,920 - INFO - Converted and resized image saved to /tmp/tmp8hd7xdhf/page_1.jpg with final quality 85\n",
      "2024-08-09 10:18:10,921 - INFO - Converted PDF /tmp/tmp8hd7xdhf/19931101_Hogan Lovells US LLP_Dissemination Report_Dissemination Report.pdf to images: ['/tmp/tmp8hd7xdhf/page_1.jpg']\n",
      "2024-08-09 10:18:10,932 - INFO - Experiment 0: Processing file 19930101_JETRO, Chicago_Dissemination Report_Dissemination Report.pdf\n"
     ]
    },
    {
     "name": "stdout",
     "output_type": "stream",
     "text": [
      "Converted and resized image saved to /tmp/tmp8hd7xdhf/page_1.jpg with final quality 85\n",
      "Converted PDF /tmp/tmp8hd7xdhf/19931101_Hogan Lovells US LLP_Dissemination Report_Dissemination Report.pdf to images: ['/tmp/tmp8hd7xdhf/page_1.jpg']\n",
      "Experiment 0: Processing file 19930101_JETRO, Chicago_Dissemination Report_Dissemination Report.pdf\n"
     ]
    },
    {
     "name": "stderr",
     "output_type": "stream",
     "text": [
      "2024-08-09 10:18:11,590 - INFO - Converted and resized image saved to /tmp/tmpq5yipaeq/page_1.jpg with final quality 85\n"
     ]
    },
    {
     "name": "stdout",
     "output_type": "stream",
     "text": [
      "Converted and resized image saved to /tmp/tmpq5yipaeq/page_1.jpg with final quality 85\n"
     ]
    },
    {
     "name": "stderr",
     "output_type": "stream",
     "text": [
      "2024-08-09 10:18:11,849 - INFO - Converted and resized image saved to /tmp/tmpq5yipaeq/page_2.jpg with final quality 85\n",
      "2024-08-09 10:18:11,851 - INFO - Converted PDF /tmp/tmpq5yipaeq/19930101_JETRO, Chicago_Dissemination Report_Dissemination Report.pdf to images: ['/tmp/tmpq5yipaeq/page_1.jpg', '/tmp/tmpq5yipaeq/page_2.jpg']\n",
      "2024-08-09 10:18:11,862 - INFO - Experiment 0: Processing file 19940914_JETRO, Los Angeles_Dissemination Report_Dissemination Report.pdf\n"
     ]
    },
    {
     "name": "stdout",
     "output_type": "stream",
     "text": [
      "Converted and resized image saved to /tmp/tmpq5yipaeq/page_2.jpg with final quality 85\n",
      "Converted PDF /tmp/tmpq5yipaeq/19930101_JETRO, Chicago_Dissemination Report_Dissemination Report.pdf to images: ['/tmp/tmpq5yipaeq/page_1.jpg', '/tmp/tmpq5yipaeq/page_2.jpg']\n",
      "Experiment 0: Processing file 19940914_JETRO, Los Angeles_Dissemination Report_Dissemination Report.pdf\n"
     ]
    },
    {
     "name": "stderr",
     "output_type": "stream",
     "text": [
      "2024-08-09 10:18:12,619 - INFO - Converted and resized image saved to /tmp/tmpg0ekfdwn/page_1.jpg with final quality 85\n"
     ]
    },
    {
     "name": "stdout",
     "output_type": "stream",
     "text": [
      "Converted and resized image saved to /tmp/tmpg0ekfdwn/page_1.jpg with final quality 85\n"
     ]
    },
    {
     "name": "stderr",
     "output_type": "stream",
     "text": [
      "2024-08-09 10:18:12,866 - INFO - Converted and resized image saved to /tmp/tmpg0ekfdwn/page_2.jpg with final quality 85\n"
     ]
    },
    {
     "name": "stdout",
     "output_type": "stream",
     "text": [
      "Converted and resized image saved to /tmp/tmpg0ekfdwn/page_2.jpg with final quality 85\n"
     ]
    },
    {
     "name": "stderr",
     "output_type": "stream",
     "text": [
      "2024-08-09 10:18:13,189 - INFO - Converted and resized image saved to /tmp/tmpg0ekfdwn/page_3.jpg with final quality 85\n",
      "2024-08-09 10:18:13,191 - INFO - Converted PDF /tmp/tmpg0ekfdwn/19940914_JETRO, Los Angeles_Dissemination Report_Dissemination Report.pdf to images: ['/tmp/tmpg0ekfdwn/page_1.jpg', '/tmp/tmpg0ekfdwn/page_2.jpg', '/tmp/tmpg0ekfdwn/page_3.jpg']\n",
      "2024-08-09 10:18:13,206 - INFO - Experiment 0: Processing file 19930201_Akin, Gump, Strauss, Hauer _ Feld, LLP_Dissemination Report_Dissemination Report.pdf\n"
     ]
    },
    {
     "name": "stdout",
     "output_type": "stream",
     "text": [
      "Converted and resized image saved to /tmp/tmpg0ekfdwn/page_3.jpg with final quality 85\n",
      "Converted PDF /tmp/tmpg0ekfdwn/19940914_JETRO, Los Angeles_Dissemination Report_Dissemination Report.pdf to images: ['/tmp/tmpg0ekfdwn/page_1.jpg', '/tmp/tmpg0ekfdwn/page_2.jpg', '/tmp/tmpg0ekfdwn/page_3.jpg']\n",
      "Experiment 0: Processing file 19930201_Akin, Gump, Strauss, Hauer _ Feld, LLP_Dissemination Report_Dissemination Report.pdf\n"
     ]
    },
    {
     "name": "stderr",
     "output_type": "stream",
     "text": [
      "2024-08-09 10:18:13,735 - INFO - Converted and resized image saved to /tmp/tmpzl6hbv7v/page_1.jpg with final quality 85\n",
      "2024-08-09 10:18:13,736 - INFO - Converted PDF /tmp/tmpzl6hbv7v/19930201_Akin, Gump, Strauss, Hauer _ Feld, LLP_Dissemination Report_Dissemination Report.pdf to images: ['/tmp/tmpzl6hbv7v/page_1.jpg']\n",
      "2024-08-09 10:18:13,745 - INFO - Experiment 0: Processing file 19911201_JETRO, Houston_Dissemination Report_Dissemination Report.pdf\n"
     ]
    },
    {
     "name": "stdout",
     "output_type": "stream",
     "text": [
      "Converted and resized image saved to /tmp/tmpzl6hbv7v/page_1.jpg with final quality 85\n",
      "Converted PDF /tmp/tmpzl6hbv7v/19930201_Akin, Gump, Strauss, Hauer _ Feld, LLP_Dissemination Report_Dissemination Report.pdf to images: ['/tmp/tmpzl6hbv7v/page_1.jpg']\n",
      "Experiment 0: Processing file 19911201_JETRO, Houston_Dissemination Report_Dissemination Report.pdf\n"
     ]
    },
    {
     "name": "stderr",
     "output_type": "stream",
     "text": [
      "2024-08-09 10:18:14,429 - INFO - Converted and resized image saved to /tmp/tmp4nrcj0cv/page_1.jpg with final quality 85\n"
     ]
    },
    {
     "name": "stdout",
     "output_type": "stream",
     "text": [
      "Converted and resized image saved to /tmp/tmp4nrcj0cv/page_1.jpg with final quality 85\n"
     ]
    },
    {
     "name": "stderr",
     "output_type": "stream",
     "text": [
      "2024-08-09 10:18:14,699 - INFO - Converted and resized image saved to /tmp/tmp4nrcj0cv/page_2.jpg with final quality 85\n",
      "2024-08-09 10:18:14,701 - INFO - Converted PDF /tmp/tmp4nrcj0cv/19911201_JETRO, Houston_Dissemination Report_Dissemination Report.pdf to images: ['/tmp/tmp4nrcj0cv/page_1.jpg', '/tmp/tmp4nrcj0cv/page_2.jpg']\n",
      "2024-08-09 10:18:14,711 - INFO - Processing template type: Short-Form\n",
      "2024-08-09 10:18:14,712 - INFO - Experiment 0: Processing file 20110722_Daniel J. Edelman, Inc._Norfolk, Jeffrey_Short-Form.pdf\n"
     ]
    },
    {
     "name": "stdout",
     "output_type": "stream",
     "text": [
      "Converted and resized image saved to /tmp/tmp4nrcj0cv/page_2.jpg with final quality 85\n",
      "Converted PDF /tmp/tmp4nrcj0cv/19911201_JETRO, Houston_Dissemination Report_Dissemination Report.pdf to images: ['/tmp/tmp4nrcj0cv/page_1.jpg', '/tmp/tmp4nrcj0cv/page_2.jpg']\n",
      "s---------------Template type:  Short-Form\n",
      "s---------------Level type:  UTL\n",
      "Experiment 0: Processing file 20110722_Daniel J. Edelman, Inc._Norfolk, Jeffrey_Short-Form.pdf\n"
     ]
    },
    {
     "name": "stderr",
     "output_type": "stream",
     "text": [
      "2024-08-09 10:18:15,400 - INFO - Converted and resized image saved to /tmp/tmptx55_uom/page_1.jpg with final quality 85\n"
     ]
    },
    {
     "name": "stdout",
     "output_type": "stream",
     "text": [
      "Converted and resized image saved to /tmp/tmptx55_uom/page_1.jpg with final quality 85\n"
     ]
    },
    {
     "name": "stderr",
     "output_type": "stream",
     "text": [
      "2024-08-09 10:18:15,710 - INFO - Converted and resized image saved to /tmp/tmptx55_uom/page_2.jpg with final quality 85\n",
      "2024-08-09 10:18:15,711 - INFO - Converted PDF /tmp/tmptx55_uom/20110722_Daniel J. Edelman, Inc._Norfolk, Jeffrey_Short-Form.pdf to images: ['/tmp/tmptx55_uom/page_1.jpg', '/tmp/tmptx55_uom/page_2.jpg']\n",
      "2024-08-09 10:18:15,723 - INFO - Experiment 0: Processing file 20140414_VisitBritain_Medway, Kellen_Short-Form.pdf\n"
     ]
    },
    {
     "name": "stdout",
     "output_type": "stream",
     "text": [
      "Converted and resized image saved to /tmp/tmptx55_uom/page_2.jpg with final quality 85\n",
      "Converted PDF /tmp/tmptx55_uom/20110722_Daniel J. Edelman, Inc._Norfolk, Jeffrey_Short-Form.pdf to images: ['/tmp/tmptx55_uom/page_1.jpg', '/tmp/tmptx55_uom/page_2.jpg']\n",
      "Experiment 0: Processing file 20140414_VisitBritain_Medway, Kellen_Short-Form.pdf\n"
     ]
    },
    {
     "name": "stderr",
     "output_type": "stream",
     "text": [
      "2024-08-09 10:18:16,499 - INFO - Converted and resized image saved to /tmp/tmpn23s3s4u/page_1.jpg with final quality 85\n"
     ]
    },
    {
     "name": "stdout",
     "output_type": "stream",
     "text": [
      "Converted and resized image saved to /tmp/tmpn23s3s4u/page_1.jpg with final quality 85\n"
     ]
    },
    {
     "name": "stderr",
     "output_type": "stream",
     "text": [
      "2024-08-09 10:18:16,798 - INFO - Converted and resized image saved to /tmp/tmpn23s3s4u/page_2.jpg with final quality 85\n",
      "2024-08-09 10:18:16,799 - INFO - Converted PDF /tmp/tmpn23s3s4u/20140414_VisitBritain_Medway, Kellen_Short-Form.pdf to images: ['/tmp/tmpn23s3s4u/page_1.jpg', '/tmp/tmpn23s3s4u/page_2.jpg']\n",
      "2024-08-09 10:18:16,811 - INFO - Experiment 0: Processing file 20160622_Raben Group, LLC_Raben, Robert_Short-Form.pdf\n"
     ]
    },
    {
     "name": "stdout",
     "output_type": "stream",
     "text": [
      "Converted and resized image saved to /tmp/tmpn23s3s4u/page_2.jpg with final quality 85\n",
      "Converted PDF /tmp/tmpn23s3s4u/20140414_VisitBritain_Medway, Kellen_Short-Form.pdf to images: ['/tmp/tmpn23s3s4u/page_1.jpg', '/tmp/tmpn23s3s4u/page_2.jpg']\n",
      "Experiment 0: Processing file 20160622_Raben Group, LLC_Raben, Robert_Short-Form.pdf\n"
     ]
    },
    {
     "name": "stderr",
     "output_type": "stream",
     "text": [
      "2024-08-09 10:18:17,497 - INFO - Converted and resized image saved to /tmp/tmppq78is8f/page_1.jpg with final quality 85\n"
     ]
    },
    {
     "name": "stdout",
     "output_type": "stream",
     "text": [
      "Converted and resized image saved to /tmp/tmppq78is8f/page_1.jpg with final quality 85\n"
     ]
    },
    {
     "name": "stderr",
     "output_type": "stream",
     "text": [
      "2024-08-09 10:18:17,804 - INFO - Converted and resized image saved to /tmp/tmppq78is8f/page_2.jpg with final quality 85\n",
      "2024-08-09 10:18:17,805 - INFO - Converted PDF /tmp/tmppq78is8f/20160622_Raben Group, LLC_Raben, Robert_Short-Form.pdf to images: ['/tmp/tmppq78is8f/page_1.jpg', '/tmp/tmppq78is8f/page_2.jpg']\n",
      "2024-08-09 10:18:17,818 - INFO - Experiment 0: Processing file 20110912_BLJ Worldwide LTD_Smrikarov, Marc Philip George_Short-Form.pdf\n"
     ]
    },
    {
     "name": "stdout",
     "output_type": "stream",
     "text": [
      "Converted and resized image saved to /tmp/tmppq78is8f/page_2.jpg with final quality 85\n",
      "Converted PDF /tmp/tmppq78is8f/20160622_Raben Group, LLC_Raben, Robert_Short-Form.pdf to images: ['/tmp/tmppq78is8f/page_1.jpg', '/tmp/tmppq78is8f/page_2.jpg']\n",
      "Experiment 0: Processing file 20110912_BLJ Worldwide LTD_Smrikarov, Marc Philip George_Short-Form.pdf\n"
     ]
    },
    {
     "name": "stderr",
     "output_type": "stream",
     "text": [
      "2024-08-09 10:18:18,661 - INFO - Converted and resized image saved to /tmp/tmp28x3u5_d/page_1.jpg with final quality 85\n"
     ]
    },
    {
     "name": "stdout",
     "output_type": "stream",
     "text": [
      "Converted and resized image saved to /tmp/tmp28x3u5_d/page_1.jpg with final quality 85\n"
     ]
    },
    {
     "name": "stderr",
     "output_type": "stream",
     "text": [
      "2024-08-09 10:18:18,967 - INFO - Converted and resized image saved to /tmp/tmp28x3u5_d/page_2.jpg with final quality 85\n"
     ]
    },
    {
     "name": "stdout",
     "output_type": "stream",
     "text": [
      "Converted and resized image saved to /tmp/tmp28x3u5_d/page_2.jpg with final quality 85\n"
     ]
    },
    {
     "name": "stderr",
     "output_type": "stream",
     "text": [
      "2024-08-09 10:18:19,252 - INFO - Converted and resized image saved to /tmp/tmp28x3u5_d/page_3.jpg with final quality 85\n",
      "2024-08-09 10:18:19,253 - INFO - Converted PDF /tmp/tmp28x3u5_d/20110912_BLJ Worldwide LTD_Smrikarov, Marc Philip George_Short-Form.pdf to images: ['/tmp/tmp28x3u5_d/page_1.jpg', '/tmp/tmp28x3u5_d/page_2.jpg', '/tmp/tmp28x3u5_d/page_3.jpg']\n",
      "2024-08-09 10:18:19,266 - INFO - Experiment 0: Processing file 20090424_Raben Group, LLC_Goulart, Kimberly_Short-Form.pdf\n"
     ]
    },
    {
     "name": "stdout",
     "output_type": "stream",
     "text": [
      "Converted and resized image saved to /tmp/tmp28x3u5_d/page_3.jpg with final quality 85\n",
      "Converted PDF /tmp/tmp28x3u5_d/20110912_BLJ Worldwide LTD_Smrikarov, Marc Philip George_Short-Form.pdf to images: ['/tmp/tmp28x3u5_d/page_1.jpg', '/tmp/tmp28x3u5_d/page_2.jpg', '/tmp/tmp28x3u5_d/page_3.jpg']\n",
      "Experiment 0: Processing file 20090424_Raben Group, LLC_Goulart, Kimberly_Short-Form.pdf\n"
     ]
    },
    {
     "name": "stderr",
     "output_type": "stream",
     "text": [
      "2024-08-09 10:18:19,927 - INFO - Converted and resized image saved to /tmp/tmp7wjyk7i7/page_1.jpg with final quality 85\n"
     ]
    },
    {
     "name": "stdout",
     "output_type": "stream",
     "text": [
      "Converted and resized image saved to /tmp/tmp7wjyk7i7/page_1.jpg with final quality 85\n"
     ]
    },
    {
     "name": "stderr",
     "output_type": "stream",
     "text": [
      "2024-08-09 10:18:20,228 - INFO - Converted and resized image saved to /tmp/tmp7wjyk7i7/page_2.jpg with final quality 85\n",
      "2024-08-09 10:18:20,230 - INFO - Converted PDF /tmp/tmp7wjyk7i7/20090424_Raben Group, LLC_Goulart, Kimberly_Short-Form.pdf to images: ['/tmp/tmp7wjyk7i7/page_1.jpg', '/tmp/tmp7wjyk7i7/page_2.jpg']\n",
      "2024-08-09 10:18:20,242 - INFO - Experiment 0: Processing file 20140227_Nelson Mullins Riley _ Scarborough, LLP_Clarke, Britton_Short-Form.pdf\n"
     ]
    },
    {
     "name": "stdout",
     "output_type": "stream",
     "text": [
      "Converted and resized image saved to /tmp/tmp7wjyk7i7/page_2.jpg with final quality 85\n",
      "Converted PDF /tmp/tmp7wjyk7i7/20090424_Raben Group, LLC_Goulart, Kimberly_Short-Form.pdf to images: ['/tmp/tmp7wjyk7i7/page_1.jpg', '/tmp/tmp7wjyk7i7/page_2.jpg']\n",
      "Experiment 0: Processing file 20140227_Nelson Mullins Riley _ Scarborough, LLP_Clarke, Britton_Short-Form.pdf\n"
     ]
    },
    {
     "name": "stderr",
     "output_type": "stream",
     "text": [
      "2024-08-09 10:18:20,960 - INFO - Converted and resized image saved to /tmp/tmpzhix4nud/page_1.jpg with final quality 85\n"
     ]
    },
    {
     "name": "stdout",
     "output_type": "stream",
     "text": [
      "Converted and resized image saved to /tmp/tmpzhix4nud/page_1.jpg with final quality 85\n"
     ]
    },
    {
     "name": "stderr",
     "output_type": "stream",
     "text": [
      "2024-08-09 10:18:21,263 - INFO - Converted and resized image saved to /tmp/tmpzhix4nud/page_2.jpg with final quality 85\n",
      "2024-08-09 10:18:21,265 - INFO - Converted PDF /tmp/tmpzhix4nud/20140227_Nelson Mullins Riley _ Scarborough, LLP_Clarke, Britton_Short-Form.pdf to images: ['/tmp/tmpzhix4nud/page_1.jpg', '/tmp/tmpzhix4nud/page_2.jpg']\n",
      "2024-08-09 10:18:21,278 - INFO - Experiment 0: Processing file 20090624_Akin, Gump, Strauss, Hauer _ Feld, LLP_Davis, Smith W._Short-Form.pdf\n"
     ]
    },
    {
     "name": "stdout",
     "output_type": "stream",
     "text": [
      "Converted and resized image saved to /tmp/tmpzhix4nud/page_2.jpg with final quality 85\n",
      "Converted PDF /tmp/tmpzhix4nud/20140227_Nelson Mullins Riley _ Scarborough, LLP_Clarke, Britton_Short-Form.pdf to images: ['/tmp/tmpzhix4nud/page_1.jpg', '/tmp/tmpzhix4nud/page_2.jpg']\n",
      "Experiment 0: Processing file 20090624_Akin, Gump, Strauss, Hauer _ Feld, LLP_Davis, Smith W._Short-Form.pdf\n"
     ]
    },
    {
     "name": "stderr",
     "output_type": "stream",
     "text": [
      "2024-08-09 10:18:22,006 - INFO - Converted and resized image saved to /tmp/tmp3cbz4dw7/page_1.jpg with final quality 85\n"
     ]
    },
    {
     "name": "stdout",
     "output_type": "stream",
     "text": [
      "Converted and resized image saved to /tmp/tmp3cbz4dw7/page_1.jpg with final quality 85\n"
     ]
    },
    {
     "name": "stderr",
     "output_type": "stream",
     "text": [
      "2024-08-09 10:18:22,305 - INFO - Converted and resized image saved to /tmp/tmp3cbz4dw7/page_2.jpg with final quality 85\n"
     ]
    },
    {
     "name": "stdout",
     "output_type": "stream",
     "text": [
      "Converted and resized image saved to /tmp/tmp3cbz4dw7/page_2.jpg with final quality 85\n"
     ]
    },
    {
     "name": "stderr",
     "output_type": "stream",
     "text": [
      "2024-08-09 10:18:22,573 - INFO - Converted and resized image saved to /tmp/tmp3cbz4dw7/page_3.jpg with final quality 85\n",
      "2024-08-09 10:18:22,574 - INFO - Converted PDF /tmp/tmp3cbz4dw7/20090624_Akin, Gump, Strauss, Hauer _ Feld, LLP_Davis, Smith W._Short-Form.pdf to images: ['/tmp/tmp3cbz4dw7/page_1.jpg', '/tmp/tmp3cbz4dw7/page_2.jpg', '/tmp/tmp3cbz4dw7/page_3.jpg']\n",
      "2024-08-09 10:18:22,587 - INFO - Experiment 0: Processing file 20090522_Invest Northern Ireland_Murray, Aengus_Short-Form.pdf\n"
     ]
    },
    {
     "name": "stdout",
     "output_type": "stream",
     "text": [
      "Converted and resized image saved to /tmp/tmp3cbz4dw7/page_3.jpg with final quality 85\n",
      "Converted PDF /tmp/tmp3cbz4dw7/20090624_Akin, Gump, Strauss, Hauer _ Feld, LLP_Davis, Smith W._Short-Form.pdf to images: ['/tmp/tmp3cbz4dw7/page_1.jpg', '/tmp/tmp3cbz4dw7/page_2.jpg', '/tmp/tmp3cbz4dw7/page_3.jpg']\n",
      "Experiment 0: Processing file 20090522_Invest Northern Ireland_Murray, Aengus_Short-Form.pdf\n"
     ]
    },
    {
     "name": "stderr",
     "output_type": "stream",
     "text": [
      "2024-08-09 10:18:23,194 - INFO - Converted and resized image saved to /tmp/tmppxmxsm3r/page_1.jpg with final quality 85\n"
     ]
    },
    {
     "name": "stdout",
     "output_type": "stream",
     "text": [
      "Converted and resized image saved to /tmp/tmppxmxsm3r/page_1.jpg with final quality 85\n"
     ]
    },
    {
     "name": "stderr",
     "output_type": "stream",
     "text": [
      "2024-08-09 10:18:23,493 - INFO - Converted and resized image saved to /tmp/tmppxmxsm3r/page_2.jpg with final quality 85\n",
      "2024-08-09 10:18:23,494 - INFO - Converted PDF /tmp/tmppxmxsm3r/20090522_Invest Northern Ireland_Murray, Aengus_Short-Form.pdf to images: ['/tmp/tmppxmxsm3r/page_1.jpg', '/tmp/tmppxmxsm3r/page_2.jpg']\n",
      "2024-08-09 10:18:23,507 - INFO - Experiment 0: Processing file 20080918_Squire Patton Boggs, LLP_Varma, Anurag_Short-Form.pdf\n"
     ]
    },
    {
     "name": "stdout",
     "output_type": "stream",
     "text": [
      "Converted and resized image saved to /tmp/tmppxmxsm3r/page_2.jpg with final quality 85\n",
      "Converted PDF /tmp/tmppxmxsm3r/20090522_Invest Northern Ireland_Murray, Aengus_Short-Form.pdf to images: ['/tmp/tmppxmxsm3r/page_1.jpg', '/tmp/tmppxmxsm3r/page_2.jpg']\n",
      "Experiment 0: Processing file 20080918_Squire Patton Boggs, LLP_Varma, Anurag_Short-Form.pdf\n"
     ]
    },
    {
     "name": "stderr",
     "output_type": "stream",
     "text": [
      "2024-08-09 10:18:24,176 - INFO - Converted and resized image saved to /tmp/tmpjpampifp/page_1.jpg with final quality 85\n"
     ]
    },
    {
     "name": "stdout",
     "output_type": "stream",
     "text": [
      "Converted and resized image saved to /tmp/tmpjpampifp/page_1.jpg with final quality 85\n"
     ]
    },
    {
     "name": "stderr",
     "output_type": "stream",
     "text": [
      "2024-08-09 10:18:24,461 - INFO - Converted and resized image saved to /tmp/tmpjpampifp/page_2.jpg with final quality 85\n",
      "2024-08-09 10:18:24,462 - INFO - Converted PDF /tmp/tmpjpampifp/20080918_Squire Patton Boggs, LLP_Varma, Anurag_Short-Form.pdf to images: ['/tmp/tmpjpampifp/page_1.jpg', '/tmp/tmpjpampifp/page_2.jpg']\n",
      "2024-08-09 10:18:24,475 - INFO - Experiment 0: Processing file 20140507_Ketchum Inc. NY_Amorosi, Alexandra Scott_Short-Form.pdf\n"
     ]
    },
    {
     "name": "stdout",
     "output_type": "stream",
     "text": [
      "Converted and resized image saved to /tmp/tmpjpampifp/page_2.jpg with final quality 85\n",
      "Converted PDF /tmp/tmpjpampifp/20080918_Squire Patton Boggs, LLP_Varma, Anurag_Short-Form.pdf to images: ['/tmp/tmpjpampifp/page_1.jpg', '/tmp/tmpjpampifp/page_2.jpg']\n",
      "Experiment 0: Processing file 20140507_Ketchum Inc. NY_Amorosi, Alexandra Scott_Short-Form.pdf\n"
     ]
    },
    {
     "name": "stderr",
     "output_type": "stream",
     "text": [
      "2024-08-09 10:18:25,309 - INFO - Converted and resized image saved to /tmp/tmpswgp7y7q/page_1.jpg with final quality 85\n"
     ]
    },
    {
     "name": "stdout",
     "output_type": "stream",
     "text": [
      "Converted and resized image saved to /tmp/tmpswgp7y7q/page_1.jpg with final quality 85\n"
     ]
    },
    {
     "name": "stderr",
     "output_type": "stream",
     "text": [
      "2024-08-09 10:18:25,627 - INFO - Converted and resized image saved to /tmp/tmpswgp7y7q/page_2.jpg with final quality 85\n",
      "2024-08-09 10:18:25,628 - INFO - Converted PDF /tmp/tmpswgp7y7q/20140507_Ketchum Inc. NY_Amorosi, Alexandra Scott_Short-Form.pdf to images: ['/tmp/tmpswgp7y7q/page_1.jpg', '/tmp/tmpswgp7y7q/page_2.jpg']\n",
      "2024-08-09 10:18:25,641 - INFO - Experiment 0: Processing file 20101208_Ketchum Inc. NY_Austria, Kristine Partolan_Short-Form.pdf\n"
     ]
    },
    {
     "name": "stdout",
     "output_type": "stream",
     "text": [
      "Converted and resized image saved to /tmp/tmpswgp7y7q/page_2.jpg with final quality 85\n",
      "Converted PDF /tmp/tmpswgp7y7q/20140507_Ketchum Inc. NY_Amorosi, Alexandra Scott_Short-Form.pdf to images: ['/tmp/tmpswgp7y7q/page_1.jpg', '/tmp/tmpswgp7y7q/page_2.jpg']\n",
      "Experiment 0: Processing file 20101208_Ketchum Inc. NY_Austria, Kristine Partolan_Short-Form.pdf\n"
     ]
    },
    {
     "name": "stderr",
     "output_type": "stream",
     "text": [
      "2024-08-09 10:18:26,302 - INFO - Converted and resized image saved to /tmp/tmpzn0_u4nn/page_1.jpg with final quality 85\n"
     ]
    },
    {
     "name": "stdout",
     "output_type": "stream",
     "text": [
      "Converted and resized image saved to /tmp/tmpzn0_u4nn/page_1.jpg with final quality 85\n"
     ]
    },
    {
     "name": "stderr",
     "output_type": "stream",
     "text": [
      "2024-08-09 10:18:26,584 - INFO - Converted and resized image saved to /tmp/tmpzn0_u4nn/page_2.jpg with final quality 85\n",
      "2024-08-09 10:18:26,585 - INFO - Converted PDF /tmp/tmpzn0_u4nn/20101208_Ketchum Inc. NY_Austria, Kristine Partolan_Short-Form.pdf to images: ['/tmp/tmpzn0_u4nn/page_1.jpg', '/tmp/tmpzn0_u4nn/page_2.jpg']\n",
      "2024-08-09 10:18:26,596 - INFO - Experiment 0: Processing file 20170424_Singapore Tourism Board_Yang, Yawen_Short-Form.pdf\n"
     ]
    },
    {
     "name": "stdout",
     "output_type": "stream",
     "text": [
      "Converted and resized image saved to /tmp/tmpzn0_u4nn/page_2.jpg with final quality 85\n",
      "Converted PDF /tmp/tmpzn0_u4nn/20101208_Ketchum Inc. NY_Austria, Kristine Partolan_Short-Form.pdf to images: ['/tmp/tmpzn0_u4nn/page_1.jpg', '/tmp/tmpzn0_u4nn/page_2.jpg']\n",
      "Experiment 0: Processing file 20170424_Singapore Tourism Board_Yang, Yawen_Short-Form.pdf\n"
     ]
    },
    {
     "name": "stderr",
     "output_type": "stream",
     "text": [
      "2024-08-09 10:18:27,308 - INFO - Converted and resized image saved to /tmp/tmpv9znp_ij/page_1.jpg with final quality 85\n"
     ]
    },
    {
     "name": "stdout",
     "output_type": "stream",
     "text": [
      "Converted and resized image saved to /tmp/tmpv9znp_ij/page_1.jpg with final quality 85\n"
     ]
    },
    {
     "name": "stderr",
     "output_type": "stream",
     "text": [
      "2024-08-09 10:18:27,630 - INFO - Converted and resized image saved to /tmp/tmpv9znp_ij/page_2.jpg with final quality 85\n",
      "2024-08-09 10:18:27,631 - INFO - Converted PDF /tmp/tmpv9znp_ij/20170424_Singapore Tourism Board_Yang, Yawen_Short-Form.pdf to images: ['/tmp/tmpv9znp_ij/page_1.jpg', '/tmp/tmpv9znp_ij/page_2.jpg']\n",
      "2024-08-09 10:18:27,644 - INFO - Experiment 0: Processing file 20090623_Fleishman-Hillard, Inc._Dinagan, John_Short-Form.pdf\n"
     ]
    },
    {
     "name": "stdout",
     "output_type": "stream",
     "text": [
      "Converted and resized image saved to /tmp/tmpv9znp_ij/page_2.jpg with final quality 85\n",
      "Converted PDF /tmp/tmpv9znp_ij/20170424_Singapore Tourism Board_Yang, Yawen_Short-Form.pdf to images: ['/tmp/tmpv9znp_ij/page_1.jpg', '/tmp/tmpv9znp_ij/page_2.jpg']\n",
      "Experiment 0: Processing file 20090623_Fleishman-Hillard, Inc._Dinagan, John_Short-Form.pdf\n"
     ]
    },
    {
     "name": "stderr",
     "output_type": "stream",
     "text": [
      "2024-08-09 10:18:28,331 - INFO - Converted and resized image saved to /tmp/tmpykmj7s8f/page_1.jpg with final quality 85\n"
     ]
    },
    {
     "name": "stdout",
     "output_type": "stream",
     "text": [
      "Converted and resized image saved to /tmp/tmpykmj7s8f/page_1.jpg with final quality 85\n"
     ]
    },
    {
     "name": "stderr",
     "output_type": "stream",
     "text": [
      "2024-08-09 10:18:28,644 - INFO - Converted and resized image saved to /tmp/tmpykmj7s8f/page_2.jpg with final quality 85\n",
      "2024-08-09 10:18:28,646 - INFO - Converted PDF /tmp/tmpykmj7s8f/20090623_Fleishman-Hillard, Inc._Dinagan, John_Short-Form.pdf to images: ['/tmp/tmpykmj7s8f/page_1.jpg', '/tmp/tmpykmj7s8f/page_2.jpg']\n",
      "2024-08-09 10:18:28,658 - INFO - Experiment 0: Processing file 20120917_Singapore Economic Development Board_Choo, Xing Jie_Short-Form.pdf\n"
     ]
    },
    {
     "name": "stdout",
     "output_type": "stream",
     "text": [
      "Converted and resized image saved to /tmp/tmpykmj7s8f/page_2.jpg with final quality 85\n",
      "Converted PDF /tmp/tmpykmj7s8f/20090623_Fleishman-Hillard, Inc._Dinagan, John_Short-Form.pdf to images: ['/tmp/tmpykmj7s8f/page_1.jpg', '/tmp/tmpykmj7s8f/page_2.jpg']\n",
      "Experiment 0: Processing file 20120917_Singapore Economic Development Board_Choo, Xing Jie_Short-Form.pdf\n"
     ]
    },
    {
     "name": "stderr",
     "output_type": "stream",
     "text": [
      "2024-08-09 10:18:29,393 - INFO - Converted and resized image saved to /tmp/tmpv_utkcl1/page_1.jpg with final quality 85\n"
     ]
    },
    {
     "name": "stdout",
     "output_type": "stream",
     "text": [
      "Converted and resized image saved to /tmp/tmpv_utkcl1/page_1.jpg with final quality 85\n"
     ]
    },
    {
     "name": "stderr",
     "output_type": "stream",
     "text": [
      "2024-08-09 10:18:29,709 - INFO - Converted and resized image saved to /tmp/tmpv_utkcl1/page_2.jpg with final quality 85\n",
      "2024-08-09 10:18:29,710 - INFO - Converted PDF /tmp/tmpv_utkcl1/20120917_Singapore Economic Development Board_Choo, Xing Jie_Short-Form.pdf to images: ['/tmp/tmpv_utkcl1/page_1.jpg', '/tmp/tmpv_utkcl1/page_2.jpg']\n",
      "2024-08-09 10:18:29,722 - INFO - Experiment 0: Processing file 20160731_Burson-Marsteller, LLC (Washington, DC)_Jarnagan, Stephanie_Short-Form.pdf\n"
     ]
    },
    {
     "name": "stdout",
     "output_type": "stream",
     "text": [
      "Converted and resized image saved to /tmp/tmpv_utkcl1/page_2.jpg with final quality 85\n",
      "Converted PDF /tmp/tmpv_utkcl1/20120917_Singapore Economic Development Board_Choo, Xing Jie_Short-Form.pdf to images: ['/tmp/tmpv_utkcl1/page_1.jpg', '/tmp/tmpv_utkcl1/page_2.jpg']\n",
      "Experiment 0: Processing file 20160731_Burson-Marsteller, LLC (Washington, DC)_Jarnagan, Stephanie_Short-Form.pdf\n"
     ]
    },
    {
     "name": "stderr",
     "output_type": "stream",
     "text": [
      "2024-08-09 10:18:30,420 - INFO - Converted and resized image saved to /tmp/tmplcb1l2_9/page_1.jpg with final quality 85\n"
     ]
    },
    {
     "name": "stdout",
     "output_type": "stream",
     "text": [
      "Converted and resized image saved to /tmp/tmplcb1l2_9/page_1.jpg with final quality 85\n"
     ]
    },
    {
     "name": "stderr",
     "output_type": "stream",
     "text": [
      "2024-08-09 10:18:30,724 - INFO - Converted and resized image saved to /tmp/tmplcb1l2_9/page_2.jpg with final quality 85\n",
      "2024-08-09 10:18:30,726 - INFO - Converted PDF /tmp/tmplcb1l2_9/20160731_Burson-Marsteller, LLC (Washington, DC)_Jarnagan, Stephanie_Short-Form.pdf to images: ['/tmp/tmplcb1l2_9/page_1.jpg', '/tmp/tmplcb1l2_9/page_2.jpg']\n",
      "2024-08-09 10:18:30,739 - INFO - Experiment 0: Processing file 20121129_Commonwealth of Dominica Maritime Registry, Inc._Jamal, Shahid_Short-Form.pdf\n"
     ]
    },
    {
     "name": "stdout",
     "output_type": "stream",
     "text": [
      "Converted and resized image saved to /tmp/tmplcb1l2_9/page_2.jpg with final quality 85\n",
      "Converted PDF /tmp/tmplcb1l2_9/20160731_Burson-Marsteller, LLC (Washington, DC)_Jarnagan, Stephanie_Short-Form.pdf to images: ['/tmp/tmplcb1l2_9/page_1.jpg', '/tmp/tmplcb1l2_9/page_2.jpg']\n",
      "Experiment 0: Processing file 20121129_Commonwealth of Dominica Maritime Registry, Inc._Jamal, Shahid_Short-Form.pdf\n"
     ]
    },
    {
     "name": "stderr",
     "output_type": "stream",
     "text": [
      "2024-08-09 10:18:31,467 - INFO - Converted and resized image saved to /tmp/tmp_g85ydj4/page_1.jpg with final quality 85\n"
     ]
    },
    {
     "name": "stdout",
     "output_type": "stream",
     "text": [
      "Converted and resized image saved to /tmp/tmp_g85ydj4/page_1.jpg with final quality 85\n"
     ]
    },
    {
     "name": "stderr",
     "output_type": "stream",
     "text": [
      "2024-08-09 10:18:31,786 - INFO - Converted and resized image saved to /tmp/tmp_g85ydj4/page_2.jpg with final quality 85\n",
      "2024-08-09 10:18:31,788 - INFO - Converted PDF /tmp/tmp_g85ydj4/20121129_Commonwealth of Dominica Maritime Registry, Inc._Jamal, Shahid_Short-Form.pdf to images: ['/tmp/tmp_g85ydj4/page_1.jpg', '/tmp/tmp_g85ydj4/page_2.jpg']\n",
      "2024-08-09 10:18:31,800 - INFO - Experiment 0: Processing file 20100111_O_Brien Gentry _ Scott, LLC_Gentry, James_Short-Form.pdf\n"
     ]
    },
    {
     "name": "stdout",
     "output_type": "stream",
     "text": [
      "Converted and resized image saved to /tmp/tmp_g85ydj4/page_2.jpg with final quality 85\n",
      "Converted PDF /tmp/tmp_g85ydj4/20121129_Commonwealth of Dominica Maritime Registry, Inc._Jamal, Shahid_Short-Form.pdf to images: ['/tmp/tmp_g85ydj4/page_1.jpg', '/tmp/tmp_g85ydj4/page_2.jpg']\n",
      "Experiment 0: Processing file 20100111_O_Brien Gentry _ Scott, LLC_Gentry, James_Short-Form.pdf\n"
     ]
    },
    {
     "name": "stderr",
     "output_type": "stream",
     "text": [
      "2024-08-09 10:18:32,605 - INFO - Converted and resized image saved to /tmp/tmp4gc6ty7s/page_1.jpg with final quality 85\n"
     ]
    },
    {
     "name": "stdout",
     "output_type": "stream",
     "text": [
      "Converted and resized image saved to /tmp/tmp4gc6ty7s/page_1.jpg with final quality 85\n"
     ]
    },
    {
     "name": "stderr",
     "output_type": "stream",
     "text": [
      "2024-08-09 10:18:32,899 - INFO - Converted and resized image saved to /tmp/tmp4gc6ty7s/page_2.jpg with final quality 85\n"
     ]
    },
    {
     "name": "stdout",
     "output_type": "stream",
     "text": [
      "Converted and resized image saved to /tmp/tmp4gc6ty7s/page_2.jpg with final quality 85\n"
     ]
    },
    {
     "name": "stderr",
     "output_type": "stream",
     "text": [
      "2024-08-09 10:18:33,222 - INFO - Converted and resized image saved to /tmp/tmp4gc6ty7s/page_3.jpg with final quality 85\n",
      "2024-08-09 10:18:33,223 - INFO - Converted PDF /tmp/tmp4gc6ty7s/20100111_O_Brien Gentry _ Scott, LLC_Gentry, James_Short-Form.pdf to images: ['/tmp/tmp4gc6ty7s/page_1.jpg', '/tmp/tmp4gc6ty7s/page_2.jpg', '/tmp/tmp4gc6ty7s/page_3.jpg']\n",
      "2024-08-09 10:18:33,238 - INFO - Experiment 0: Processing file 20161031_MSLGROUP Americas, Inc._Everett, J. Ballard_Short-Form.pdf\n"
     ]
    },
    {
     "name": "stdout",
     "output_type": "stream",
     "text": [
      "Converted and resized image saved to /tmp/tmp4gc6ty7s/page_3.jpg with final quality 85\n",
      "Converted PDF /tmp/tmp4gc6ty7s/20100111_O_Brien Gentry _ Scott, LLC_Gentry, James_Short-Form.pdf to images: ['/tmp/tmp4gc6ty7s/page_1.jpg', '/tmp/tmp4gc6ty7s/page_2.jpg', '/tmp/tmp4gc6ty7s/page_3.jpg']\n",
      "Experiment 0: Processing file 20161031_MSLGROUP Americas, Inc._Everett, J. Ballard_Short-Form.pdf\n"
     ]
    },
    {
     "name": "stderr",
     "output_type": "stream",
     "text": [
      "2024-08-09 10:18:33,960 - INFO - Converted and resized image saved to /tmp/tmp26syzvmx/page_1.jpg with final quality 85\n"
     ]
    },
    {
     "name": "stdout",
     "output_type": "stream",
     "text": [
      "Converted and resized image saved to /tmp/tmp26syzvmx/page_1.jpg with final quality 85\n"
     ]
    },
    {
     "name": "stderr",
     "output_type": "stream",
     "text": [
      "2024-08-09 10:18:34,288 - INFO - Converted and resized image saved to /tmp/tmp26syzvmx/page_2.jpg with final quality 85\n",
      "2024-08-09 10:18:34,289 - INFO - Converted PDF /tmp/tmp26syzvmx/20161031_MSLGROUP Americas, Inc._Everett, J. Ballard_Short-Form.pdf to images: ['/tmp/tmp26syzvmx/page_1.jpg', '/tmp/tmp26syzvmx/page_2.jpg']\n",
      "2024-08-09 10:18:34,304 - INFO - Experiment 0: Processing file 20131009_VisitBritain_Walsh, Carl_Short-Form.pdf\n"
     ]
    },
    {
     "name": "stdout",
     "output_type": "stream",
     "text": [
      "Converted and resized image saved to /tmp/tmp26syzvmx/page_2.jpg with final quality 85\n",
      "Converted PDF /tmp/tmp26syzvmx/20161031_MSLGROUP Americas, Inc._Everett, J. Ballard_Short-Form.pdf to images: ['/tmp/tmp26syzvmx/page_1.jpg', '/tmp/tmp26syzvmx/page_2.jpg']\n",
      "Experiment 0: Processing file 20131009_VisitBritain_Walsh, Carl_Short-Form.pdf\n"
     ]
    },
    {
     "name": "stderr",
     "output_type": "stream",
     "text": [
      "2024-08-09 10:18:35,093 - INFO - Converted and resized image saved to /tmp/tmpo9x_e2hw/page_1.jpg with final quality 85\n"
     ]
    },
    {
     "name": "stdout",
     "output_type": "stream",
     "text": [
      "Converted and resized image saved to /tmp/tmpo9x_e2hw/page_1.jpg with final quality 85\n"
     ]
    },
    {
     "name": "stderr",
     "output_type": "stream",
     "text": [
      "2024-08-09 10:18:35,392 - INFO - Converted and resized image saved to /tmp/tmpo9x_e2hw/page_2.jpg with final quality 85\n",
      "2024-08-09 10:18:35,393 - INFO - Converted PDF /tmp/tmpo9x_e2hw/20131009_VisitBritain_Walsh, Carl_Short-Form.pdf to images: ['/tmp/tmpo9x_e2hw/page_1.jpg', '/tmp/tmpo9x_e2hw/page_2.jpg']\n",
      "2024-08-09 10:18:35,406 - INFO - Experiment 0: Processing file 20090408_Arab Information Center_Sherif, Walid Mahmoud Sayed Ahmed_Short-Form.pdf\n"
     ]
    },
    {
     "name": "stdout",
     "output_type": "stream",
     "text": [
      "Converted and resized image saved to /tmp/tmpo9x_e2hw/page_2.jpg with final quality 85\n",
      "Converted PDF /tmp/tmpo9x_e2hw/20131009_VisitBritain_Walsh, Carl_Short-Form.pdf to images: ['/tmp/tmpo9x_e2hw/page_1.jpg', '/tmp/tmpo9x_e2hw/page_2.jpg']\n",
      "Experiment 0: Processing file 20090408_Arab Information Center_Sherif, Walid Mahmoud Sayed Ahmed_Short-Form.pdf\n"
     ]
    },
    {
     "name": "stderr",
     "output_type": "stream",
     "text": [
      "2024-08-09 10:18:36,076 - INFO - Converted and resized image saved to /tmp/tmp4nx5d7ak/page_1.jpg with final quality 85\n"
     ]
    },
    {
     "name": "stdout",
     "output_type": "stream",
     "text": [
      "Converted and resized image saved to /tmp/tmp4nx5d7ak/page_1.jpg with final quality 85\n"
     ]
    },
    {
     "name": "stderr",
     "output_type": "stream",
     "text": [
      "2024-08-09 10:18:36,400 - INFO - Converted and resized image saved to /tmp/tmp4nx5d7ak/page_2.jpg with final quality 85\n",
      "2024-08-09 10:18:36,401 - INFO - Converted PDF /tmp/tmp4nx5d7ak/20090408_Arab Information Center_Sherif, Walid Mahmoud Sayed Ahmed_Short-Form.pdf to images: ['/tmp/tmp4nx5d7ak/page_1.jpg', '/tmp/tmp4nx5d7ak/page_2.jpg']\n",
      "2024-08-09 10:18:36,414 - INFO - Experiment 0: Processing file 20170130_Burson-Marsteller, LLC (Washington, DC)_Pruitt, David_Short-Form.pdf\n"
     ]
    },
    {
     "name": "stdout",
     "output_type": "stream",
     "text": [
      "Converted and resized image saved to /tmp/tmp4nx5d7ak/page_2.jpg with final quality 85\n",
      "Converted PDF /tmp/tmp4nx5d7ak/20090408_Arab Information Center_Sherif, Walid Mahmoud Sayed Ahmed_Short-Form.pdf to images: ['/tmp/tmp4nx5d7ak/page_1.jpg', '/tmp/tmp4nx5d7ak/page_2.jpg']\n",
      "Experiment 0: Processing file 20170130_Burson-Marsteller, LLC (Washington, DC)_Pruitt, David_Short-Form.pdf\n"
     ]
    },
    {
     "name": "stderr",
     "output_type": "stream",
     "text": [
      "2024-08-09 10:18:37,094 - INFO - Converted and resized image saved to /tmp/tmprcktv1r2/page_1.jpg with final quality 85\n"
     ]
    },
    {
     "name": "stdout",
     "output_type": "stream",
     "text": [
      "Converted and resized image saved to /tmp/tmprcktv1r2/page_1.jpg with final quality 85\n"
     ]
    },
    {
     "name": "stderr",
     "output_type": "stream",
     "text": [
      "2024-08-09 10:18:37,384 - INFO - Converted and resized image saved to /tmp/tmprcktv1r2/page_2.jpg with final quality 85\n",
      "2024-08-09 10:18:37,385 - INFO - Converted PDF /tmp/tmprcktv1r2/20170130_Burson-Marsteller, LLC (Washington, DC)_Pruitt, David_Short-Form.pdf to images: ['/tmp/tmprcktv1r2/page_1.jpg', '/tmp/tmprcktv1r2/page_2.jpg']\n",
      "2024-08-09 10:18:37,398 - INFO - Experiment 0: Processing file 20140418_Sorini, Samet _ Associates, LLC_Kingery, John_Short-Form.pdf\n"
     ]
    },
    {
     "name": "stdout",
     "output_type": "stream",
     "text": [
      "Converted and resized image saved to /tmp/tmprcktv1r2/page_2.jpg with final quality 85\n",
      "Converted PDF /tmp/tmprcktv1r2/20170130_Burson-Marsteller, LLC (Washington, DC)_Pruitt, David_Short-Form.pdf to images: ['/tmp/tmprcktv1r2/page_1.jpg', '/tmp/tmprcktv1r2/page_2.jpg']\n",
      "Experiment 0: Processing file 20140418_Sorini, Samet _ Associates, LLC_Kingery, John_Short-Form.pdf\n"
     ]
    },
    {
     "name": "stderr",
     "output_type": "stream",
     "text": [
      "2024-08-09 10:18:38,098 - INFO - Converted and resized image saved to /tmp/tmpddlgddky/page_1.jpg with final quality 85\n"
     ]
    },
    {
     "name": "stdout",
     "output_type": "stream",
     "text": [
      "Converted and resized image saved to /tmp/tmpddlgddky/page_1.jpg with final quality 85\n"
     ]
    },
    {
     "name": "stderr",
     "output_type": "stream",
     "text": [
      "2024-08-09 10:18:38,418 - INFO - Converted and resized image saved to /tmp/tmpddlgddky/page_2.jpg with final quality 85\n",
      "2024-08-09 10:18:38,420 - INFO - Converted PDF /tmp/tmpddlgddky/20140418_Sorini, Samet _ Associates, LLC_Kingery, John_Short-Form.pdf to images: ['/tmp/tmpddlgddky/page_1.jpg', '/tmp/tmpddlgddky/page_2.jpg']\n",
      "2024-08-09 10:18:38,432 - INFO - Experiment 0: Processing file 20170228_BGR Government Affairs, LLC_Vajdich, Daniel_Short-Form.pdf\n"
     ]
    },
    {
     "name": "stdout",
     "output_type": "stream",
     "text": [
      "Converted and resized image saved to /tmp/tmpddlgddky/page_2.jpg with final quality 85\n",
      "Converted PDF /tmp/tmpddlgddky/20140418_Sorini, Samet _ Associates, LLC_Kingery, John_Short-Form.pdf to images: ['/tmp/tmpddlgddky/page_1.jpg', '/tmp/tmpddlgddky/page_2.jpg']\n",
      "Experiment 0: Processing file 20170228_BGR Government Affairs, LLC_Vajdich, Daniel_Short-Form.pdf\n"
     ]
    },
    {
     "name": "stderr",
     "output_type": "stream",
     "text": [
      "2024-08-09 10:18:39,119 - INFO - Converted and resized image saved to /tmp/tmpdg3a145m/page_1.jpg with final quality 85\n"
     ]
    },
    {
     "name": "stdout",
     "output_type": "stream",
     "text": [
      "Converted and resized image saved to /tmp/tmpdg3a145m/page_1.jpg with final quality 85\n"
     ]
    },
    {
     "name": "stderr",
     "output_type": "stream",
     "text": [
      "2024-08-09 10:18:39,428 - INFO - Converted and resized image saved to /tmp/tmpdg3a145m/page_2.jpg with final quality 85\n",
      "2024-08-09 10:18:39,430 - INFO - Converted PDF /tmp/tmpdg3a145m/20170228_BGR Government Affairs, LLC_Vajdich, Daniel_Short-Form.pdf to images: ['/tmp/tmpdg3a145m/page_1.jpg', '/tmp/tmpdg3a145m/page_2.jpg']\n",
      "2024-08-09 10:18:39,443 - INFO - Experiment 0: Processing file 20090414_LeClairRyan, A Professional Corporation_Williams, Krystal J._Short-Form.pdf\n"
     ]
    },
    {
     "name": "stdout",
     "output_type": "stream",
     "text": [
      "Converted and resized image saved to /tmp/tmpdg3a145m/page_2.jpg with final quality 85\n",
      "Converted PDF /tmp/tmpdg3a145m/20170228_BGR Government Affairs, LLC_Vajdich, Daniel_Short-Form.pdf to images: ['/tmp/tmpdg3a145m/page_1.jpg', '/tmp/tmpdg3a145m/page_2.jpg']\n",
      "Experiment 0: Processing file 20090414_LeClairRyan, A Professional Corporation_Williams, Krystal J._Short-Form.pdf\n"
     ]
    },
    {
     "name": "stderr",
     "output_type": "stream",
     "text": [
      "2024-08-09 10:18:40,122 - INFO - Converted and resized image saved to /tmp/tmpwgkp6p7q/page_1.jpg with final quality 85\n"
     ]
    },
    {
     "name": "stdout",
     "output_type": "stream",
     "text": [
      "Converted and resized image saved to /tmp/tmpwgkp6p7q/page_1.jpg with final quality 85\n"
     ]
    },
    {
     "name": "stderr",
     "output_type": "stream",
     "text": [
      "2024-08-09 10:18:40,436 - INFO - Converted and resized image saved to /tmp/tmpwgkp6p7q/page_2.jpg with final quality 85\n",
      "2024-08-09 10:18:40,438 - INFO - Converted PDF /tmp/tmpwgkp6p7q/20090414_LeClairRyan, A Professional Corporation_Williams, Krystal J._Short-Form.pdf to images: ['/tmp/tmpwgkp6p7q/page_1.jpg', '/tmp/tmpwgkp6p7q/page_2.jpg']\n",
      "2024-08-09 10:18:40,451 - INFO - Experiment 0: Processing file 20110210_Korea National Tourism Organization, New Jersey_Kim, Jeongah_Short-Form.pdf\n"
     ]
    },
    {
     "name": "stdout",
     "output_type": "stream",
     "text": [
      "Converted and resized image saved to /tmp/tmpwgkp6p7q/page_2.jpg with final quality 85\n",
      "Converted PDF /tmp/tmpwgkp6p7q/20090414_LeClairRyan, A Professional Corporation_Williams, Krystal J._Short-Form.pdf to images: ['/tmp/tmpwgkp6p7q/page_1.jpg', '/tmp/tmpwgkp6p7q/page_2.jpg']\n",
      "Experiment 0: Processing file 20110210_Korea National Tourism Organization, New Jersey_Kim, Jeongah_Short-Form.pdf\n"
     ]
    },
    {
     "name": "stderr",
     "output_type": "stream",
     "text": [
      "2024-08-09 10:18:41,142 - INFO - Converted and resized image saved to /tmp/tmpdcgp_1d1/page_1.jpg with final quality 85\n"
     ]
    },
    {
     "name": "stdout",
     "output_type": "stream",
     "text": [
      "Converted and resized image saved to /tmp/tmpdcgp_1d1/page_1.jpg with final quality 85\n"
     ]
    },
    {
     "name": "stderr",
     "output_type": "stream",
     "text": [
      "2024-08-09 10:18:41,450 - INFO - Converted and resized image saved to /tmp/tmpdcgp_1d1/page_2.jpg with final quality 85\n",
      "2024-08-09 10:18:41,452 - INFO - Converted PDF /tmp/tmpdcgp_1d1/20110210_Korea National Tourism Organization, New Jersey_Kim, Jeongah_Short-Form.pdf to images: ['/tmp/tmpdcgp_1d1/page_1.jpg', '/tmp/tmpdcgp_1d1/page_2.jpg']\n",
      "2024-08-09 10:18:41,464 - INFO - Experiment 0: Processing file 20090409_Daniel J. Edelman, Inc._Segall, Jules Peter_Short-Form.pdf\n"
     ]
    },
    {
     "name": "stdout",
     "output_type": "stream",
     "text": [
      "Converted and resized image saved to /tmp/tmpdcgp_1d1/page_2.jpg with final quality 85\n",
      "Converted PDF /tmp/tmpdcgp_1d1/20110210_Korea National Tourism Organization, New Jersey_Kim, Jeongah_Short-Form.pdf to images: ['/tmp/tmpdcgp_1d1/page_1.jpg', '/tmp/tmpdcgp_1d1/page_2.jpg']\n",
      "Experiment 0: Processing file 20090409_Daniel J. Edelman, Inc._Segall, Jules Peter_Short-Form.pdf\n"
     ]
    },
    {
     "name": "stderr",
     "output_type": "stream",
     "text": [
      "2024-08-09 10:18:42,138 - INFO - Converted and resized image saved to /tmp/tmp5pbenl9e/page_1.jpg with final quality 85\n"
     ]
    },
    {
     "name": "stdout",
     "output_type": "stream",
     "text": [
      "Converted and resized image saved to /tmp/tmp5pbenl9e/page_1.jpg with final quality 85\n"
     ]
    },
    {
     "name": "stderr",
     "output_type": "stream",
     "text": [
      "2024-08-09 10:18:42,429 - INFO - Converted and resized image saved to /tmp/tmp5pbenl9e/page_2.jpg with final quality 85\n",
      "2024-08-09 10:18:42,430 - INFO - Converted PDF /tmp/tmp5pbenl9e/20090409_Daniel J. Edelman, Inc._Segall, Jules Peter_Short-Form.pdf to images: ['/tmp/tmp5pbenl9e/page_1.jpg', '/tmp/tmp5pbenl9e/page_2.jpg']\n",
      "2024-08-09 10:18:42,442 - INFO - Experiment 0: Processing file 20170130_Burson-Marsteller, LLC (Washington, DC)_Thompson, Randi_Short-Form.pdf\n"
     ]
    },
    {
     "name": "stdout",
     "output_type": "stream",
     "text": [
      "Converted and resized image saved to /tmp/tmp5pbenl9e/page_2.jpg with final quality 85\n",
      "Converted PDF /tmp/tmp5pbenl9e/20090409_Daniel J. Edelman, Inc._Segall, Jules Peter_Short-Form.pdf to images: ['/tmp/tmp5pbenl9e/page_1.jpg', '/tmp/tmp5pbenl9e/page_2.jpg']\n",
      "Experiment 0: Processing file 20170130_Burson-Marsteller, LLC (Washington, DC)_Thompson, Randi_Short-Form.pdf\n"
     ]
    },
    {
     "name": "stderr",
     "output_type": "stream",
     "text": [
      "2024-08-09 10:18:43,230 - INFO - Converted and resized image saved to /tmp/tmp0tlfgn57/page_1.jpg with final quality 85\n"
     ]
    },
    {
     "name": "stdout",
     "output_type": "stream",
     "text": [
      "Converted and resized image saved to /tmp/tmp0tlfgn57/page_1.jpg with final quality 85\n"
     ]
    },
    {
     "name": "stderr",
     "output_type": "stream",
     "text": [
      "2024-08-09 10:18:43,627 - INFO - Converted and resized image saved to /tmp/tmp0tlfgn57/page_2.jpg with final quality 85\n",
      "2024-08-09 10:18:43,628 - INFO - Converted PDF /tmp/tmp0tlfgn57/20170130_Burson-Marsteller, LLC (Washington, DC)_Thompson, Randi_Short-Form.pdf to images: ['/tmp/tmp0tlfgn57/page_1.jpg', '/tmp/tmp0tlfgn57/page_2.jpg']\n",
      "2024-08-09 10:18:43,648 - INFO - Experiment 0: Processing file 20130513_Commonwealth of Dominica Maritime Registry, Inc._Ottaviano, Pasquale Diego_Short-Form.pdf\n"
     ]
    },
    {
     "name": "stdout",
     "output_type": "stream",
     "text": [
      "Converted and resized image saved to /tmp/tmp0tlfgn57/page_2.jpg with final quality 85\n",
      "Converted PDF /tmp/tmp0tlfgn57/20170130_Burson-Marsteller, LLC (Washington, DC)_Thompson, Randi_Short-Form.pdf to images: ['/tmp/tmp0tlfgn57/page_1.jpg', '/tmp/tmp0tlfgn57/page_2.jpg']\n",
      "Experiment 0: Processing file 20130513_Commonwealth of Dominica Maritime Registry, Inc._Ottaviano, Pasquale Diego_Short-Form.pdf\n"
     ]
    },
    {
     "name": "stderr",
     "output_type": "stream",
     "text": [
      "2024-08-09 10:18:44,437 - INFO - Converted and resized image saved to /tmp/tmpps1mwgdp/page_1.jpg with final quality 85\n"
     ]
    },
    {
     "name": "stdout",
     "output_type": "stream",
     "text": [
      "Converted and resized image saved to /tmp/tmpps1mwgdp/page_1.jpg with final quality 85\n"
     ]
    },
    {
     "name": "stderr",
     "output_type": "stream",
     "text": [
      "2024-08-09 10:18:44,779 - INFO - Converted and resized image saved to /tmp/tmpps1mwgdp/page_2.jpg with final quality 85\n",
      "2024-08-09 10:18:44,780 - INFO - Converted PDF /tmp/tmpps1mwgdp/20130513_Commonwealth of Dominica Maritime Registry, Inc._Ottaviano, Pasquale Diego_Short-Form.pdf to images: ['/tmp/tmpps1mwgdp/page_1.jpg', '/tmp/tmpps1mwgdp/page_2.jpg']\n",
      "2024-08-09 10:18:44,793 - INFO - Experiment 0: Processing file 20110805_Squire Patton Boggs, LLP_Nardotti, Michael J. Jr._Short-Form.pdf\n"
     ]
    },
    {
     "name": "stdout",
     "output_type": "stream",
     "text": [
      "Converted and resized image saved to /tmp/tmpps1mwgdp/page_2.jpg with final quality 85\n",
      "Converted PDF /tmp/tmpps1mwgdp/20130513_Commonwealth of Dominica Maritime Registry, Inc._Ottaviano, Pasquale Diego_Short-Form.pdf to images: ['/tmp/tmpps1mwgdp/page_1.jpg', '/tmp/tmpps1mwgdp/page_2.jpg']\n",
      "Experiment 0: Processing file 20110805_Squire Patton Boggs, LLP_Nardotti, Michael J. Jr._Short-Form.pdf\n"
     ]
    },
    {
     "name": "stderr",
     "output_type": "stream",
     "text": [
      "2024-08-09 10:18:45,487 - INFO - Converted and resized image saved to /tmp/tmppi_7gbr0/page_1.jpg with final quality 85\n"
     ]
    },
    {
     "name": "stdout",
     "output_type": "stream",
     "text": [
      "Converted and resized image saved to /tmp/tmppi_7gbr0/page_1.jpg with final quality 85\n"
     ]
    },
    {
     "name": "stderr",
     "output_type": "stream",
     "text": [
      "2024-08-09 10:18:45,800 - INFO - Converted and resized image saved to /tmp/tmppi_7gbr0/page_2.jpg with final quality 85\n",
      "2024-08-09 10:18:45,801 - INFO - Converted PDF /tmp/tmppi_7gbr0/20110805_Squire Patton Boggs, LLP_Nardotti, Michael J. Jr._Short-Form.pdf to images: ['/tmp/tmppi_7gbr0/page_1.jpg', '/tmp/tmppi_7gbr0/page_2.jpg']\n",
      "2024-08-09 10:18:45,814 - INFO - Experiment 0: Processing file 20140812_Greenberg Traurig, LLP_Wynn, Albert R._Short-Form.pdf\n"
     ]
    },
    {
     "name": "stdout",
     "output_type": "stream",
     "text": [
      "Converted and resized image saved to /tmp/tmppi_7gbr0/page_2.jpg with final quality 85\n",
      "Converted PDF /tmp/tmppi_7gbr0/20110805_Squire Patton Boggs, LLP_Nardotti, Michael J. Jr._Short-Form.pdf to images: ['/tmp/tmppi_7gbr0/page_1.jpg', '/tmp/tmppi_7gbr0/page_2.jpg']\n",
      "Experiment 0: Processing file 20140812_Greenberg Traurig, LLP_Wynn, Albert R._Short-Form.pdf\n"
     ]
    },
    {
     "name": "stderr",
     "output_type": "stream",
     "text": [
      "2024-08-09 10:18:46,496 - INFO - Converted and resized image saved to /tmp/tmpv8yxgh38/page_1.jpg with final quality 85\n"
     ]
    },
    {
     "name": "stdout",
     "output_type": "stream",
     "text": [
      "Converted and resized image saved to /tmp/tmpv8yxgh38/page_1.jpg with final quality 85\n"
     ]
    },
    {
     "name": "stderr",
     "output_type": "stream",
     "text": [
      "2024-08-09 10:18:46,801 - INFO - Converted and resized image saved to /tmp/tmpv8yxgh38/page_2.jpg with final quality 85\n",
      "2024-08-09 10:18:46,802 - INFO - Converted PDF /tmp/tmpv8yxgh38/20140812_Greenberg Traurig, LLP_Wynn, Albert R._Short-Form.pdf to images: ['/tmp/tmpv8yxgh38/page_1.jpg', '/tmp/tmpv8yxgh38/page_2.jpg']\n",
      "2024-08-09 10:18:46,815 - INFO - Experiment 0: Processing file 20110929_DLA Piper US LLP_Schwanke, Beth_Short-Form.pdf\n"
     ]
    },
    {
     "name": "stdout",
     "output_type": "stream",
     "text": [
      "Converted and resized image saved to /tmp/tmpv8yxgh38/page_2.jpg with final quality 85\n",
      "Converted PDF /tmp/tmpv8yxgh38/20140812_Greenberg Traurig, LLP_Wynn, Albert R._Short-Form.pdf to images: ['/tmp/tmpv8yxgh38/page_1.jpg', '/tmp/tmpv8yxgh38/page_2.jpg']\n",
      "Experiment 0: Processing file 20110929_DLA Piper US LLP_Schwanke, Beth_Short-Form.pdf\n"
     ]
    },
    {
     "name": "stderr",
     "output_type": "stream",
     "text": [
      "2024-08-09 10:18:47,665 - INFO - Converted and resized image saved to /tmp/tmp_qsrdkqe/page_1.jpg with final quality 85\n"
     ]
    },
    {
     "name": "stdout",
     "output_type": "stream",
     "text": [
      "Converted and resized image saved to /tmp/tmp_qsrdkqe/page_1.jpg with final quality 85\n"
     ]
    },
    {
     "name": "stderr",
     "output_type": "stream",
     "text": [
      "2024-08-09 10:18:47,967 - INFO - Converted and resized image saved to /tmp/tmp_qsrdkqe/page_2.jpg with final quality 85\n"
     ]
    },
    {
     "name": "stdout",
     "output_type": "stream",
     "text": [
      "Converted and resized image saved to /tmp/tmp_qsrdkqe/page_2.jpg with final quality 85\n"
     ]
    },
    {
     "name": "stderr",
     "output_type": "stream",
     "text": [
      "2024-08-09 10:18:48,267 - INFO - Converted and resized image saved to /tmp/tmp_qsrdkqe/page_3.jpg with final quality 85\n",
      "2024-08-09 10:18:48,269 - INFO - Converted PDF /tmp/tmp_qsrdkqe/20110929_DLA Piper US LLP_Schwanke, Beth_Short-Form.pdf to images: ['/tmp/tmp_qsrdkqe/page_1.jpg', '/tmp/tmp_qsrdkqe/page_2.jpg', '/tmp/tmp_qsrdkqe/page_3.jpg']\n",
      "2024-08-09 10:18:48,283 - INFO - Experiment 0: Processing file 20171103_Dentons US LLP_Goldberg, Gary_Short-Form.pdf\n"
     ]
    },
    {
     "name": "stdout",
     "output_type": "stream",
     "text": [
      "Converted and resized image saved to /tmp/tmp_qsrdkqe/page_3.jpg with final quality 85\n",
      "Converted PDF /tmp/tmp_qsrdkqe/20110929_DLA Piper US LLP_Schwanke, Beth_Short-Form.pdf to images: ['/tmp/tmp_qsrdkqe/page_1.jpg', '/tmp/tmp_qsrdkqe/page_2.jpg', '/tmp/tmp_qsrdkqe/page_3.jpg']\n",
      "Experiment 0: Processing file 20171103_Dentons US LLP_Goldberg, Gary_Short-Form.pdf\n"
     ]
    },
    {
     "name": "stderr",
     "output_type": "stream",
     "text": [
      "2024-08-09 10:18:48,971 - INFO - Converted and resized image saved to /tmp/tmp562gg1nx/page_1.jpg with final quality 85\n"
     ]
    },
    {
     "name": "stdout",
     "output_type": "stream",
     "text": [
      "Converted and resized image saved to /tmp/tmp562gg1nx/page_1.jpg with final quality 85\n"
     ]
    },
    {
     "name": "stderr",
     "output_type": "stream",
     "text": [
      "2024-08-09 10:18:49,290 - INFO - Converted and resized image saved to /tmp/tmp562gg1nx/page_2.jpg with final quality 85\n",
      "2024-08-09 10:18:49,291 - INFO - Converted PDF /tmp/tmp562gg1nx/20171103_Dentons US LLP_Goldberg, Gary_Short-Form.pdf to images: ['/tmp/tmp562gg1nx/page_1.jpg', '/tmp/tmp562gg1nx/page_2.jpg']\n",
      "2024-08-09 10:18:49,304 - INFO - Experiment 0: Processing file 20110913_MSLGROUP Americas, Inc._Dealey, Sam_Short-Form.pdf\n"
     ]
    },
    {
     "name": "stdout",
     "output_type": "stream",
     "text": [
      "Converted and resized image saved to /tmp/tmp562gg1nx/page_2.jpg with final quality 85\n",
      "Converted PDF /tmp/tmp562gg1nx/20171103_Dentons US LLP_Goldberg, Gary_Short-Form.pdf to images: ['/tmp/tmp562gg1nx/page_1.jpg', '/tmp/tmp562gg1nx/page_2.jpg']\n",
      "Experiment 0: Processing file 20110913_MSLGROUP Americas, Inc._Dealey, Sam_Short-Form.pdf\n"
     ]
    },
    {
     "name": "stderr",
     "output_type": "stream",
     "text": [
      "2024-08-09 10:18:50,050 - INFO - Converted and resized image saved to /tmp/tmpxr5qi0nk/page_1.jpg with final quality 85\n"
     ]
    },
    {
     "name": "stdout",
     "output_type": "stream",
     "text": [
      "Converted and resized image saved to /tmp/tmpxr5qi0nk/page_1.jpg with final quality 85\n"
     ]
    },
    {
     "name": "stderr",
     "output_type": "stream",
     "text": [
      "2024-08-09 10:18:50,386 - INFO - Converted and resized image saved to /tmp/tmpxr5qi0nk/page_2.jpg with final quality 85\n",
      "2024-08-09 10:18:50,387 - INFO - Converted PDF /tmp/tmpxr5qi0nk/20110913_MSLGROUP Americas, Inc._Dealey, Sam_Short-Form.pdf to images: ['/tmp/tmpxr5qi0nk/page_1.jpg', '/tmp/tmpxr5qi0nk/page_2.jpg']\n",
      "2024-08-09 10:18:50,403 - INFO - Experiment 0: Processing file 20100820_South African Tourism_Jacobberger, Dean_Short-Form.pdf\n"
     ]
    },
    {
     "name": "stdout",
     "output_type": "stream",
     "text": [
      "Converted and resized image saved to /tmp/tmpxr5qi0nk/page_2.jpg with final quality 85\n",
      "Converted PDF /tmp/tmpxr5qi0nk/20110913_MSLGROUP Americas, Inc._Dealey, Sam_Short-Form.pdf to images: ['/tmp/tmpxr5qi0nk/page_1.jpg', '/tmp/tmpxr5qi0nk/page_2.jpg']\n",
      "Experiment 0: Processing file 20100820_South African Tourism_Jacobberger, Dean_Short-Form.pdf\n"
     ]
    },
    {
     "name": "stderr",
     "output_type": "stream",
     "text": [
      "2024-08-09 10:18:51,210 - INFO - Converted and resized image saved to /tmp/tmpf7rg_14e/page_1.jpg with final quality 85\n"
     ]
    },
    {
     "name": "stdout",
     "output_type": "stream",
     "text": [
      "Converted and resized image saved to /tmp/tmpf7rg_14e/page_1.jpg with final quality 85\n"
     ]
    },
    {
     "name": "stderr",
     "output_type": "stream",
     "text": [
      "2024-08-09 10:18:51,492 - INFO - Converted and resized image saved to /tmp/tmpf7rg_14e/page_2.jpg with final quality 85\n"
     ]
    },
    {
     "name": "stdout",
     "output_type": "stream",
     "text": [
      "Converted and resized image saved to /tmp/tmpf7rg_14e/page_2.jpg with final quality 85\n"
     ]
    },
    {
     "name": "stderr",
     "output_type": "stream",
     "text": [
      "2024-08-09 10:18:51,788 - INFO - Converted and resized image saved to /tmp/tmpf7rg_14e/page_3.jpg with final quality 85\n",
      "2024-08-09 10:18:51,790 - INFO - Converted PDF /tmp/tmpf7rg_14e/20100820_South African Tourism_Jacobberger, Dean_Short-Form.pdf to images: ['/tmp/tmpf7rg_14e/page_1.jpg', '/tmp/tmpf7rg_14e/page_2.jpg', '/tmp/tmpf7rg_14e/page_3.jpg']\n",
      "2024-08-09 10:18:51,804 - INFO - Experiment 0: Processing file 20170313_Alston _ Bird, LLP_Jones, Robert C._Short-Form.pdf\n"
     ]
    },
    {
     "name": "stdout",
     "output_type": "stream",
     "text": [
      "Converted and resized image saved to /tmp/tmpf7rg_14e/page_3.jpg with final quality 85\n",
      "Converted PDF /tmp/tmpf7rg_14e/20100820_South African Tourism_Jacobberger, Dean_Short-Form.pdf to images: ['/tmp/tmpf7rg_14e/page_1.jpg', '/tmp/tmpf7rg_14e/page_2.jpg', '/tmp/tmpf7rg_14e/page_3.jpg']\n",
      "Experiment 0: Processing file 20170313_Alston _ Bird, LLP_Jones, Robert C._Short-Form.pdf\n"
     ]
    },
    {
     "name": "stderr",
     "output_type": "stream",
     "text": [
      "2024-08-09 10:18:52,468 - INFO - Converted and resized image saved to /tmp/tmppifbvo3a/page_1.jpg with final quality 85\n"
     ]
    },
    {
     "name": "stdout",
     "output_type": "stream",
     "text": [
      "Converted and resized image saved to /tmp/tmppifbvo3a/page_1.jpg with final quality 85\n"
     ]
    },
    {
     "name": "stderr",
     "output_type": "stream",
     "text": [
      "2024-08-09 10:18:52,770 - INFO - Converted and resized image saved to /tmp/tmppifbvo3a/page_2.jpg with final quality 85\n",
      "2024-08-09 10:18:52,771 - INFO - Converted PDF /tmp/tmppifbvo3a/20170313_Alston _ Bird, LLP_Jones, Robert C._Short-Form.pdf to images: ['/tmp/tmppifbvo3a/page_1.jpg', '/tmp/tmppifbvo3a/page_2.jpg']\n",
      "2024-08-09 10:18:52,785 - INFO - Experiment 0: Processing file 20110628_KBS America, Inc._Noh, Ji Young_Short-Form.pdf\n"
     ]
    },
    {
     "name": "stdout",
     "output_type": "stream",
     "text": [
      "Converted and resized image saved to /tmp/tmppifbvo3a/page_2.jpg with final quality 85\n",
      "Converted PDF /tmp/tmppifbvo3a/20170313_Alston _ Bird, LLP_Jones, Robert C._Short-Form.pdf to images: ['/tmp/tmppifbvo3a/page_1.jpg', '/tmp/tmppifbvo3a/page_2.jpg']\n",
      "Experiment 0: Processing file 20110628_KBS America, Inc._Noh, Ji Young_Short-Form.pdf\n"
     ]
    },
    {
     "name": "stderr",
     "output_type": "stream",
     "text": [
      "2024-08-09 10:18:53,475 - INFO - Converted and resized image saved to /tmp/tmpk7z81020/page_1.jpg with final quality 85\n"
     ]
    },
    {
     "name": "stdout",
     "output_type": "stream",
     "text": [
      "Converted and resized image saved to /tmp/tmpk7z81020/page_1.jpg with final quality 85\n"
     ]
    },
    {
     "name": "stderr",
     "output_type": "stream",
     "text": [
      "2024-08-09 10:18:53,772 - INFO - Converted and resized image saved to /tmp/tmpk7z81020/page_2.jpg with final quality 85\n",
      "2024-08-09 10:18:53,773 - INFO - Converted PDF /tmp/tmpk7z81020/20110628_KBS America, Inc._Noh, Ji Young_Short-Form.pdf to images: ['/tmp/tmpk7z81020/page_1.jpg', '/tmp/tmpk7z81020/page_2.jpg']\n",
      "2024-08-09 10:18:53,786 - INFO - Experiment 0: Processing file 20160506_MSLGROUP Americas, Inc._Kurapovna, Marcia Christoff_Short-Form.pdf\n"
     ]
    },
    {
     "name": "stdout",
     "output_type": "stream",
     "text": [
      "Converted and resized image saved to /tmp/tmpk7z81020/page_2.jpg with final quality 85\n",
      "Converted PDF /tmp/tmpk7z81020/20110628_KBS America, Inc._Noh, Ji Young_Short-Form.pdf to images: ['/tmp/tmpk7z81020/page_1.jpg', '/tmp/tmpk7z81020/page_2.jpg']\n",
      "Experiment 0: Processing file 20160506_MSLGROUP Americas, Inc._Kurapovna, Marcia Christoff_Short-Form.pdf\n"
     ]
    },
    {
     "name": "stderr",
     "output_type": "stream",
     "text": [
      "2024-08-09 10:18:54,494 - INFO - Converted and resized image saved to /tmp/tmpzwnexsw2/page_1.jpg with final quality 85\n"
     ]
    },
    {
     "name": "stdout",
     "output_type": "stream",
     "text": [
      "Converted and resized image saved to /tmp/tmpzwnexsw2/page_1.jpg with final quality 85\n"
     ]
    },
    {
     "name": "stderr",
     "output_type": "stream",
     "text": [
      "2024-08-09 10:18:54,825 - INFO - Converted and resized image saved to /tmp/tmpzwnexsw2/page_2.jpg with final quality 85\n",
      "2024-08-09 10:18:54,827 - INFO - Converted PDF /tmp/tmpzwnexsw2/20160506_MSLGROUP Americas, Inc._Kurapovna, Marcia Christoff_Short-Form.pdf to images: ['/tmp/tmpzwnexsw2/page_1.jpg', '/tmp/tmpzwnexsw2/page_2.jpg']\n",
      "2024-08-09 10:18:54,840 - INFO - Experiment 0: Processing file 20160601_Manatos _ Manatos_Manatos, Emanuel A. _Mike__Short-Form.pdf\n"
     ]
    },
    {
     "name": "stdout",
     "output_type": "stream",
     "text": [
      "Converted and resized image saved to /tmp/tmpzwnexsw2/page_2.jpg with final quality 85\n",
      "Converted PDF /tmp/tmpzwnexsw2/20160506_MSLGROUP Americas, Inc._Kurapovna, Marcia Christoff_Short-Form.pdf to images: ['/tmp/tmpzwnexsw2/page_1.jpg', '/tmp/tmpzwnexsw2/page_2.jpg']\n",
      "Experiment 0: Processing file 20160601_Manatos _ Manatos_Manatos, Emanuel A. _Mike__Short-Form.pdf\n"
     ]
    },
    {
     "name": "stderr",
     "output_type": "stream",
     "text": [
      "2024-08-09 10:18:55,558 - INFO - Converted and resized image saved to /tmp/tmprm2vul46/page_1.jpg with final quality 85\n"
     ]
    },
    {
     "name": "stdout",
     "output_type": "stream",
     "text": [
      "Converted and resized image saved to /tmp/tmprm2vul46/page_1.jpg with final quality 85\n"
     ]
    },
    {
     "name": "stderr",
     "output_type": "stream",
     "text": [
      "2024-08-09 10:18:55,886 - INFO - Converted and resized image saved to /tmp/tmprm2vul46/page_2.jpg with final quality 85\n",
      "2024-08-09 10:18:55,888 - INFO - Converted PDF /tmp/tmprm2vul46/20160601_Manatos _ Manatos_Manatos, Emanuel A. _Mike__Short-Form.pdf to images: ['/tmp/tmprm2vul46/page_1.jpg', '/tmp/tmprm2vul46/page_2.jpg']\n",
      "2024-08-09 10:18:55,901 - INFO - Experiment 0: Processing file 20100909_Gephardt Group Government Affairs, LLC_Messmer, Michael_Short-Form.pdf\n"
     ]
    },
    {
     "name": "stdout",
     "output_type": "stream",
     "text": [
      "Converted and resized image saved to /tmp/tmprm2vul46/page_2.jpg with final quality 85\n",
      "Converted PDF /tmp/tmprm2vul46/20160601_Manatos _ Manatos_Manatos, Emanuel A. _Mike__Short-Form.pdf to images: ['/tmp/tmprm2vul46/page_1.jpg', '/tmp/tmprm2vul46/page_2.jpg']\n",
      "Experiment 0: Processing file 20100909_Gephardt Group Government Affairs, LLC_Messmer, Michael_Short-Form.pdf\n"
     ]
    },
    {
     "name": "stderr",
     "output_type": "stream",
     "text": [
      "2024-08-09 10:18:56,563 - INFO - Converted and resized image saved to /tmp/tmpfw8iwikp/page_1.jpg with final quality 85\n"
     ]
    },
    {
     "name": "stdout",
     "output_type": "stream",
     "text": [
      "Converted and resized image saved to /tmp/tmpfw8iwikp/page_1.jpg with final quality 85\n"
     ]
    },
    {
     "name": "stderr",
     "output_type": "stream",
     "text": [
      "2024-08-09 10:18:56,849 - INFO - Converted and resized image saved to /tmp/tmpfw8iwikp/page_2.jpg with final quality 85\n",
      "2024-08-09 10:18:56,850 - INFO - Converted PDF /tmp/tmpfw8iwikp/20100909_Gephardt Group Government Affairs, LLC_Messmer, Michael_Short-Form.pdf to images: ['/tmp/tmpfw8iwikp/page_1.jpg', '/tmp/tmpfw8iwikp/page_2.jpg']\n",
      "2024-08-09 10:18:56,862 - INFO - Experiment 0: Processing file 20170112_Podesta Group, Inc._Thompson, Dana_Short-Form.pdf\n"
     ]
    },
    {
     "name": "stdout",
     "output_type": "stream",
     "text": [
      "Converted and resized image saved to /tmp/tmpfw8iwikp/page_2.jpg with final quality 85\n",
      "Converted PDF /tmp/tmpfw8iwikp/20100909_Gephardt Group Government Affairs, LLC_Messmer, Michael_Short-Form.pdf to images: ['/tmp/tmpfw8iwikp/page_1.jpg', '/tmp/tmpfw8iwikp/page_2.jpg']\n",
      "Experiment 0: Processing file 20170112_Podesta Group, Inc._Thompson, Dana_Short-Form.pdf\n"
     ]
    },
    {
     "name": "stderr",
     "output_type": "stream",
     "text": [
      "2024-08-09 10:18:57,622 - INFO - Converted and resized image saved to /tmp/tmp458xxn4o/page_1.jpg with final quality 85\n"
     ]
    },
    {
     "name": "stdout",
     "output_type": "stream",
     "text": [
      "Converted and resized image saved to /tmp/tmp458xxn4o/page_1.jpg with final quality 85\n"
     ]
    },
    {
     "name": "stderr",
     "output_type": "stream",
     "text": [
      "2024-08-09 10:18:57,986 - INFO - Converted and resized image saved to /tmp/tmp458xxn4o/page_2.jpg with final quality 85\n",
      "2024-08-09 10:18:57,987 - INFO - Converted PDF /tmp/tmp458xxn4o/20170112_Podesta Group, Inc._Thompson, Dana_Short-Form.pdf to images: ['/tmp/tmp458xxn4o/page_1.jpg', '/tmp/tmp458xxn4o/page_2.jpg']\n",
      "2024-08-09 10:18:58,005 - INFO - Preparing to run experiment ID 1\n",
      "2024-08-09 10:18:58,006 - INFO - Starting experiment with ID 1\n",
      "2024-08-09 10:18:58,008 - INFO - Processing template type: Amendment\n",
      "2024-08-09 10:18:58,008 - INFO - Experiment 1: Processing file 19790101_Representative of the Turkish Republic of Northern Cyprus_Amendment_Amendment.pdf\n"
     ]
    },
    {
     "name": "stdout",
     "output_type": "stream",
     "text": [
      "Converted and resized image saved to /tmp/tmp458xxn4o/page_2.jpg with final quality 85\n",
      "Converted PDF /tmp/tmp458xxn4o/20170112_Podesta Group, Inc._Thompson, Dana_Short-Form.pdf to images: ['/tmp/tmp458xxn4o/page_1.jpg', '/tmp/tmp458xxn4o/page_2.jpg']\n",
      "Experiment completed successfully.\n",
      "Testing Experiment 1 with params: (40, {'level_type': 'STL'}, 1)\n",
      "Preparing to run experiment ID 1\n",
      "Starting experiment with ID 1\n",
      "s---------------Template type:  Amendment\n",
      "s---------------Level type:  STL\n",
      "Experiment 1: Processing file 19790101_Representative of the Turkish Republic of Northern Cyprus_Amendment_Amendment.pdf\n"
     ]
    },
    {
     "name": "stderr",
     "output_type": "stream",
     "text": [
      "2024-08-09 10:18:58,779 - INFO - Converted and resized image saved to /tmp/tmpffu2tqsz/page_1.jpg with final quality 85\n"
     ]
    },
    {
     "name": "stdout",
     "output_type": "stream",
     "text": [
      "Converted and resized image saved to /tmp/tmpffu2tqsz/page_1.jpg with final quality 85\n"
     ]
    },
    {
     "name": "stderr",
     "output_type": "stream",
     "text": [
      "2024-08-09 10:18:59,097 - INFO - Converted and resized image saved to /tmp/tmpffu2tqsz/page_2.jpg with final quality 85\n",
      "2024-08-09 10:18:59,098 - INFO - Converted PDF /tmp/tmpffu2tqsz/19790101_Representative of the Turkish Republic of Northern Cyprus_Amendment_Amendment.pdf to images: ['/tmp/tmpffu2tqsz/page_1.jpg', '/tmp/tmpffu2tqsz/page_2.jpg']\n",
      "2024-08-09 10:18:59,109 - INFO - Experiment 1: Processing file 20090930_Garvey, Schubert _ Barer_Amendment_Amendment.pdf\n"
     ]
    },
    {
     "name": "stdout",
     "output_type": "stream",
     "text": [
      "Converted and resized image saved to /tmp/tmpffu2tqsz/page_2.jpg with final quality 85\n",
      "Converted PDF /tmp/tmpffu2tqsz/19790101_Representative of the Turkish Republic of Northern Cyprus_Amendment_Amendment.pdf to images: ['/tmp/tmpffu2tqsz/page_1.jpg', '/tmp/tmpffu2tqsz/page_2.jpg']\n",
      "Experiment 1: Processing file 20090930_Garvey, Schubert _ Barer_Amendment_Amendment.pdf\n"
     ]
    },
    {
     "name": "stderr",
     "output_type": "stream",
     "text": [
      "2024-08-09 10:18:59,750 - INFO - Converted and resized image saved to /tmp/tmpvbmvz3b1/page_1.jpg with final quality 85\n"
     ]
    },
    {
     "name": "stdout",
     "output_type": "stream",
     "text": [
      "Converted and resized image saved to /tmp/tmpvbmvz3b1/page_1.jpg with final quality 85\n"
     ]
    },
    {
     "name": "stderr",
     "output_type": "stream",
     "text": [
      "2024-08-09 10:19:00,021 - INFO - Converted and resized image saved to /tmp/tmpvbmvz3b1/page_2.jpg with final quality 85\n",
      "2024-08-09 10:19:00,022 - INFO - Converted PDF /tmp/tmpvbmvz3b1/20090930_Garvey, Schubert _ Barer_Amendment_Amendment.pdf to images: ['/tmp/tmpvbmvz3b1/page_1.jpg', '/tmp/tmpvbmvz3b1/page_2.jpg']\n",
      "2024-08-09 10:19:00,033 - INFO - Experiment 1: Processing file 19770101_Representative of the Turkish Republic of Northern Cyprus_Amendment_Amendment.pdf\n"
     ]
    },
    {
     "name": "stdout",
     "output_type": "stream",
     "text": [
      "Converted and resized image saved to /tmp/tmpvbmvz3b1/page_2.jpg with final quality 85\n",
      "Converted PDF /tmp/tmpvbmvz3b1/20090930_Garvey, Schubert _ Barer_Amendment_Amendment.pdf to images: ['/tmp/tmpvbmvz3b1/page_1.jpg', '/tmp/tmpvbmvz3b1/page_2.jpg']\n",
      "Experiment 1: Processing file 19770101_Representative of the Turkish Republic of Northern Cyprus_Amendment_Amendment.pdf\n"
     ]
    },
    {
     "name": "stderr",
     "output_type": "stream",
     "text": [
      "2024-08-09 10:19:00,822 - INFO - Converted and resized image saved to /tmp/tmpkg70_nq3/page_1.jpg with final quality 85\n"
     ]
    },
    {
     "name": "stdout",
     "output_type": "stream",
     "text": [
      "Converted and resized image saved to /tmp/tmpkg70_nq3/page_1.jpg with final quality 85\n"
     ]
    },
    {
     "name": "stderr",
     "output_type": "stream",
     "text": [
      "2024-08-09 10:19:01,182 - INFO - Converted and resized image saved to /tmp/tmpkg70_nq3/page_2.jpg with final quality 85\n",
      "2024-08-09 10:19:01,183 - INFO - Converted PDF /tmp/tmpkg70_nq3/19770101_Representative of the Turkish Republic of Northern Cyprus_Amendment_Amendment.pdf to images: ['/tmp/tmpkg70_nq3/page_1.jpg', '/tmp/tmpkg70_nq3/page_2.jpg']\n",
      "2024-08-09 10:19:01,193 - INFO - Experiment 1: Processing file 19830401_Bermuda Tourism Authority_Amendment_Amendment.pdf\n"
     ]
    },
    {
     "name": "stdout",
     "output_type": "stream",
     "text": [
      "Converted and resized image saved to /tmp/tmpkg70_nq3/page_2.jpg with final quality 85\n",
      "Converted PDF /tmp/tmpkg70_nq3/19770101_Representative of the Turkish Republic of Northern Cyprus_Amendment_Amendment.pdf to images: ['/tmp/tmpkg70_nq3/page_1.jpg', '/tmp/tmpkg70_nq3/page_2.jpg']\n",
      "Experiment 1: Processing file 19830401_Bermuda Tourism Authority_Amendment_Amendment.pdf\n"
     ]
    },
    {
     "name": "stderr",
     "output_type": "stream",
     "text": [
      "2024-08-09 10:19:01,795 - INFO - Converted and resized image saved to /tmp/tmp0g7tqvjr/page_1.jpg with final quality 85\n",
      "2024-08-09 10:19:01,796 - INFO - Converted PDF /tmp/tmp0g7tqvjr/19830401_Bermuda Tourism Authority_Amendment_Amendment.pdf to images: ['/tmp/tmp0g7tqvjr/page_1.jpg']\n",
      "2024-08-09 10:19:01,805 - INFO - Experiment 1: Processing file 20120604_Squire Patton Boggs, LLP_Amendment_Amendment.pdf\n"
     ]
    },
    {
     "name": "stdout",
     "output_type": "stream",
     "text": [
      "Converted and resized image saved to /tmp/tmp0g7tqvjr/page_1.jpg with final quality 85\n",
      "Converted PDF /tmp/tmp0g7tqvjr/19830401_Bermuda Tourism Authority_Amendment_Amendment.pdf to images: ['/tmp/tmp0g7tqvjr/page_1.jpg']\n",
      "Experiment 1: Processing file 20120604_Squire Patton Boggs, LLP_Amendment_Amendment.pdf\n"
     ]
    },
    {
     "name": "stderr",
     "output_type": "stream",
     "text": [
      "2024-08-09 10:19:02,500 - INFO - Converted and resized image saved to /tmp/tmpr_j2vhmd/page_1.jpg with final quality 85\n"
     ]
    },
    {
     "name": "stdout",
     "output_type": "stream",
     "text": [
      "Converted and resized image saved to /tmp/tmpr_j2vhmd/page_1.jpg with final quality 85\n"
     ]
    },
    {
     "name": "stderr",
     "output_type": "stream",
     "text": [
      "2024-08-09 10:19:02,812 - INFO - Converted and resized image saved to /tmp/tmpr_j2vhmd/page_2.jpg with final quality 85\n",
      "2024-08-09 10:19:02,814 - INFO - Converted PDF /tmp/tmpr_j2vhmd/20120604_Squire Patton Boggs, LLP_Amendment_Amendment.pdf to images: ['/tmp/tmpr_j2vhmd/page_1.jpg', '/tmp/tmpr_j2vhmd/page_2.jpg']\n",
      "2024-08-09 10:19:02,826 - INFO - Experiment 1: Processing file 20140813_Fratelli Group_Amendment_Amendment.pdf\n"
     ]
    },
    {
     "name": "stdout",
     "output_type": "stream",
     "text": [
      "Converted and resized image saved to /tmp/tmpr_j2vhmd/page_2.jpg with final quality 85\n",
      "Converted PDF /tmp/tmpr_j2vhmd/20120604_Squire Patton Boggs, LLP_Amendment_Amendment.pdf to images: ['/tmp/tmpr_j2vhmd/page_1.jpg', '/tmp/tmpr_j2vhmd/page_2.jpg']\n",
      "Experiment 1: Processing file 20140813_Fratelli Group_Amendment_Amendment.pdf\n"
     ]
    },
    {
     "name": "stderr",
     "output_type": "stream",
     "text": [
      "2024-08-09 10:19:03,509 - INFO - Converted and resized image saved to /tmp/tmpm2g5ym8x/page_1.jpg with final quality 85\n"
     ]
    },
    {
     "name": "stdout",
     "output_type": "stream",
     "text": [
      "Converted and resized image saved to /tmp/tmpm2g5ym8x/page_1.jpg with final quality 85\n"
     ]
    },
    {
     "name": "stderr",
     "output_type": "stream",
     "text": [
      "2024-08-09 10:19:03,809 - INFO - Converted and resized image saved to /tmp/tmpm2g5ym8x/page_2.jpg with final quality 85\n",
      "2024-08-09 10:19:03,810 - INFO - Converted PDF /tmp/tmpm2g5ym8x/20140813_Fratelli Group_Amendment_Amendment.pdf to images: ['/tmp/tmpm2g5ym8x/page_1.jpg', '/tmp/tmpm2g5ym8x/page_2.jpg']\n",
      "2024-08-09 10:19:03,822 - INFO - Experiment 1: Processing file 19901201_CMGRP, Inc._Amendment_Amendment.pdf\n"
     ]
    },
    {
     "name": "stdout",
     "output_type": "stream",
     "text": [
      "Converted and resized image saved to /tmp/tmpm2g5ym8x/page_2.jpg with final quality 85\n",
      "Converted PDF /tmp/tmpm2g5ym8x/20140813_Fratelli Group_Amendment_Amendment.pdf to images: ['/tmp/tmpm2g5ym8x/page_1.jpg', '/tmp/tmpm2g5ym8x/page_2.jpg']\n",
      "Experiment 1: Processing file 19901201_CMGRP, Inc._Amendment_Amendment.pdf\n"
     ]
    },
    {
     "name": "stderr",
     "output_type": "stream",
     "text": [
      "2024-08-09 10:19:04,454 - INFO - Converted and resized image saved to /tmp/tmpc1ctfut9/page_1.jpg with final quality 85\n"
     ]
    },
    {
     "name": "stdout",
     "output_type": "stream",
     "text": [
      "Converted and resized image saved to /tmp/tmpc1ctfut9/page_1.jpg with final quality 85\n"
     ]
    },
    {
     "name": "stderr",
     "output_type": "stream",
     "text": [
      "2024-08-09 10:19:04,708 - INFO - Converted and resized image saved to /tmp/tmpc1ctfut9/page_2.jpg with final quality 85\n",
      "2024-08-09 10:19:04,709 - INFO - Converted PDF /tmp/tmpc1ctfut9/19901201_CMGRP, Inc._Amendment_Amendment.pdf to images: ['/tmp/tmpc1ctfut9/page_1.jpg', '/tmp/tmpc1ctfut9/page_2.jpg']\n",
      "2024-08-09 10:19:04,720 - INFO - Experiment 1: Processing file 20170224_Alston _ Bird, LLP_Amendment_Amendment.pdf\n"
     ]
    },
    {
     "name": "stdout",
     "output_type": "stream",
     "text": [
      "Converted and resized image saved to /tmp/tmpc1ctfut9/page_2.jpg with final quality 85\n",
      "Converted PDF /tmp/tmpc1ctfut9/19901201_CMGRP, Inc._Amendment_Amendment.pdf to images: ['/tmp/tmpc1ctfut9/page_1.jpg', '/tmp/tmpc1ctfut9/page_2.jpg']\n",
      "Experiment 1: Processing file 20170224_Alston _ Bird, LLP_Amendment_Amendment.pdf\n"
     ]
    },
    {
     "name": "stderr",
     "output_type": "stream",
     "text": [
      "2024-08-09 10:19:05,386 - INFO - Converted and resized image saved to /tmp/tmpbezr_vq2/page_1.jpg with final quality 85\n"
     ]
    },
    {
     "name": "stdout",
     "output_type": "stream",
     "text": [
      "Converted and resized image saved to /tmp/tmpbezr_vq2/page_1.jpg with final quality 85\n"
     ]
    },
    {
     "name": "stderr",
     "output_type": "stream",
     "text": [
      "2024-08-09 10:19:05,671 - INFO - Converted and resized image saved to /tmp/tmpbezr_vq2/page_2.jpg with final quality 85\n",
      "2024-08-09 10:19:05,673 - INFO - Converted PDF /tmp/tmpbezr_vq2/20170224_Alston _ Bird, LLP_Amendment_Amendment.pdf to images: ['/tmp/tmpbezr_vq2/page_1.jpg', '/tmp/tmpbezr_vq2/page_2.jpg']\n",
      "2024-08-09 10:19:05,684 - INFO - Experiment 1: Processing file 19850801_St. Lucia Tourist Board_Amendment_Amendment.pdf\n"
     ]
    },
    {
     "name": "stdout",
     "output_type": "stream",
     "text": [
      "Converted and resized image saved to /tmp/tmpbezr_vq2/page_2.jpg with final quality 85\n",
      "Converted PDF /tmp/tmpbezr_vq2/20170224_Alston _ Bird, LLP_Amendment_Amendment.pdf to images: ['/tmp/tmpbezr_vq2/page_1.jpg', '/tmp/tmpbezr_vq2/page_2.jpg']\n",
      "Experiment 1: Processing file 19850801_St. Lucia Tourist Board_Amendment_Amendment.pdf\n"
     ]
    },
    {
     "name": "stderr",
     "output_type": "stream",
     "text": [
      "2024-08-09 10:19:06,284 - INFO - Converted and resized image saved to /tmp/tmpy9fkl8li/page_1.jpg with final quality 85\n"
     ]
    },
    {
     "name": "stdout",
     "output_type": "stream",
     "text": [
      "Converted and resized image saved to /tmp/tmpy9fkl8li/page_1.jpg with final quality 85\n"
     ]
    },
    {
     "name": "stderr",
     "output_type": "stream",
     "text": [
      "2024-08-09 10:19:06,548 - INFO - Converted and resized image saved to /tmp/tmpy9fkl8li/page_2.jpg with final quality 85\n",
      "2024-08-09 10:19:06,549 - INFO - Converted PDF /tmp/tmpy9fkl8li/19850801_St. Lucia Tourist Board_Amendment_Amendment.pdf to images: ['/tmp/tmpy9fkl8li/page_1.jpg', '/tmp/tmpy9fkl8li/page_2.jpg']\n",
      "2024-08-09 10:19:06,559 - INFO - Experiment 1: Processing file 20131127_Independent Diplomat, Inc._Amendment_Amendment.pdf\n"
     ]
    },
    {
     "name": "stdout",
     "output_type": "stream",
     "text": [
      "Converted and resized image saved to /tmp/tmpy9fkl8li/page_2.jpg with final quality 85\n",
      "Converted PDF /tmp/tmpy9fkl8li/19850801_St. Lucia Tourist Board_Amendment_Amendment.pdf to images: ['/tmp/tmpy9fkl8li/page_1.jpg', '/tmp/tmpy9fkl8li/page_2.jpg']\n",
      "Experiment 1: Processing file 20131127_Independent Diplomat, Inc._Amendment_Amendment.pdf\n"
     ]
    },
    {
     "name": "stderr",
     "output_type": "stream",
     "text": [
      "2024-08-09 10:19:07,236 - INFO - Converted and resized image saved to /tmp/tmpj4wg5awr/page_1.jpg with final quality 85\n"
     ]
    },
    {
     "name": "stdout",
     "output_type": "stream",
     "text": [
      "Converted and resized image saved to /tmp/tmpj4wg5awr/page_1.jpg with final quality 85\n"
     ]
    },
    {
     "name": "stderr",
     "output_type": "stream",
     "text": [
      "2024-08-09 10:19:07,509 - INFO - Converted and resized image saved to /tmp/tmpj4wg5awr/page_2.jpg with final quality 85\n",
      "2024-08-09 10:19:07,510 - INFO - Converted PDF /tmp/tmpj4wg5awr/20131127_Independent Diplomat, Inc._Amendment_Amendment.pdf to images: ['/tmp/tmpj4wg5awr/page_1.jpg', '/tmp/tmpj4wg5awr/page_2.jpg']\n",
      "2024-08-09 10:19:07,521 - INFO - Experiment 1: Processing file 20180430_Public Strategies Washington, Inc._Amendment_Amendment.pdf\n"
     ]
    },
    {
     "name": "stdout",
     "output_type": "stream",
     "text": [
      "Converted and resized image saved to /tmp/tmpj4wg5awr/page_2.jpg with final quality 85\n",
      "Converted PDF /tmp/tmpj4wg5awr/20131127_Independent Diplomat, Inc._Amendment_Amendment.pdf to images: ['/tmp/tmpj4wg5awr/page_1.jpg', '/tmp/tmpj4wg5awr/page_2.jpg']\n",
      "Experiment 1: Processing file 20180430_Public Strategies Washington, Inc._Amendment_Amendment.pdf\n"
     ]
    },
    {
     "name": "stderr",
     "output_type": "stream",
     "text": [
      "2024-08-09 10:19:08,229 - INFO - Converted and resized image saved to /tmp/tmp69fldxa2/page_1.jpg with final quality 85\n"
     ]
    },
    {
     "name": "stdout",
     "output_type": "stream",
     "text": [
      "Converted and resized image saved to /tmp/tmp69fldxa2/page_1.jpg with final quality 85\n"
     ]
    },
    {
     "name": "stderr",
     "output_type": "stream",
     "text": [
      "2024-08-09 10:19:08,497 - INFO - Converted and resized image saved to /tmp/tmp69fldxa2/page_2.jpg with final quality 85\n",
      "2024-08-09 10:19:08,498 - INFO - Converted PDF /tmp/tmp69fldxa2/20180430_Public Strategies Washington, Inc._Amendment_Amendment.pdf to images: ['/tmp/tmp69fldxa2/page_1.jpg', '/tmp/tmp69fldxa2/page_2.jpg']\n",
      "2024-08-09 10:19:08,510 - INFO - Experiment 1: Processing file 20130815_Squire Patton Boggs, LLP_Amendment_Amendment.pdf\n"
     ]
    },
    {
     "name": "stdout",
     "output_type": "stream",
     "text": [
      "Converted and resized image saved to /tmp/tmp69fldxa2/page_2.jpg with final quality 85\n",
      "Converted PDF /tmp/tmp69fldxa2/20180430_Public Strategies Washington, Inc._Amendment_Amendment.pdf to images: ['/tmp/tmp69fldxa2/page_1.jpg', '/tmp/tmp69fldxa2/page_2.jpg']\n",
      "Experiment 1: Processing file 20130815_Squire Patton Boggs, LLP_Amendment_Amendment.pdf\n"
     ]
    },
    {
     "name": "stderr",
     "output_type": "stream",
     "text": [
      "2024-08-09 10:19:09,227 - INFO - Converted and resized image saved to /tmp/tmpv29zv6qm/page_1.jpg with final quality 85\n"
     ]
    },
    {
     "name": "stdout",
     "output_type": "stream",
     "text": [
      "Converted and resized image saved to /tmp/tmpv29zv6qm/page_1.jpg with final quality 85\n"
     ]
    },
    {
     "name": "stderr",
     "output_type": "stream",
     "text": [
      "2024-08-09 10:19:09,503 - INFO - Converted and resized image saved to /tmp/tmpv29zv6qm/page_2.jpg with final quality 85\n",
      "2024-08-09 10:19:09,504 - INFO - Converted PDF /tmp/tmpv29zv6qm/20130815_Squire Patton Boggs, LLP_Amendment_Amendment.pdf to images: ['/tmp/tmpv29zv6qm/page_1.jpg', '/tmp/tmpv29zv6qm/page_2.jpg']\n",
      "2024-08-09 10:19:09,516 - INFO - Experiment 1: Processing file 20180124_Nickles Group, LLC_Amendment_Amendment.pdf\n"
     ]
    },
    {
     "name": "stdout",
     "output_type": "stream",
     "text": [
      "Converted and resized image saved to /tmp/tmpv29zv6qm/page_2.jpg with final quality 85\n",
      "Converted PDF /tmp/tmpv29zv6qm/20130815_Squire Patton Boggs, LLP_Amendment_Amendment.pdf to images: ['/tmp/tmpv29zv6qm/page_1.jpg', '/tmp/tmpv29zv6qm/page_2.jpg']\n",
      "Experiment 1: Processing file 20180124_Nickles Group, LLC_Amendment_Amendment.pdf\n"
     ]
    },
    {
     "name": "stderr",
     "output_type": "stream",
     "text": [
      "2024-08-09 10:19:10,252 - INFO - Converted and resized image saved to /tmp/tmpoyb3kzkj/page_1.jpg with final quality 85\n"
     ]
    },
    {
     "name": "stdout",
     "output_type": "stream",
     "text": [
      "Converted and resized image saved to /tmp/tmpoyb3kzkj/page_1.jpg with final quality 85\n"
     ]
    },
    {
     "name": "stderr",
     "output_type": "stream",
     "text": [
      "2024-08-09 10:19:10,521 - INFO - Converted and resized image saved to /tmp/tmpoyb3kzkj/page_2.jpg with final quality 85\n",
      "2024-08-09 10:19:10,522 - INFO - Converted PDF /tmp/tmpoyb3kzkj/20180124_Nickles Group, LLC_Amendment_Amendment.pdf to images: ['/tmp/tmpoyb3kzkj/page_1.jpg', '/tmp/tmpoyb3kzkj/page_2.jpg']\n",
      "2024-08-09 10:19:10,533 - INFO - Experiment 1: Processing file 19760201_Italian Government Tourist Board (ENIT), Los Angeles_Amendment_Amendment.pdf\n"
     ]
    },
    {
     "name": "stdout",
     "output_type": "stream",
     "text": [
      "Converted and resized image saved to /tmp/tmpoyb3kzkj/page_2.jpg with final quality 85\n",
      "Converted PDF /tmp/tmpoyb3kzkj/20180124_Nickles Group, LLC_Amendment_Amendment.pdf to images: ['/tmp/tmpoyb3kzkj/page_1.jpg', '/tmp/tmpoyb3kzkj/page_2.jpg']\n",
      "Experiment 1: Processing file 19760201_Italian Government Tourist Board (ENIT), Los Angeles_Amendment_Amendment.pdf\n"
     ]
    },
    {
     "name": "stderr",
     "output_type": "stream",
     "text": [
      "2024-08-09 10:19:11,342 - INFO - Converted and resized image saved to /tmp/tmpgajmdiwe/page_1.jpg with final quality 85\n"
     ]
    },
    {
     "name": "stdout",
     "output_type": "stream",
     "text": [
      "Converted and resized image saved to /tmp/tmpgajmdiwe/page_1.jpg with final quality 85\n"
     ]
    },
    {
     "name": "stderr",
     "output_type": "stream",
     "text": [
      "2024-08-09 10:19:11,658 - INFO - Converted and resized image saved to /tmp/tmpgajmdiwe/page_2.jpg with final quality 85\n"
     ]
    },
    {
     "name": "stdout",
     "output_type": "stream",
     "text": [
      "Converted and resized image saved to /tmp/tmpgajmdiwe/page_2.jpg with final quality 85\n"
     ]
    },
    {
     "name": "stderr",
     "output_type": "stream",
     "text": [
      "2024-08-09 10:19:11,921 - INFO - Converted and resized image saved to /tmp/tmpgajmdiwe/page_3.jpg with final quality 85\n",
      "2024-08-09 10:19:11,923 - INFO - Converted PDF /tmp/tmpgajmdiwe/19760201_Italian Government Tourist Board (ENIT), Los Angeles_Amendment_Amendment.pdf to images: ['/tmp/tmpgajmdiwe/page_1.jpg', '/tmp/tmpgajmdiwe/page_2.jpg', '/tmp/tmpgajmdiwe/page_3.jpg']\n",
      "2024-08-09 10:19:11,936 - INFO - Experiment 1: Processing file 19920201_Sidley Austin, LLP_Amendment_Amendment.pdf\n"
     ]
    },
    {
     "name": "stdout",
     "output_type": "stream",
     "text": [
      "Converted and resized image saved to /tmp/tmpgajmdiwe/page_3.jpg with final quality 85\n",
      "Converted PDF /tmp/tmpgajmdiwe/19760201_Italian Government Tourist Board (ENIT), Los Angeles_Amendment_Amendment.pdf to images: ['/tmp/tmpgajmdiwe/page_1.jpg', '/tmp/tmpgajmdiwe/page_2.jpg', '/tmp/tmpgajmdiwe/page_3.jpg']\n",
      "Experiment 1: Processing file 19920201_Sidley Austin, LLP_Amendment_Amendment.pdf\n"
     ]
    },
    {
     "name": "stderr",
     "output_type": "stream",
     "text": [
      "2024-08-09 10:19:12,578 - INFO - Converted and resized image saved to /tmp/tmpzbpa8dsr/page_1.jpg with final quality 85\n"
     ]
    },
    {
     "name": "stdout",
     "output_type": "stream",
     "text": [
      "Converted and resized image saved to /tmp/tmpzbpa8dsr/page_1.jpg with final quality 85\n"
     ]
    },
    {
     "name": "stderr",
     "output_type": "stream",
     "text": [
      "2024-08-09 10:19:12,840 - INFO - Converted and resized image saved to /tmp/tmpzbpa8dsr/page_2.jpg with final quality 85\n",
      "2024-08-09 10:19:12,841 - INFO - Converted PDF /tmp/tmpzbpa8dsr/19920201_Sidley Austin, LLP_Amendment_Amendment.pdf to images: ['/tmp/tmpzbpa8dsr/page_1.jpg', '/tmp/tmpzbpa8dsr/page_2.jpg']\n",
      "2024-08-09 10:19:12,852 - INFO - Experiment 1: Processing file 20180123_Fleishman-Hillard, Inc._Amendment_Amendment.pdf\n"
     ]
    },
    {
     "name": "stdout",
     "output_type": "stream",
     "text": [
      "Converted and resized image saved to /tmp/tmpzbpa8dsr/page_2.jpg with final quality 85\n",
      "Converted PDF /tmp/tmpzbpa8dsr/19920201_Sidley Austin, LLP_Amendment_Amendment.pdf to images: ['/tmp/tmpzbpa8dsr/page_1.jpg', '/tmp/tmpzbpa8dsr/page_2.jpg']\n",
      "Experiment 1: Processing file 20180123_Fleishman-Hillard, Inc._Amendment_Amendment.pdf\n"
     ]
    },
    {
     "name": "stderr",
     "output_type": "stream",
     "text": [
      "2024-08-09 10:19:13,626 - INFO - Converted and resized image saved to /tmp/tmpllipuori/page_1.jpg with final quality 85\n"
     ]
    },
    {
     "name": "stdout",
     "output_type": "stream",
     "text": [
      "Converted and resized image saved to /tmp/tmpllipuori/page_1.jpg with final quality 85\n"
     ]
    },
    {
     "name": "stderr",
     "output_type": "stream",
     "text": [
      "2024-08-09 10:19:13,887 - INFO - Converted and resized image saved to /tmp/tmpllipuori/page_2.jpg with final quality 85\n",
      "2024-08-09 10:19:13,888 - INFO - Converted PDF /tmp/tmpllipuori/20180123_Fleishman-Hillard, Inc._Amendment_Amendment.pdf to images: ['/tmp/tmpllipuori/page_1.jpg', '/tmp/tmpllipuori/page_2.jpg']\n",
      "2024-08-09 10:19:13,900 - INFO - Experiment 1: Processing file 20150105_Squire Patton Boggs, LLP_Amendment_Amendment.pdf\n"
     ]
    },
    {
     "name": "stdout",
     "output_type": "stream",
     "text": [
      "Converted and resized image saved to /tmp/tmpllipuori/page_2.jpg with final quality 85\n",
      "Converted PDF /tmp/tmpllipuori/20180123_Fleishman-Hillard, Inc._Amendment_Amendment.pdf to images: ['/tmp/tmpllipuori/page_1.jpg', '/tmp/tmpllipuori/page_2.jpg']\n",
      "Experiment 1: Processing file 20150105_Squire Patton Boggs, LLP_Amendment_Amendment.pdf\n"
     ]
    },
    {
     "name": "stderr",
     "output_type": "stream",
     "text": [
      "2024-08-09 10:19:14,544 - INFO - Converted and resized image saved to /tmp/tmpdvy6iyql/page_1.jpg with final quality 85\n"
     ]
    },
    {
     "name": "stdout",
     "output_type": "stream",
     "text": [
      "Converted and resized image saved to /tmp/tmpdvy6iyql/page_1.jpg with final quality 85\n"
     ]
    },
    {
     "name": "stderr",
     "output_type": "stream",
     "text": [
      "2024-08-09 10:19:14,797 - INFO - Converted and resized image saved to /tmp/tmpdvy6iyql/page_2.jpg with final quality 85\n",
      "2024-08-09 10:19:14,799 - INFO - Converted PDF /tmp/tmpdvy6iyql/20150105_Squire Patton Boggs, LLP_Amendment_Amendment.pdf to images: ['/tmp/tmpdvy6iyql/page_1.jpg', '/tmp/tmpdvy6iyql/page_2.jpg']\n",
      "2024-08-09 10:19:14,810 - INFO - Experiment 1: Processing file 20150203_Burson-Marsteller, LLC (Miami Office)_Amendment_Amendment.pdf\n"
     ]
    },
    {
     "name": "stdout",
     "output_type": "stream",
     "text": [
      "Converted and resized image saved to /tmp/tmpdvy6iyql/page_2.jpg with final quality 85\n",
      "Converted PDF /tmp/tmpdvy6iyql/20150105_Squire Patton Boggs, LLP_Amendment_Amendment.pdf to images: ['/tmp/tmpdvy6iyql/page_1.jpg', '/tmp/tmpdvy6iyql/page_2.jpg']\n",
      "Experiment 1: Processing file 20150203_Burson-Marsteller, LLC (Miami Office)_Amendment_Amendment.pdf\n"
     ]
    },
    {
     "name": "stderr",
     "output_type": "stream",
     "text": [
      "2024-08-09 10:19:15,513 - INFO - Converted and resized image saved to /tmp/tmpk0t1znz6/page_1.jpg with final quality 85\n"
     ]
    },
    {
     "name": "stdout",
     "output_type": "stream",
     "text": [
      "Converted and resized image saved to /tmp/tmpk0t1znz6/page_1.jpg with final quality 85\n"
     ]
    },
    {
     "name": "stderr",
     "output_type": "stream",
     "text": [
      "2024-08-09 10:19:15,824 - INFO - Converted and resized image saved to /tmp/tmpk0t1znz6/page_2.jpg with final quality 85\n",
      "2024-08-09 10:19:15,825 - INFO - Converted PDF /tmp/tmpk0t1znz6/20150203_Burson-Marsteller, LLC (Miami Office)_Amendment_Amendment.pdf to images: ['/tmp/tmpk0t1znz6/page_1.jpg', '/tmp/tmpk0t1znz6/page_2.jpg']\n",
      "2024-08-09 10:19:15,838 - INFO - Experiment 1: Processing file 20180105_Hill and Knowlton Strategies, LLC_Amendment_Amendment.pdf\n"
     ]
    },
    {
     "name": "stdout",
     "output_type": "stream",
     "text": [
      "Converted and resized image saved to /tmp/tmpk0t1znz6/page_2.jpg with final quality 85\n",
      "Converted PDF /tmp/tmpk0t1znz6/20150203_Burson-Marsteller, LLC (Miami Office)_Amendment_Amendment.pdf to images: ['/tmp/tmpk0t1znz6/page_1.jpg', '/tmp/tmpk0t1znz6/page_2.jpg']\n",
      "Experiment 1: Processing file 20180105_Hill and Knowlton Strategies, LLC_Amendment_Amendment.pdf\n"
     ]
    },
    {
     "name": "stderr",
     "output_type": "stream",
     "text": [
      "2024-08-09 10:19:16,523 - INFO - Converted and resized image saved to /tmp/tmpnx7nv067/page_1.jpg with final quality 85\n"
     ]
    },
    {
     "name": "stdout",
     "output_type": "stream",
     "text": [
      "Converted and resized image saved to /tmp/tmpnx7nv067/page_1.jpg with final quality 85\n"
     ]
    },
    {
     "name": "stderr",
     "output_type": "stream",
     "text": [
      "2024-08-09 10:19:16,788 - INFO - Converted and resized image saved to /tmp/tmpnx7nv067/page_2.jpg with final quality 85\n",
      "2024-08-09 10:19:16,789 - INFO - Converted PDF /tmp/tmpnx7nv067/20180105_Hill and Knowlton Strategies, LLC_Amendment_Amendment.pdf to images: ['/tmp/tmpnx7nv067/page_1.jpg', '/tmp/tmpnx7nv067/page_2.jpg']\n",
      "2024-08-09 10:19:16,801 - INFO - Experiment 1: Processing file 19961018_DLA Piper US LLP_Amendment_Amendment.pdf\n"
     ]
    },
    {
     "name": "stdout",
     "output_type": "stream",
     "text": [
      "Converted and resized image saved to /tmp/tmpnx7nv067/page_2.jpg with final quality 85\n",
      "Converted PDF /tmp/tmpnx7nv067/20180105_Hill and Knowlton Strategies, LLC_Amendment_Amendment.pdf to images: ['/tmp/tmpnx7nv067/page_1.jpg', '/tmp/tmpnx7nv067/page_2.jpg']\n",
      "Experiment 1: Processing file 19961018_DLA Piper US LLP_Amendment_Amendment.pdf\n"
     ]
    },
    {
     "name": "stderr",
     "output_type": "stream",
     "text": [
      "2024-08-09 10:19:17,554 - INFO - Converted and resized image saved to /tmp/tmpwe7ud7yi/page_1.jpg with final quality 85\n"
     ]
    },
    {
     "name": "stdout",
     "output_type": "stream",
     "text": [
      "Converted and resized image saved to /tmp/tmpwe7ud7yi/page_1.jpg with final quality 85\n"
     ]
    },
    {
     "name": "stderr",
     "output_type": "stream",
     "text": [
      "2024-08-09 10:19:17,804 - INFO - Converted and resized image saved to /tmp/tmpwe7ud7yi/page_2.jpg with final quality 85\n"
     ]
    },
    {
     "name": "stdout",
     "output_type": "stream",
     "text": [
      "Converted and resized image saved to /tmp/tmpwe7ud7yi/page_2.jpg with final quality 85\n"
     ]
    },
    {
     "name": "stderr",
     "output_type": "stream",
     "text": [
      "2024-08-09 10:19:18,061 - INFO - Converted and resized image saved to /tmp/tmpwe7ud7yi/page_3.jpg with final quality 85\n",
      "2024-08-09 10:19:18,062 - INFO - Converted PDF /tmp/tmpwe7ud7yi/19961018_DLA Piper US LLP_Amendment_Amendment.pdf to images: ['/tmp/tmpwe7ud7yi/page_1.jpg', '/tmp/tmpwe7ud7yi/page_2.jpg', '/tmp/tmpwe7ud7yi/page_3.jpg']\n",
      "2024-08-09 10:19:18,075 - INFO - Experiment 1: Processing file 20110527_Monaco Government Tourist Office_Amendment_Amendment.pdf\n"
     ]
    },
    {
     "name": "stdout",
     "output_type": "stream",
     "text": [
      "Converted and resized image saved to /tmp/tmpwe7ud7yi/page_3.jpg with final quality 85\n",
      "Converted PDF /tmp/tmpwe7ud7yi/19961018_DLA Piper US LLP_Amendment_Amendment.pdf to images: ['/tmp/tmpwe7ud7yi/page_1.jpg', '/tmp/tmpwe7ud7yi/page_2.jpg', '/tmp/tmpwe7ud7yi/page_3.jpg']\n",
      "Experiment 1: Processing file 20110527_Monaco Government Tourist Office_Amendment_Amendment.pdf\n"
     ]
    },
    {
     "name": "stderr",
     "output_type": "stream",
     "text": [
      "2024-08-09 10:19:18,745 - INFO - Converted and resized image saved to /tmp/tmpl_r5r21t/page_1.jpg with final quality 85\n"
     ]
    },
    {
     "name": "stdout",
     "output_type": "stream",
     "text": [
      "Converted and resized image saved to /tmp/tmpl_r5r21t/page_1.jpg with final quality 85\n"
     ]
    },
    {
     "name": "stderr",
     "output_type": "stream",
     "text": [
      "2024-08-09 10:19:19,025 - INFO - Converted and resized image saved to /tmp/tmpl_r5r21t/page_2.jpg with final quality 85\n",
      "2024-08-09 10:19:19,027 - INFO - Converted PDF /tmp/tmpl_r5r21t/20110527_Monaco Government Tourist Office_Amendment_Amendment.pdf to images: ['/tmp/tmpl_r5r21t/page_1.jpg', '/tmp/tmpl_r5r21t/page_2.jpg']\n",
      "2024-08-09 10:19:19,038 - INFO - Experiment 1: Processing file 20160406_Rokk Solutions, LLC_Amendment_Amendment.pdf\n"
     ]
    },
    {
     "name": "stdout",
     "output_type": "stream",
     "text": [
      "Converted and resized image saved to /tmp/tmpl_r5r21t/page_2.jpg with final quality 85\n",
      "Converted PDF /tmp/tmpl_r5r21t/20110527_Monaco Government Tourist Office_Amendment_Amendment.pdf to images: ['/tmp/tmpl_r5r21t/page_1.jpg', '/tmp/tmpl_r5r21t/page_2.jpg']\n",
      "Experiment 1: Processing file 20160406_Rokk Solutions, LLC_Amendment_Amendment.pdf\n"
     ]
    },
    {
     "name": "stderr",
     "output_type": "stream",
     "text": [
      "2024-08-09 10:19:19,721 - INFO - Converted and resized image saved to /tmp/tmphg2t1vmp/page_1.jpg with final quality 85\n"
     ]
    },
    {
     "name": "stdout",
     "output_type": "stream",
     "text": [
      "Converted and resized image saved to /tmp/tmphg2t1vmp/page_1.jpg with final quality 85\n"
     ]
    },
    {
     "name": "stderr",
     "output_type": "stream",
     "text": [
      "2024-08-09 10:19:20,012 - INFO - Converted and resized image saved to /tmp/tmphg2t1vmp/page_2.jpg with final quality 85\n",
      "2024-08-09 10:19:20,013 - INFO - Converted PDF /tmp/tmphg2t1vmp/20160406_Rokk Solutions, LLC_Amendment_Amendment.pdf to images: ['/tmp/tmphg2t1vmp/page_1.jpg', '/tmp/tmphg2t1vmp/page_2.jpg']\n",
      "2024-08-09 10:19:20,026 - INFO - Experiment 1: Processing file 19820401_Bermuda Tourism Authority_Amendment_Amendment.pdf\n"
     ]
    },
    {
     "name": "stdout",
     "output_type": "stream",
     "text": [
      "Converted and resized image saved to /tmp/tmphg2t1vmp/page_2.jpg with final quality 85\n",
      "Converted PDF /tmp/tmphg2t1vmp/20160406_Rokk Solutions, LLC_Amendment_Amendment.pdf to images: ['/tmp/tmphg2t1vmp/page_1.jpg', '/tmp/tmphg2t1vmp/page_2.jpg']\n",
      "Experiment 1: Processing file 19820401_Bermuda Tourism Authority_Amendment_Amendment.pdf\n"
     ]
    },
    {
     "name": "stderr",
     "output_type": "stream",
     "text": [
      "2024-08-09 10:19:20,638 - INFO - Converted and resized image saved to /tmp/tmp91wsc_1a/page_1.jpg with final quality 85\n",
      "2024-08-09 10:19:20,639 - INFO - Converted PDF /tmp/tmp91wsc_1a/19820401_Bermuda Tourism Authority_Amendment_Amendment.pdf to images: ['/tmp/tmp91wsc_1a/page_1.jpg']\n",
      "2024-08-09 10:19:20,648 - INFO - Experiment 1: Processing file 20030714_Arnold _ Porter Kaye Scholer, LLP_Amendment_Amendment.pdf\n"
     ]
    },
    {
     "name": "stdout",
     "output_type": "stream",
     "text": [
      "Converted and resized image saved to /tmp/tmp91wsc_1a/page_1.jpg with final quality 85\n",
      "Converted PDF /tmp/tmp91wsc_1a/19820401_Bermuda Tourism Authority_Amendment_Amendment.pdf to images: ['/tmp/tmp91wsc_1a/page_1.jpg']\n",
      "Experiment 1: Processing file 20030714_Arnold _ Porter Kaye Scholer, LLP_Amendment_Amendment.pdf\n"
     ]
    },
    {
     "name": "stderr",
     "output_type": "stream",
     "text": [
      "2024-08-09 10:19:21,310 - INFO - Converted and resized image saved to /tmp/tmpcct8qayq/page_1.jpg with final quality 85\n"
     ]
    },
    {
     "name": "stdout",
     "output_type": "stream",
     "text": [
      "Converted and resized image saved to /tmp/tmpcct8qayq/page_1.jpg with final quality 85\n"
     ]
    },
    {
     "name": "stderr",
     "output_type": "stream",
     "text": [
      "2024-08-09 10:19:21,564 - INFO - Converted and resized image saved to /tmp/tmpcct8qayq/page_2.jpg with final quality 85\n",
      "2024-08-09 10:19:21,565 - INFO - Converted PDF /tmp/tmpcct8qayq/20030714_Arnold _ Porter Kaye Scholer, LLP_Amendment_Amendment.pdf to images: ['/tmp/tmpcct8qayq/page_1.jpg', '/tmp/tmpcct8qayq/page_2.jpg']\n",
      "2024-08-09 10:19:21,576 - INFO - Experiment 1: Processing file 20020611_CMGRP, Inc._Amendment_Amendment.pdf\n"
     ]
    },
    {
     "name": "stdout",
     "output_type": "stream",
     "text": [
      "Converted and resized image saved to /tmp/tmpcct8qayq/page_2.jpg with final quality 85\n",
      "Converted PDF /tmp/tmpcct8qayq/20030714_Arnold _ Porter Kaye Scholer, LLP_Amendment_Amendment.pdf to images: ['/tmp/tmpcct8qayq/page_1.jpg', '/tmp/tmpcct8qayq/page_2.jpg']\n",
      "Experiment 1: Processing file 20020611_CMGRP, Inc._Amendment_Amendment.pdf\n"
     ]
    },
    {
     "name": "stderr",
     "output_type": "stream",
     "text": [
      "2024-08-09 10:19:22,241 - INFO - Converted and resized image saved to /tmp/tmp9j_v6du0/page_1.jpg with final quality 85\n"
     ]
    },
    {
     "name": "stdout",
     "output_type": "stream",
     "text": [
      "Converted and resized image saved to /tmp/tmp9j_v6du0/page_1.jpg with final quality 85\n"
     ]
    },
    {
     "name": "stderr",
     "output_type": "stream",
     "text": [
      "2024-08-09 10:19:22,497 - INFO - Converted and resized image saved to /tmp/tmp9j_v6du0/page_2.jpg with final quality 85\n",
      "2024-08-09 10:19:22,499 - INFO - Converted PDF /tmp/tmp9j_v6du0/20020611_CMGRP, Inc._Amendment_Amendment.pdf to images: ['/tmp/tmp9j_v6du0/page_1.jpg', '/tmp/tmp9j_v6du0/page_2.jpg']\n",
      "2024-08-09 10:19:22,509 - INFO - Experiment 1: Processing file 20010820_Arnold _ Porter Kaye Scholer, LLP_Amendment_Amendment.pdf\n"
     ]
    },
    {
     "name": "stdout",
     "output_type": "stream",
     "text": [
      "Converted and resized image saved to /tmp/tmp9j_v6du0/page_2.jpg with final quality 85\n",
      "Converted PDF /tmp/tmp9j_v6du0/20020611_CMGRP, Inc._Amendment_Amendment.pdf to images: ['/tmp/tmp9j_v6du0/page_1.jpg', '/tmp/tmp9j_v6du0/page_2.jpg']\n",
      "Experiment 1: Processing file 20010820_Arnold _ Porter Kaye Scholer, LLP_Amendment_Amendment.pdf\n"
     ]
    },
    {
     "name": "stderr",
     "output_type": "stream",
     "text": [
      "2024-08-09 10:19:23,178 - INFO - Converted and resized image saved to /tmp/tmpiag4e5z0/page_1.jpg with final quality 85\n"
     ]
    },
    {
     "name": "stdout",
     "output_type": "stream",
     "text": [
      "Converted and resized image saved to /tmp/tmpiag4e5z0/page_1.jpg with final quality 85\n"
     ]
    },
    {
     "name": "stderr",
     "output_type": "stream",
     "text": [
      "2024-08-09 10:19:23,437 - INFO - Converted and resized image saved to /tmp/tmpiag4e5z0/page_2.jpg with final quality 85\n",
      "2024-08-09 10:19:23,438 - INFO - Converted PDF /tmp/tmpiag4e5z0/20010820_Arnold _ Porter Kaye Scholer, LLP_Amendment_Amendment.pdf to images: ['/tmp/tmpiag4e5z0/page_1.jpg', '/tmp/tmpiag4e5z0/page_2.jpg']\n",
      "2024-08-09 10:19:23,449 - INFO - Experiment 1: Processing file 20170815_Pillsbury Winthrop Shaw Pittman, LLP_Amendment_Amendment.pdf\n"
     ]
    },
    {
     "name": "stdout",
     "output_type": "stream",
     "text": [
      "Converted and resized image saved to /tmp/tmpiag4e5z0/page_2.jpg with final quality 85\n",
      "Converted PDF /tmp/tmpiag4e5z0/20010820_Arnold _ Porter Kaye Scholer, LLP_Amendment_Amendment.pdf to images: ['/tmp/tmpiag4e5z0/page_1.jpg', '/tmp/tmpiag4e5z0/page_2.jpg']\n",
      "Experiment 1: Processing file 20170815_Pillsbury Winthrop Shaw Pittman, LLP_Amendment_Amendment.pdf\n"
     ]
    },
    {
     "name": "stderr",
     "output_type": "stream",
     "text": [
      "2024-08-09 10:19:24,100 - INFO - Converted and resized image saved to /tmp/tmpt92ikgek/page_1.jpg with final quality 85\n"
     ]
    },
    {
     "name": "stdout",
     "output_type": "stream",
     "text": [
      "Converted and resized image saved to /tmp/tmpt92ikgek/page_1.jpg with final quality 85\n"
     ]
    },
    {
     "name": "stderr",
     "output_type": "stream",
     "text": [
      "2024-08-09 10:19:24,358 - INFO - Converted and resized image saved to /tmp/tmpt92ikgek/page_2.jpg with final quality 85\n",
      "2024-08-09 10:19:24,359 - INFO - Converted PDF /tmp/tmpt92ikgek/20170815_Pillsbury Winthrop Shaw Pittman, LLP_Amendment_Amendment.pdf to images: ['/tmp/tmpt92ikgek/page_1.jpg', '/tmp/tmpt92ikgek/page_2.jpg']\n",
      "2024-08-09 10:19:24,370 - INFO - Experiment 1: Processing file 20150530_Parvin, C. Landon_Amendment_Amendment.pdf\n"
     ]
    },
    {
     "name": "stdout",
     "output_type": "stream",
     "text": [
      "Converted and resized image saved to /tmp/tmpt92ikgek/page_2.jpg with final quality 85\n",
      "Converted PDF /tmp/tmpt92ikgek/20170815_Pillsbury Winthrop Shaw Pittman, LLP_Amendment_Amendment.pdf to images: ['/tmp/tmpt92ikgek/page_1.jpg', '/tmp/tmpt92ikgek/page_2.jpg']\n",
      "Experiment 1: Processing file 20150530_Parvin, C. Landon_Amendment_Amendment.pdf\n"
     ]
    },
    {
     "name": "stderr",
     "output_type": "stream",
     "text": [
      "2024-08-09 10:19:25,035 - INFO - Converted and resized image saved to /tmp/tmpo0teflcd/page_1.jpg with final quality 85\n"
     ]
    },
    {
     "name": "stdout",
     "output_type": "stream",
     "text": [
      "Converted and resized image saved to /tmp/tmpo0teflcd/page_1.jpg with final quality 85\n"
     ]
    },
    {
     "name": "stderr",
     "output_type": "stream",
     "text": [
      "2024-08-09 10:19:25,336 - INFO - Converted and resized image saved to /tmp/tmpo0teflcd/page_2.jpg with final quality 85\n",
      "2024-08-09 10:19:25,338 - INFO - Converted PDF /tmp/tmpo0teflcd/20150530_Parvin, C. Landon_Amendment_Amendment.pdf to images: ['/tmp/tmpo0teflcd/page_1.jpg', '/tmp/tmpo0teflcd/page_2.jpg']\n",
      "2024-08-09 10:19:25,349 - INFO - Experiment 1: Processing file 20180613_Ballard Partners_Amendment_Amendment.pdf\n"
     ]
    },
    {
     "name": "stdout",
     "output_type": "stream",
     "text": [
      "Converted and resized image saved to /tmp/tmpo0teflcd/page_2.jpg with final quality 85\n",
      "Converted PDF /tmp/tmpo0teflcd/20150530_Parvin, C. Landon_Amendment_Amendment.pdf to images: ['/tmp/tmpo0teflcd/page_1.jpg', '/tmp/tmpo0teflcd/page_2.jpg']\n",
      "Experiment 1: Processing file 20180613_Ballard Partners_Amendment_Amendment.pdf\n"
     ]
    },
    {
     "name": "stderr",
     "output_type": "stream",
     "text": [
      "2024-08-09 10:19:26,094 - INFO - Converted and resized image saved to /tmp/tmpx33jl9ej/page_1.jpg with final quality 85\n"
     ]
    },
    {
     "name": "stdout",
     "output_type": "stream",
     "text": [
      "Converted and resized image saved to /tmp/tmpx33jl9ej/page_1.jpg with final quality 85\n"
     ]
    },
    {
     "name": "stderr",
     "output_type": "stream",
     "text": [
      "2024-08-09 10:19:26,378 - INFO - Converted and resized image saved to /tmp/tmpx33jl9ej/page_2.jpg with final quality 85\n",
      "2024-08-09 10:19:26,379 - INFO - Converted PDF /tmp/tmpx33jl9ej/20180613_Ballard Partners_Amendment_Amendment.pdf to images: ['/tmp/tmpx33jl9ej/page_1.jpg', '/tmp/tmpx33jl9ej/page_2.jpg']\n",
      "2024-08-09 10:19:26,391 - INFO - Experiment 1: Processing file 20120424_Pillsbury Winthrop Shaw Pittman, LLP_Amendment_Amendment.pdf\n"
     ]
    },
    {
     "name": "stdout",
     "output_type": "stream",
     "text": [
      "Converted and resized image saved to /tmp/tmpx33jl9ej/page_2.jpg with final quality 85\n",
      "Converted PDF /tmp/tmpx33jl9ej/20180613_Ballard Partners_Amendment_Amendment.pdf to images: ['/tmp/tmpx33jl9ej/page_1.jpg', '/tmp/tmpx33jl9ej/page_2.jpg']\n",
      "Experiment 1: Processing file 20120424_Pillsbury Winthrop Shaw Pittman, LLP_Amendment_Amendment.pdf\n"
     ]
    },
    {
     "name": "stderr",
     "output_type": "stream",
     "text": [
      "2024-08-09 10:19:27,063 - INFO - Converted and resized image saved to /tmp/tmpk0u5wttx/page_1.jpg with final quality 85\n"
     ]
    },
    {
     "name": "stdout",
     "output_type": "stream",
     "text": [
      "Converted and resized image saved to /tmp/tmpk0u5wttx/page_1.jpg with final quality 85\n"
     ]
    },
    {
     "name": "stderr",
     "output_type": "stream",
     "text": [
      "2024-08-09 10:19:27,339 - INFO - Converted and resized image saved to /tmp/tmpk0u5wttx/page_2.jpg with final quality 85\n",
      "2024-08-09 10:19:27,340 - INFO - Converted PDF /tmp/tmpk0u5wttx/20120424_Pillsbury Winthrop Shaw Pittman, LLP_Amendment_Amendment.pdf to images: ['/tmp/tmpk0u5wttx/page_1.jpg', '/tmp/tmpk0u5wttx/page_2.jpg']\n",
      "2024-08-09 10:19:27,352 - INFO - Experiment 1: Processing file 19710401_Netherlands Board of Tourism and Conventions (NBTC)_Amendment_Amendment.pdf\n"
     ]
    },
    {
     "name": "stdout",
     "output_type": "stream",
     "text": [
      "Converted and resized image saved to /tmp/tmpk0u5wttx/page_2.jpg with final quality 85\n",
      "Converted PDF /tmp/tmpk0u5wttx/20120424_Pillsbury Winthrop Shaw Pittman, LLP_Amendment_Amendment.pdf to images: ['/tmp/tmpk0u5wttx/page_1.jpg', '/tmp/tmpk0u5wttx/page_2.jpg']\n",
      "Experiment 1: Processing file 19710401_Netherlands Board of Tourism and Conventions (NBTC)_Amendment_Amendment.pdf\n"
     ]
    },
    {
     "name": "stderr",
     "output_type": "stream",
     "text": [
      "2024-08-09 10:19:27,952 - INFO - Converted and resized image saved to /tmp/tmpt5u2cvvd/page_1.jpg with final quality 85\n",
      "2024-08-09 10:19:27,953 - INFO - Converted PDF /tmp/tmpt5u2cvvd/19710401_Netherlands Board of Tourism and Conventions (NBTC)_Amendment_Amendment.pdf to images: ['/tmp/tmpt5u2cvvd/page_1.jpg']\n",
      "2024-08-09 10:19:27,960 - INFO - Experiment 1: Processing file 20021204_JWI, LLC_Amendment_Amendment.pdf\n"
     ]
    },
    {
     "name": "stdout",
     "output_type": "stream",
     "text": [
      "Converted and resized image saved to /tmp/tmpt5u2cvvd/page_1.jpg with final quality 85\n",
      "Converted PDF /tmp/tmpt5u2cvvd/19710401_Netherlands Board of Tourism and Conventions (NBTC)_Amendment_Amendment.pdf to images: ['/tmp/tmpt5u2cvvd/page_1.jpg']\n",
      "Experiment 1: Processing file 20021204_JWI, LLC_Amendment_Amendment.pdf\n"
     ]
    },
    {
     "name": "stderr",
     "output_type": "stream",
     "text": [
      "2024-08-09 10:19:28,605 - INFO - Converted and resized image saved to /tmp/tmp2zo7jzpj/page_1.jpg with final quality 85\n"
     ]
    },
    {
     "name": "stdout",
     "output_type": "stream",
     "text": [
      "Converted and resized image saved to /tmp/tmp2zo7jzpj/page_1.jpg with final quality 85\n"
     ]
    },
    {
     "name": "stderr",
     "output_type": "stream",
     "text": [
      "2024-08-09 10:19:28,861 - INFO - Converted and resized image saved to /tmp/tmp2zo7jzpj/page_2.jpg with final quality 85\n",
      "2024-08-09 10:19:28,862 - INFO - Converted PDF /tmp/tmp2zo7jzpj/20021204_JWI, LLC_Amendment_Amendment.pdf to images: ['/tmp/tmp2zo7jzpj/page_1.jpg', '/tmp/tmp2zo7jzpj/page_2.jpg']\n",
      "2024-08-09 10:19:28,873 - INFO - Experiment 1: Processing file 20110103_Representative of the Turkish Republic of Northern Cyprus_Amendment_Amendment.pdf\n"
     ]
    },
    {
     "name": "stdout",
     "output_type": "stream",
     "text": [
      "Converted and resized image saved to /tmp/tmp2zo7jzpj/page_2.jpg with final quality 85\n",
      "Converted PDF /tmp/tmp2zo7jzpj/20021204_JWI, LLC_Amendment_Amendment.pdf to images: ['/tmp/tmp2zo7jzpj/page_1.jpg', '/tmp/tmp2zo7jzpj/page_2.jpg']\n",
      "Experiment 1: Processing file 20110103_Representative of the Turkish Republic of Northern Cyprus_Amendment_Amendment.pdf\n"
     ]
    },
    {
     "name": "stderr",
     "output_type": "stream",
     "text": [
      "2024-08-09 10:19:29,525 - INFO - Converted and resized image saved to /tmp/tmplpde1iha/page_1.jpg with final quality 85\n"
     ]
    },
    {
     "name": "stdout",
     "output_type": "stream",
     "text": [
      "Converted and resized image saved to /tmp/tmplpde1iha/page_1.jpg with final quality 85\n"
     ]
    },
    {
     "name": "stderr",
     "output_type": "stream",
     "text": [
      "2024-08-09 10:19:29,789 - INFO - Converted and resized image saved to /tmp/tmplpde1iha/page_2.jpg with final quality 85\n",
      "2024-08-09 10:19:29,790 - INFO - Converted PDF /tmp/tmplpde1iha/20110103_Representative of the Turkish Republic of Northern Cyprus_Amendment_Amendment.pdf to images: ['/tmp/tmplpde1iha/page_1.jpg', '/tmp/tmplpde1iha/page_2.jpg']\n",
      "2024-08-09 10:19:29,801 - INFO - Experiment 1: Processing file 20171116_Wiley Rein, LLP_Amendment_Amendment.pdf\n"
     ]
    },
    {
     "name": "stdout",
     "output_type": "stream",
     "text": [
      "Converted and resized image saved to /tmp/tmplpde1iha/page_2.jpg with final quality 85\n",
      "Converted PDF /tmp/tmplpde1iha/20110103_Representative of the Turkish Republic of Northern Cyprus_Amendment_Amendment.pdf to images: ['/tmp/tmplpde1iha/page_1.jpg', '/tmp/tmplpde1iha/page_2.jpg']\n",
      "Experiment 1: Processing file 20171116_Wiley Rein, LLP_Amendment_Amendment.pdf\n"
     ]
    },
    {
     "name": "stderr",
     "output_type": "stream",
     "text": [
      "2024-08-09 10:19:30,654 - INFO - Converted and resized image saved to /tmp/tmpcia9cfo6/page_1.jpg with final quality 85\n"
     ]
    },
    {
     "name": "stdout",
     "output_type": "stream",
     "text": [
      "Converted and resized image saved to /tmp/tmpcia9cfo6/page_1.jpg with final quality 85\n"
     ]
    },
    {
     "name": "stderr",
     "output_type": "stream",
     "text": [
      "2024-08-09 10:19:30,922 - INFO - Converted and resized image saved to /tmp/tmpcia9cfo6/page_2.jpg with final quality 85\n"
     ]
    },
    {
     "name": "stdout",
     "output_type": "stream",
     "text": [
      "Converted and resized image saved to /tmp/tmpcia9cfo6/page_2.jpg with final quality 85\n"
     ]
    },
    {
     "name": "stderr",
     "output_type": "stream",
     "text": [
      "2024-08-09 10:19:31,225 - INFO - Converted and resized image saved to /tmp/tmpcia9cfo6/page_3.jpg with final quality 85\n",
      "2024-08-09 10:19:31,227 - INFO - Converted PDF /tmp/tmpcia9cfo6/20171116_Wiley Rein, LLP_Amendment_Amendment.pdf to images: ['/tmp/tmpcia9cfo6/page_1.jpg', '/tmp/tmpcia9cfo6/page_2.jpg', '/tmp/tmpcia9cfo6/page_3.jpg']\n",
      "2024-08-09 10:19:31,243 - INFO - Experiment 1: Processing file 19950929_Hogan Lovells US LLP_Amendment_Amendment.pdf\n"
     ]
    },
    {
     "name": "stdout",
     "output_type": "stream",
     "text": [
      "Converted and resized image saved to /tmp/tmpcia9cfo6/page_3.jpg with final quality 85\n",
      "Converted PDF /tmp/tmpcia9cfo6/20171116_Wiley Rein, LLP_Amendment_Amendment.pdf to images: ['/tmp/tmpcia9cfo6/page_1.jpg', '/tmp/tmpcia9cfo6/page_2.jpg', '/tmp/tmpcia9cfo6/page_3.jpg']\n",
      "Experiment 1: Processing file 19950929_Hogan Lovells US LLP_Amendment_Amendment.pdf\n"
     ]
    },
    {
     "name": "stderr",
     "output_type": "stream",
     "text": [
      "2024-08-09 10:19:31,890 - INFO - Converted and resized image saved to /tmp/tmpw9dbp79j/page_1.jpg with final quality 85\n"
     ]
    },
    {
     "name": "stdout",
     "output_type": "stream",
     "text": [
      "Converted and resized image saved to /tmp/tmpw9dbp79j/page_1.jpg with final quality 85\n"
     ]
    },
    {
     "name": "stderr",
     "output_type": "stream",
     "text": [
      "2024-08-09 10:19:32,143 - INFO - Converted and resized image saved to /tmp/tmpw9dbp79j/page_2.jpg with final quality 85\n",
      "2024-08-09 10:19:32,145 - INFO - Converted PDF /tmp/tmpw9dbp79j/19950929_Hogan Lovells US LLP_Amendment_Amendment.pdf to images: ['/tmp/tmpw9dbp79j/page_1.jpg', '/tmp/tmpw9dbp79j/page_2.jpg']\n",
      "2024-08-09 10:19:32,155 - INFO - Experiment 1: Processing file 20081001_Garvey, Schubert _ Barer_Amendment_Amendment.pdf\n"
     ]
    },
    {
     "name": "stdout",
     "output_type": "stream",
     "text": [
      "Converted and resized image saved to /tmp/tmpw9dbp79j/page_2.jpg with final quality 85\n",
      "Converted PDF /tmp/tmpw9dbp79j/19950929_Hogan Lovells US LLP_Amendment_Amendment.pdf to images: ['/tmp/tmpw9dbp79j/page_1.jpg', '/tmp/tmpw9dbp79j/page_2.jpg']\n",
      "Experiment 1: Processing file 20081001_Garvey, Schubert _ Barer_Amendment_Amendment.pdf\n"
     ]
    },
    {
     "name": "stderr",
     "output_type": "stream",
     "text": [
      "2024-08-09 10:19:32,803 - INFO - Converted and resized image saved to /tmp/tmpvi6bfs1d/page_1.jpg with final quality 85\n"
     ]
    },
    {
     "name": "stdout",
     "output_type": "stream",
     "text": [
      "Converted and resized image saved to /tmp/tmpvi6bfs1d/page_1.jpg with final quality 85\n"
     ]
    },
    {
     "name": "stderr",
     "output_type": "stream",
     "text": [
      "2024-08-09 10:19:33,074 - INFO - Converted and resized image saved to /tmp/tmpvi6bfs1d/page_2.jpg with final quality 85\n",
      "2024-08-09 10:19:33,076 - INFO - Converted PDF /tmp/tmpvi6bfs1d/20081001_Garvey, Schubert _ Barer_Amendment_Amendment.pdf to images: ['/tmp/tmpvi6bfs1d/page_1.jpg', '/tmp/tmpvi6bfs1d/page_2.jpg']\n",
      "2024-08-09 10:19:33,087 - INFO - Experiment 1: Processing file 20070613_Pillsbury Winthrop Shaw Pittman, LLP_Amendment_Amendment.pdf\n"
     ]
    },
    {
     "name": "stdout",
     "output_type": "stream",
     "text": [
      "Converted and resized image saved to /tmp/tmpvi6bfs1d/page_2.jpg with final quality 85\n",
      "Converted PDF /tmp/tmpvi6bfs1d/20081001_Garvey, Schubert _ Barer_Amendment_Amendment.pdf to images: ['/tmp/tmpvi6bfs1d/page_1.jpg', '/tmp/tmpvi6bfs1d/page_2.jpg']\n",
      "Experiment 1: Processing file 20070613_Pillsbury Winthrop Shaw Pittman, LLP_Amendment_Amendment.pdf\n"
     ]
    },
    {
     "name": "stderr",
     "output_type": "stream",
     "text": [
      "2024-08-09 10:19:33,720 - INFO - Converted and resized image saved to /tmp/tmpzayksg70/page_1.jpg with final quality 85\n"
     ]
    },
    {
     "name": "stdout",
     "output_type": "stream",
     "text": [
      "Converted and resized image saved to /tmp/tmpzayksg70/page_1.jpg with final quality 85\n"
     ]
    },
    {
     "name": "stderr",
     "output_type": "stream",
     "text": [
      "2024-08-09 10:19:33,986 - INFO - Converted and resized image saved to /tmp/tmpzayksg70/page_2.jpg with final quality 85\n",
      "2024-08-09 10:19:33,987 - INFO - Converted PDF /tmp/tmpzayksg70/20070613_Pillsbury Winthrop Shaw Pittman, LLP_Amendment_Amendment.pdf to images: ['/tmp/tmpzayksg70/page_1.jpg', '/tmp/tmpzayksg70/page_2.jpg']\n",
      "2024-08-09 10:19:33,998 - INFO - Experiment 1: Processing file 20130131_Sidley Austin, LLP_Amendment_Amendment.pdf\n"
     ]
    },
    {
     "name": "stdout",
     "output_type": "stream",
     "text": [
      "Converted and resized image saved to /tmp/tmpzayksg70/page_2.jpg with final quality 85\n",
      "Converted PDF /tmp/tmpzayksg70/20070613_Pillsbury Winthrop Shaw Pittman, LLP_Amendment_Amendment.pdf to images: ['/tmp/tmpzayksg70/page_1.jpg', '/tmp/tmpzayksg70/page_2.jpg']\n",
      "Experiment 1: Processing file 20130131_Sidley Austin, LLP_Amendment_Amendment.pdf\n"
     ]
    },
    {
     "name": "stderr",
     "output_type": "stream",
     "text": [
      "2024-08-09 10:19:34,671 - INFO - Converted and resized image saved to /tmp/tmpw9tbyg0q/page_1.jpg with final quality 85\n"
     ]
    },
    {
     "name": "stdout",
     "output_type": "stream",
     "text": [
      "Converted and resized image saved to /tmp/tmpw9tbyg0q/page_1.jpg with final quality 85\n"
     ]
    },
    {
     "name": "stderr",
     "output_type": "stream",
     "text": [
      "2024-08-09 10:19:34,947 - INFO - Converted and resized image saved to /tmp/tmpw9tbyg0q/page_2.jpg with final quality 85\n",
      "2024-08-09 10:19:34,949 - INFO - Converted PDF /tmp/tmpw9tbyg0q/20130131_Sidley Austin, LLP_Amendment_Amendment.pdf to images: ['/tmp/tmpw9tbyg0q/page_1.jpg', '/tmp/tmpw9tbyg0q/page_2.jpg']\n",
      "2024-08-09 10:19:34,960 - INFO - Experiment 1: Processing file 19920601_JETRO, San Francisco_Amendment_Amendment.pdf\n"
     ]
    },
    {
     "name": "stdout",
     "output_type": "stream",
     "text": [
      "Converted and resized image saved to /tmp/tmpw9tbyg0q/page_2.jpg with final quality 85\n",
      "Converted PDF /tmp/tmpw9tbyg0q/20130131_Sidley Austin, LLP_Amendment_Amendment.pdf to images: ['/tmp/tmpw9tbyg0q/page_1.jpg', '/tmp/tmpw9tbyg0q/page_2.jpg']\n",
      "Experiment 1: Processing file 19920601_JETRO, San Francisco_Amendment_Amendment.pdf\n"
     ]
    },
    {
     "name": "stderr",
     "output_type": "stream",
     "text": [
      "2024-08-09 10:19:35,615 - INFO - Converted and resized image saved to /tmp/tmp7r2nr83e/page_1.jpg with final quality 85\n"
     ]
    },
    {
     "name": "stdout",
     "output_type": "stream",
     "text": [
      "Converted and resized image saved to /tmp/tmp7r2nr83e/page_1.jpg with final quality 85\n"
     ]
    },
    {
     "name": "stderr",
     "output_type": "stream",
     "text": [
      "2024-08-09 10:19:35,879 - INFO - Converted and resized image saved to /tmp/tmp7r2nr83e/page_2.jpg with final quality 85\n",
      "2024-08-09 10:19:35,881 - INFO - Converted PDF /tmp/tmp7r2nr83e/19920601_JETRO, San Francisco_Amendment_Amendment.pdf to images: ['/tmp/tmp7r2nr83e/page_1.jpg', '/tmp/tmp7r2nr83e/page_2.jpg']\n",
      "2024-08-09 10:19:35,892 - INFO - Experiment 1: Processing file 20170901_Bryan Cave, LLP_Amendment_Amendment.pdf\n"
     ]
    },
    {
     "name": "stdout",
     "output_type": "stream",
     "text": [
      "Converted and resized image saved to /tmp/tmp7r2nr83e/page_2.jpg with final quality 85\n",
      "Converted PDF /tmp/tmp7r2nr83e/19920601_JETRO, San Francisco_Amendment_Amendment.pdf to images: ['/tmp/tmp7r2nr83e/page_1.jpg', '/tmp/tmp7r2nr83e/page_2.jpg']\n",
      "Experiment 1: Processing file 20170901_Bryan Cave, LLP_Amendment_Amendment.pdf\n"
     ]
    },
    {
     "name": "stderr",
     "output_type": "stream",
     "text": [
      "2024-08-09 10:19:36,598 - INFO - Converted and resized image saved to /tmp/tmpjuwoze1l/page_1.jpg with final quality 85\n"
     ]
    },
    {
     "name": "stdout",
     "output_type": "stream",
     "text": [
      "Converted and resized image saved to /tmp/tmpjuwoze1l/page_1.jpg with final quality 85\n"
     ]
    },
    {
     "name": "stderr",
     "output_type": "stream",
     "text": [
      "2024-08-09 10:19:36,875 - INFO - Converted and resized image saved to /tmp/tmpjuwoze1l/page_2.jpg with final quality 85\n",
      "2024-08-09 10:19:36,876 - INFO - Converted PDF /tmp/tmpjuwoze1l/20170901_Bryan Cave, LLP_Amendment_Amendment.pdf to images: ['/tmp/tmpjuwoze1l/page_1.jpg', '/tmp/tmpjuwoze1l/page_2.jpg']\n",
      "2024-08-09 10:19:36,887 - INFO - Processing template type: Dissemination\n",
      "2024-08-09 10:19:36,888 - INFO - Experiment 1: Processing file 19930901_Scottish Enterprise_Dissemination Report_Dissemination Report.pdf\n"
     ]
    },
    {
     "name": "stdout",
     "output_type": "stream",
     "text": [
      "Converted and resized image saved to /tmp/tmpjuwoze1l/page_2.jpg with final quality 85\n",
      "Converted PDF /tmp/tmpjuwoze1l/20170901_Bryan Cave, LLP_Amendment_Amendment.pdf to images: ['/tmp/tmpjuwoze1l/page_1.jpg', '/tmp/tmpjuwoze1l/page_2.jpg']\n",
      "s---------------Template type:  Dissemination\n",
      "s---------------Level type:  STL\n",
      "Experiment 1: Processing file 19930901_Scottish Enterprise_Dissemination Report_Dissemination Report.pdf\n"
     ]
    },
    {
     "name": "stderr",
     "output_type": "stream",
     "text": [
      "2024-08-09 10:19:37,566 - INFO - Converted and resized image saved to /tmp/tmpuzp9rgs3/page_1.jpg with final quality 85\n"
     ]
    },
    {
     "name": "stdout",
     "output_type": "stream",
     "text": [
      "Converted and resized image saved to /tmp/tmpuzp9rgs3/page_1.jpg with final quality 85\n"
     ]
    },
    {
     "name": "stderr",
     "output_type": "stream",
     "text": [
      "2024-08-09 10:19:37,865 - INFO - Converted and resized image saved to /tmp/tmpuzp9rgs3/page_2.jpg with final quality 85\n",
      "2024-08-09 10:19:37,866 - INFO - Converted PDF /tmp/tmpuzp9rgs3/19930901_Scottish Enterprise_Dissemination Report_Dissemination Report.pdf to images: ['/tmp/tmpuzp9rgs3/page_1.jpg', '/tmp/tmpuzp9rgs3/page_2.jpg']\n",
      "2024-08-09 10:19:37,878 - INFO - Experiment 1: Processing file 19930701_JETRO, Atlanta_Dissemination Report_Dissemination Report.pdf\n"
     ]
    },
    {
     "name": "stdout",
     "output_type": "stream",
     "text": [
      "Converted and resized image saved to /tmp/tmpuzp9rgs3/page_2.jpg with final quality 85\n",
      "Converted PDF /tmp/tmpuzp9rgs3/19930901_Scottish Enterprise_Dissemination Report_Dissemination Report.pdf to images: ['/tmp/tmpuzp9rgs3/page_1.jpg', '/tmp/tmpuzp9rgs3/page_2.jpg']\n",
      "Experiment 1: Processing file 19930701_JETRO, Atlanta_Dissemination Report_Dissemination Report.pdf\n"
     ]
    },
    {
     "name": "stderr",
     "output_type": "stream",
     "text": [
      "2024-08-09 10:19:38,566 - INFO - Converted and resized image saved to /tmp/tmp3mi822rq/page_1.jpg with final quality 85\n"
     ]
    },
    {
     "name": "stdout",
     "output_type": "stream",
     "text": [
      "Converted and resized image saved to /tmp/tmp3mi822rq/page_1.jpg with final quality 85\n"
     ]
    },
    {
     "name": "stderr",
     "output_type": "stream",
     "text": [
      "2024-08-09 10:19:38,854 - INFO - Converted and resized image saved to /tmp/tmp3mi822rq/page_2.jpg with final quality 85\n",
      "2024-08-09 10:19:38,856 - INFO - Converted PDF /tmp/tmp3mi822rq/19930701_JETRO, Atlanta_Dissemination Report_Dissemination Report.pdf to images: ['/tmp/tmp3mi822rq/page_1.jpg', '/tmp/tmp3mi822rq/page_2.jpg']\n",
      "2024-08-09 10:19:38,867 - INFO - Experiment 1: Processing file 19930801_JETRO, Los Angeles_Dissemination Report_Dissemination Report.pdf\n"
     ]
    },
    {
     "name": "stdout",
     "output_type": "stream",
     "text": [
      "Converted and resized image saved to /tmp/tmp3mi822rq/page_2.jpg with final quality 85\n",
      "Converted PDF /tmp/tmp3mi822rq/19930701_JETRO, Atlanta_Dissemination Report_Dissemination Report.pdf to images: ['/tmp/tmp3mi822rq/page_1.jpg', '/tmp/tmp3mi822rq/page_2.jpg']\n",
      "Experiment 1: Processing file 19930801_JETRO, Los Angeles_Dissemination Report_Dissemination Report.pdf\n"
     ]
    },
    {
     "name": "stderr",
     "output_type": "stream",
     "text": [
      "2024-08-09 10:19:39,544 - INFO - Converted and resized image saved to /tmp/tmprzgaja_2/page_1.jpg with final quality 85\n"
     ]
    },
    {
     "name": "stdout",
     "output_type": "stream",
     "text": [
      "Converted and resized image saved to /tmp/tmprzgaja_2/page_1.jpg with final quality 85\n"
     ]
    },
    {
     "name": "stderr",
     "output_type": "stream",
     "text": [
      "2024-08-09 10:19:39,816 - INFO - Converted and resized image saved to /tmp/tmprzgaja_2/page_2.jpg with final quality 85\n",
      "2024-08-09 10:19:39,817 - INFO - Converted PDF /tmp/tmprzgaja_2/19930801_JETRO, Los Angeles_Dissemination Report_Dissemination Report.pdf to images: ['/tmp/tmprzgaja_2/page_1.jpg', '/tmp/tmprzgaja_2/page_2.jpg']\n",
      "2024-08-09 10:19:39,828 - INFO - Experiment 1: Processing file 19941221_JETRO, Chicago_Dissemination Report_Dissemination Report.pdf\n"
     ]
    },
    {
     "name": "stdout",
     "output_type": "stream",
     "text": [
      "Converted and resized image saved to /tmp/tmprzgaja_2/page_2.jpg with final quality 85\n",
      "Converted PDF /tmp/tmprzgaja_2/19930801_JETRO, Los Angeles_Dissemination Report_Dissemination Report.pdf to images: ['/tmp/tmprzgaja_2/page_1.jpg', '/tmp/tmprzgaja_2/page_2.jpg']\n",
      "Experiment 1: Processing file 19941221_JETRO, Chicago_Dissemination Report_Dissemination Report.pdf\n"
     ]
    },
    {
     "name": "stderr",
     "output_type": "stream",
     "text": [
      "2024-08-09 10:19:40,461 - INFO - Converted and resized image saved to /tmp/tmpwkkq4_r8/page_1.jpg with final quality 85\n"
     ]
    },
    {
     "name": "stdout",
     "output_type": "stream",
     "text": [
      "Converted and resized image saved to /tmp/tmpwkkq4_r8/page_1.jpg with final quality 85\n"
     ]
    },
    {
     "name": "stderr",
     "output_type": "stream",
     "text": [
      "2024-08-09 10:19:40,727 - INFO - Converted and resized image saved to /tmp/tmpwkkq4_r8/page_2.jpg with final quality 85\n",
      "2024-08-09 10:19:40,729 - INFO - Converted PDF /tmp/tmpwkkq4_r8/19941221_JETRO, Chicago_Dissemination Report_Dissemination Report.pdf to images: ['/tmp/tmpwkkq4_r8/page_1.jpg', '/tmp/tmpwkkq4_r8/page_2.jpg']\n",
      "2024-08-09 10:19:40,739 - INFO - Experiment 1: Processing file 19920701_International Registries, Inc._Dissemination Report_Dissemination Report.pdf\n"
     ]
    },
    {
     "name": "stdout",
     "output_type": "stream",
     "text": [
      "Converted and resized image saved to /tmp/tmpwkkq4_r8/page_2.jpg with final quality 85\n",
      "Converted PDF /tmp/tmpwkkq4_r8/19941221_JETRO, Chicago_Dissemination Report_Dissemination Report.pdf to images: ['/tmp/tmpwkkq4_r8/page_1.jpg', '/tmp/tmpwkkq4_r8/page_2.jpg']\n",
      "Experiment 1: Processing file 19920701_International Registries, Inc._Dissemination Report_Dissemination Report.pdf\n"
     ]
    },
    {
     "name": "stderr",
     "output_type": "stream",
     "text": [
      "2024-08-09 10:19:41,396 - INFO - Converted and resized image saved to /tmp/tmppkp8ydba/page_1.jpg with final quality 85\n"
     ]
    },
    {
     "name": "stdout",
     "output_type": "stream",
     "text": [
      "Converted and resized image saved to /tmp/tmppkp8ydba/page_1.jpg with final quality 85\n"
     ]
    },
    {
     "name": "stderr",
     "output_type": "stream",
     "text": [
      "2024-08-09 10:19:41,662 - INFO - Converted and resized image saved to /tmp/tmppkp8ydba/page_2.jpg with final quality 85\n",
      "2024-08-09 10:19:41,663 - INFO - Converted PDF /tmp/tmppkp8ydba/19920701_International Registries, Inc._Dissemination Report_Dissemination Report.pdf to images: ['/tmp/tmppkp8ydba/page_1.jpg', '/tmp/tmppkp8ydba/page_2.jpg']\n",
      "2024-08-09 10:19:41,674 - INFO - Experiment 1: Processing file 19910801_Representative of the Turkish Republic of Northern Cyprus_Dissemination Report_Dissemination Report.pdf\n"
     ]
    },
    {
     "name": "stdout",
     "output_type": "stream",
     "text": [
      "Converted and resized image saved to /tmp/tmppkp8ydba/page_2.jpg with final quality 85\n",
      "Converted PDF /tmp/tmppkp8ydba/19920701_International Registries, Inc._Dissemination Report_Dissemination Report.pdf to images: ['/tmp/tmppkp8ydba/page_1.jpg', '/tmp/tmppkp8ydba/page_2.jpg']\n",
      "Experiment 1: Processing file 19910801_Representative of the Turkish Republic of Northern Cyprus_Dissemination Report_Dissemination Report.pdf\n"
     ]
    },
    {
     "name": "stderr",
     "output_type": "stream",
     "text": [
      "2024-08-09 10:19:42,472 - INFO - Converted and resized image saved to /tmp/tmp92jszn3t/page_1.jpg with final quality 85\n"
     ]
    },
    {
     "name": "stdout",
     "output_type": "stream",
     "text": [
      "Converted and resized image saved to /tmp/tmp92jszn3t/page_1.jpg with final quality 85\n"
     ]
    },
    {
     "name": "stderr",
     "output_type": "stream",
     "text": [
      "2024-08-09 10:19:42,726 - INFO - Converted and resized image saved to /tmp/tmp92jszn3t/page_2.jpg with final quality 85\n"
     ]
    },
    {
     "name": "stdout",
     "output_type": "stream",
     "text": [
      "Converted and resized image saved to /tmp/tmp92jszn3t/page_2.jpg with final quality 85\n"
     ]
    },
    {
     "name": "stderr",
     "output_type": "stream",
     "text": [
      "2024-08-09 10:19:42,974 - INFO - Converted and resized image saved to /tmp/tmp92jszn3t/page_3.jpg with final quality 85\n",
      "2024-08-09 10:19:42,975 - INFO - Converted PDF /tmp/tmp92jszn3t/19910801_Representative of the Turkish Republic of Northern Cyprus_Dissemination Report_Dissemination Report.pdf to images: ['/tmp/tmp92jszn3t/page_1.jpg', '/tmp/tmp92jszn3t/page_2.jpg', '/tmp/tmp92jszn3t/page_3.jpg']\n",
      "2024-08-09 10:19:42,986 - INFO - Experiment 1: Processing file 19950110_JETRO, New York_Dissemination Report_Dissemination Report.pdf\n"
     ]
    },
    {
     "name": "stdout",
     "output_type": "stream",
     "text": [
      "Converted and resized image saved to /tmp/tmp92jszn3t/page_3.jpg with final quality 85\n",
      "Converted PDF /tmp/tmp92jszn3t/19910801_Representative of the Turkish Republic of Northern Cyprus_Dissemination Report_Dissemination Report.pdf to images: ['/tmp/tmp92jszn3t/page_1.jpg', '/tmp/tmp92jszn3t/page_2.jpg', '/tmp/tmp92jszn3t/page_3.jpg']\n",
      "Experiment 1: Processing file 19950110_JETRO, New York_Dissemination Report_Dissemination Report.pdf\n"
     ]
    },
    {
     "name": "stderr",
     "output_type": "stream",
     "text": [
      "2024-08-09 10:19:43,506 - INFO - Converted and resized image saved to /tmp/tmp8e51g63_/page_1.jpg with final quality 85\n",
      "2024-08-09 10:19:43,507 - INFO - Converted PDF /tmp/tmp8e51g63_/19950110_JETRO, New York_Dissemination Report_Dissemination Report.pdf to images: ['/tmp/tmp8e51g63_/page_1.jpg']\n",
      "2024-08-09 10:19:43,516 - INFO - Experiment 1: Processing file 19920901_Daniel J. Edelman, Inc._Dissemination Report_Dissemination Report.pdf\n"
     ]
    },
    {
     "name": "stdout",
     "output_type": "stream",
     "text": [
      "Converted and resized image saved to /tmp/tmp8e51g63_/page_1.jpg with final quality 85\n",
      "Converted PDF /tmp/tmp8e51g63_/19950110_JETRO, New York_Dissemination Report_Dissemination Report.pdf to images: ['/tmp/tmp8e51g63_/page_1.jpg']\n",
      "Experiment 1: Processing file 19920901_Daniel J. Edelman, Inc._Dissemination Report_Dissemination Report.pdf\n"
     ]
    },
    {
     "name": "stderr",
     "output_type": "stream",
     "text": [
      "2024-08-09 10:19:44,065 - INFO - Converted and resized image saved to /tmp/tmpr77s9hqp/page_1.jpg with final quality 85\n",
      "2024-08-09 10:19:44,066 - INFO - Converted PDF /tmp/tmpr77s9hqp/19920901_Daniel J. Edelman, Inc._Dissemination Report_Dissemination Report.pdf to images: ['/tmp/tmpr77s9hqp/page_1.jpg']\n",
      "2024-08-09 10:19:44,075 - INFO - Experiment 1: Processing file 19930601_International Registries, Inc._Dissemination Report_Dissemination Report.pdf\n"
     ]
    },
    {
     "name": "stdout",
     "output_type": "stream",
     "text": [
      "Converted and resized image saved to /tmp/tmpr77s9hqp/page_1.jpg with final quality 85\n",
      "Converted PDF /tmp/tmpr77s9hqp/19920901_Daniel J. Edelman, Inc._Dissemination Report_Dissemination Report.pdf to images: ['/tmp/tmpr77s9hqp/page_1.jpg']\n",
      "Experiment 1: Processing file 19930601_International Registries, Inc._Dissemination Report_Dissemination Report.pdf\n"
     ]
    },
    {
     "name": "stderr",
     "output_type": "stream",
     "text": [
      "2024-08-09 10:19:44,749 - INFO - Converted and resized image saved to /tmp/tmpwrd60bn8/page_1.jpg with final quality 85\n"
     ]
    },
    {
     "name": "stdout",
     "output_type": "stream",
     "text": [
      "Converted and resized image saved to /tmp/tmpwrd60bn8/page_1.jpg with final quality 85\n"
     ]
    },
    {
     "name": "stderr",
     "output_type": "stream",
     "text": [
      "2024-08-09 10:19:45,022 - INFO - Converted and resized image saved to /tmp/tmpwrd60bn8/page_2.jpg with final quality 85\n",
      "2024-08-09 10:19:45,024 - INFO - Converted PDF /tmp/tmpwrd60bn8/19930601_International Registries, Inc._Dissemination Report_Dissemination Report.pdf to images: ['/tmp/tmpwrd60bn8/page_1.jpg', '/tmp/tmpwrd60bn8/page_2.jpg']\n",
      "2024-08-09 10:19:45,035 - INFO - Experiment 1: Processing file 19910501_JETRO, Atlanta_Dissemination Report_Dissemination Report.pdf\n"
     ]
    },
    {
     "name": "stdout",
     "output_type": "stream",
     "text": [
      "Converted and resized image saved to /tmp/tmpwrd60bn8/page_2.jpg with final quality 85\n",
      "Converted PDF /tmp/tmpwrd60bn8/19930601_International Registries, Inc._Dissemination Report_Dissemination Report.pdf to images: ['/tmp/tmpwrd60bn8/page_1.jpg', '/tmp/tmpwrd60bn8/page_2.jpg']\n",
      "Experiment 1: Processing file 19910501_JETRO, Atlanta_Dissemination Report_Dissemination Report.pdf\n"
     ]
    },
    {
     "name": "stderr",
     "output_type": "stream",
     "text": [
      "2024-08-09 10:19:45,721 - INFO - Converted and resized image saved to /tmp/tmp24_31fq9/page_1.jpg with final quality 85\n"
     ]
    },
    {
     "name": "stdout",
     "output_type": "stream",
     "text": [
      "Converted and resized image saved to /tmp/tmp24_31fq9/page_1.jpg with final quality 85\n"
     ]
    },
    {
     "name": "stderr",
     "output_type": "stream",
     "text": [
      "2024-08-09 10:19:45,993 - INFO - Converted and resized image saved to /tmp/tmp24_31fq9/page_2.jpg with final quality 85\n",
      "2024-08-09 10:19:45,994 - INFO - Converted PDF /tmp/tmp24_31fq9/19910501_JETRO, Atlanta_Dissemination Report_Dissemination Report.pdf to images: ['/tmp/tmp24_31fq9/page_1.jpg', '/tmp/tmp24_31fq9/page_2.jpg']\n",
      "2024-08-09 10:19:46,006 - INFO - Experiment 1: Processing file 19960116_JETRO, Chicago_Dissemination Report_Dissemination Report.pdf\n"
     ]
    },
    {
     "name": "stdout",
     "output_type": "stream",
     "text": [
      "Converted and resized image saved to /tmp/tmp24_31fq9/page_2.jpg with final quality 85\n",
      "Converted PDF /tmp/tmp24_31fq9/19910501_JETRO, Atlanta_Dissemination Report_Dissemination Report.pdf to images: ['/tmp/tmp24_31fq9/page_1.jpg', '/tmp/tmp24_31fq9/page_2.jpg']\n",
      "Experiment 1: Processing file 19960116_JETRO, Chicago_Dissemination Report_Dissemination Report.pdf\n"
     ]
    },
    {
     "name": "stderr",
     "output_type": "stream",
     "text": [
      "2024-08-09 10:19:46,660 - INFO - Converted and resized image saved to /tmp/tmp27_pfhe5/page_1.jpg with final quality 85\n"
     ]
    },
    {
     "name": "stdout",
     "output_type": "stream",
     "text": [
      "Converted and resized image saved to /tmp/tmp27_pfhe5/page_1.jpg with final quality 85\n"
     ]
    },
    {
     "name": "stderr",
     "output_type": "stream",
     "text": [
      "2024-08-09 10:19:46,906 - INFO - Converted and resized image saved to /tmp/tmp27_pfhe5/page_2.jpg with final quality 85\n",
      "2024-08-09 10:19:46,907 - INFO - Converted PDF /tmp/tmp27_pfhe5/19960116_JETRO, Chicago_Dissemination Report_Dissemination Report.pdf to images: ['/tmp/tmp27_pfhe5/page_1.jpg', '/tmp/tmp27_pfhe5/page_2.jpg']\n",
      "2024-08-09 10:19:46,918 - INFO - Experiment 1: Processing file 19921201_Far East Trade Services, Inc._Dissemination Report_Dissemination Report.pdf\n"
     ]
    },
    {
     "name": "stdout",
     "output_type": "stream",
     "text": [
      "Converted and resized image saved to /tmp/tmp27_pfhe5/page_2.jpg with final quality 85\n",
      "Converted PDF /tmp/tmp27_pfhe5/19960116_JETRO, Chicago_Dissemination Report_Dissemination Report.pdf to images: ['/tmp/tmp27_pfhe5/page_1.jpg', '/tmp/tmp27_pfhe5/page_2.jpg']\n",
      "Experiment 1: Processing file 19921201_Far East Trade Services, Inc._Dissemination Report_Dissemination Report.pdf\n"
     ]
    },
    {
     "name": "stderr",
     "output_type": "stream",
     "text": [
      "2024-08-09 10:19:47,578 - INFO - Converted and resized image saved to /tmp/tmpuupogxs7/page_1.jpg with final quality 85\n"
     ]
    },
    {
     "name": "stdout",
     "output_type": "stream",
     "text": [
      "Converted and resized image saved to /tmp/tmpuupogxs7/page_1.jpg with final quality 85\n"
     ]
    },
    {
     "name": "stderr",
     "output_type": "stream",
     "text": [
      "2024-08-09 10:19:47,837 - INFO - Converted and resized image saved to /tmp/tmpuupogxs7/page_2.jpg with final quality 85\n",
      "2024-08-09 10:19:47,838 - INFO - Converted PDF /tmp/tmpuupogxs7/19921201_Far East Trade Services, Inc._Dissemination Report_Dissemination Report.pdf to images: ['/tmp/tmpuupogxs7/page_1.jpg', '/tmp/tmpuupogxs7/page_2.jpg']\n",
      "2024-08-09 10:19:47,850 - INFO - Experiment 1: Processing file 19950619_JETRO, Houston_Dissemination Report_Dissemination Report.pdf\n"
     ]
    },
    {
     "name": "stdout",
     "output_type": "stream",
     "text": [
      "Converted and resized image saved to /tmp/tmpuupogxs7/page_2.jpg with final quality 85\n",
      "Converted PDF /tmp/tmpuupogxs7/19921201_Far East Trade Services, Inc._Dissemination Report_Dissemination Report.pdf to images: ['/tmp/tmpuupogxs7/page_1.jpg', '/tmp/tmpuupogxs7/page_2.jpg']\n",
      "Experiment 1: Processing file 19950619_JETRO, Houston_Dissemination Report_Dissemination Report.pdf\n"
     ]
    },
    {
     "name": "stderr",
     "output_type": "stream",
     "text": [
      "2024-08-09 10:19:48,490 - INFO - Converted and resized image saved to /tmp/tmpio82x4rn/page_1.jpg with final quality 85\n"
     ]
    },
    {
     "name": "stdout",
     "output_type": "stream",
     "text": [
      "Converted and resized image saved to /tmp/tmpio82x4rn/page_1.jpg with final quality 85\n"
     ]
    },
    {
     "name": "stderr",
     "output_type": "stream",
     "text": [
      "2024-08-09 10:19:48,773 - INFO - Converted and resized image saved to /tmp/tmpio82x4rn/page_2.jpg with final quality 85\n",
      "2024-08-09 10:19:48,774 - INFO - Converted PDF /tmp/tmpio82x4rn/19950619_JETRO, Houston_Dissemination Report_Dissemination Report.pdf to images: ['/tmp/tmpio82x4rn/page_1.jpg', '/tmp/tmpio82x4rn/page_2.jpg']\n",
      "2024-08-09 10:19:48,786 - INFO - Experiment 1: Processing file 19930101_Representative of the Turkish Republic of Northern Cyprus_Dissemination Report_Dissemination Report.pdf\n"
     ]
    },
    {
     "name": "stdout",
     "output_type": "stream",
     "text": [
      "Converted and resized image saved to /tmp/tmpio82x4rn/page_2.jpg with final quality 85\n",
      "Converted PDF /tmp/tmpio82x4rn/19950619_JETRO, Houston_Dissemination Report_Dissemination Report.pdf to images: ['/tmp/tmpio82x4rn/page_1.jpg', '/tmp/tmpio82x4rn/page_2.jpg']\n",
      "Experiment 1: Processing file 19930101_Representative of the Turkish Republic of Northern Cyprus_Dissemination Report_Dissemination Report.pdf\n"
     ]
    },
    {
     "name": "stderr",
     "output_type": "stream",
     "text": [
      "2024-08-09 10:19:49,528 - INFO - Converted and resized image saved to /tmp/tmpeuxukol0/page_1.jpg with final quality 85\n"
     ]
    },
    {
     "name": "stdout",
     "output_type": "stream",
     "text": [
      "Converted and resized image saved to /tmp/tmpeuxukol0/page_1.jpg with final quality 85\n"
     ]
    },
    {
     "name": "stderr",
     "output_type": "stream",
     "text": [
      "2024-08-09 10:19:49,782 - INFO - Converted and resized image saved to /tmp/tmpeuxukol0/page_2.jpg with final quality 85\n",
      "2024-08-09 10:19:49,783 - INFO - Converted PDF /tmp/tmpeuxukol0/19930101_Representative of the Turkish Republic of Northern Cyprus_Dissemination Report_Dissemination Report.pdf to images: ['/tmp/tmpeuxukol0/page_1.jpg', '/tmp/tmpeuxukol0/page_2.jpg']\n",
      "2024-08-09 10:19:49,794 - INFO - Experiment 1: Processing file 19930701_JETRO, New York_Dissemination Report_Dissemination Report.pdf\n"
     ]
    },
    {
     "name": "stdout",
     "output_type": "stream",
     "text": [
      "Converted and resized image saved to /tmp/tmpeuxukol0/page_2.jpg with final quality 85\n",
      "Converted PDF /tmp/tmpeuxukol0/19930101_Representative of the Turkish Republic of Northern Cyprus_Dissemination Report_Dissemination Report.pdf to images: ['/tmp/tmpeuxukol0/page_1.jpg', '/tmp/tmpeuxukol0/page_2.jpg']\n",
      "Experiment 1: Processing file 19930701_JETRO, New York_Dissemination Report_Dissemination Report.pdf\n"
     ]
    },
    {
     "name": "stderr",
     "output_type": "stream",
     "text": [
      "2024-08-09 10:19:50,491 - INFO - Converted and resized image saved to /tmp/tmpsl90lhpv/page_1.jpg with final quality 85\n"
     ]
    },
    {
     "name": "stdout",
     "output_type": "stream",
     "text": [
      "Converted and resized image saved to /tmp/tmpsl90lhpv/page_1.jpg with final quality 85\n"
     ]
    },
    {
     "name": "stderr",
     "output_type": "stream",
     "text": [
      "2024-08-09 10:19:50,777 - INFO - Converted and resized image saved to /tmp/tmpsl90lhpv/page_2.jpg with final quality 85\n",
      "2024-08-09 10:19:50,779 - INFO - Converted PDF /tmp/tmpsl90lhpv/19930701_JETRO, New York_Dissemination Report_Dissemination Report.pdf to images: ['/tmp/tmpsl90lhpv/page_1.jpg', '/tmp/tmpsl90lhpv/page_2.jpg']\n",
      "2024-08-09 10:19:50,790 - INFO - Experiment 1: Processing file 19910201_World Zionist Organization - American Section, Inc._Dissemination Report_Dissemination Report.pdf\n"
     ]
    },
    {
     "name": "stdout",
     "output_type": "stream",
     "text": [
      "Converted and resized image saved to /tmp/tmpsl90lhpv/page_2.jpg with final quality 85\n",
      "Converted PDF /tmp/tmpsl90lhpv/19930701_JETRO, New York_Dissemination Report_Dissemination Report.pdf to images: ['/tmp/tmpsl90lhpv/page_1.jpg', '/tmp/tmpsl90lhpv/page_2.jpg']\n",
      "Experiment 1: Processing file 19910201_World Zionist Organization - American Section, Inc._Dissemination Report_Dissemination Report.pdf\n"
     ]
    },
    {
     "name": "stderr",
     "output_type": "stream",
     "text": [
      "2024-08-09 10:19:51,419 - INFO - Converted and resized image saved to /tmp/tmpc6emcdwd/page_1.jpg with final quality 85\n",
      "2024-08-09 10:19:51,420 - INFO - Converted PDF /tmp/tmpc6emcdwd/19910201_World Zionist Organization - American Section, Inc._Dissemination Report_Dissemination Report.pdf to images: ['/tmp/tmpc6emcdwd/page_1.jpg']\n",
      "2024-08-09 10:19:51,428 - INFO - Experiment 1: Processing file 19920401_Quebec Government Office_Dissemination Report_Dissemination Report.pdf\n"
     ]
    },
    {
     "name": "stdout",
     "output_type": "stream",
     "text": [
      "Converted and resized image saved to /tmp/tmpc6emcdwd/page_1.jpg with final quality 85\n",
      "Converted PDF /tmp/tmpc6emcdwd/19910201_World Zionist Organization - American Section, Inc._Dissemination Report_Dissemination Report.pdf to images: ['/tmp/tmpc6emcdwd/page_1.jpg']\n",
      "Experiment 1: Processing file 19920401_Quebec Government Office_Dissemination Report_Dissemination Report.pdf\n"
     ]
    },
    {
     "name": "stderr",
     "output_type": "stream",
     "text": [
      "2024-08-09 10:19:52,100 - INFO - Converted and resized image saved to /tmp/tmp_nhcv0ol/page_1.jpg with final quality 85\n"
     ]
    },
    {
     "name": "stdout",
     "output_type": "stream",
     "text": [
      "Converted and resized image saved to /tmp/tmp_nhcv0ol/page_1.jpg with final quality 85\n"
     ]
    },
    {
     "name": "stderr",
     "output_type": "stream",
     "text": [
      "2024-08-09 10:19:52,370 - INFO - Converted and resized image saved to /tmp/tmp_nhcv0ol/page_2.jpg with final quality 85\n",
      "2024-08-09 10:19:52,371 - INFO - Converted PDF /tmp/tmp_nhcv0ol/19920401_Quebec Government Office_Dissemination Report_Dissemination Report.pdf to images: ['/tmp/tmp_nhcv0ol/page_1.jpg', '/tmp/tmp_nhcv0ol/page_2.jpg']\n",
      "2024-08-09 10:19:52,382 - INFO - Experiment 1: Processing file 19920701_Far East Trade Services, Inc._Dissemination Report_Dissemination Report.pdf\n"
     ]
    },
    {
     "name": "stdout",
     "output_type": "stream",
     "text": [
      "Converted and resized image saved to /tmp/tmp_nhcv0ol/page_2.jpg with final quality 85\n",
      "Converted PDF /tmp/tmp_nhcv0ol/19920401_Quebec Government Office_Dissemination Report_Dissemination Report.pdf to images: ['/tmp/tmp_nhcv0ol/page_1.jpg', '/tmp/tmp_nhcv0ol/page_2.jpg']\n",
      "Experiment 1: Processing file 19920701_Far East Trade Services, Inc._Dissemination Report_Dissemination Report.pdf\n"
     ]
    },
    {
     "name": "stderr",
     "output_type": "stream",
     "text": [
      "2024-08-09 10:19:53,060 - INFO - Converted and resized image saved to /tmp/tmpz9qvr1xi/page_1.jpg with final quality 85\n"
     ]
    },
    {
     "name": "stdout",
     "output_type": "stream",
     "text": [
      "Converted and resized image saved to /tmp/tmpz9qvr1xi/page_1.jpg with final quality 85\n"
     ]
    },
    {
     "name": "stderr",
     "output_type": "stream",
     "text": [
      "2024-08-09 10:19:53,322 - INFO - Converted and resized image saved to /tmp/tmpz9qvr1xi/page_2.jpg with final quality 85\n",
      "2024-08-09 10:19:53,324 - INFO - Converted PDF /tmp/tmpz9qvr1xi/19920701_Far East Trade Services, Inc._Dissemination Report_Dissemination Report.pdf to images: ['/tmp/tmpz9qvr1xi/page_1.jpg', '/tmp/tmpz9qvr1xi/page_2.jpg']\n",
      "2024-08-09 10:19:53,334 - INFO - Experiment 1: Processing file 19920701_Hill and Knowlton Strategies, LLC_Dissemination Report_Dissemination Report.pdf\n"
     ]
    },
    {
     "name": "stdout",
     "output_type": "stream",
     "text": [
      "Converted and resized image saved to /tmp/tmpz9qvr1xi/page_2.jpg with final quality 85\n",
      "Converted PDF /tmp/tmpz9qvr1xi/19920701_Far East Trade Services, Inc._Dissemination Report_Dissemination Report.pdf to images: ['/tmp/tmpz9qvr1xi/page_1.jpg', '/tmp/tmpz9qvr1xi/page_2.jpg']\n",
      "Experiment 1: Processing file 19920701_Hill and Knowlton Strategies, LLC_Dissemination Report_Dissemination Report.pdf\n"
     ]
    },
    {
     "name": "stderr",
     "output_type": "stream",
     "text": [
      "2024-08-09 10:19:53,997 - INFO - Converted and resized image saved to /tmp/tmpxqsnk7c6/page_1.jpg with final quality 85\n"
     ]
    },
    {
     "name": "stdout",
     "output_type": "stream",
     "text": [
      "Converted and resized image saved to /tmp/tmpxqsnk7c6/page_1.jpg with final quality 85\n"
     ]
    },
    {
     "name": "stderr",
     "output_type": "stream",
     "text": [
      "2024-08-09 10:19:54,262 - INFO - Converted and resized image saved to /tmp/tmpxqsnk7c6/page_2.jpg with final quality 85\n",
      "2024-08-09 10:19:54,263 - INFO - Converted PDF /tmp/tmpxqsnk7c6/19920701_Hill and Knowlton Strategies, LLC_Dissemination Report_Dissemination Report.pdf to images: ['/tmp/tmpxqsnk7c6/page_1.jpg', '/tmp/tmpxqsnk7c6/page_2.jpg']\n",
      "2024-08-09 10:19:54,274 - INFO - Experiment 1: Processing file 19910401_World Zionist Organization - American Section, Inc._Dissemination Report_Dissemination Report.pdf\n"
     ]
    },
    {
     "name": "stdout",
     "output_type": "stream",
     "text": [
      "Converted and resized image saved to /tmp/tmpxqsnk7c6/page_2.jpg with final quality 85\n",
      "Converted PDF /tmp/tmpxqsnk7c6/19920701_Hill and Knowlton Strategies, LLC_Dissemination Report_Dissemination Report.pdf to images: ['/tmp/tmpxqsnk7c6/page_1.jpg', '/tmp/tmpxqsnk7c6/page_2.jpg']\n",
      "Experiment 1: Processing file 19910401_World Zionist Organization - American Section, Inc._Dissemination Report_Dissemination Report.pdf\n"
     ]
    },
    {
     "name": "stderr",
     "output_type": "stream",
     "text": [
      "2024-08-09 10:19:54,890 - INFO - Converted and resized image saved to /tmp/tmpjn4k6rxm/page_1.jpg with final quality 85\n",
      "2024-08-09 10:19:54,891 - INFO - Converted PDF /tmp/tmpjn4k6rxm/19910401_World Zionist Organization - American Section, Inc._Dissemination Report_Dissemination Report.pdf to images: ['/tmp/tmpjn4k6rxm/page_1.jpg']\n",
      "2024-08-09 10:19:54,899 - INFO - Experiment 1: Processing file 19920301_JETRO, Los Angeles_Dissemination Report_Dissemination Report.pdf\n"
     ]
    },
    {
     "name": "stdout",
     "output_type": "stream",
     "text": [
      "Converted and resized image saved to /tmp/tmpjn4k6rxm/page_1.jpg with final quality 85\n",
      "Converted PDF /tmp/tmpjn4k6rxm/19910401_World Zionist Organization - American Section, Inc._Dissemination Report_Dissemination Report.pdf to images: ['/tmp/tmpjn4k6rxm/page_1.jpg']\n",
      "Experiment 1: Processing file 19920301_JETRO, Los Angeles_Dissemination Report_Dissemination Report.pdf\n"
     ]
    },
    {
     "name": "stderr",
     "output_type": "stream",
     "text": [
      "2024-08-09 10:19:55,561 - INFO - Converted and resized image saved to /tmp/tmpmo_xk01h/page_1.jpg with final quality 85\n"
     ]
    },
    {
     "name": "stdout",
     "output_type": "stream",
     "text": [
      "Converted and resized image saved to /tmp/tmpmo_xk01h/page_1.jpg with final quality 85\n"
     ]
    },
    {
     "name": "stderr",
     "output_type": "stream",
     "text": [
      "2024-08-09 10:19:55,815 - INFO - Converted and resized image saved to /tmp/tmpmo_xk01h/page_2.jpg with final quality 85\n",
      "2024-08-09 10:19:55,816 - INFO - Converted PDF /tmp/tmpmo_xk01h/19920301_JETRO, Los Angeles_Dissemination Report_Dissemination Report.pdf to images: ['/tmp/tmpmo_xk01h/page_1.jpg', '/tmp/tmpmo_xk01h/page_2.jpg']\n",
      "2024-08-09 10:19:55,827 - INFO - Experiment 1: Processing file 19931101_JETRO, Los Angeles_Dissemination Report_Dissemination Report.pdf\n"
     ]
    },
    {
     "name": "stdout",
     "output_type": "stream",
     "text": [
      "Converted and resized image saved to /tmp/tmpmo_xk01h/page_2.jpg with final quality 85\n",
      "Converted PDF /tmp/tmpmo_xk01h/19920301_JETRO, Los Angeles_Dissemination Report_Dissemination Report.pdf to images: ['/tmp/tmpmo_xk01h/page_1.jpg', '/tmp/tmpmo_xk01h/page_2.jpg']\n",
      "Experiment 1: Processing file 19931101_JETRO, Los Angeles_Dissemination Report_Dissemination Report.pdf\n"
     ]
    },
    {
     "name": "stderr",
     "output_type": "stream",
     "text": [
      "2024-08-09 10:19:56,509 - INFO - Converted and resized image saved to /tmp/tmpx06uayot/page_1.jpg with final quality 85\n"
     ]
    },
    {
     "name": "stdout",
     "output_type": "stream",
     "text": [
      "Converted and resized image saved to /tmp/tmpx06uayot/page_1.jpg with final quality 85\n"
     ]
    },
    {
     "name": "stderr",
     "output_type": "stream",
     "text": [
      "2024-08-09 10:19:56,806 - INFO - Converted and resized image saved to /tmp/tmpx06uayot/page_2.jpg with final quality 85\n",
      "2024-08-09 10:19:56,808 - INFO - Converted PDF /tmp/tmpx06uayot/19931101_JETRO, Los Angeles_Dissemination Report_Dissemination Report.pdf to images: ['/tmp/tmpx06uayot/page_1.jpg', '/tmp/tmpx06uayot/page_2.jpg']\n",
      "2024-08-09 10:19:56,818 - INFO - Experiment 1: Processing file 19931117_KOTRA_Dissemination Report_Dissemination Report.pdf\n"
     ]
    },
    {
     "name": "stdout",
     "output_type": "stream",
     "text": [
      "Converted and resized image saved to /tmp/tmpx06uayot/page_2.jpg with final quality 85\n",
      "Converted PDF /tmp/tmpx06uayot/19931101_JETRO, Los Angeles_Dissemination Report_Dissemination Report.pdf to images: ['/tmp/tmpx06uayot/page_1.jpg', '/tmp/tmpx06uayot/page_2.jpg']\n",
      "Experiment 1: Processing file 19931117_KOTRA_Dissemination Report_Dissemination Report.pdf\n"
     ]
    },
    {
     "name": "stderr",
     "output_type": "stream",
     "text": [
      "2024-08-09 10:19:57,483 - INFO - Converted and resized image saved to /tmp/tmpp4b__239/page_1.jpg with final quality 85\n"
     ]
    },
    {
     "name": "stdout",
     "output_type": "stream",
     "text": [
      "Converted and resized image saved to /tmp/tmpp4b__239/page_1.jpg with final quality 85\n"
     ]
    },
    {
     "name": "stderr",
     "output_type": "stream",
     "text": [
      "2024-08-09 10:19:57,752 - INFO - Converted and resized image saved to /tmp/tmpp4b__239/page_2.jpg with final quality 85\n",
      "2024-08-09 10:19:57,753 - INFO - Converted PDF /tmp/tmpp4b__239/19931117_KOTRA_Dissemination Report_Dissemination Report.pdf to images: ['/tmp/tmpp4b__239/page_1.jpg', '/tmp/tmpp4b__239/page_2.jpg']\n",
      "2024-08-09 10:19:57,764 - INFO - Experiment 1: Processing file 19920901_Representative of the Turkish Republic of Northern Cyprus_Dissemination Report_Dissemination Report.pdf\n"
     ]
    },
    {
     "name": "stdout",
     "output_type": "stream",
     "text": [
      "Converted and resized image saved to /tmp/tmpp4b__239/page_2.jpg with final quality 85\n",
      "Converted PDF /tmp/tmpp4b__239/19931117_KOTRA_Dissemination Report_Dissemination Report.pdf to images: ['/tmp/tmpp4b__239/page_1.jpg', '/tmp/tmpp4b__239/page_2.jpg']\n",
      "Experiment 1: Processing file 19920901_Representative of the Turkish Republic of Northern Cyprus_Dissemination Report_Dissemination Report.pdf\n"
     ]
    },
    {
     "name": "stderr",
     "output_type": "stream",
     "text": [
      "2024-08-09 10:19:58,440 - INFO - Converted and resized image saved to /tmp/tmpx8228kyv/page_1.jpg with final quality 85\n"
     ]
    },
    {
     "name": "stdout",
     "output_type": "stream",
     "text": [
      "Converted and resized image saved to /tmp/tmpx8228kyv/page_1.jpg with final quality 85\n"
     ]
    },
    {
     "name": "stderr",
     "output_type": "stream",
     "text": [
      "2024-08-09 10:19:58,721 - INFO - Converted and resized image saved to /tmp/tmpx8228kyv/page_2.jpg with final quality 85\n",
      "2024-08-09 10:19:58,723 - INFO - Converted PDF /tmp/tmpx8228kyv/19920901_Representative of the Turkish Republic of Northern Cyprus_Dissemination Report_Dissemination Report.pdf to images: ['/tmp/tmpx8228kyv/page_1.jpg', '/tmp/tmpx8228kyv/page_2.jpg']\n",
      "2024-08-09 10:19:58,733 - INFO - Experiment 1: Processing file 19920701_JETRO, New York_Dissemination Report_Dissemination Report.pdf\n"
     ]
    },
    {
     "name": "stdout",
     "output_type": "stream",
     "text": [
      "Converted and resized image saved to /tmp/tmpx8228kyv/page_2.jpg with final quality 85\n",
      "Converted PDF /tmp/tmpx8228kyv/19920901_Representative of the Turkish Republic of Northern Cyprus_Dissemination Report_Dissemination Report.pdf to images: ['/tmp/tmpx8228kyv/page_1.jpg', '/tmp/tmpx8228kyv/page_2.jpg']\n",
      "Experiment 1: Processing file 19920701_JETRO, New York_Dissemination Report_Dissemination Report.pdf\n"
     ]
    },
    {
     "name": "stderr",
     "output_type": "stream",
     "text": [
      "2024-08-09 10:19:59,403 - INFO - Converted and resized image saved to /tmp/tmppo71b8wb/page_1.jpg with final quality 85\n"
     ]
    },
    {
     "name": "stdout",
     "output_type": "stream",
     "text": [
      "Converted and resized image saved to /tmp/tmppo71b8wb/page_1.jpg with final quality 85\n"
     ]
    },
    {
     "name": "stderr",
     "output_type": "stream",
     "text": [
      "2024-08-09 10:19:59,653 - INFO - Converted and resized image saved to /tmp/tmppo71b8wb/page_2.jpg with final quality 85\n",
      "2024-08-09 10:19:59,654 - INFO - Converted PDF /tmp/tmppo71b8wb/19920701_JETRO, New York_Dissemination Report_Dissemination Report.pdf to images: ['/tmp/tmppo71b8wb/page_1.jpg', '/tmp/tmppo71b8wb/page_2.jpg']\n",
      "2024-08-09 10:19:59,666 - INFO - Experiment 1: Processing file 19920701_JETRO, Los Angeles_Dissemination Report_Dissemination Report.pdf\n"
     ]
    },
    {
     "name": "stdout",
     "output_type": "stream",
     "text": [
      "Converted and resized image saved to /tmp/tmppo71b8wb/page_2.jpg with final quality 85\n",
      "Converted PDF /tmp/tmppo71b8wb/19920701_JETRO, New York_Dissemination Report_Dissemination Report.pdf to images: ['/tmp/tmppo71b8wb/page_1.jpg', '/tmp/tmppo71b8wb/page_2.jpg']\n",
      "Experiment 1: Processing file 19920701_JETRO, Los Angeles_Dissemination Report_Dissemination Report.pdf\n"
     ]
    },
    {
     "name": "stderr",
     "output_type": "stream",
     "text": [
      "2024-08-09 10:20:00,328 - INFO - Converted and resized image saved to /tmp/tmplu4wpgc6/page_1.jpg with final quality 85\n"
     ]
    },
    {
     "name": "stdout",
     "output_type": "stream",
     "text": [
      "Converted and resized image saved to /tmp/tmplu4wpgc6/page_1.jpg with final quality 85\n"
     ]
    },
    {
     "name": "stderr",
     "output_type": "stream",
     "text": [
      "2024-08-09 10:20:00,594 - INFO - Converted and resized image saved to /tmp/tmplu4wpgc6/page_2.jpg with final quality 85\n",
      "2024-08-09 10:20:00,596 - INFO - Converted PDF /tmp/tmplu4wpgc6/19920701_JETRO, Los Angeles_Dissemination Report_Dissemination Report.pdf to images: ['/tmp/tmplu4wpgc6/page_1.jpg', '/tmp/tmplu4wpgc6/page_2.jpg']\n",
      "2024-08-09 10:20:00,608 - INFO - Experiment 1: Processing file 19910201_Akin, Gump, Strauss, Hauer _ Feld, LLP_Dissemination Report_Dissemination Report.pdf\n"
     ]
    },
    {
     "name": "stdout",
     "output_type": "stream",
     "text": [
      "Converted and resized image saved to /tmp/tmplu4wpgc6/page_2.jpg with final quality 85\n",
      "Converted PDF /tmp/tmplu4wpgc6/19920701_JETRO, Los Angeles_Dissemination Report_Dissemination Report.pdf to images: ['/tmp/tmplu4wpgc6/page_1.jpg', '/tmp/tmplu4wpgc6/page_2.jpg']\n",
      "Experiment 1: Processing file 19910201_Akin, Gump, Strauss, Hauer _ Feld, LLP_Dissemination Report_Dissemination Report.pdf\n"
     ]
    },
    {
     "name": "stderr",
     "output_type": "stream",
     "text": [
      "2024-08-09 10:20:01,287 - INFO - Converted and resized image saved to /tmp/tmpl11m9o3t/page_1.jpg with final quality 85\n"
     ]
    },
    {
     "name": "stdout",
     "output_type": "stream",
     "text": [
      "Converted and resized image saved to /tmp/tmpl11m9o3t/page_1.jpg with final quality 85\n"
     ]
    },
    {
     "name": "stderr",
     "output_type": "stream",
     "text": [
      "2024-08-09 10:20:01,545 - INFO - Converted and resized image saved to /tmp/tmpl11m9o3t/page_2.jpg with final quality 85\n",
      "2024-08-09 10:20:01,547 - INFO - Converted PDF /tmp/tmpl11m9o3t/19910201_Akin, Gump, Strauss, Hauer _ Feld, LLP_Dissemination Report_Dissemination Report.pdf to images: ['/tmp/tmpl11m9o3t/page_1.jpg', '/tmp/tmpl11m9o3t/page_2.jpg']\n",
      "2024-08-09 10:20:01,558 - INFO - Experiment 1: Processing file 19920501_Hogan Lovells US LLP_Dissemination Report_Dissemination Report.pdf\n"
     ]
    },
    {
     "name": "stdout",
     "output_type": "stream",
     "text": [
      "Converted and resized image saved to /tmp/tmpl11m9o3t/page_2.jpg with final quality 85\n",
      "Converted PDF /tmp/tmpl11m9o3t/19910201_Akin, Gump, Strauss, Hauer _ Feld, LLP_Dissemination Report_Dissemination Report.pdf to images: ['/tmp/tmpl11m9o3t/page_1.jpg', '/tmp/tmpl11m9o3t/page_2.jpg']\n",
      "Experiment 1: Processing file 19920501_Hogan Lovells US LLP_Dissemination Report_Dissemination Report.pdf\n"
     ]
    },
    {
     "name": "stderr",
     "output_type": "stream",
     "text": [
      "2024-08-09 10:20:02,232 - INFO - Converted and resized image saved to /tmp/tmpkiop6fy5/page_1.jpg with final quality 85\n"
     ]
    },
    {
     "name": "stdout",
     "output_type": "stream",
     "text": [
      "Converted and resized image saved to /tmp/tmpkiop6fy5/page_1.jpg with final quality 85\n"
     ]
    },
    {
     "name": "stderr",
     "output_type": "stream",
     "text": [
      "2024-08-09 10:20:02,479 - INFO - Converted and resized image saved to /tmp/tmpkiop6fy5/page_2.jpg with final quality 85\n",
      "2024-08-09 10:20:02,481 - INFO - Converted PDF /tmp/tmpkiop6fy5/19920501_Hogan Lovells US LLP_Dissemination Report_Dissemination Report.pdf to images: ['/tmp/tmpkiop6fy5/page_1.jpg', '/tmp/tmpkiop6fy5/page_2.jpg']\n",
      "2024-08-09 10:20:02,492 - INFO - Experiment 1: Processing file 19930101_JETRO, Los Angeles_Dissemination Report_Dissemination Report.pdf\n"
     ]
    },
    {
     "name": "stdout",
     "output_type": "stream",
     "text": [
      "Converted and resized image saved to /tmp/tmpkiop6fy5/page_2.jpg with final quality 85\n",
      "Converted PDF /tmp/tmpkiop6fy5/19920501_Hogan Lovells US LLP_Dissemination Report_Dissemination Report.pdf to images: ['/tmp/tmpkiop6fy5/page_1.jpg', '/tmp/tmpkiop6fy5/page_2.jpg']\n",
      "Experiment 1: Processing file 19930101_JETRO, Los Angeles_Dissemination Report_Dissemination Report.pdf\n"
     ]
    },
    {
     "name": "stderr",
     "output_type": "stream",
     "text": [
      "2024-08-09 10:20:03,155 - INFO - Converted and resized image saved to /tmp/tmpmt2gfl1t/page_1.jpg with final quality 85\n"
     ]
    },
    {
     "name": "stdout",
     "output_type": "stream",
     "text": [
      "Converted and resized image saved to /tmp/tmpmt2gfl1t/page_1.jpg with final quality 85\n"
     ]
    },
    {
     "name": "stderr",
     "output_type": "stream",
     "text": [
      "2024-08-09 10:20:03,413 - INFO - Converted and resized image saved to /tmp/tmpmt2gfl1t/page_2.jpg with final quality 85\n",
      "2024-08-09 10:20:03,415 - INFO - Converted PDF /tmp/tmpmt2gfl1t/19930101_JETRO, Los Angeles_Dissemination Report_Dissemination Report.pdf to images: ['/tmp/tmpmt2gfl1t/page_1.jpg', '/tmp/tmpmt2gfl1t/page_2.jpg']\n",
      "2024-08-09 10:20:03,426 - INFO - Experiment 1: Processing file 19930901_Hill and Knowlton Strategies, LLC_Dissemination Report_Dissemination Report.pdf\n"
     ]
    },
    {
     "name": "stdout",
     "output_type": "stream",
     "text": [
      "Converted and resized image saved to /tmp/tmpmt2gfl1t/page_2.jpg with final quality 85\n",
      "Converted PDF /tmp/tmpmt2gfl1t/19930101_JETRO, Los Angeles_Dissemination Report_Dissemination Report.pdf to images: ['/tmp/tmpmt2gfl1t/page_1.jpg', '/tmp/tmpmt2gfl1t/page_2.jpg']\n",
      "Experiment 1: Processing file 19930901_Hill and Knowlton Strategies, LLC_Dissemination Report_Dissemination Report.pdf\n"
     ]
    },
    {
     "name": "stderr",
     "output_type": "stream",
     "text": [
      "2024-08-09 10:20:04,228 - INFO - Converted and resized image saved to /tmp/tmpe527em3x/page_1.jpg with final quality 85\n"
     ]
    },
    {
     "name": "stdout",
     "output_type": "stream",
     "text": [
      "Converted and resized image saved to /tmp/tmpe527em3x/page_1.jpg with final quality 85\n"
     ]
    },
    {
     "name": "stderr",
     "output_type": "stream",
     "text": [
      "2024-08-09 10:20:04,559 - INFO - Converted and resized image saved to /tmp/tmpe527em3x/page_2.jpg with final quality 85\n",
      "2024-08-09 10:20:04,560 - INFO - Converted PDF /tmp/tmpe527em3x/19930901_Hill and Knowlton Strategies, LLC_Dissemination Report_Dissemination Report.pdf to images: ['/tmp/tmpe527em3x/page_1.jpg', '/tmp/tmpe527em3x/page_2.jpg']\n",
      "2024-08-09 10:20:04,570 - INFO - Experiment 1: Processing file 19920701_Daniel J. Edelman, Inc._Dissemination Report_Dissemination Report.pdf\n"
     ]
    },
    {
     "name": "stdout",
     "output_type": "stream",
     "text": [
      "Converted and resized image saved to /tmp/tmpe527em3x/page_2.jpg with final quality 85\n",
      "Converted PDF /tmp/tmpe527em3x/19930901_Hill and Knowlton Strategies, LLC_Dissemination Report_Dissemination Report.pdf to images: ['/tmp/tmpe527em3x/page_1.jpg', '/tmp/tmpe527em3x/page_2.jpg']\n",
      "Experiment 1: Processing file 19920701_Daniel J. Edelman, Inc._Dissemination Report_Dissemination Report.pdf\n"
     ]
    },
    {
     "name": "stderr",
     "output_type": "stream",
     "text": [
      "2024-08-09 10:20:05,099 - INFO - Converted and resized image saved to /tmp/tmp3xlz5vpe/page_1.jpg with final quality 85\n",
      "2024-08-09 10:20:05,101 - INFO - Converted PDF /tmp/tmp3xlz5vpe/19920701_Daniel J. Edelman, Inc._Dissemination Report_Dissemination Report.pdf to images: ['/tmp/tmp3xlz5vpe/page_1.jpg']\n",
      "2024-08-09 10:20:05,110 - INFO - Experiment 1: Processing file 19911201_Scottish Enterprise_Dissemination Report_Dissemination Report.pdf\n"
     ]
    },
    {
     "name": "stdout",
     "output_type": "stream",
     "text": [
      "Converted and resized image saved to /tmp/tmp3xlz5vpe/page_1.jpg with final quality 85\n",
      "Converted PDF /tmp/tmp3xlz5vpe/19920701_Daniel J. Edelman, Inc._Dissemination Report_Dissemination Report.pdf to images: ['/tmp/tmp3xlz5vpe/page_1.jpg']\n",
      "Experiment 1: Processing file 19911201_Scottish Enterprise_Dissemination Report_Dissemination Report.pdf\n"
     ]
    },
    {
     "name": "stderr",
     "output_type": "stream",
     "text": [
      "2024-08-09 10:20:05,662 - INFO - Converted and resized image saved to /tmp/tmptc8toqvp/page_1.jpg with final quality 85\n",
      "2024-08-09 10:20:05,663 - INFO - Converted PDF /tmp/tmptc8toqvp/19911201_Scottish Enterprise_Dissemination Report_Dissemination Report.pdf to images: ['/tmp/tmptc8toqvp/page_1.jpg']\n",
      "2024-08-09 10:20:05,673 - INFO - Experiment 1: Processing file 19930201_Kobe Trade Information Office_Dissemination Report_Dissemination Report.pdf\n"
     ]
    },
    {
     "name": "stdout",
     "output_type": "stream",
     "text": [
      "Converted and resized image saved to /tmp/tmptc8toqvp/page_1.jpg with final quality 85\n",
      "Converted PDF /tmp/tmptc8toqvp/19911201_Scottish Enterprise_Dissemination Report_Dissemination Report.pdf to images: ['/tmp/tmptc8toqvp/page_1.jpg']\n",
      "Experiment 1: Processing file 19930201_Kobe Trade Information Office_Dissemination Report_Dissemination Report.pdf\n"
     ]
    },
    {
     "name": "stderr",
     "output_type": "stream",
     "text": [
      "2024-08-09 10:20:06,320 - INFO - Converted and resized image saved to /tmp/tmpdzrpphmv/page_1.jpg with final quality 85\n"
     ]
    },
    {
     "name": "stdout",
     "output_type": "stream",
     "text": [
      "Converted and resized image saved to /tmp/tmpdzrpphmv/page_1.jpg with final quality 85\n"
     ]
    },
    {
     "name": "stderr",
     "output_type": "stream",
     "text": [
      "2024-08-09 10:20:06,580 - INFO - Converted and resized image saved to /tmp/tmpdzrpphmv/page_2.jpg with final quality 85\n",
      "2024-08-09 10:20:06,582 - INFO - Converted PDF /tmp/tmpdzrpphmv/19930201_Kobe Trade Information Office_Dissemination Report_Dissemination Report.pdf to images: ['/tmp/tmpdzrpphmv/page_1.jpg', '/tmp/tmpdzrpphmv/page_2.jpg']\n",
      "2024-08-09 10:20:06,592 - INFO - Experiment 1: Processing file 19950522_JETRO, Los Angeles_Dissemination Report_Dissemination Report.pdf\n"
     ]
    },
    {
     "name": "stdout",
     "output_type": "stream",
     "text": [
      "Converted and resized image saved to /tmp/tmpdzrpphmv/page_2.jpg with final quality 85\n",
      "Converted PDF /tmp/tmpdzrpphmv/19930201_Kobe Trade Information Office_Dissemination Report_Dissemination Report.pdf to images: ['/tmp/tmpdzrpphmv/page_1.jpg', '/tmp/tmpdzrpphmv/page_2.jpg']\n",
      "Experiment 1: Processing file 19950522_JETRO, Los Angeles_Dissemination Report_Dissemination Report.pdf\n"
     ]
    },
    {
     "name": "stderr",
     "output_type": "stream",
     "text": [
      "2024-08-09 10:20:07,233 - INFO - Converted and resized image saved to /tmp/tmpradfzp49/page_1.jpg with final quality 85\n"
     ]
    },
    {
     "name": "stdout",
     "output_type": "stream",
     "text": [
      "Converted and resized image saved to /tmp/tmpradfzp49/page_1.jpg with final quality 85\n"
     ]
    },
    {
     "name": "stderr",
     "output_type": "stream",
     "text": [
      "2024-08-09 10:20:07,477 - INFO - Converted and resized image saved to /tmp/tmpradfzp49/page_2.jpg with final quality 85\n",
      "2024-08-09 10:20:07,479 - INFO - Converted PDF /tmp/tmpradfzp49/19950522_JETRO, Los Angeles_Dissemination Report_Dissemination Report.pdf to images: ['/tmp/tmpradfzp49/page_1.jpg', '/tmp/tmpradfzp49/page_2.jpg']\n",
      "2024-08-09 10:20:07,489 - INFO - Experiment 1: Processing file 19930901_JETRO, Los Angeles_Dissemination Report_Dissemination Report.pdf\n"
     ]
    },
    {
     "name": "stdout",
     "output_type": "stream",
     "text": [
      "Converted and resized image saved to /tmp/tmpradfzp49/page_2.jpg with final quality 85\n",
      "Converted PDF /tmp/tmpradfzp49/19950522_JETRO, Los Angeles_Dissemination Report_Dissemination Report.pdf to images: ['/tmp/tmpradfzp49/page_1.jpg', '/tmp/tmpradfzp49/page_2.jpg']\n",
      "Experiment 1: Processing file 19930901_JETRO, Los Angeles_Dissemination Report_Dissemination Report.pdf\n"
     ]
    },
    {
     "name": "stderr",
     "output_type": "stream",
     "text": [
      "2024-08-09 10:20:08,168 - INFO - Converted and resized image saved to /tmp/tmpu17ba3ll/page_1.jpg with final quality 85\n"
     ]
    },
    {
     "name": "stdout",
     "output_type": "stream",
     "text": [
      "Converted and resized image saved to /tmp/tmpu17ba3ll/page_1.jpg with final quality 85\n"
     ]
    },
    {
     "name": "stderr",
     "output_type": "stream",
     "text": [
      "2024-08-09 10:20:08,429 - INFO - Converted and resized image saved to /tmp/tmpu17ba3ll/page_2.jpg with final quality 85\n",
      "2024-08-09 10:20:08,430 - INFO - Converted PDF /tmp/tmpu17ba3ll/19930901_JETRO, Los Angeles_Dissemination Report_Dissemination Report.pdf to images: ['/tmp/tmpu17ba3ll/page_1.jpg', '/tmp/tmpu17ba3ll/page_2.jpg']\n",
      "2024-08-09 10:20:08,441 - INFO - Experiment 1: Processing file 19931101_Hogan Lovells US LLP_Dissemination Report_Dissemination Report.pdf\n"
     ]
    },
    {
     "name": "stdout",
     "output_type": "stream",
     "text": [
      "Converted and resized image saved to /tmp/tmpu17ba3ll/page_2.jpg with final quality 85\n",
      "Converted PDF /tmp/tmpu17ba3ll/19930901_JETRO, Los Angeles_Dissemination Report_Dissemination Report.pdf to images: ['/tmp/tmpu17ba3ll/page_1.jpg', '/tmp/tmpu17ba3ll/page_2.jpg']\n",
      "Experiment 1: Processing file 19931101_Hogan Lovells US LLP_Dissemination Report_Dissemination Report.pdf\n"
     ]
    },
    {
     "name": "stderr",
     "output_type": "stream",
     "text": [
      "2024-08-09 10:20:08,980 - INFO - Converted and resized image saved to /tmp/tmpdtooep3d/page_1.jpg with final quality 85\n",
      "2024-08-09 10:20:08,981 - INFO - Converted PDF /tmp/tmpdtooep3d/19931101_Hogan Lovells US LLP_Dissemination Report_Dissemination Report.pdf to images: ['/tmp/tmpdtooep3d/page_1.jpg']\n",
      "2024-08-09 10:20:08,990 - INFO - Experiment 1: Processing file 19930101_JETRO, Chicago_Dissemination Report_Dissemination Report.pdf\n"
     ]
    },
    {
     "name": "stdout",
     "output_type": "stream",
     "text": [
      "Converted and resized image saved to /tmp/tmpdtooep3d/page_1.jpg with final quality 85\n",
      "Converted PDF /tmp/tmpdtooep3d/19931101_Hogan Lovells US LLP_Dissemination Report_Dissemination Report.pdf to images: ['/tmp/tmpdtooep3d/page_1.jpg']\n",
      "Experiment 1: Processing file 19930101_JETRO, Chicago_Dissemination Report_Dissemination Report.pdf\n"
     ]
    },
    {
     "name": "stderr",
     "output_type": "stream",
     "text": [
      "2024-08-09 10:20:09,646 - INFO - Converted and resized image saved to /tmp/tmpvsamypmn/page_1.jpg with final quality 85\n"
     ]
    },
    {
     "name": "stdout",
     "output_type": "stream",
     "text": [
      "Converted and resized image saved to /tmp/tmpvsamypmn/page_1.jpg with final quality 85\n"
     ]
    },
    {
     "name": "stderr",
     "output_type": "stream",
     "text": [
      "2024-08-09 10:20:09,903 - INFO - Converted and resized image saved to /tmp/tmpvsamypmn/page_2.jpg with final quality 85\n",
      "2024-08-09 10:20:09,904 - INFO - Converted PDF /tmp/tmpvsamypmn/19930101_JETRO, Chicago_Dissemination Report_Dissemination Report.pdf to images: ['/tmp/tmpvsamypmn/page_1.jpg', '/tmp/tmpvsamypmn/page_2.jpg']\n",
      "2024-08-09 10:20:09,915 - INFO - Experiment 1: Processing file 19940914_JETRO, Los Angeles_Dissemination Report_Dissemination Report.pdf\n"
     ]
    },
    {
     "name": "stdout",
     "output_type": "stream",
     "text": [
      "Converted and resized image saved to /tmp/tmpvsamypmn/page_2.jpg with final quality 85\n",
      "Converted PDF /tmp/tmpvsamypmn/19930101_JETRO, Chicago_Dissemination Report_Dissemination Report.pdf to images: ['/tmp/tmpvsamypmn/page_1.jpg', '/tmp/tmpvsamypmn/page_2.jpg']\n",
      "Experiment 1: Processing file 19940914_JETRO, Los Angeles_Dissemination Report_Dissemination Report.pdf\n"
     ]
    },
    {
     "name": "stderr",
     "output_type": "stream",
     "text": [
      "2024-08-09 10:20:10,670 - INFO - Converted and resized image saved to /tmp/tmpy2k9yfq2/page_1.jpg with final quality 85\n"
     ]
    },
    {
     "name": "stdout",
     "output_type": "stream",
     "text": [
      "Converted and resized image saved to /tmp/tmpy2k9yfq2/page_1.jpg with final quality 85\n"
     ]
    },
    {
     "name": "stderr",
     "output_type": "stream",
     "text": [
      "2024-08-09 10:20:10,915 - INFO - Converted and resized image saved to /tmp/tmpy2k9yfq2/page_2.jpg with final quality 85\n"
     ]
    },
    {
     "name": "stdout",
     "output_type": "stream",
     "text": [
      "Converted and resized image saved to /tmp/tmpy2k9yfq2/page_2.jpg with final quality 85\n"
     ]
    },
    {
     "name": "stderr",
     "output_type": "stream",
     "text": [
      "2024-08-09 10:20:11,236 - INFO - Converted and resized image saved to /tmp/tmpy2k9yfq2/page_3.jpg with final quality 85\n",
      "2024-08-09 10:20:11,237 - INFO - Converted PDF /tmp/tmpy2k9yfq2/19940914_JETRO, Los Angeles_Dissemination Report_Dissemination Report.pdf to images: ['/tmp/tmpy2k9yfq2/page_1.jpg', '/tmp/tmpy2k9yfq2/page_2.jpg', '/tmp/tmpy2k9yfq2/page_3.jpg']\n",
      "2024-08-09 10:20:11,250 - INFO - Experiment 1: Processing file 19930201_Akin, Gump, Strauss, Hauer _ Feld, LLP_Dissemination Report_Dissemination Report.pdf\n"
     ]
    },
    {
     "name": "stdout",
     "output_type": "stream",
     "text": [
      "Converted and resized image saved to /tmp/tmpy2k9yfq2/page_3.jpg with final quality 85\n",
      "Converted PDF /tmp/tmpy2k9yfq2/19940914_JETRO, Los Angeles_Dissemination Report_Dissemination Report.pdf to images: ['/tmp/tmpy2k9yfq2/page_1.jpg', '/tmp/tmpy2k9yfq2/page_2.jpg', '/tmp/tmpy2k9yfq2/page_3.jpg']\n",
      "Experiment 1: Processing file 19930201_Akin, Gump, Strauss, Hauer _ Feld, LLP_Dissemination Report_Dissemination Report.pdf\n"
     ]
    },
    {
     "name": "stderr",
     "output_type": "stream",
     "text": [
      "2024-08-09 10:20:11,777 - INFO - Converted and resized image saved to /tmp/tmp97ibdo88/page_1.jpg with final quality 85\n",
      "2024-08-09 10:20:11,779 - INFO - Converted PDF /tmp/tmp97ibdo88/19930201_Akin, Gump, Strauss, Hauer _ Feld, LLP_Dissemination Report_Dissemination Report.pdf to images: ['/tmp/tmp97ibdo88/page_1.jpg']\n",
      "2024-08-09 10:20:11,787 - INFO - Experiment 1: Processing file 19911201_JETRO, Houston_Dissemination Report_Dissemination Report.pdf\n"
     ]
    },
    {
     "name": "stdout",
     "output_type": "stream",
     "text": [
      "Converted and resized image saved to /tmp/tmp97ibdo88/page_1.jpg with final quality 85\n",
      "Converted PDF /tmp/tmp97ibdo88/19930201_Akin, Gump, Strauss, Hauer _ Feld, LLP_Dissemination Report_Dissemination Report.pdf to images: ['/tmp/tmp97ibdo88/page_1.jpg']\n",
      "Experiment 1: Processing file 19911201_JETRO, Houston_Dissemination Report_Dissemination Report.pdf\n"
     ]
    },
    {
     "name": "stderr",
     "output_type": "stream",
     "text": [
      "2024-08-09 10:20:12,471 - INFO - Converted and resized image saved to /tmp/tmpfy43o16e/page_1.jpg with final quality 85\n"
     ]
    },
    {
     "name": "stdout",
     "output_type": "stream",
     "text": [
      "Converted and resized image saved to /tmp/tmpfy43o16e/page_1.jpg with final quality 85\n"
     ]
    },
    {
     "name": "stderr",
     "output_type": "stream",
     "text": [
      "2024-08-09 10:20:12,741 - INFO - Converted and resized image saved to /tmp/tmpfy43o16e/page_2.jpg with final quality 85\n",
      "2024-08-09 10:20:12,742 - INFO - Converted PDF /tmp/tmpfy43o16e/19911201_JETRO, Houston_Dissemination Report_Dissemination Report.pdf to images: ['/tmp/tmpfy43o16e/page_1.jpg', '/tmp/tmpfy43o16e/page_2.jpg']\n",
      "2024-08-09 10:20:12,753 - INFO - Processing template type: Short-Form\n",
      "2024-08-09 10:20:12,753 - INFO - Experiment 1: Processing file 20110722_Daniel J. Edelman, Inc._Norfolk, Jeffrey_Short-Form.pdf\n"
     ]
    },
    {
     "name": "stdout",
     "output_type": "stream",
     "text": [
      "Converted and resized image saved to /tmp/tmpfy43o16e/page_2.jpg with final quality 85\n",
      "Converted PDF /tmp/tmpfy43o16e/19911201_JETRO, Houston_Dissemination Report_Dissemination Report.pdf to images: ['/tmp/tmpfy43o16e/page_1.jpg', '/tmp/tmpfy43o16e/page_2.jpg']\n",
      "s---------------Template type:  Short-Form\n",
      "s---------------Level type:  STL\n",
      "Experiment 1: Processing file 20110722_Daniel J. Edelman, Inc._Norfolk, Jeffrey_Short-Form.pdf\n"
     ]
    },
    {
     "name": "stderr",
     "output_type": "stream",
     "text": [
      "2024-08-09 10:20:13,438 - INFO - Converted and resized image saved to /tmp/tmp0zg2rr_1/page_1.jpg with final quality 85\n"
     ]
    },
    {
     "name": "stdout",
     "output_type": "stream",
     "text": [
      "Converted and resized image saved to /tmp/tmp0zg2rr_1/page_1.jpg with final quality 85\n"
     ]
    },
    {
     "name": "stderr",
     "output_type": "stream",
     "text": [
      "2024-08-09 10:20:13,748 - INFO - Converted and resized image saved to /tmp/tmp0zg2rr_1/page_2.jpg with final quality 85\n",
      "2024-08-09 10:20:13,749 - INFO - Converted PDF /tmp/tmp0zg2rr_1/20110722_Daniel J. Edelman, Inc._Norfolk, Jeffrey_Short-Form.pdf to images: ['/tmp/tmp0zg2rr_1/page_1.jpg', '/tmp/tmp0zg2rr_1/page_2.jpg']\n",
      "2024-08-09 10:20:13,761 - INFO - Experiment 1: Processing file 20140414_VisitBritain_Medway, Kellen_Short-Form.pdf\n"
     ]
    },
    {
     "name": "stdout",
     "output_type": "stream",
     "text": [
      "Converted and resized image saved to /tmp/tmp0zg2rr_1/page_2.jpg with final quality 85\n",
      "Converted PDF /tmp/tmp0zg2rr_1/20110722_Daniel J. Edelman, Inc._Norfolk, Jeffrey_Short-Form.pdf to images: ['/tmp/tmp0zg2rr_1/page_1.jpg', '/tmp/tmp0zg2rr_1/page_2.jpg']\n",
      "Experiment 1: Processing file 20140414_VisitBritain_Medway, Kellen_Short-Form.pdf\n"
     ]
    },
    {
     "name": "stderr",
     "output_type": "stream",
     "text": [
      "2024-08-09 10:20:14,522 - INFO - Converted and resized image saved to /tmp/tmp97dew41i/page_1.jpg with final quality 85\n"
     ]
    },
    {
     "name": "stdout",
     "output_type": "stream",
     "text": [
      "Converted and resized image saved to /tmp/tmp97dew41i/page_1.jpg with final quality 85\n"
     ]
    },
    {
     "name": "stderr",
     "output_type": "stream",
     "text": [
      "2024-08-09 10:20:14,821 - INFO - Converted and resized image saved to /tmp/tmp97dew41i/page_2.jpg with final quality 85\n",
      "2024-08-09 10:20:14,822 - INFO - Converted PDF /tmp/tmp97dew41i/20140414_VisitBritain_Medway, Kellen_Short-Form.pdf to images: ['/tmp/tmp97dew41i/page_1.jpg', '/tmp/tmp97dew41i/page_2.jpg']\n",
      "2024-08-09 10:20:14,834 - INFO - Experiment 1: Processing file 20160622_Raben Group, LLC_Raben, Robert_Short-Form.pdf\n"
     ]
    },
    {
     "name": "stdout",
     "output_type": "stream",
     "text": [
      "Converted and resized image saved to /tmp/tmp97dew41i/page_2.jpg with final quality 85\n",
      "Converted PDF /tmp/tmp97dew41i/20140414_VisitBritain_Medway, Kellen_Short-Form.pdf to images: ['/tmp/tmp97dew41i/page_1.jpg', '/tmp/tmp97dew41i/page_2.jpg']\n",
      "Experiment 1: Processing file 20160622_Raben Group, LLC_Raben, Robert_Short-Form.pdf\n"
     ]
    },
    {
     "name": "stderr",
     "output_type": "stream",
     "text": [
      "2024-08-09 10:20:15,516 - INFO - Converted and resized image saved to /tmp/tmpvo47rvlo/page_1.jpg with final quality 85\n"
     ]
    },
    {
     "name": "stdout",
     "output_type": "stream",
     "text": [
      "Converted and resized image saved to /tmp/tmpvo47rvlo/page_1.jpg with final quality 85\n"
     ]
    },
    {
     "name": "stderr",
     "output_type": "stream",
     "text": [
      "2024-08-09 10:20:15,823 - INFO - Converted and resized image saved to /tmp/tmpvo47rvlo/page_2.jpg with final quality 85\n",
      "2024-08-09 10:20:15,824 - INFO - Converted PDF /tmp/tmpvo47rvlo/20160622_Raben Group, LLC_Raben, Robert_Short-Form.pdf to images: ['/tmp/tmpvo47rvlo/page_1.jpg', '/tmp/tmpvo47rvlo/page_2.jpg']\n",
      "2024-08-09 10:20:15,838 - INFO - Experiment 1: Processing file 20110912_BLJ Worldwide LTD_Smrikarov, Marc Philip George_Short-Form.pdf\n"
     ]
    },
    {
     "name": "stdout",
     "output_type": "stream",
     "text": [
      "Converted and resized image saved to /tmp/tmpvo47rvlo/page_2.jpg with final quality 85\n",
      "Converted PDF /tmp/tmpvo47rvlo/20160622_Raben Group, LLC_Raben, Robert_Short-Form.pdf to images: ['/tmp/tmpvo47rvlo/page_1.jpg', '/tmp/tmpvo47rvlo/page_2.jpg']\n",
      "Experiment 1: Processing file 20110912_BLJ Worldwide LTD_Smrikarov, Marc Philip George_Short-Form.pdf\n"
     ]
    },
    {
     "name": "stderr",
     "output_type": "stream",
     "text": [
      "2024-08-09 10:20:16,677 - INFO - Converted and resized image saved to /tmp/tmp6doy0g5o/page_1.jpg with final quality 85\n"
     ]
    },
    {
     "name": "stdout",
     "output_type": "stream",
     "text": [
      "Converted and resized image saved to /tmp/tmp6doy0g5o/page_1.jpg with final quality 85\n"
     ]
    },
    {
     "name": "stderr",
     "output_type": "stream",
     "text": [
      "2024-08-09 10:20:16,982 - INFO - Converted and resized image saved to /tmp/tmp6doy0g5o/page_2.jpg with final quality 85\n"
     ]
    },
    {
     "name": "stdout",
     "output_type": "stream",
     "text": [
      "Converted and resized image saved to /tmp/tmp6doy0g5o/page_2.jpg with final quality 85\n"
     ]
    },
    {
     "name": "stderr",
     "output_type": "stream",
     "text": [
      "2024-08-09 10:20:17,266 - INFO - Converted and resized image saved to /tmp/tmp6doy0g5o/page_3.jpg with final quality 85\n",
      "2024-08-09 10:20:17,267 - INFO - Converted PDF /tmp/tmp6doy0g5o/20110912_BLJ Worldwide LTD_Smrikarov, Marc Philip George_Short-Form.pdf to images: ['/tmp/tmp6doy0g5o/page_1.jpg', '/tmp/tmp6doy0g5o/page_2.jpg', '/tmp/tmp6doy0g5o/page_3.jpg']\n",
      "2024-08-09 10:20:17,280 - INFO - Experiment 1: Processing file 20090424_Raben Group, LLC_Goulart, Kimberly_Short-Form.pdf\n"
     ]
    },
    {
     "name": "stdout",
     "output_type": "stream",
     "text": [
      "Converted and resized image saved to /tmp/tmp6doy0g5o/page_3.jpg with final quality 85\n",
      "Converted PDF /tmp/tmp6doy0g5o/20110912_BLJ Worldwide LTD_Smrikarov, Marc Philip George_Short-Form.pdf to images: ['/tmp/tmp6doy0g5o/page_1.jpg', '/tmp/tmp6doy0g5o/page_2.jpg', '/tmp/tmp6doy0g5o/page_3.jpg']\n",
      "Experiment 1: Processing file 20090424_Raben Group, LLC_Goulart, Kimberly_Short-Form.pdf\n"
     ]
    },
    {
     "name": "stderr",
     "output_type": "stream",
     "text": [
      "2024-08-09 10:20:17,942 - INFO - Converted and resized image saved to /tmp/tmp431009tz/page_1.jpg with final quality 85\n"
     ]
    },
    {
     "name": "stdout",
     "output_type": "stream",
     "text": [
      "Converted and resized image saved to /tmp/tmp431009tz/page_1.jpg with final quality 85\n"
     ]
    },
    {
     "name": "stderr",
     "output_type": "stream",
     "text": [
      "2024-08-09 10:20:18,242 - INFO - Converted and resized image saved to /tmp/tmp431009tz/page_2.jpg with final quality 85\n",
      "2024-08-09 10:20:18,243 - INFO - Converted PDF /tmp/tmp431009tz/20090424_Raben Group, LLC_Goulart, Kimberly_Short-Form.pdf to images: ['/tmp/tmp431009tz/page_1.jpg', '/tmp/tmp431009tz/page_2.jpg']\n",
      "2024-08-09 10:20:18,255 - INFO - Experiment 1: Processing file 20140227_Nelson Mullins Riley _ Scarborough, LLP_Clarke, Britton_Short-Form.pdf\n"
     ]
    },
    {
     "name": "stdout",
     "output_type": "stream",
     "text": [
      "Converted and resized image saved to /tmp/tmp431009tz/page_2.jpg with final quality 85\n",
      "Converted PDF /tmp/tmp431009tz/20090424_Raben Group, LLC_Goulart, Kimberly_Short-Form.pdf to images: ['/tmp/tmp431009tz/page_1.jpg', '/tmp/tmp431009tz/page_2.jpg']\n",
      "Experiment 1: Processing file 20140227_Nelson Mullins Riley _ Scarborough, LLP_Clarke, Britton_Short-Form.pdf\n"
     ]
    },
    {
     "name": "stderr",
     "output_type": "stream",
     "text": [
      "2024-08-09 10:20:18,952 - INFO - Converted and resized image saved to /tmp/tmpi91yrvxk/page_1.jpg with final quality 85\n"
     ]
    },
    {
     "name": "stdout",
     "output_type": "stream",
     "text": [
      "Converted and resized image saved to /tmp/tmpi91yrvxk/page_1.jpg with final quality 85\n"
     ]
    },
    {
     "name": "stderr",
     "output_type": "stream",
     "text": [
      "2024-08-09 10:20:19,254 - INFO - Converted and resized image saved to /tmp/tmpi91yrvxk/page_2.jpg with final quality 85\n",
      "2024-08-09 10:20:19,255 - INFO - Converted PDF /tmp/tmpi91yrvxk/20140227_Nelson Mullins Riley _ Scarborough, LLP_Clarke, Britton_Short-Form.pdf to images: ['/tmp/tmpi91yrvxk/page_1.jpg', '/tmp/tmpi91yrvxk/page_2.jpg']\n",
      "2024-08-09 10:20:19,267 - INFO - Experiment 1: Processing file 20090624_Akin, Gump, Strauss, Hauer _ Feld, LLP_Davis, Smith W._Short-Form.pdf\n"
     ]
    },
    {
     "name": "stdout",
     "output_type": "stream",
     "text": [
      "Converted and resized image saved to /tmp/tmpi91yrvxk/page_2.jpg with final quality 85\n",
      "Converted PDF /tmp/tmpi91yrvxk/20140227_Nelson Mullins Riley _ Scarborough, LLP_Clarke, Britton_Short-Form.pdf to images: ['/tmp/tmpi91yrvxk/page_1.jpg', '/tmp/tmpi91yrvxk/page_2.jpg']\n",
      "Experiment 1: Processing file 20090624_Akin, Gump, Strauss, Hauer _ Feld, LLP_Davis, Smith W._Short-Form.pdf\n"
     ]
    },
    {
     "name": "stderr",
     "output_type": "stream",
     "text": [
      "2024-08-09 10:20:20,059 - INFO - Converted and resized image saved to /tmp/tmptren1cxg/page_1.jpg with final quality 85\n"
     ]
    },
    {
     "name": "stdout",
     "output_type": "stream",
     "text": [
      "Converted and resized image saved to /tmp/tmptren1cxg/page_1.jpg with final quality 85\n"
     ]
    },
    {
     "name": "stderr",
     "output_type": "stream",
     "text": [
      "2024-08-09 10:20:20,356 - INFO - Converted and resized image saved to /tmp/tmptren1cxg/page_2.jpg with final quality 85\n"
     ]
    },
    {
     "name": "stdout",
     "output_type": "stream",
     "text": [
      "Converted and resized image saved to /tmp/tmptren1cxg/page_2.jpg with final quality 85\n"
     ]
    },
    {
     "name": "stderr",
     "output_type": "stream",
     "text": [
      "2024-08-09 10:20:20,624 - INFO - Converted and resized image saved to /tmp/tmptren1cxg/page_3.jpg with final quality 85\n",
      "2024-08-09 10:20:20,625 - INFO - Converted PDF /tmp/tmptren1cxg/20090624_Akin, Gump, Strauss, Hauer _ Feld, LLP_Davis, Smith W._Short-Form.pdf to images: ['/tmp/tmptren1cxg/page_1.jpg', '/tmp/tmptren1cxg/page_2.jpg', '/tmp/tmptren1cxg/page_3.jpg']\n",
      "2024-08-09 10:20:20,636 - INFO - Experiment 1: Processing file 20090522_Invest Northern Ireland_Murray, Aengus_Short-Form.pdf\n"
     ]
    },
    {
     "name": "stdout",
     "output_type": "stream",
     "text": [
      "Converted and resized image saved to /tmp/tmptren1cxg/page_3.jpg with final quality 85\n",
      "Converted PDF /tmp/tmptren1cxg/20090624_Akin, Gump, Strauss, Hauer _ Feld, LLP_Davis, Smith W._Short-Form.pdf to images: ['/tmp/tmptren1cxg/page_1.jpg', '/tmp/tmptren1cxg/page_2.jpg', '/tmp/tmptren1cxg/page_3.jpg']\n",
      "Experiment 1: Processing file 20090522_Invest Northern Ireland_Murray, Aengus_Short-Form.pdf\n"
     ]
    },
    {
     "name": "stderr",
     "output_type": "stream",
     "text": [
      "2024-08-09 10:20:21,275 - INFO - Converted and resized image saved to /tmp/tmpe40oeu97/page_1.jpg with final quality 85\n"
     ]
    },
    {
     "name": "stdout",
     "output_type": "stream",
     "text": [
      "Converted and resized image saved to /tmp/tmpe40oeu97/page_1.jpg with final quality 85\n"
     ]
    },
    {
     "name": "stderr",
     "output_type": "stream",
     "text": [
      "2024-08-09 10:20:21,568 - INFO - Converted and resized image saved to /tmp/tmpe40oeu97/page_2.jpg with final quality 85\n",
      "2024-08-09 10:20:21,569 - INFO - Converted PDF /tmp/tmpe40oeu97/20090522_Invest Northern Ireland_Murray, Aengus_Short-Form.pdf to images: ['/tmp/tmpe40oeu97/page_1.jpg', '/tmp/tmpe40oeu97/page_2.jpg']\n",
      "2024-08-09 10:20:21,580 - INFO - Experiment 1: Processing file 20080918_Squire Patton Boggs, LLP_Varma, Anurag_Short-Form.pdf\n"
     ]
    },
    {
     "name": "stdout",
     "output_type": "stream",
     "text": [
      "Converted and resized image saved to /tmp/tmpe40oeu97/page_2.jpg with final quality 85\n",
      "Converted PDF /tmp/tmpe40oeu97/20090522_Invest Northern Ireland_Murray, Aengus_Short-Form.pdf to images: ['/tmp/tmpe40oeu97/page_1.jpg', '/tmp/tmpe40oeu97/page_2.jpg']\n",
      "Experiment 1: Processing file 20080918_Squire Patton Boggs, LLP_Varma, Anurag_Short-Form.pdf\n"
     ]
    },
    {
     "name": "stderr",
     "output_type": "stream",
     "text": [
      "2024-08-09 10:20:22,238 - INFO - Converted and resized image saved to /tmp/tmpfs8cuc0n/page_1.jpg with final quality 85\n"
     ]
    },
    {
     "name": "stdout",
     "output_type": "stream",
     "text": [
      "Converted and resized image saved to /tmp/tmpfs8cuc0n/page_1.jpg with final quality 85\n"
     ]
    },
    {
     "name": "stderr",
     "output_type": "stream",
     "text": [
      "2024-08-09 10:20:22,521 - INFO - Converted and resized image saved to /tmp/tmpfs8cuc0n/page_2.jpg with final quality 85\n",
      "2024-08-09 10:20:22,522 - INFO - Converted PDF /tmp/tmpfs8cuc0n/20080918_Squire Patton Boggs, LLP_Varma, Anurag_Short-Form.pdf to images: ['/tmp/tmpfs8cuc0n/page_1.jpg', '/tmp/tmpfs8cuc0n/page_2.jpg']\n",
      "2024-08-09 10:20:22,533 - INFO - Experiment 1: Processing file 20140507_Ketchum Inc. NY_Amorosi, Alexandra Scott_Short-Form.pdf\n"
     ]
    },
    {
     "name": "stdout",
     "output_type": "stream",
     "text": [
      "Converted and resized image saved to /tmp/tmpfs8cuc0n/page_2.jpg with final quality 85\n",
      "Converted PDF /tmp/tmpfs8cuc0n/20080918_Squire Patton Boggs, LLP_Varma, Anurag_Short-Form.pdf to images: ['/tmp/tmpfs8cuc0n/page_1.jpg', '/tmp/tmpfs8cuc0n/page_2.jpg']\n",
      "Experiment 1: Processing file 20140507_Ketchum Inc. NY_Amorosi, Alexandra Scott_Short-Form.pdf\n"
     ]
    },
    {
     "name": "stderr",
     "output_type": "stream",
     "text": [
      "2024-08-09 10:20:23,358 - INFO - Converted and resized image saved to /tmp/tmpc9l2o0j9/page_1.jpg with final quality 85\n"
     ]
    },
    {
     "name": "stdout",
     "output_type": "stream",
     "text": [
      "Converted and resized image saved to /tmp/tmpc9l2o0j9/page_1.jpg with final quality 85\n"
     ]
    },
    {
     "name": "stderr",
     "output_type": "stream",
     "text": [
      "2024-08-09 10:20:23,676 - INFO - Converted and resized image saved to /tmp/tmpc9l2o0j9/page_2.jpg with final quality 85\n",
      "2024-08-09 10:20:23,676 - INFO - Converted PDF /tmp/tmpc9l2o0j9/20140507_Ketchum Inc. NY_Amorosi, Alexandra Scott_Short-Form.pdf to images: ['/tmp/tmpc9l2o0j9/page_1.jpg', '/tmp/tmpc9l2o0j9/page_2.jpg']\n",
      "2024-08-09 10:20:23,688 - INFO - Experiment 1: Processing file 20101208_Ketchum Inc. NY_Austria, Kristine Partolan_Short-Form.pdf\n"
     ]
    },
    {
     "name": "stdout",
     "output_type": "stream",
     "text": [
      "Converted and resized image saved to /tmp/tmpc9l2o0j9/page_2.jpg with final quality 85\n",
      "Converted PDF /tmp/tmpc9l2o0j9/20140507_Ketchum Inc. NY_Amorosi, Alexandra Scott_Short-Form.pdf to images: ['/tmp/tmpc9l2o0j9/page_1.jpg', '/tmp/tmpc9l2o0j9/page_2.jpg']\n",
      "Experiment 1: Processing file 20101208_Ketchum Inc. NY_Austria, Kristine Partolan_Short-Form.pdf\n"
     ]
    },
    {
     "name": "stderr",
     "output_type": "stream",
     "text": [
      "2024-08-09 10:20:24,350 - INFO - Converted and resized image saved to /tmp/tmpwzarq4_6/page_1.jpg with final quality 85\n"
     ]
    },
    {
     "name": "stdout",
     "output_type": "stream",
     "text": [
      "Converted and resized image saved to /tmp/tmpwzarq4_6/page_1.jpg with final quality 85\n"
     ]
    },
    {
     "name": "stderr",
     "output_type": "stream",
     "text": [
      "2024-08-09 10:20:24,627 - INFO - Converted and resized image saved to /tmp/tmpwzarq4_6/page_2.jpg with final quality 85\n",
      "2024-08-09 10:20:24,628 - INFO - Converted PDF /tmp/tmpwzarq4_6/20101208_Ketchum Inc. NY_Austria, Kristine Partolan_Short-Form.pdf to images: ['/tmp/tmpwzarq4_6/page_1.jpg', '/tmp/tmpwzarq4_6/page_2.jpg']\n",
      "2024-08-09 10:20:24,638 - INFO - Experiment 1: Processing file 20170424_Singapore Tourism Board_Yang, Yawen_Short-Form.pdf\n"
     ]
    },
    {
     "name": "stdout",
     "output_type": "stream",
     "text": [
      "Converted and resized image saved to /tmp/tmpwzarq4_6/page_2.jpg with final quality 85\n",
      "Converted PDF /tmp/tmpwzarq4_6/20101208_Ketchum Inc. NY_Austria, Kristine Partolan_Short-Form.pdf to images: ['/tmp/tmpwzarq4_6/page_1.jpg', '/tmp/tmpwzarq4_6/page_2.jpg']\n",
      "Experiment 1: Processing file 20170424_Singapore Tourism Board_Yang, Yawen_Short-Form.pdf\n"
     ]
    },
    {
     "name": "stderr",
     "output_type": "stream",
     "text": [
      "2024-08-09 10:20:25,348 - INFO - Converted and resized image saved to /tmp/tmpem6uv56h/page_1.jpg with final quality 85\n"
     ]
    },
    {
     "name": "stdout",
     "output_type": "stream",
     "text": [
      "Converted and resized image saved to /tmp/tmpem6uv56h/page_1.jpg with final quality 85\n"
     ]
    },
    {
     "name": "stderr",
     "output_type": "stream",
     "text": [
      "2024-08-09 10:20:25,667 - INFO - Converted and resized image saved to /tmp/tmpem6uv56h/page_2.jpg with final quality 85\n",
      "2024-08-09 10:20:25,668 - INFO - Converted PDF /tmp/tmpem6uv56h/20170424_Singapore Tourism Board_Yang, Yawen_Short-Form.pdf to images: ['/tmp/tmpem6uv56h/page_1.jpg', '/tmp/tmpem6uv56h/page_2.jpg']\n",
      "2024-08-09 10:20:25,680 - INFO - Experiment 1: Processing file 20090623_Fleishman-Hillard, Inc._Dinagan, John_Short-Form.pdf\n"
     ]
    },
    {
     "name": "stdout",
     "output_type": "stream",
     "text": [
      "Converted and resized image saved to /tmp/tmpem6uv56h/page_2.jpg with final quality 85\n",
      "Converted PDF /tmp/tmpem6uv56h/20170424_Singapore Tourism Board_Yang, Yawen_Short-Form.pdf to images: ['/tmp/tmpem6uv56h/page_1.jpg', '/tmp/tmpem6uv56h/page_2.jpg']\n",
      "Experiment 1: Processing file 20090623_Fleishman-Hillard, Inc._Dinagan, John_Short-Form.pdf\n"
     ]
    },
    {
     "name": "stderr",
     "output_type": "stream",
     "text": [
      "2024-08-09 10:20:26,382 - INFO - Converted and resized image saved to /tmp/tmprrp6ilor/page_1.jpg with final quality 85\n"
     ]
    },
    {
     "name": "stdout",
     "output_type": "stream",
     "text": [
      "Converted and resized image saved to /tmp/tmprrp6ilor/page_1.jpg with final quality 85\n"
     ]
    },
    {
     "name": "stderr",
     "output_type": "stream",
     "text": [
      "2024-08-09 10:20:26,695 - INFO - Converted and resized image saved to /tmp/tmprrp6ilor/page_2.jpg with final quality 85\n",
      "2024-08-09 10:20:26,696 - INFO - Converted PDF /tmp/tmprrp6ilor/20090623_Fleishman-Hillard, Inc._Dinagan, John_Short-Form.pdf to images: ['/tmp/tmprrp6ilor/page_1.jpg', '/tmp/tmprrp6ilor/page_2.jpg']\n",
      "2024-08-09 10:20:26,707 - INFO - Experiment 1: Processing file 20120917_Singapore Economic Development Board_Choo, Xing Jie_Short-Form.pdf\n"
     ]
    },
    {
     "name": "stdout",
     "output_type": "stream",
     "text": [
      "Converted and resized image saved to /tmp/tmprrp6ilor/page_2.jpg with final quality 85\n",
      "Converted PDF /tmp/tmprrp6ilor/20090623_Fleishman-Hillard, Inc._Dinagan, John_Short-Form.pdf to images: ['/tmp/tmprrp6ilor/page_1.jpg', '/tmp/tmprrp6ilor/page_2.jpg']\n",
      "Experiment 1: Processing file 20120917_Singapore Economic Development Board_Choo, Xing Jie_Short-Form.pdf\n"
     ]
    },
    {
     "name": "stderr",
     "output_type": "stream",
     "text": [
      "2024-08-09 10:20:27,511 - INFO - Converted and resized image saved to /tmp/tmphyg2z4ss/page_1.jpg with final quality 85\n"
     ]
    },
    {
     "name": "stdout",
     "output_type": "stream",
     "text": [
      "Converted and resized image saved to /tmp/tmphyg2z4ss/page_1.jpg with final quality 85\n"
     ]
    },
    {
     "name": "stderr",
     "output_type": "stream",
     "text": [
      "2024-08-09 10:20:27,828 - INFO - Converted and resized image saved to /tmp/tmphyg2z4ss/page_2.jpg with final quality 85\n",
      "2024-08-09 10:20:27,829 - INFO - Converted PDF /tmp/tmphyg2z4ss/20120917_Singapore Economic Development Board_Choo, Xing Jie_Short-Form.pdf to images: ['/tmp/tmphyg2z4ss/page_1.jpg', '/tmp/tmphyg2z4ss/page_2.jpg']\n",
      "2024-08-09 10:20:27,840 - INFO - Experiment 1: Processing file 20160731_Burson-Marsteller, LLC (Washington, DC)_Jarnagan, Stephanie_Short-Form.pdf\n"
     ]
    },
    {
     "name": "stdout",
     "output_type": "stream",
     "text": [
      "Converted and resized image saved to /tmp/tmphyg2z4ss/page_2.jpg with final quality 85\n",
      "Converted PDF /tmp/tmphyg2z4ss/20120917_Singapore Economic Development Board_Choo, Xing Jie_Short-Form.pdf to images: ['/tmp/tmphyg2z4ss/page_1.jpg', '/tmp/tmphyg2z4ss/page_2.jpg']\n",
      "Experiment 1: Processing file 20160731_Burson-Marsteller, LLC (Washington, DC)_Jarnagan, Stephanie_Short-Form.pdf\n"
     ]
    },
    {
     "name": "stderr",
     "output_type": "stream",
     "text": [
      "2024-08-09 10:20:28,533 - INFO - Converted and resized image saved to /tmp/tmpnh9xphkm/page_1.jpg with final quality 85\n"
     ]
    },
    {
     "name": "stdout",
     "output_type": "stream",
     "text": [
      "Converted and resized image saved to /tmp/tmpnh9xphkm/page_1.jpg with final quality 85\n"
     ]
    },
    {
     "name": "stderr",
     "output_type": "stream",
     "text": [
      "2024-08-09 10:20:28,838 - INFO - Converted and resized image saved to /tmp/tmpnh9xphkm/page_2.jpg with final quality 85\n",
      "2024-08-09 10:20:28,839 - INFO - Converted PDF /tmp/tmpnh9xphkm/20160731_Burson-Marsteller, LLC (Washington, DC)_Jarnagan, Stephanie_Short-Form.pdf to images: ['/tmp/tmpnh9xphkm/page_1.jpg', '/tmp/tmpnh9xphkm/page_2.jpg']\n",
      "2024-08-09 10:20:28,853 - INFO - Experiment 1: Processing file 20121129_Commonwealth of Dominica Maritime Registry, Inc._Jamal, Shahid_Short-Form.pdf\n"
     ]
    },
    {
     "name": "stdout",
     "output_type": "stream",
     "text": [
      "Converted and resized image saved to /tmp/tmpnh9xphkm/page_2.jpg with final quality 85\n",
      "Converted PDF /tmp/tmpnh9xphkm/20160731_Burson-Marsteller, LLC (Washington, DC)_Jarnagan, Stephanie_Short-Form.pdf to images: ['/tmp/tmpnh9xphkm/page_1.jpg', '/tmp/tmpnh9xphkm/page_2.jpg']\n",
      "Experiment 1: Processing file 20121129_Commonwealth of Dominica Maritime Registry, Inc._Jamal, Shahid_Short-Form.pdf\n"
     ]
    },
    {
     "name": "stderr",
     "output_type": "stream",
     "text": [
      "2024-08-09 10:20:29,577 - INFO - Converted and resized image saved to /tmp/tmpzgqi08t7/page_1.jpg with final quality 85\n"
     ]
    },
    {
     "name": "stdout",
     "output_type": "stream",
     "text": [
      "Converted and resized image saved to /tmp/tmpzgqi08t7/page_1.jpg with final quality 85\n"
     ]
    },
    {
     "name": "stderr",
     "output_type": "stream",
     "text": [
      "2024-08-09 10:20:29,893 - INFO - Converted and resized image saved to /tmp/tmpzgqi08t7/page_2.jpg with final quality 85\n",
      "2024-08-09 10:20:29,895 - INFO - Converted PDF /tmp/tmpzgqi08t7/20121129_Commonwealth of Dominica Maritime Registry, Inc._Jamal, Shahid_Short-Form.pdf to images: ['/tmp/tmpzgqi08t7/page_1.jpg', '/tmp/tmpzgqi08t7/page_2.jpg']\n",
      "2024-08-09 10:20:29,908 - INFO - Experiment 1: Processing file 20100111_O_Brien Gentry _ Scott, LLC_Gentry, James_Short-Form.pdf\n"
     ]
    },
    {
     "name": "stdout",
     "output_type": "stream",
     "text": [
      "Converted and resized image saved to /tmp/tmpzgqi08t7/page_2.jpg with final quality 85\n",
      "Converted PDF /tmp/tmpzgqi08t7/20121129_Commonwealth of Dominica Maritime Registry, Inc._Jamal, Shahid_Short-Form.pdf to images: ['/tmp/tmpzgqi08t7/page_1.jpg', '/tmp/tmpzgqi08t7/page_2.jpg']\n",
      "Experiment 1: Processing file 20100111_O_Brien Gentry _ Scott, LLC_Gentry, James_Short-Form.pdf\n"
     ]
    },
    {
     "name": "stderr",
     "output_type": "stream",
     "text": [
      "2024-08-09 10:20:30,791 - INFO - Converted and resized image saved to /tmp/tmp0xa6nf0r/page_1.jpg with final quality 85\n"
     ]
    },
    {
     "name": "stdout",
     "output_type": "stream",
     "text": [
      "Converted and resized image saved to /tmp/tmp0xa6nf0r/page_1.jpg with final quality 85\n"
     ]
    },
    {
     "name": "stderr",
     "output_type": "stream",
     "text": [
      "2024-08-09 10:20:31,084 - INFO - Converted and resized image saved to /tmp/tmp0xa6nf0r/page_2.jpg with final quality 85\n"
     ]
    },
    {
     "name": "stdout",
     "output_type": "stream",
     "text": [
      "Converted and resized image saved to /tmp/tmp0xa6nf0r/page_2.jpg with final quality 85\n"
     ]
    },
    {
     "name": "stderr",
     "output_type": "stream",
     "text": [
      "2024-08-09 10:20:31,405 - INFO - Converted and resized image saved to /tmp/tmp0xa6nf0r/page_3.jpg with final quality 85\n",
      "2024-08-09 10:20:31,407 - INFO - Converted PDF /tmp/tmp0xa6nf0r/20100111_O_Brien Gentry _ Scott, LLC_Gentry, James_Short-Form.pdf to images: ['/tmp/tmp0xa6nf0r/page_1.jpg', '/tmp/tmp0xa6nf0r/page_2.jpg', '/tmp/tmp0xa6nf0r/page_3.jpg']\n",
      "2024-08-09 10:20:31,422 - INFO - Experiment 1: Processing file 20161031_MSLGROUP Americas, Inc._Everett, J. Ballard_Short-Form.pdf\n"
     ]
    },
    {
     "name": "stdout",
     "output_type": "stream",
     "text": [
      "Converted and resized image saved to /tmp/tmp0xa6nf0r/page_3.jpg with final quality 85\n",
      "Converted PDF /tmp/tmp0xa6nf0r/20100111_O_Brien Gentry _ Scott, LLC_Gentry, James_Short-Form.pdf to images: ['/tmp/tmp0xa6nf0r/page_1.jpg', '/tmp/tmp0xa6nf0r/page_2.jpg', '/tmp/tmp0xa6nf0r/page_3.jpg']\n",
      "Experiment 1: Processing file 20161031_MSLGROUP Americas, Inc._Everett, J. Ballard_Short-Form.pdf\n"
     ]
    },
    {
     "name": "stderr",
     "output_type": "stream",
     "text": [
      "2024-08-09 10:20:32,144 - INFO - Converted and resized image saved to /tmp/tmpw7gag0zg/page_1.jpg with final quality 85\n"
     ]
    },
    {
     "name": "stdout",
     "output_type": "stream",
     "text": [
      "Converted and resized image saved to /tmp/tmpw7gag0zg/page_1.jpg with final quality 85\n"
     ]
    },
    {
     "name": "stderr",
     "output_type": "stream",
     "text": [
      "2024-08-09 10:20:32,471 - INFO - Converted and resized image saved to /tmp/tmpw7gag0zg/page_2.jpg with final quality 85\n",
      "2024-08-09 10:20:32,473 - INFO - Converted PDF /tmp/tmpw7gag0zg/20161031_MSLGROUP Americas, Inc._Everett, J. Ballard_Short-Form.pdf to images: ['/tmp/tmpw7gag0zg/page_1.jpg', '/tmp/tmpw7gag0zg/page_2.jpg']\n",
      "2024-08-09 10:20:32,487 - INFO - Experiment 1: Processing file 20131009_VisitBritain_Walsh, Carl_Short-Form.pdf\n"
     ]
    },
    {
     "name": "stdout",
     "output_type": "stream",
     "text": [
      "Converted and resized image saved to /tmp/tmpw7gag0zg/page_2.jpg with final quality 85\n",
      "Converted PDF /tmp/tmpw7gag0zg/20161031_MSLGROUP Americas, Inc._Everett, J. Ballard_Short-Form.pdf to images: ['/tmp/tmpw7gag0zg/page_1.jpg', '/tmp/tmpw7gag0zg/page_2.jpg']\n",
      "Experiment 1: Processing file 20131009_VisitBritain_Walsh, Carl_Short-Form.pdf\n"
     ]
    },
    {
     "name": "stderr",
     "output_type": "stream",
     "text": [
      "2024-08-09 10:20:33,262 - INFO - Converted and resized image saved to /tmp/tmpqjlensyi/page_1.jpg with final quality 85\n"
     ]
    },
    {
     "name": "stdout",
     "output_type": "stream",
     "text": [
      "Converted and resized image saved to /tmp/tmpqjlensyi/page_1.jpg with final quality 85\n"
     ]
    },
    {
     "name": "stderr",
     "output_type": "stream",
     "text": [
      "2024-08-09 10:20:33,555 - INFO - Converted and resized image saved to /tmp/tmpqjlensyi/page_2.jpg with final quality 85\n",
      "2024-08-09 10:20:33,556 - INFO - Converted PDF /tmp/tmpqjlensyi/20131009_VisitBritain_Walsh, Carl_Short-Form.pdf to images: ['/tmp/tmpqjlensyi/page_1.jpg', '/tmp/tmpqjlensyi/page_2.jpg']\n",
      "2024-08-09 10:20:33,568 - INFO - Experiment 1: Processing file 20090408_Arab Information Center_Sherif, Walid Mahmoud Sayed Ahmed_Short-Form.pdf\n"
     ]
    },
    {
     "name": "stdout",
     "output_type": "stream",
     "text": [
      "Converted and resized image saved to /tmp/tmpqjlensyi/page_2.jpg with final quality 85\n",
      "Converted PDF /tmp/tmpqjlensyi/20131009_VisitBritain_Walsh, Carl_Short-Form.pdf to images: ['/tmp/tmpqjlensyi/page_1.jpg', '/tmp/tmpqjlensyi/page_2.jpg']\n",
      "Experiment 1: Processing file 20090408_Arab Information Center_Sherif, Walid Mahmoud Sayed Ahmed_Short-Form.pdf\n"
     ]
    },
    {
     "name": "stderr",
     "output_type": "stream",
     "text": [
      "2024-08-09 10:20:34,222 - INFO - Converted and resized image saved to /tmp/tmpzqkdntz9/page_1.jpg with final quality 85\n"
     ]
    },
    {
     "name": "stdout",
     "output_type": "stream",
     "text": [
      "Converted and resized image saved to /tmp/tmpzqkdntz9/page_1.jpg with final quality 85\n"
     ]
    },
    {
     "name": "stderr",
     "output_type": "stream",
     "text": [
      "2024-08-09 10:20:34,525 - INFO - Converted and resized image saved to /tmp/tmpzqkdntz9/page_2.jpg with final quality 85\n",
      "2024-08-09 10:20:34,526 - INFO - Converted PDF /tmp/tmpzqkdntz9/20090408_Arab Information Center_Sherif, Walid Mahmoud Sayed Ahmed_Short-Form.pdf to images: ['/tmp/tmpzqkdntz9/page_1.jpg', '/tmp/tmpzqkdntz9/page_2.jpg']\n",
      "2024-08-09 10:20:34,538 - INFO - Experiment 1: Processing file 20170130_Burson-Marsteller, LLC (Washington, DC)_Pruitt, David_Short-Form.pdf\n"
     ]
    },
    {
     "name": "stdout",
     "output_type": "stream",
     "text": [
      "Converted and resized image saved to /tmp/tmpzqkdntz9/page_2.jpg with final quality 85\n",
      "Converted PDF /tmp/tmpzqkdntz9/20090408_Arab Information Center_Sherif, Walid Mahmoud Sayed Ahmed_Short-Form.pdf to images: ['/tmp/tmpzqkdntz9/page_1.jpg', '/tmp/tmpzqkdntz9/page_2.jpg']\n",
      "Experiment 1: Processing file 20170130_Burson-Marsteller, LLC (Washington, DC)_Pruitt, David_Short-Form.pdf\n"
     ]
    },
    {
     "name": "stderr",
     "output_type": "stream",
     "text": [
      "2024-08-09 10:20:35,213 - INFO - Converted and resized image saved to /tmp/tmp3ewhw11v/page_1.jpg with final quality 85\n"
     ]
    },
    {
     "name": "stdout",
     "output_type": "stream",
     "text": [
      "Converted and resized image saved to /tmp/tmp3ewhw11v/page_1.jpg with final quality 85\n"
     ]
    },
    {
     "name": "stderr",
     "output_type": "stream",
     "text": [
      "2024-08-09 10:20:35,502 - INFO - Converted and resized image saved to /tmp/tmp3ewhw11v/page_2.jpg with final quality 85\n",
      "2024-08-09 10:20:35,503 - INFO - Converted PDF /tmp/tmp3ewhw11v/20170130_Burson-Marsteller, LLC (Washington, DC)_Pruitt, David_Short-Form.pdf to images: ['/tmp/tmp3ewhw11v/page_1.jpg', '/tmp/tmp3ewhw11v/page_2.jpg']\n",
      "2024-08-09 10:20:35,516 - INFO - Experiment 1: Processing file 20140418_Sorini, Samet _ Associates, LLC_Kingery, John_Short-Form.pdf\n"
     ]
    },
    {
     "name": "stdout",
     "output_type": "stream",
     "text": [
      "Converted and resized image saved to /tmp/tmp3ewhw11v/page_2.jpg with final quality 85\n",
      "Converted PDF /tmp/tmp3ewhw11v/20170130_Burson-Marsteller, LLC (Washington, DC)_Pruitt, David_Short-Form.pdf to images: ['/tmp/tmp3ewhw11v/page_1.jpg', '/tmp/tmp3ewhw11v/page_2.jpg']\n",
      "Experiment 1: Processing file 20140418_Sorini, Samet _ Associates, LLC_Kingery, John_Short-Form.pdf\n"
     ]
    },
    {
     "name": "stderr",
     "output_type": "stream",
     "text": [
      "2024-08-09 10:20:36,189 - INFO - Converted and resized image saved to /tmp/tmp9cb0_l48/page_1.jpg with final quality 85\n"
     ]
    },
    {
     "name": "stdout",
     "output_type": "stream",
     "text": [
      "Converted and resized image saved to /tmp/tmp9cb0_l48/page_1.jpg with final quality 85\n"
     ]
    },
    {
     "name": "stderr",
     "output_type": "stream",
     "text": [
      "2024-08-09 10:20:36,507 - INFO - Converted and resized image saved to /tmp/tmp9cb0_l48/page_2.jpg with final quality 85\n",
      "2024-08-09 10:20:36,509 - INFO - Converted PDF /tmp/tmp9cb0_l48/20140418_Sorini, Samet _ Associates, LLC_Kingery, John_Short-Form.pdf to images: ['/tmp/tmp9cb0_l48/page_1.jpg', '/tmp/tmp9cb0_l48/page_2.jpg']\n",
      "2024-08-09 10:20:36,521 - INFO - Experiment 1: Processing file 20170228_BGR Government Affairs, LLC_Vajdich, Daniel_Short-Form.pdf\n"
     ]
    },
    {
     "name": "stdout",
     "output_type": "stream",
     "text": [
      "Converted and resized image saved to /tmp/tmp9cb0_l48/page_2.jpg with final quality 85\n",
      "Converted PDF /tmp/tmp9cb0_l48/20140418_Sorini, Samet _ Associates, LLC_Kingery, John_Short-Form.pdf to images: ['/tmp/tmp9cb0_l48/page_1.jpg', '/tmp/tmp9cb0_l48/page_2.jpg']\n",
      "Experiment 1: Processing file 20170228_BGR Government Affairs, LLC_Vajdich, Daniel_Short-Form.pdf\n"
     ]
    },
    {
     "name": "stderr",
     "output_type": "stream",
     "text": [
      "2024-08-09 10:20:37,205 - INFO - Converted and resized image saved to /tmp/tmpfz1qtl8g/page_1.jpg with final quality 85\n"
     ]
    },
    {
     "name": "stdout",
     "output_type": "stream",
     "text": [
      "Converted and resized image saved to /tmp/tmpfz1qtl8g/page_1.jpg with final quality 85\n"
     ]
    },
    {
     "name": "stderr",
     "output_type": "stream",
     "text": [
      "2024-08-09 10:20:37,514 - INFO - Converted and resized image saved to /tmp/tmpfz1qtl8g/page_2.jpg with final quality 85\n",
      "2024-08-09 10:20:37,515 - INFO - Converted PDF /tmp/tmpfz1qtl8g/20170228_BGR Government Affairs, LLC_Vajdich, Daniel_Short-Form.pdf to images: ['/tmp/tmpfz1qtl8g/page_1.jpg', '/tmp/tmpfz1qtl8g/page_2.jpg']\n",
      "2024-08-09 10:20:37,528 - INFO - Experiment 1: Processing file 20090414_LeClairRyan, A Professional Corporation_Williams, Krystal J._Short-Form.pdf\n"
     ]
    },
    {
     "name": "stdout",
     "output_type": "stream",
     "text": [
      "Converted and resized image saved to /tmp/tmpfz1qtl8g/page_2.jpg with final quality 85\n",
      "Converted PDF /tmp/tmpfz1qtl8g/20170228_BGR Government Affairs, LLC_Vajdich, Daniel_Short-Form.pdf to images: ['/tmp/tmpfz1qtl8g/page_1.jpg', '/tmp/tmpfz1qtl8g/page_2.jpg']\n",
      "Experiment 1: Processing file 20090414_LeClairRyan, A Professional Corporation_Williams, Krystal J._Short-Form.pdf\n"
     ]
    },
    {
     "name": "stderr",
     "output_type": "stream",
     "text": [
      "2024-08-09 10:20:38,202 - INFO - Converted and resized image saved to /tmp/tmpee5698wu/page_1.jpg with final quality 85\n"
     ]
    },
    {
     "name": "stdout",
     "output_type": "stream",
     "text": [
      "Converted and resized image saved to /tmp/tmpee5698wu/page_1.jpg with final quality 85\n"
     ]
    },
    {
     "name": "stderr",
     "output_type": "stream",
     "text": [
      "2024-08-09 10:20:38,515 - INFO - Converted and resized image saved to /tmp/tmpee5698wu/page_2.jpg with final quality 85\n",
      "2024-08-09 10:20:38,516 - INFO - Converted PDF /tmp/tmpee5698wu/20090414_LeClairRyan, A Professional Corporation_Williams, Krystal J._Short-Form.pdf to images: ['/tmp/tmpee5698wu/page_1.jpg', '/tmp/tmpee5698wu/page_2.jpg']\n",
      "2024-08-09 10:20:38,529 - INFO - Experiment 1: Processing file 20110210_Korea National Tourism Organization, New Jersey_Kim, Jeongah_Short-Form.pdf\n"
     ]
    },
    {
     "name": "stdout",
     "output_type": "stream",
     "text": [
      "Converted and resized image saved to /tmp/tmpee5698wu/page_2.jpg with final quality 85\n",
      "Converted PDF /tmp/tmpee5698wu/20090414_LeClairRyan, A Professional Corporation_Williams, Krystal J._Short-Form.pdf to images: ['/tmp/tmpee5698wu/page_1.jpg', '/tmp/tmpee5698wu/page_2.jpg']\n",
      "Experiment 1: Processing file 20110210_Korea National Tourism Organization, New Jersey_Kim, Jeongah_Short-Form.pdf\n"
     ]
    },
    {
     "name": "stderr",
     "output_type": "stream",
     "text": [
      "2024-08-09 10:20:39,215 - INFO - Converted and resized image saved to /tmp/tmpdaskhvgn/page_1.jpg with final quality 85\n"
     ]
    },
    {
     "name": "stdout",
     "output_type": "stream",
     "text": [
      "Converted and resized image saved to /tmp/tmpdaskhvgn/page_1.jpg with final quality 85\n"
     ]
    },
    {
     "name": "stderr",
     "output_type": "stream",
     "text": [
      "2024-08-09 10:20:39,522 - INFO - Converted and resized image saved to /tmp/tmpdaskhvgn/page_2.jpg with final quality 85\n",
      "2024-08-09 10:20:39,523 - INFO - Converted PDF /tmp/tmpdaskhvgn/20110210_Korea National Tourism Organization, New Jersey_Kim, Jeongah_Short-Form.pdf to images: ['/tmp/tmpdaskhvgn/page_1.jpg', '/tmp/tmpdaskhvgn/page_2.jpg']\n",
      "2024-08-09 10:20:39,536 - INFO - Experiment 1: Processing file 20090409_Daniel J. Edelman, Inc._Segall, Jules Peter_Short-Form.pdf\n"
     ]
    },
    {
     "name": "stdout",
     "output_type": "stream",
     "text": [
      "Converted and resized image saved to /tmp/tmpdaskhvgn/page_2.jpg with final quality 85\n",
      "Converted PDF /tmp/tmpdaskhvgn/20110210_Korea National Tourism Organization, New Jersey_Kim, Jeongah_Short-Form.pdf to images: ['/tmp/tmpdaskhvgn/page_1.jpg', '/tmp/tmpdaskhvgn/page_2.jpg']\n",
      "Experiment 1: Processing file 20090409_Daniel J. Edelman, Inc._Segall, Jules Peter_Short-Form.pdf\n"
     ]
    },
    {
     "name": "stderr",
     "output_type": "stream",
     "text": [
      "2024-08-09 10:20:40,205 - INFO - Converted and resized image saved to /tmp/tmp0wxggk63/page_1.jpg with final quality 85\n"
     ]
    },
    {
     "name": "stdout",
     "output_type": "stream",
     "text": [
      "Converted and resized image saved to /tmp/tmp0wxggk63/page_1.jpg with final quality 85\n"
     ]
    },
    {
     "name": "stderr",
     "output_type": "stream",
     "text": [
      "2024-08-09 10:20:40,495 - INFO - Converted and resized image saved to /tmp/tmp0wxggk63/page_2.jpg with final quality 85\n",
      "2024-08-09 10:20:40,497 - INFO - Converted PDF /tmp/tmp0wxggk63/20090409_Daniel J. Edelman, Inc._Segall, Jules Peter_Short-Form.pdf to images: ['/tmp/tmp0wxggk63/page_1.jpg', '/tmp/tmp0wxggk63/page_2.jpg']\n",
      "2024-08-09 10:20:40,508 - INFO - Experiment 1: Processing file 20170130_Burson-Marsteller, LLC (Washington, DC)_Thompson, Randi_Short-Form.pdf\n"
     ]
    },
    {
     "name": "stdout",
     "output_type": "stream",
     "text": [
      "Converted and resized image saved to /tmp/tmp0wxggk63/page_2.jpg with final quality 85\n",
      "Converted PDF /tmp/tmp0wxggk63/20090409_Daniel J. Edelman, Inc._Segall, Jules Peter_Short-Form.pdf to images: ['/tmp/tmp0wxggk63/page_1.jpg', '/tmp/tmp0wxggk63/page_2.jpg']\n",
      "Experiment 1: Processing file 20170130_Burson-Marsteller, LLC (Washington, DC)_Thompson, Randi_Short-Form.pdf\n"
     ]
    },
    {
     "name": "stderr",
     "output_type": "stream",
     "text": [
      "2024-08-09 10:20:41,286 - INFO - Converted and resized image saved to /tmp/tmpp4sfh995/page_1.jpg with final quality 85\n"
     ]
    },
    {
     "name": "stdout",
     "output_type": "stream",
     "text": [
      "Converted and resized image saved to /tmp/tmpp4sfh995/page_1.jpg with final quality 85\n"
     ]
    },
    {
     "name": "stderr",
     "output_type": "stream",
     "text": [
      "2024-08-09 10:20:41,676 - INFO - Converted and resized image saved to /tmp/tmpp4sfh995/page_2.jpg with final quality 85\n",
      "2024-08-09 10:20:41,677 - INFO - Converted PDF /tmp/tmpp4sfh995/20170130_Burson-Marsteller, LLC (Washington, DC)_Thompson, Randi_Short-Form.pdf to images: ['/tmp/tmpp4sfh995/page_1.jpg', '/tmp/tmpp4sfh995/page_2.jpg']\n",
      "2024-08-09 10:20:41,697 - INFO - Experiment 1: Processing file 20130513_Commonwealth of Dominica Maritime Registry, Inc._Ottaviano, Pasquale Diego_Short-Form.pdf\n"
     ]
    },
    {
     "name": "stdout",
     "output_type": "stream",
     "text": [
      "Converted and resized image saved to /tmp/tmpp4sfh995/page_2.jpg with final quality 85\n",
      "Converted PDF /tmp/tmpp4sfh995/20170130_Burson-Marsteller, LLC (Washington, DC)_Thompson, Randi_Short-Form.pdf to images: ['/tmp/tmpp4sfh995/page_1.jpg', '/tmp/tmpp4sfh995/page_2.jpg']\n",
      "Experiment 1: Processing file 20130513_Commonwealth of Dominica Maritime Registry, Inc._Ottaviano, Pasquale Diego_Short-Form.pdf\n"
     ]
    },
    {
     "name": "stderr",
     "output_type": "stream",
     "text": [
      "2024-08-09 10:20:42,465 - INFO - Converted and resized image saved to /tmp/tmp2uhsd3we/page_1.jpg with final quality 85\n"
     ]
    },
    {
     "name": "stdout",
     "output_type": "stream",
     "text": [
      "Converted and resized image saved to /tmp/tmp2uhsd3we/page_1.jpg with final quality 85\n"
     ]
    },
    {
     "name": "stderr",
     "output_type": "stream",
     "text": [
      "2024-08-09 10:20:42,807 - INFO - Converted and resized image saved to /tmp/tmp2uhsd3we/page_2.jpg with final quality 85\n",
      "2024-08-09 10:20:42,808 - INFO - Converted PDF /tmp/tmp2uhsd3we/20130513_Commonwealth of Dominica Maritime Registry, Inc._Ottaviano, Pasquale Diego_Short-Form.pdf to images: ['/tmp/tmp2uhsd3we/page_1.jpg', '/tmp/tmp2uhsd3we/page_2.jpg']\n",
      "2024-08-09 10:20:42,822 - INFO - Experiment 1: Processing file 20110805_Squire Patton Boggs, LLP_Nardotti, Michael J. Jr._Short-Form.pdf\n"
     ]
    },
    {
     "name": "stdout",
     "output_type": "stream",
     "text": [
      "Converted and resized image saved to /tmp/tmp2uhsd3we/page_2.jpg with final quality 85\n",
      "Converted PDF /tmp/tmp2uhsd3we/20130513_Commonwealth of Dominica Maritime Registry, Inc._Ottaviano, Pasquale Diego_Short-Form.pdf to images: ['/tmp/tmp2uhsd3we/page_1.jpg', '/tmp/tmp2uhsd3we/page_2.jpg']\n",
      "Experiment 1: Processing file 20110805_Squire Patton Boggs, LLP_Nardotti, Michael J. Jr._Short-Form.pdf\n"
     ]
    },
    {
     "name": "stderr",
     "output_type": "stream",
     "text": [
      "2024-08-09 10:20:43,523 - INFO - Converted and resized image saved to /tmp/tmpxh_scn91/page_1.jpg with final quality 85\n"
     ]
    },
    {
     "name": "stdout",
     "output_type": "stream",
     "text": [
      "Converted and resized image saved to /tmp/tmpxh_scn91/page_1.jpg with final quality 85\n"
     ]
    },
    {
     "name": "stderr",
     "output_type": "stream",
     "text": [
      "2024-08-09 10:20:43,838 - INFO - Converted and resized image saved to /tmp/tmpxh_scn91/page_2.jpg with final quality 85\n",
      "2024-08-09 10:20:43,840 - INFO - Converted PDF /tmp/tmpxh_scn91/20110805_Squire Patton Boggs, LLP_Nardotti, Michael J. Jr._Short-Form.pdf to images: ['/tmp/tmpxh_scn91/page_1.jpg', '/tmp/tmpxh_scn91/page_2.jpg']\n",
      "2024-08-09 10:20:43,853 - INFO - Experiment 1: Processing file 20140812_Greenberg Traurig, LLP_Wynn, Albert R._Short-Form.pdf\n"
     ]
    },
    {
     "name": "stdout",
     "output_type": "stream",
     "text": [
      "Converted and resized image saved to /tmp/tmpxh_scn91/page_2.jpg with final quality 85\n",
      "Converted PDF /tmp/tmpxh_scn91/20110805_Squire Patton Boggs, LLP_Nardotti, Michael J. Jr._Short-Form.pdf to images: ['/tmp/tmpxh_scn91/page_1.jpg', '/tmp/tmpxh_scn91/page_2.jpg']\n",
      "Experiment 1: Processing file 20140812_Greenberg Traurig, LLP_Wynn, Albert R._Short-Form.pdf\n"
     ]
    },
    {
     "name": "stderr",
     "output_type": "stream",
     "text": [
      "2024-08-09 10:20:44,534 - INFO - Converted and resized image saved to /tmp/tmpejnt8u_p/page_1.jpg with final quality 85\n"
     ]
    },
    {
     "name": "stdout",
     "output_type": "stream",
     "text": [
      "Converted and resized image saved to /tmp/tmpejnt8u_p/page_1.jpg with final quality 85\n"
     ]
    },
    {
     "name": "stderr",
     "output_type": "stream",
     "text": [
      "2024-08-09 10:20:44,842 - INFO - Converted and resized image saved to /tmp/tmpejnt8u_p/page_2.jpg with final quality 85\n",
      "2024-08-09 10:20:44,843 - INFO - Converted PDF /tmp/tmpejnt8u_p/20140812_Greenberg Traurig, LLP_Wynn, Albert R._Short-Form.pdf to images: ['/tmp/tmpejnt8u_p/page_1.jpg', '/tmp/tmpejnt8u_p/page_2.jpg']\n",
      "2024-08-09 10:20:44,858 - INFO - Experiment 1: Processing file 20110929_DLA Piper US LLP_Schwanke, Beth_Short-Form.pdf\n"
     ]
    },
    {
     "name": "stdout",
     "output_type": "stream",
     "text": [
      "Converted and resized image saved to /tmp/tmpejnt8u_p/page_2.jpg with final quality 85\n",
      "Converted PDF /tmp/tmpejnt8u_p/20140812_Greenberg Traurig, LLP_Wynn, Albert R._Short-Form.pdf to images: ['/tmp/tmpejnt8u_p/page_1.jpg', '/tmp/tmpejnt8u_p/page_2.jpg']\n",
      "Experiment 1: Processing file 20110929_DLA Piper US LLP_Schwanke, Beth_Short-Form.pdf\n"
     ]
    },
    {
     "name": "stderr",
     "output_type": "stream",
     "text": [
      "2024-08-09 10:20:45,716 - INFO - Converted and resized image saved to /tmp/tmp2gupe89m/page_1.jpg with final quality 85\n"
     ]
    },
    {
     "name": "stdout",
     "output_type": "stream",
     "text": [
      "Converted and resized image saved to /tmp/tmp2gupe89m/page_1.jpg with final quality 85\n"
     ]
    },
    {
     "name": "stderr",
     "output_type": "stream",
     "text": [
      "2024-08-09 10:20:46,021 - INFO - Converted and resized image saved to /tmp/tmp2gupe89m/page_2.jpg with final quality 85\n"
     ]
    },
    {
     "name": "stdout",
     "output_type": "stream",
     "text": [
      "Converted and resized image saved to /tmp/tmp2gupe89m/page_2.jpg with final quality 85\n"
     ]
    },
    {
     "name": "stderr",
     "output_type": "stream",
     "text": [
      "2024-08-09 10:20:46,321 - INFO - Converted and resized image saved to /tmp/tmp2gupe89m/page_3.jpg with final quality 85\n",
      "2024-08-09 10:20:46,322 - INFO - Converted PDF /tmp/tmp2gupe89m/20110929_DLA Piper US LLP_Schwanke, Beth_Short-Form.pdf to images: ['/tmp/tmp2gupe89m/page_1.jpg', '/tmp/tmp2gupe89m/page_2.jpg', '/tmp/tmp2gupe89m/page_3.jpg']\n",
      "2024-08-09 10:20:46,337 - INFO - Experiment 1: Processing file 20171103_Dentons US LLP_Goldberg, Gary_Short-Form.pdf\n"
     ]
    },
    {
     "name": "stdout",
     "output_type": "stream",
     "text": [
      "Converted and resized image saved to /tmp/tmp2gupe89m/page_3.jpg with final quality 85\n",
      "Converted PDF /tmp/tmp2gupe89m/20110929_DLA Piper US LLP_Schwanke, Beth_Short-Form.pdf to images: ['/tmp/tmp2gupe89m/page_1.jpg', '/tmp/tmp2gupe89m/page_2.jpg', '/tmp/tmp2gupe89m/page_3.jpg']\n",
      "Experiment 1: Processing file 20171103_Dentons US LLP_Goldberg, Gary_Short-Form.pdf\n"
     ]
    },
    {
     "name": "stderr",
     "output_type": "stream",
     "text": [
      "2024-08-09 10:20:47,033 - INFO - Converted and resized image saved to /tmp/tmp7tbaye9y/page_1.jpg with final quality 85\n"
     ]
    },
    {
     "name": "stdout",
     "output_type": "stream",
     "text": [
      "Converted and resized image saved to /tmp/tmp7tbaye9y/page_1.jpg with final quality 85\n"
     ]
    },
    {
     "name": "stderr",
     "output_type": "stream",
     "text": [
      "2024-08-09 10:20:47,354 - INFO - Converted and resized image saved to /tmp/tmp7tbaye9y/page_2.jpg with final quality 85\n",
      "2024-08-09 10:20:47,356 - INFO - Converted PDF /tmp/tmp7tbaye9y/20171103_Dentons US LLP_Goldberg, Gary_Short-Form.pdf to images: ['/tmp/tmp7tbaye9y/page_1.jpg', '/tmp/tmp7tbaye9y/page_2.jpg']\n",
      "2024-08-09 10:20:47,369 - INFO - Experiment 1: Processing file 20110913_MSLGROUP Americas, Inc._Dealey, Sam_Short-Form.pdf\n"
     ]
    },
    {
     "name": "stdout",
     "output_type": "stream",
     "text": [
      "Converted and resized image saved to /tmp/tmp7tbaye9y/page_2.jpg with final quality 85\n",
      "Converted PDF /tmp/tmp7tbaye9y/20171103_Dentons US LLP_Goldberg, Gary_Short-Form.pdf to images: ['/tmp/tmp7tbaye9y/page_1.jpg', '/tmp/tmp7tbaye9y/page_2.jpg']\n",
      "Experiment 1: Processing file 20110913_MSLGROUP Americas, Inc._Dealey, Sam_Short-Form.pdf\n"
     ]
    },
    {
     "name": "stderr",
     "output_type": "stream",
     "text": [
      "2024-08-09 10:20:48,130 - INFO - Converted and resized image saved to /tmp/tmpvdwrl1nc/page_1.jpg with final quality 85\n"
     ]
    },
    {
     "name": "stdout",
     "output_type": "stream",
     "text": [
      "Converted and resized image saved to /tmp/tmpvdwrl1nc/page_1.jpg with final quality 85\n"
     ]
    },
    {
     "name": "stderr",
     "output_type": "stream",
     "text": [
      "2024-08-09 10:20:48,469 - INFO - Converted and resized image saved to /tmp/tmpvdwrl1nc/page_2.jpg with final quality 85\n",
      "2024-08-09 10:20:48,471 - INFO - Converted PDF /tmp/tmpvdwrl1nc/20110913_MSLGROUP Americas, Inc._Dealey, Sam_Short-Form.pdf to images: ['/tmp/tmpvdwrl1nc/page_1.jpg', '/tmp/tmpvdwrl1nc/page_2.jpg']\n",
      "2024-08-09 10:20:48,486 - INFO - Experiment 1: Processing file 20100820_South African Tourism_Jacobberger, Dean_Short-Form.pdf\n"
     ]
    },
    {
     "name": "stdout",
     "output_type": "stream",
     "text": [
      "Converted and resized image saved to /tmp/tmpvdwrl1nc/page_2.jpg with final quality 85\n",
      "Converted PDF /tmp/tmpvdwrl1nc/20110913_MSLGROUP Americas, Inc._Dealey, Sam_Short-Form.pdf to images: ['/tmp/tmpvdwrl1nc/page_1.jpg', '/tmp/tmpvdwrl1nc/page_2.jpg']\n",
      "Experiment 1: Processing file 20100820_South African Tourism_Jacobberger, Dean_Short-Form.pdf\n"
     ]
    },
    {
     "name": "stderr",
     "output_type": "stream",
     "text": [
      "2024-08-09 10:20:49,293 - INFO - Converted and resized image saved to /tmp/tmp9z7729e4/page_1.jpg with final quality 85\n"
     ]
    },
    {
     "name": "stdout",
     "output_type": "stream",
     "text": [
      "Converted and resized image saved to /tmp/tmp9z7729e4/page_1.jpg with final quality 85\n"
     ]
    },
    {
     "name": "stderr",
     "output_type": "stream",
     "text": [
      "2024-08-09 10:20:49,576 - INFO - Converted and resized image saved to /tmp/tmp9z7729e4/page_2.jpg with final quality 85\n"
     ]
    },
    {
     "name": "stdout",
     "output_type": "stream",
     "text": [
      "Converted and resized image saved to /tmp/tmp9z7729e4/page_2.jpg with final quality 85\n"
     ]
    },
    {
     "name": "stderr",
     "output_type": "stream",
     "text": [
      "2024-08-09 10:20:49,873 - INFO - Converted and resized image saved to /tmp/tmp9z7729e4/page_3.jpg with final quality 85\n",
      "2024-08-09 10:20:49,874 - INFO - Converted PDF /tmp/tmp9z7729e4/20100820_South African Tourism_Jacobberger, Dean_Short-Form.pdf to images: ['/tmp/tmp9z7729e4/page_1.jpg', '/tmp/tmp9z7729e4/page_2.jpg', '/tmp/tmp9z7729e4/page_3.jpg']\n",
      "2024-08-09 10:20:49,888 - INFO - Experiment 1: Processing file 20170313_Alston _ Bird, LLP_Jones, Robert C._Short-Form.pdf\n"
     ]
    },
    {
     "name": "stdout",
     "output_type": "stream",
     "text": [
      "Converted and resized image saved to /tmp/tmp9z7729e4/page_3.jpg with final quality 85\n",
      "Converted PDF /tmp/tmp9z7729e4/20100820_South African Tourism_Jacobberger, Dean_Short-Form.pdf to images: ['/tmp/tmp9z7729e4/page_1.jpg', '/tmp/tmp9z7729e4/page_2.jpg', '/tmp/tmp9z7729e4/page_3.jpg']\n",
      "Experiment 1: Processing file 20170313_Alston _ Bird, LLP_Jones, Robert C._Short-Form.pdf\n"
     ]
    },
    {
     "name": "stderr",
     "output_type": "stream",
     "text": [
      "2024-08-09 10:20:50,557 - INFO - Converted and resized image saved to /tmp/tmpf15dkf4f/page_1.jpg with final quality 85\n"
     ]
    },
    {
     "name": "stdout",
     "output_type": "stream",
     "text": [
      "Converted and resized image saved to /tmp/tmpf15dkf4f/page_1.jpg with final quality 85\n"
     ]
    },
    {
     "name": "stderr",
     "output_type": "stream",
     "text": [
      "2024-08-09 10:20:50,861 - INFO - Converted and resized image saved to /tmp/tmpf15dkf4f/page_2.jpg with final quality 85\n",
      "2024-08-09 10:20:50,862 - INFO - Converted PDF /tmp/tmpf15dkf4f/20170313_Alston _ Bird, LLP_Jones, Robert C._Short-Form.pdf to images: ['/tmp/tmpf15dkf4f/page_1.jpg', '/tmp/tmpf15dkf4f/page_2.jpg']\n",
      "2024-08-09 10:20:50,875 - INFO - Experiment 1: Processing file 20110628_KBS America, Inc._Noh, Ji Young_Short-Form.pdf\n"
     ]
    },
    {
     "name": "stdout",
     "output_type": "stream",
     "text": [
      "Converted and resized image saved to /tmp/tmpf15dkf4f/page_2.jpg with final quality 85\n",
      "Converted PDF /tmp/tmpf15dkf4f/20170313_Alston _ Bird, LLP_Jones, Robert C._Short-Form.pdf to images: ['/tmp/tmpf15dkf4f/page_1.jpg', '/tmp/tmpf15dkf4f/page_2.jpg']\n",
      "Experiment 1: Processing file 20110628_KBS America, Inc._Noh, Ji Young_Short-Form.pdf\n"
     ]
    },
    {
     "name": "stderr",
     "output_type": "stream",
     "text": [
      "2024-08-09 10:20:51,560 - INFO - Converted and resized image saved to /tmp/tmpqgidi1pe/page_1.jpg with final quality 85\n"
     ]
    },
    {
     "name": "stdout",
     "output_type": "stream",
     "text": [
      "Converted and resized image saved to /tmp/tmpqgidi1pe/page_1.jpg with final quality 85\n"
     ]
    },
    {
     "name": "stderr",
     "output_type": "stream",
     "text": [
      "2024-08-09 10:20:51,861 - INFO - Converted and resized image saved to /tmp/tmpqgidi1pe/page_2.jpg with final quality 85\n",
      "2024-08-09 10:20:51,862 - INFO - Converted PDF /tmp/tmpqgidi1pe/20110628_KBS America, Inc._Noh, Ji Young_Short-Form.pdf to images: ['/tmp/tmpqgidi1pe/page_1.jpg', '/tmp/tmpqgidi1pe/page_2.jpg']\n",
      "2024-08-09 10:20:51,876 - INFO - Experiment 1: Processing file 20160506_MSLGROUP Americas, Inc._Kurapovna, Marcia Christoff_Short-Form.pdf\n"
     ]
    },
    {
     "name": "stdout",
     "output_type": "stream",
     "text": [
      "Converted and resized image saved to /tmp/tmpqgidi1pe/page_2.jpg with final quality 85\n",
      "Converted PDF /tmp/tmpqgidi1pe/20110628_KBS America, Inc._Noh, Ji Young_Short-Form.pdf to images: ['/tmp/tmpqgidi1pe/page_1.jpg', '/tmp/tmpqgidi1pe/page_2.jpg']\n",
      "Experiment 1: Processing file 20160506_MSLGROUP Americas, Inc._Kurapovna, Marcia Christoff_Short-Form.pdf\n"
     ]
    },
    {
     "name": "stderr",
     "output_type": "stream",
     "text": [
      "2024-08-09 10:20:52,588 - INFO - Converted and resized image saved to /tmp/tmpu7do92fv/page_1.jpg with final quality 85\n"
     ]
    },
    {
     "name": "stdout",
     "output_type": "stream",
     "text": [
      "Converted and resized image saved to /tmp/tmpu7do92fv/page_1.jpg with final quality 85\n"
     ]
    },
    {
     "name": "stderr",
     "output_type": "stream",
     "text": [
      "2024-08-09 10:20:52,926 - INFO - Converted and resized image saved to /tmp/tmpu7do92fv/page_2.jpg with final quality 85\n",
      "2024-08-09 10:20:52,927 - INFO - Converted PDF /tmp/tmpu7do92fv/20160506_MSLGROUP Americas, Inc._Kurapovna, Marcia Christoff_Short-Form.pdf to images: ['/tmp/tmpu7do92fv/page_1.jpg', '/tmp/tmpu7do92fv/page_2.jpg']\n",
      "2024-08-09 10:20:52,942 - INFO - Experiment 1: Processing file 20160601_Manatos _ Manatos_Manatos, Emanuel A. _Mike__Short-Form.pdf\n"
     ]
    },
    {
     "name": "stdout",
     "output_type": "stream",
     "text": [
      "Converted and resized image saved to /tmp/tmpu7do92fv/page_2.jpg with final quality 85\n",
      "Converted PDF /tmp/tmpu7do92fv/20160506_MSLGROUP Americas, Inc._Kurapovna, Marcia Christoff_Short-Form.pdf to images: ['/tmp/tmpu7do92fv/page_1.jpg', '/tmp/tmpu7do92fv/page_2.jpg']\n",
      "Experiment 1: Processing file 20160601_Manatos _ Manatos_Manatos, Emanuel A. _Mike__Short-Form.pdf\n"
     ]
    },
    {
     "name": "stderr",
     "output_type": "stream",
     "text": [
      "2024-08-09 10:20:53,640 - INFO - Converted and resized image saved to /tmp/tmp3dz5sw7z/page_1.jpg with final quality 85\n"
     ]
    },
    {
     "name": "stdout",
     "output_type": "stream",
     "text": [
      "Converted and resized image saved to /tmp/tmp3dz5sw7z/page_1.jpg with final quality 85\n"
     ]
    },
    {
     "name": "stderr",
     "output_type": "stream",
     "text": [
      "2024-08-09 10:20:53,976 - INFO - Converted and resized image saved to /tmp/tmp3dz5sw7z/page_2.jpg with final quality 85\n",
      "2024-08-09 10:20:53,978 - INFO - Converted PDF /tmp/tmp3dz5sw7z/20160601_Manatos _ Manatos_Manatos, Emanuel A. _Mike__Short-Form.pdf to images: ['/tmp/tmp3dz5sw7z/page_1.jpg', '/tmp/tmp3dz5sw7z/page_2.jpg']\n",
      "2024-08-09 10:20:53,991 - INFO - Experiment 1: Processing file 20100909_Gephardt Group Government Affairs, LLC_Messmer, Michael_Short-Form.pdf\n"
     ]
    },
    {
     "name": "stdout",
     "output_type": "stream",
     "text": [
      "Converted and resized image saved to /tmp/tmp3dz5sw7z/page_2.jpg with final quality 85\n",
      "Converted PDF /tmp/tmp3dz5sw7z/20160601_Manatos _ Manatos_Manatos, Emanuel A. _Mike__Short-Form.pdf to images: ['/tmp/tmp3dz5sw7z/page_1.jpg', '/tmp/tmp3dz5sw7z/page_2.jpg']\n",
      "Experiment 1: Processing file 20100909_Gephardt Group Government Affairs, LLC_Messmer, Michael_Short-Form.pdf\n"
     ]
    },
    {
     "name": "stderr",
     "output_type": "stream",
     "text": [
      "2024-08-09 10:20:54,656 - INFO - Converted and resized image saved to /tmp/tmp08vjyle7/page_1.jpg with final quality 85\n"
     ]
    },
    {
     "name": "stdout",
     "output_type": "stream",
     "text": [
      "Converted and resized image saved to /tmp/tmp08vjyle7/page_1.jpg with final quality 85\n"
     ]
    },
    {
     "name": "stderr",
     "output_type": "stream",
     "text": [
      "2024-08-09 10:20:54,945 - INFO - Converted and resized image saved to /tmp/tmp08vjyle7/page_2.jpg with final quality 85\n",
      "2024-08-09 10:20:54,946 - INFO - Converted PDF /tmp/tmp08vjyle7/20100909_Gephardt Group Government Affairs, LLC_Messmer, Michael_Short-Form.pdf to images: ['/tmp/tmp08vjyle7/page_1.jpg', '/tmp/tmp08vjyle7/page_2.jpg']\n",
      "2024-08-09 10:20:54,958 - INFO - Experiment 1: Processing file 20170112_Podesta Group, Inc._Thompson, Dana_Short-Form.pdf\n"
     ]
    },
    {
     "name": "stdout",
     "output_type": "stream",
     "text": [
      "Converted and resized image saved to /tmp/tmp08vjyle7/page_2.jpg with final quality 85\n",
      "Converted PDF /tmp/tmp08vjyle7/20100909_Gephardt Group Government Affairs, LLC_Messmer, Michael_Short-Form.pdf to images: ['/tmp/tmp08vjyle7/page_1.jpg', '/tmp/tmp08vjyle7/page_2.jpg']\n",
      "Experiment 1: Processing file 20170112_Podesta Group, Inc._Thompson, Dana_Short-Form.pdf\n"
     ]
    },
    {
     "name": "stderr",
     "output_type": "stream",
     "text": [
      "2024-08-09 10:20:55,724 - INFO - Converted and resized image saved to /tmp/tmpzvf8rg1x/page_1.jpg with final quality 85\n"
     ]
    },
    {
     "name": "stdout",
     "output_type": "stream",
     "text": [
      "Converted and resized image saved to /tmp/tmpzvf8rg1x/page_1.jpg with final quality 85\n"
     ]
    },
    {
     "name": "stderr",
     "output_type": "stream",
     "text": [
      "2024-08-09 10:20:56,089 - INFO - Converted and resized image saved to /tmp/tmpzvf8rg1x/page_2.jpg with final quality 85\n",
      "2024-08-09 10:20:56,091 - INFO - Converted PDF /tmp/tmpzvf8rg1x/20170112_Podesta Group, Inc._Thompson, Dana_Short-Form.pdf to images: ['/tmp/tmpzvf8rg1x/page_1.jpg', '/tmp/tmpzvf8rg1x/page_2.jpg']\n"
     ]
    },
    {
     "name": "stdout",
     "output_type": "stream",
     "text": [
      "Converted and resized image saved to /tmp/tmpzvf8rg1x/page_2.jpg with final quality 85\n",
      "Converted PDF /tmp/tmpzvf8rg1x/20170112_Podesta Group, Inc._Thompson, Dana_Short-Form.pdf to images: ['/tmp/tmpzvf8rg1x/page_1.jpg', '/tmp/tmpzvf8rg1x/page_2.jpg']\n",
      "Experiment completed successfully.\n"
     ]
    }
   ],
   "source": [
    "if __name__ == \"__main__\":\n",
    "    experiment_params = [(exp['sample_size'], {'level_type': exp['level_type']}, exp['experiment_id']) for exp in combinations]\n",
    "    output_file = os.path.join(base_output_directory, 'batch_requests.jsonl')\n",
    "    \n",
    "    all_filename_mappings = test_experiment_serially(output_file)\n",
    "    "
   ]
  },
  {
   "cell_type": "code",
   "execution_count": null,
   "id": "436850f4-2fb4-4b86-8d24-4ecd0c374ded",
   "metadata": {},
   "outputs": [],
   "source": [
    "batch_file_paths = split_jsonl_file(output_file, max_size=209715200, max_lines=500)\n",
    "batch_ids = send_batch_requests(batch_file_paths)\n",
    "print(f\"Batch IDs: {batch_ids}\")"
   ]
  },
  {
   "cell_type": "code",
   "execution_count": 18,
   "id": "0cff29de-9e67-4552-a4e9-47c71a81db94",
   "metadata": {
    "scrolled": true
   },
   "outputs": [
    {
     "name": "stderr",
     "output_type": "stream",
     "text": [
      "2024-08-09 10:20:56,117 - INFO - Markdown file updated at gpt4_Markdown_outputs/reg/outputs/UTL/Amendment/20090930_Garvey, Schubert _ Barer_Amendment_Amendment.md\n",
      "2024-08-09 10:20:56,119 - INFO - Markdown file updated at gpt4_Markdown_outputs/reg/outputs/UTL/Amendment/20090930_Garvey, Schubert _ Barer_Amendment_Amendment.md\n",
      "2024-08-09 10:20:56,120 - INFO - Markdown file updated at gpt4_Markdown_outputs/reg/outputs/UTL/Amendment/19760201_Italian Government Tourist Board (ENIT), Los Angeles_Amendment_Amendment.md\n",
      "2024-08-09 10:20:56,121 - INFO - Markdown file updated at gpt4_Markdown_outputs/reg/outputs/UTL/Amendment/19760201_Italian Government Tourist Board (ENIT), Los Angeles_Amendment_Amendment.md\n",
      "2024-08-09 10:20:56,122 - INFO - Markdown file updated at gpt4_Markdown_outputs/reg/outputs/UTL/Amendment/19760201_Italian Government Tourist Board (ENIT), Los Angeles_Amendment_Amendment.md\n",
      "2024-08-09 10:20:56,123 - INFO - Markdown file updated at gpt4_Markdown_outputs/reg/outputs/UTL/Amendment/20070613_Pillsbury Winthrop Shaw Pittman, LLP_Amendment_Amendment.md\n",
      "2024-08-09 10:20:56,124 - INFO - Markdown file updated at gpt4_Markdown_outputs/reg/outputs/UTL/Amendment/20070613_Pillsbury Winthrop Shaw Pittman, LLP_Amendment_Amendment.md\n",
      "2024-08-09 10:20:56,125 - INFO - Markdown file updated at gpt4_Markdown_outputs/reg/outputs/UTL/Amendment/20131127_Independent Diplomat, Inc._Amendment_Amendment.md\n",
      "2024-08-09 10:20:56,126 - INFO - Markdown file updated at gpt4_Markdown_outputs/reg/outputs/UTL/Amendment/20131127_Independent Diplomat, Inc._Amendment_Amendment.md\n",
      "2024-08-09 10:20:56,127 - INFO - Markdown file updated at gpt4_Markdown_outputs/reg/outputs/UTL/Amendment/20120424_Pillsbury Winthrop Shaw Pittman, LLP_Amendment_Amendment.md\n",
      "2024-08-09 10:20:56,128 - INFO - Markdown file updated at gpt4_Markdown_outputs/reg/outputs/UTL/Amendment/20120424_Pillsbury Winthrop Shaw Pittman, LLP_Amendment_Amendment.md\n",
      "2024-08-09 10:20:56,129 - INFO - Markdown file updated at gpt4_Markdown_outputs/reg/outputs/UTL/Amendment/20170815_Pillsbury Winthrop Shaw Pittman, LLP_Amendment_Amendment.md\n",
      "2024-08-09 10:20:56,130 - INFO - Markdown file updated at gpt4_Markdown_outputs/reg/outputs/UTL/Amendment/20170815_Pillsbury Winthrop Shaw Pittman, LLP_Amendment_Amendment.md\n",
      "2024-08-09 10:20:56,133 - INFO - Markdown file updated at gpt4_Markdown_outputs/reg/outputs/UTL/Amendment/19820401_Bermuda Tourism Authority_Amendment_Amendment.md\n",
      "2024-08-09 10:20:56,134 - INFO - Markdown file updated at gpt4_Markdown_outputs/reg/outputs/UTL/Amendment/19830401_Bermuda Tourism Authority_Amendment_Amendment.md\n",
      "2024-08-09 10:20:56,135 - INFO - Markdown file updated at gpt4_Markdown_outputs/reg/outputs/UTL/Amendment/20130815_Squire Patton Boggs, LLP_Amendment_Amendment.md\n",
      "2024-08-09 10:20:56,136 - INFO - Markdown file updated at gpt4_Markdown_outputs/reg/outputs/UTL/Amendment/20130815_Squire Patton Boggs, LLP_Amendment_Amendment.md\n",
      "2024-08-09 10:20:56,137 - INFO - Markdown file updated at gpt4_Markdown_outputs/reg/outputs/UTL/Amendment/19850801_St. Lucia Tourist Board_Amendment_Amendment.md\n",
      "2024-08-09 10:20:56,138 - INFO - Markdown file updated at gpt4_Markdown_outputs/reg/outputs/UTL/Amendment/19850801_St. Lucia Tourist Board_Amendment_Amendment.md\n",
      "2024-08-09 10:20:56,139 - INFO - Markdown file updated at gpt4_Markdown_outputs/reg/outputs/UTL/Amendment/20180124_Nickles Group, LLC_Amendment_Amendment.md\n",
      "2024-08-09 10:20:56,140 - INFO - Markdown file updated at gpt4_Markdown_outputs/reg/outputs/UTL/Amendment/20180124_Nickles Group, LLC_Amendment_Amendment.md\n",
      "2024-08-09 10:20:56,141 - INFO - Markdown file updated at gpt4_Markdown_outputs/reg/outputs/UTL/Amendment/20180105_Hill and Knowlton Strategies, LLC_Amendment_Amendment.md\n",
      "2024-08-09 10:20:56,141 - INFO - Markdown file updated at gpt4_Markdown_outputs/reg/outputs/UTL/Amendment/20180105_Hill and Knowlton Strategies, LLC_Amendment_Amendment.md\n",
      "2024-08-09 10:20:56,142 - INFO - Markdown file updated at gpt4_Markdown_outputs/reg/outputs/UTL/Amendment/20110103_Representative of the Turkish Republic of Northern Cyprus_Amendment_Amendment.md\n",
      "2024-08-09 10:20:56,143 - INFO - Markdown file updated at gpt4_Markdown_outputs/reg/outputs/UTL/Amendment/20110103_Representative of the Turkish Republic of Northern Cyprus_Amendment_Amendment.md\n",
      "2024-08-09 10:20:56,143 - INFO - Markdown file updated at gpt4_Markdown_outputs/reg/outputs/UTL/Amendment/19790101_Representative of the Turkish Republic of Northern Cyprus_Amendment_Amendment.md\n",
      "2024-08-09 10:20:56,144 - INFO - Markdown file updated at gpt4_Markdown_outputs/reg/outputs/UTL/Amendment/19790101_Representative of the Turkish Republic of Northern Cyprus_Amendment_Amendment.md\n",
      "2024-08-09 10:20:56,145 - INFO - Markdown file updated at gpt4_Markdown_outputs/reg/outputs/UTL/Amendment/20130131_Sidley Austin, LLP_Amendment_Amendment.md\n",
      "2024-08-09 10:20:56,145 - INFO - Markdown file updated at gpt4_Markdown_outputs/reg/outputs/UTL/Amendment/20130131_Sidley Austin, LLP_Amendment_Amendment.md\n",
      "2024-08-09 10:20:56,146 - INFO - Markdown file updated at gpt4_Markdown_outputs/reg/outputs/UTL/Amendment/20081001_Garvey, Schubert _ Barer_Amendment_Amendment.md\n",
      "2024-08-09 10:20:56,147 - INFO - Markdown file updated at gpt4_Markdown_outputs/reg/outputs/UTL/Amendment/20081001_Garvey, Schubert _ Barer_Amendment_Amendment.md\n",
      "2024-08-09 10:20:56,147 - INFO - Markdown file updated at gpt4_Markdown_outputs/reg/outputs/UTL/Amendment/20020611_CMGRP, Inc._Amendment_Amendment.md\n",
      "2024-08-09 10:20:56,148 - INFO - Markdown file updated at gpt4_Markdown_outputs/reg/outputs/UTL/Amendment/20020611_CMGRP, Inc._Amendment_Amendment.md\n",
      "2024-08-09 10:20:56,149 - INFO - Markdown file updated at gpt4_Markdown_outputs/reg/outputs/UTL/Amendment/20021204_JWI, LLC_Amendment_Amendment.md\n",
      "2024-08-09 10:20:56,149 - INFO - Markdown file updated at gpt4_Markdown_outputs/reg/outputs/UTL/Amendment/20021204_JWI, LLC_Amendment_Amendment.md\n",
      "2024-08-09 10:20:56,150 - INFO - Markdown file updated at gpt4_Markdown_outputs/reg/outputs/UTL/Amendment/20120604_Squire Patton Boggs, LLP_Amendment_Amendment.md\n",
      "2024-08-09 10:20:56,151 - INFO - Markdown file updated at gpt4_Markdown_outputs/reg/outputs/UTL/Amendment/20120604_Squire Patton Boggs, LLP_Amendment_Amendment.md\n",
      "2024-08-09 10:20:56,151 - INFO - Markdown file updated at gpt4_Markdown_outputs/reg/outputs/UTL/Amendment/20110527_Monaco Government Tourist Office_Amendment_Amendment.md\n",
      "2024-08-09 10:20:56,152 - INFO - Markdown file updated at gpt4_Markdown_outputs/reg/outputs/UTL/Amendment/20110527_Monaco Government Tourist Office_Amendment_Amendment.md\n",
      "2024-08-09 10:20:56,152 - INFO - Markdown file updated at gpt4_Markdown_outputs/reg/outputs/UTL/Amendment/19901201_CMGRP, Inc._Amendment_Amendment.md\n",
      "2024-08-09 10:20:56,153 - INFO - Markdown file updated at gpt4_Markdown_outputs/reg/outputs/UTL/Amendment/19901201_CMGRP, Inc._Amendment_Amendment.md\n",
      "2024-08-09 10:20:56,153 - INFO - Markdown file updated at gpt4_Markdown_outputs/reg/outputs/UTL/Amendment/19770101_Representative of the Turkish Republic of Northern Cyprus_Amendment_Amendment.md\n",
      "2024-08-09 10:20:56,154 - INFO - Markdown file updated at gpt4_Markdown_outputs/reg/outputs/UTL/Amendment/19770101_Representative of the Turkish Republic of Northern Cyprus_Amendment_Amendment.md\n",
      "2024-08-09 10:20:56,154 - INFO - Markdown file updated at gpt4_Markdown_outputs/reg/outputs/UTL/Amendment/19920201_Sidley Austin, LLP_Amendment_Amendment.md\n",
      "2024-08-09 10:20:56,155 - INFO - Markdown file updated at gpt4_Markdown_outputs/reg/outputs/UTL/Amendment/19920201_Sidley Austin, LLP_Amendment_Amendment.md\n",
      "2024-08-09 10:20:56,155 - INFO - Markdown file updated at gpt4_Markdown_outputs/reg/outputs/UTL/Amendment/20171116_Wiley Rein, LLP_Amendment_Amendment.md\n",
      "2024-08-09 10:20:56,156 - INFO - Markdown file updated at gpt4_Markdown_outputs/reg/outputs/UTL/Amendment/20171116_Wiley Rein, LLP_Amendment_Amendment.md\n",
      "2024-08-09 10:20:56,156 - INFO - Markdown file updated at gpt4_Markdown_outputs/reg/outputs/UTL/Amendment/20171116_Wiley Rein, LLP_Amendment_Amendment.md\n",
      "2024-08-09 10:20:56,157 - INFO - Markdown file updated at gpt4_Markdown_outputs/reg/outputs/UTL/Amendment/20180430_Public Strategies Washington, Inc._Amendment_Amendment.md\n",
      "2024-08-09 10:20:56,157 - INFO - Markdown file updated at gpt4_Markdown_outputs/reg/outputs/UTL/Amendment/20180430_Public Strategies Washington, Inc._Amendment_Amendment.md\n",
      "2024-08-09 10:20:56,158 - INFO - Markdown file updated at gpt4_Markdown_outputs/reg/outputs/UTL/Amendment/20170224_Alston _ Bird, LLP_Amendment_Amendment.md\n",
      "2024-08-09 10:20:56,159 - INFO - Markdown file updated at gpt4_Markdown_outputs/reg/outputs/UTL/Amendment/20170224_Alston _ Bird, LLP_Amendment_Amendment.md\n",
      "2024-08-09 10:20:56,159 - INFO - Markdown file updated at gpt4_Markdown_outputs/reg/outputs/UTL/Amendment/20150530_Parvin, C. Landon_Amendment_Amendment.md\n",
      "2024-08-09 10:20:56,160 - INFO - Markdown file updated at gpt4_Markdown_outputs/reg/outputs/UTL/Amendment/20150530_Parvin, C. Landon_Amendment_Amendment.md\n",
      "2024-08-09 10:20:56,160 - INFO - Markdown file updated at gpt4_Markdown_outputs/reg/outputs/UTL/Amendment/20150105_Squire Patton Boggs, LLP_Amendment_Amendment.md\n",
      "2024-08-09 10:20:56,161 - INFO - Markdown file updated at gpt4_Markdown_outputs/reg/outputs/UTL/Amendment/20150105_Squire Patton Boggs, LLP_Amendment_Amendment.md\n",
      "2024-08-09 10:20:56,161 - INFO - Markdown file updated at gpt4_Markdown_outputs/reg/outputs/UTL/Amendment/19961018_DLA Piper US LLP_Amendment_Amendment.md\n",
      "2024-08-09 10:20:56,162 - INFO - Markdown file updated at gpt4_Markdown_outputs/reg/outputs/UTL/Amendment/19961018_DLA Piper US LLP_Amendment_Amendment.md\n",
      "2024-08-09 10:20:56,162 - INFO - Markdown file updated at gpt4_Markdown_outputs/reg/outputs/UTL/Amendment/19961018_DLA Piper US LLP_Amendment_Amendment.md\n",
      "2024-08-09 10:20:56,163 - INFO - Markdown file updated at gpt4_Markdown_outputs/reg/outputs/UTL/Amendment/20140813_Fratelli Group_Amendment_Amendment.md\n",
      "2024-08-09 10:20:56,163 - INFO - Markdown file updated at gpt4_Markdown_outputs/reg/outputs/UTL/Amendment/20140813_Fratelli Group_Amendment_Amendment.md\n",
      "2024-08-09 10:20:56,164 - INFO - Markdown file updated at gpt4_Markdown_outputs/reg/outputs/UTL/Amendment/20150203_Burson-Marsteller, LLC (Miami Office)_Amendment_Amendment.md\n",
      "2024-08-09 10:20:56,164 - INFO - Markdown file updated at gpt4_Markdown_outputs/reg/outputs/UTL/Amendment/20150203_Burson-Marsteller, LLC (Miami Office)_Amendment_Amendment.md\n",
      "2024-08-09 10:20:56,165 - INFO - Markdown file updated at gpt4_Markdown_outputs/reg/outputs/UTL/Amendment/20160406_Rokk Solutions, LLC_Amendment_Amendment.md\n",
      "2024-08-09 10:20:56,165 - INFO - Markdown file updated at gpt4_Markdown_outputs/reg/outputs/UTL/Amendment/20160406_Rokk Solutions, LLC_Amendment_Amendment.md\n",
      "2024-08-09 10:20:56,166 - INFO - Markdown file updated at gpt4_Markdown_outputs/reg/outputs/UTL/Amendment/20180123_Fleishman-Hillard, Inc._Amendment_Amendment.md\n",
      "2024-08-09 10:20:56,166 - INFO - Markdown file updated at gpt4_Markdown_outputs/reg/outputs/UTL/Amendment/20180123_Fleishman-Hillard, Inc._Amendment_Amendment.md\n",
      "2024-08-09 10:20:56,167 - INFO - Markdown file updated at gpt4_Markdown_outputs/reg/outputs/UTL/Amendment/19710401_Netherlands Board of Tourism and Conventions (NBTC)_Amendment_Amendment.md\n",
      "2024-08-09 10:20:56,167 - INFO - Markdown file updated at gpt4_Markdown_outputs/reg/outputs/UTL/Amendment/20010820_Arnold _ Porter Kaye Scholer, LLP_Amendment_Amendment.md\n",
      "2024-08-09 10:20:56,168 - INFO - Markdown file updated at gpt4_Markdown_outputs/reg/outputs/UTL/Amendment/20010820_Arnold _ Porter Kaye Scholer, LLP_Amendment_Amendment.md\n",
      "2024-08-09 10:20:56,168 - INFO - Markdown file updated at gpt4_Markdown_outputs/reg/outputs/UTL/Amendment/20170901_Bryan Cave, LLP_Amendment_Amendment.md\n",
      "2024-08-09 10:20:56,169 - INFO - Markdown file updated at gpt4_Markdown_outputs/reg/outputs/UTL/Amendment/20170901_Bryan Cave, LLP_Amendment_Amendment.md\n",
      "2024-08-09 10:20:56,170 - INFO - Markdown file updated at gpt4_Markdown_outputs/reg/outputs/UTL/Amendment/20030714_Arnold _ Porter Kaye Scholer, LLP_Amendment_Amendment.md\n",
      "2024-08-09 10:20:56,170 - INFO - Markdown file updated at gpt4_Markdown_outputs/reg/outputs/UTL/Amendment/20030714_Arnold _ Porter Kaye Scholer, LLP_Amendment_Amendment.md\n",
      "2024-08-09 10:20:56,171 - INFO - Markdown file updated at gpt4_Markdown_outputs/reg/outputs/UTL/Amendment/19950929_Hogan Lovells US LLP_Amendment_Amendment.md\n",
      "2024-08-09 10:20:56,171 - INFO - Markdown file updated at gpt4_Markdown_outputs/reg/outputs/UTL/Amendment/19950929_Hogan Lovells US LLP_Amendment_Amendment.md\n",
      "2024-08-09 10:20:56,172 - INFO - Markdown file updated at gpt4_Markdown_outputs/reg/outputs/UTL/Amendment/19920601_JETRO, San Francisco_Amendment_Amendment.md\n",
      "2024-08-09 10:20:56,172 - INFO - Markdown file updated at gpt4_Markdown_outputs/reg/outputs/UTL/Amendment/19920601_JETRO, San Francisco_Amendment_Amendment.md\n",
      "2024-08-09 10:20:56,173 - INFO - Markdown file updated at gpt4_Markdown_outputs/reg/outputs/UTL/Amendment/20180613_Ballard Partners_Amendment_Amendment.md\n",
      "2024-08-09 10:20:56,173 - INFO - Markdown file updated at gpt4_Markdown_outputs/reg/outputs/UTL/Amendment/20180613_Ballard Partners_Amendment_Amendment.md\n",
      "2024-08-09 10:20:56,174 - INFO - Markdown file updated at gpt4_Markdown_outputs/reg/outputs/UTL/Dissemination/19920901_Daniel J. Edelman, Inc._Dissemination Report_Dissemination Report.md\n",
      "2024-08-09 10:20:56,174 - INFO - Markdown file updated at gpt4_Markdown_outputs/reg/outputs/UTL/Dissemination/19921201_Far East Trade Services, Inc._Dissemination Report_Dissemination Report.md\n",
      "2024-08-09 10:20:56,175 - INFO - Markdown file updated at gpt4_Markdown_outputs/reg/outputs/UTL/Dissemination/19921201_Far East Trade Services, Inc._Dissemination Report_Dissemination Report.md\n",
      "2024-08-09 10:20:56,175 - INFO - Markdown file updated at gpt4_Markdown_outputs/reg/outputs/UTL/Dissemination/19910201_Akin, Gump, Strauss, Hauer _ Feld, LLP_Dissemination Report_Dissemination Report.md\n",
      "2024-08-09 10:20:56,176 - INFO - Markdown file updated at gpt4_Markdown_outputs/reg/outputs/UTL/Dissemination/19910201_Akin, Gump, Strauss, Hauer _ Feld, LLP_Dissemination Report_Dissemination Report.md\n",
      "2024-08-09 10:20:56,176 - INFO - Markdown file updated at gpt4_Markdown_outputs/reg/outputs/UTL/Dissemination/19920701_JETRO, New York_Dissemination Report_Dissemination Report.md\n",
      "2024-08-09 10:20:56,177 - INFO - Markdown file updated at gpt4_Markdown_outputs/reg/outputs/UTL/Dissemination/19920701_JETRO, New York_Dissemination Report_Dissemination Report.md\n",
      "2024-08-09 10:20:56,177 - INFO - Markdown file updated at gpt4_Markdown_outputs/reg/outputs/UTL/Dissemination/19911201_JETRO, Houston_Dissemination Report_Dissemination Report.md\n",
      "2024-08-09 10:20:56,178 - INFO - Markdown file updated at gpt4_Markdown_outputs/reg/outputs/UTL/Dissemination/19911201_JETRO, Houston_Dissemination Report_Dissemination Report.md\n",
      "2024-08-09 10:20:56,178 - INFO - Markdown file updated at gpt4_Markdown_outputs/reg/outputs/UTL/Dissemination/19910501_JETRO, Atlanta_Dissemination Report_Dissemination Report.md\n",
      "2024-08-09 10:20:56,179 - INFO - Markdown file updated at gpt4_Markdown_outputs/reg/outputs/UTL/Dissemination/19910501_JETRO, Atlanta_Dissemination Report_Dissemination Report.md\n",
      "2024-08-09 10:20:56,179 - INFO - Markdown file updated at gpt4_Markdown_outputs/reg/outputs/UTL/Dissemination/19931101_Hogan Lovells US LLP_Dissemination Report_Dissemination Report.md\n",
      "2024-08-09 10:20:56,180 - INFO - Markdown file updated at gpt4_Markdown_outputs/reg/outputs/UTL/Dissemination/19920701_Daniel J. Edelman, Inc._Dissemination Report_Dissemination Report.md\n",
      "2024-08-09 10:20:56,181 - INFO - Markdown file updated at gpt4_Markdown_outputs/reg/outputs/UTL/Dissemination/19920701_Far East Trade Services, Inc._Dissemination Report_Dissemination Report.md\n",
      "2024-08-09 10:20:56,181 - INFO - Markdown file updated at gpt4_Markdown_outputs/reg/outputs/UTL/Dissemination/19920701_Far East Trade Services, Inc._Dissemination Report_Dissemination Report.md\n",
      "2024-08-09 10:20:56,181 - INFO - Markdown file updated at gpt4_Markdown_outputs/reg/outputs/UTL/Dissemination/19930101_Representative of the Turkish Republic of Northern Cyprus_Dissemination Report_Dissemination Report.md\n",
      "2024-08-09 10:20:56,182 - INFO - Markdown file updated at gpt4_Markdown_outputs/reg/outputs/UTL/Dissemination/19930101_Representative of the Turkish Republic of Northern Cyprus_Dissemination Report_Dissemination Report.md\n",
      "2024-08-09 10:20:56,183 - INFO - Markdown file updated at gpt4_Markdown_outputs/reg/outputs/UTL/Dissemination/19930101_JETRO, Los Angeles_Dissemination Report_Dissemination Report.md\n",
      "2024-08-09 10:20:56,183 - INFO - Markdown file updated at gpt4_Markdown_outputs/reg/outputs/UTL/Dissemination/19930101_JETRO, Los Angeles_Dissemination Report_Dissemination Report.md\n",
      "2024-08-09 10:20:56,184 - INFO - Markdown file updated at gpt4_Markdown_outputs/reg/outputs/UTL/Dissemination/19930801_JETRO, Los Angeles_Dissemination Report_Dissemination Report.md\n",
      "2024-08-09 10:20:56,184 - INFO - Markdown file updated at gpt4_Markdown_outputs/reg/outputs/UTL/Dissemination/19930801_JETRO, Los Angeles_Dissemination Report_Dissemination Report.md\n",
      "2024-08-09 10:20:56,185 - INFO - Markdown file updated at gpt4_Markdown_outputs/reg/outputs/UTL/Dissemination/19950522_JETRO, Los Angeles_Dissemination Report_Dissemination Report.md\n",
      "2024-08-09 10:20:56,185 - INFO - Markdown file updated at gpt4_Markdown_outputs/reg/outputs/UTL/Dissemination/19950522_JETRO, Los Angeles_Dissemination Report_Dissemination Report.md\n",
      "2024-08-09 10:20:56,185 - INFO - Markdown file updated at gpt4_Markdown_outputs/reg/outputs/UTL/Dissemination/19941221_JETRO, Chicago_Dissemination Report_Dissemination Report.md\n",
      "2024-08-09 10:20:56,186 - INFO - Markdown file updated at gpt4_Markdown_outputs/reg/outputs/UTL/Dissemination/19941221_JETRO, Chicago_Dissemination Report_Dissemination Report.md\n",
      "2024-08-09 10:20:56,187 - INFO - Markdown file updated at gpt4_Markdown_outputs/reg/outputs/UTL/Dissemination/19930901_Hill and Knowlton Strategies, LLC_Dissemination Report_Dissemination Report.md\n",
      "2024-08-09 10:20:56,187 - INFO - Markdown file updated at gpt4_Markdown_outputs/reg/outputs/UTL/Dissemination/19930901_Hill and Knowlton Strategies, LLC_Dissemination Report_Dissemination Report.md\n",
      "2024-08-09 10:20:56,188 - INFO - Markdown file updated at gpt4_Markdown_outputs/reg/outputs/UTL/Dissemination/19931101_JETRO, Los Angeles_Dissemination Report_Dissemination Report.md\n",
      "2024-08-09 10:20:56,188 - INFO - Markdown file updated at gpt4_Markdown_outputs/reg/outputs/UTL/Dissemination/19931101_JETRO, Los Angeles_Dissemination Report_Dissemination Report.md\n",
      "2024-08-09 10:20:56,189 - INFO - Markdown file updated at gpt4_Markdown_outputs/reg/outputs/UTL/Dissemination/19930901_JETRO, Los Angeles_Dissemination Report_Dissemination Report.md\n",
      "2024-08-09 10:20:56,189 - INFO - Markdown file updated at gpt4_Markdown_outputs/reg/outputs/UTL/Dissemination/19930901_JETRO, Los Angeles_Dissemination Report_Dissemination Report.md\n",
      "2024-08-09 10:20:56,190 - INFO - Markdown file updated at gpt4_Markdown_outputs/reg/outputs/UTL/Dissemination/19920701_International Registries, Inc._Dissemination Report_Dissemination Report.md\n",
      "2024-08-09 10:20:56,190 - INFO - Markdown file updated at gpt4_Markdown_outputs/reg/outputs/UTL/Dissemination/19920701_International Registries, Inc._Dissemination Report_Dissemination Report.md\n",
      "2024-08-09 10:20:56,191 - INFO - Markdown file updated at gpt4_Markdown_outputs/reg/outputs/UTL/Dissemination/19930201_Kobe Trade Information Office_Dissemination Report_Dissemination Report.md\n",
      "2024-08-09 10:20:56,191 - INFO - Markdown file updated at gpt4_Markdown_outputs/reg/outputs/UTL/Dissemination/19930201_Kobe Trade Information Office_Dissemination Report_Dissemination Report.md\n",
      "2024-08-09 10:20:56,192 - INFO - Markdown file updated at gpt4_Markdown_outputs/reg/outputs/UTL/Dissemination/19940914_JETRO, Los Angeles_Dissemination Report_Dissemination Report.md\n",
      "2024-08-09 10:20:56,192 - INFO - Markdown file updated at gpt4_Markdown_outputs/reg/outputs/UTL/Dissemination/19940914_JETRO, Los Angeles_Dissemination Report_Dissemination Report.md\n",
      "2024-08-09 10:20:56,193 - INFO - Markdown file updated at gpt4_Markdown_outputs/reg/outputs/UTL/Dissemination/19940914_JETRO, Los Angeles_Dissemination Report_Dissemination Report.md\n",
      "2024-08-09 10:20:56,193 - INFO - Markdown file updated at gpt4_Markdown_outputs/reg/outputs/UTL/Dissemination/19911201_Scottish Enterprise_Dissemination Report_Dissemination Report.md\n",
      "2024-08-09 10:20:56,194 - INFO - Markdown file updated at gpt4_Markdown_outputs/reg/outputs/UTL/Dissemination/19920301_JETRO, Los Angeles_Dissemination Report_Dissemination Report.md\n",
      "2024-08-09 10:20:56,194 - INFO - Markdown file updated at gpt4_Markdown_outputs/reg/outputs/UTL/Dissemination/19920301_JETRO, Los Angeles_Dissemination Report_Dissemination Report.md\n",
      "2024-08-09 10:20:56,195 - INFO - Markdown file updated at gpt4_Markdown_outputs/reg/outputs/UTL/Dissemination/19920701_JETRO, Los Angeles_Dissemination Report_Dissemination Report.md\n",
      "2024-08-09 10:20:56,195 - INFO - Markdown file updated at gpt4_Markdown_outputs/reg/outputs/UTL/Dissemination/19920701_JETRO, Los Angeles_Dissemination Report_Dissemination Report.md\n",
      "2024-08-09 10:20:56,196 - INFO - Markdown file updated at gpt4_Markdown_outputs/reg/outputs/UTL/Dissemination/19950110_JETRO, New York_Dissemination Report_Dissemination Report.md\n",
      "2024-08-09 10:20:56,196 - INFO - Markdown file updated at gpt4_Markdown_outputs/reg/outputs/UTL/Dissemination/19930601_International Registries, Inc._Dissemination Report_Dissemination Report.md\n",
      "2024-08-09 10:20:56,197 - INFO - Markdown file updated at gpt4_Markdown_outputs/reg/outputs/UTL/Dissemination/19930601_International Registries, Inc._Dissemination Report_Dissemination Report.md\n",
      "2024-08-09 10:20:56,197 - INFO - Markdown file updated at gpt4_Markdown_outputs/reg/outputs/UTL/Dissemination/19930701_JETRO, New York_Dissemination Report_Dissemination Report.md\n",
      "2024-08-09 10:20:56,198 - INFO - Markdown file updated at gpt4_Markdown_outputs/reg/outputs/UTL/Dissemination/19930701_JETRO, New York_Dissemination Report_Dissemination Report.md\n",
      "2024-08-09 10:20:56,198 - INFO - Markdown file updated at gpt4_Markdown_outputs/reg/outputs/UTL/Dissemination/19920501_Hogan Lovells US LLP_Dissemination Report_Dissemination Report.md\n",
      "2024-08-09 10:20:56,199 - INFO - Markdown file updated at gpt4_Markdown_outputs/reg/outputs/UTL/Dissemination/19920501_Hogan Lovells US LLP_Dissemination Report_Dissemination Report.md\n",
      "2024-08-09 10:20:56,199 - INFO - Markdown file updated at gpt4_Markdown_outputs/reg/outputs/UTL/Dissemination/19950619_JETRO, Houston_Dissemination Report_Dissemination Report.md\n",
      "2024-08-09 10:20:56,200 - INFO - Markdown file updated at gpt4_Markdown_outputs/reg/outputs/UTL/Dissemination/19950619_JETRO, Houston_Dissemination Report_Dissemination Report.md\n",
      "2024-08-09 10:20:56,200 - INFO - Markdown file updated at gpt4_Markdown_outputs/reg/outputs/UTL/Dissemination/19910801_Representative of the Turkish Republic of Northern Cyprus_Dissemination Report_Dissemination Report.md\n",
      "2024-08-09 10:20:56,201 - INFO - Markdown file updated at gpt4_Markdown_outputs/reg/outputs/UTL/Dissemination/19910801_Representative of the Turkish Republic of Northern Cyprus_Dissemination Report_Dissemination Report.md\n",
      "2024-08-09 10:20:56,201 - INFO - Markdown file updated at gpt4_Markdown_outputs/reg/outputs/UTL/Dissemination/19910801_Representative of the Turkish Republic of Northern Cyprus_Dissemination Report_Dissemination Report.md\n",
      "2024-08-09 10:20:56,202 - INFO - Markdown file updated at gpt4_Markdown_outputs/reg/outputs/UTL/Dissemination/19930701_JETRO, Atlanta_Dissemination Report_Dissemination Report.md\n",
      "2024-08-09 10:20:56,202 - INFO - Markdown file updated at gpt4_Markdown_outputs/reg/outputs/UTL/Dissemination/19930701_JETRO, Atlanta_Dissemination Report_Dissemination Report.md\n",
      "2024-08-09 10:20:56,203 - INFO - Markdown file updated at gpt4_Markdown_outputs/reg/outputs/UTL/Dissemination/19931117_KOTRA_Dissemination Report_Dissemination Report.md\n",
      "2024-08-09 10:20:56,203 - INFO - Markdown file updated at gpt4_Markdown_outputs/reg/outputs/UTL/Dissemination/19931117_KOTRA_Dissemination Report_Dissemination Report.md\n",
      "2024-08-09 10:20:56,204 - INFO - Markdown file updated at gpt4_Markdown_outputs/reg/outputs/UTL/Dissemination/19930101_JETRO, Chicago_Dissemination Report_Dissemination Report.md\n",
      "2024-08-09 10:20:56,204 - INFO - Markdown file updated at gpt4_Markdown_outputs/reg/outputs/UTL/Dissemination/19930101_JETRO, Chicago_Dissemination Report_Dissemination Report.md\n",
      "2024-08-09 10:20:56,205 - INFO - Markdown file updated at gpt4_Markdown_outputs/reg/outputs/UTL/Dissemination/19960116_JETRO, Chicago_Dissemination Report_Dissemination Report.md\n",
      "2024-08-09 10:20:56,205 - INFO - Markdown file updated at gpt4_Markdown_outputs/reg/outputs/UTL/Dissemination/19960116_JETRO, Chicago_Dissemination Report_Dissemination Report.md\n",
      "2024-08-09 10:20:56,206 - INFO - Markdown file updated at gpt4_Markdown_outputs/reg/outputs/UTL/Dissemination/19920901_Representative of the Turkish Republic of Northern Cyprus_Dissemination Report_Dissemination Report.md\n",
      "2024-08-09 10:20:56,206 - INFO - Markdown file updated at gpt4_Markdown_outputs/reg/outputs/UTL/Dissemination/19920901_Representative of the Turkish Republic of Northern Cyprus_Dissemination Report_Dissemination Report.md\n",
      "2024-08-09 10:20:56,207 - INFO - Markdown file updated at gpt4_Markdown_outputs/reg/outputs/UTL/Dissemination/19920701_Hill and Knowlton Strategies, LLC_Dissemination Report_Dissemination Report.md\n",
      "2024-08-09 10:20:56,207 - INFO - Markdown file updated at gpt4_Markdown_outputs/reg/outputs/UTL/Dissemination/19920701_Hill and Knowlton Strategies, LLC_Dissemination Report_Dissemination Report.md\n",
      "2024-08-09 10:20:56,208 - INFO - Markdown file updated at gpt4_Markdown_outputs/reg/outputs/UTL/Dissemination/19910201_World Zionist Organization - American Section, Inc._Dissemination Report_Dissemination Report.md\n",
      "2024-08-09 10:20:56,208 - INFO - Markdown file updated at gpt4_Markdown_outputs/reg/outputs/UTL/Dissemination/19930201_Akin, Gump, Strauss, Hauer _ Feld, LLP_Dissemination Report_Dissemination Report.md\n",
      "2024-08-09 10:20:56,209 - INFO - Markdown file updated at gpt4_Markdown_outputs/reg/outputs/UTL/Dissemination/19920401_Quebec Government Office_Dissemination Report_Dissemination Report.md\n",
      "2024-08-09 10:20:56,209 - INFO - Markdown file updated at gpt4_Markdown_outputs/reg/outputs/UTL/Dissemination/19920401_Quebec Government Office_Dissemination Report_Dissemination Report.md\n",
      "2024-08-09 10:20:56,210 - INFO - Markdown file updated at gpt4_Markdown_outputs/reg/outputs/UTL/Dissemination/19910401_World Zionist Organization - American Section, Inc._Dissemination Report_Dissemination Report.md\n",
      "2024-08-09 10:20:56,211 - INFO - Markdown file updated at gpt4_Markdown_outputs/reg/outputs/UTL/Dissemination/19930901_Scottish Enterprise_Dissemination Report_Dissemination Report.md\n",
      "2024-08-09 10:20:56,211 - INFO - Markdown file updated at gpt4_Markdown_outputs/reg/outputs/UTL/Dissemination/19930901_Scottish Enterprise_Dissemination Report_Dissemination Report.md\n",
      "2024-08-09 10:20:56,212 - INFO - Markdown file updated at gpt4_Markdown_outputs/reg/outputs/UTL/Short-Form/20090414_LeClairRyan, A Professional Corporation_Williams, Krystal J._Short-Form.md\n",
      "2024-08-09 10:20:56,212 - INFO - Markdown file updated at gpt4_Markdown_outputs/reg/outputs/UTL/Short-Form/20090414_LeClairRyan, A Professional Corporation_Williams, Krystal J._Short-Form.md\n",
      "2024-08-09 10:20:56,213 - INFO - Markdown file updated at gpt4_Markdown_outputs/reg/outputs/UTL/Short-Form/20110929_DLA Piper US LLP_Schwanke, Beth_Short-Form.md\n",
      "2024-08-09 10:20:56,213 - INFO - Markdown file updated at gpt4_Markdown_outputs/reg/outputs/UTL/Short-Form/20110929_DLA Piper US LLP_Schwanke, Beth_Short-Form.md\n",
      "2024-08-09 10:20:56,214 - INFO - Markdown file updated at gpt4_Markdown_outputs/reg/outputs/UTL/Short-Form/20110929_DLA Piper US LLP_Schwanke, Beth_Short-Form.md\n",
      "2024-08-09 10:20:56,214 - INFO - Markdown file updated at gpt4_Markdown_outputs/reg/outputs/UTL/Short-Form/20120917_Singapore Economic Development Board_Choo, Xing Jie_Short-Form.md\n",
      "2024-08-09 10:20:56,215 - INFO - Markdown file updated at gpt4_Markdown_outputs/reg/outputs/UTL/Short-Form/20120917_Singapore Economic Development Board_Choo, Xing Jie_Short-Form.md\n",
      "2024-08-09 10:20:56,215 - INFO - Markdown file updated at gpt4_Markdown_outputs/reg/outputs/UTL/Short-Form/20090408_Arab Information Center_Sherif, Walid Mahmoud Sayed Ahmed_Short-Form.md\n",
      "2024-08-09 10:20:56,216 - INFO - Markdown file updated at gpt4_Markdown_outputs/reg/outputs/UTL/Short-Form/20090408_Arab Information Center_Sherif, Walid Mahmoud Sayed Ahmed_Short-Form.md\n",
      "2024-08-09 10:20:56,216 - INFO - Markdown file updated at gpt4_Markdown_outputs/reg/outputs/UTL/Short-Form/20140418_Sorini, Samet _ Associates, LLC_Kingery, John_Short-Form.md\n",
      "2024-08-09 10:20:56,217 - INFO - Markdown file updated at gpt4_Markdown_outputs/reg/outputs/UTL/Short-Form/20140418_Sorini, Samet _ Associates, LLC_Kingery, John_Short-Form.md\n",
      "2024-08-09 10:20:56,217 - INFO - Markdown file updated at gpt4_Markdown_outputs/reg/outputs/UTL/Short-Form/20160601_Manatos _ Manatos_Manatos, Emanuel A. _Mike__Short-Form.md\n",
      "2024-08-09 10:20:56,218 - INFO - Markdown file updated at gpt4_Markdown_outputs/reg/outputs/UTL/Short-Form/20160601_Manatos _ Manatos_Manatos, Emanuel A. _Mike__Short-Form.md\n",
      "2024-08-09 10:20:56,218 - INFO - Markdown file updated at gpt4_Markdown_outputs/reg/outputs/UTL/Short-Form/20110210_Korea National Tourism Organization, New Jersey_Kim, Jeongah_Short-Form.md\n",
      "2024-08-09 10:20:56,219 - INFO - Markdown file updated at gpt4_Markdown_outputs/reg/outputs/UTL/Short-Form/20110210_Korea National Tourism Organization, New Jersey_Kim, Jeongah_Short-Form.md\n",
      "2024-08-09 10:20:56,219 - INFO - Markdown file updated at gpt4_Markdown_outputs/reg/outputs/UTL/Short-Form/20140812_Greenberg Traurig, LLP_Wynn, Albert R._Short-Form.md\n",
      "2024-08-09 10:20:56,220 - INFO - Markdown file updated at gpt4_Markdown_outputs/reg/outputs/UTL/Short-Form/20140812_Greenberg Traurig, LLP_Wynn, Albert R._Short-Form.md\n",
      "2024-08-09 10:20:56,221 - INFO - Markdown file updated at gpt4_Markdown_outputs/reg/outputs/UTL/Short-Form/20090424_Raben Group, LLC_Goulart, Kimberly_Short-Form.md\n",
      "2024-08-09 10:20:56,221 - INFO - Markdown file updated at gpt4_Markdown_outputs/reg/outputs/UTL/Short-Form/20090424_Raben Group, LLC_Goulart, Kimberly_Short-Form.md\n",
      "2024-08-09 10:20:56,222 - INFO - Markdown file updated at gpt4_Markdown_outputs/reg/outputs/UTL/Short-Form/20090624_Akin, Gump, Strauss, Hauer _ Feld, LLP_Davis, Smith W._Short-Form.md\n",
      "2024-08-09 10:20:56,222 - INFO - Markdown file updated at gpt4_Markdown_outputs/reg/outputs/UTL/Short-Form/20090624_Akin, Gump, Strauss, Hauer _ Feld, LLP_Davis, Smith W._Short-Form.md\n",
      "2024-08-09 10:20:56,223 - INFO - Markdown file updated at gpt4_Markdown_outputs/reg/outputs/UTL/Short-Form/20090624_Akin, Gump, Strauss, Hauer _ Feld, LLP_Davis, Smith W._Short-Form.md\n",
      "2024-08-09 10:20:56,223 - INFO - Markdown file updated at gpt4_Markdown_outputs/reg/outputs/UTL/Short-Form/20080918_Squire Patton Boggs, LLP_Varma, Anurag_Short-Form.md\n",
      "2024-08-09 10:20:56,224 - INFO - Markdown file updated at gpt4_Markdown_outputs/reg/outputs/UTL/Short-Form/20080918_Squire Patton Boggs, LLP_Varma, Anurag_Short-Form.md\n",
      "2024-08-09 10:20:56,224 - INFO - Markdown file updated at gpt4_Markdown_outputs/reg/outputs/UTL/Short-Form/20110805_Squire Patton Boggs, LLP_Nardotti, Michael J. Jr._Short-Form.md\n",
      "2024-08-09 10:20:56,225 - INFO - Markdown file updated at gpt4_Markdown_outputs/reg/outputs/UTL/Short-Form/20110805_Squire Patton Boggs, LLP_Nardotti, Michael J. Jr._Short-Form.md\n",
      "2024-08-09 10:20:56,225 - INFO - Markdown file updated at gpt4_Markdown_outputs/reg/outputs/UTL/Short-Form/20110913_MSLGROUP Americas, Inc._Dealey, Sam_Short-Form.md\n",
      "2024-08-09 10:20:56,226 - INFO - Markdown file updated at gpt4_Markdown_outputs/reg/outputs/UTL/Short-Form/20110913_MSLGROUP Americas, Inc._Dealey, Sam_Short-Form.md\n",
      "2024-08-09 10:20:56,226 - INFO - Markdown file updated at gpt4_Markdown_outputs/reg/outputs/UTL/Short-Form/20100820_South African Tourism_Jacobberger, Dean_Short-Form.md\n",
      "2024-08-09 10:20:56,227 - INFO - Markdown file updated at gpt4_Markdown_outputs/reg/outputs/UTL/Short-Form/20100820_South African Tourism_Jacobberger, Dean_Short-Form.md\n",
      "2024-08-09 10:20:56,227 - INFO - Markdown file updated at gpt4_Markdown_outputs/reg/outputs/UTL/Short-Form/20100820_South African Tourism_Jacobberger, Dean_Short-Form.md\n",
      "2024-08-09 10:20:56,228 - INFO - Markdown file updated at gpt4_Markdown_outputs/reg/outputs/UTL/Short-Form/20160506_MSLGROUP Americas, Inc._Kurapovna, Marcia Christoff_Short-Form.md\n",
      "2024-08-09 10:20:56,228 - INFO - Markdown file updated at gpt4_Markdown_outputs/reg/outputs/UTL/Short-Form/20160506_MSLGROUP Americas, Inc._Kurapovna, Marcia Christoff_Short-Form.md\n",
      "2024-08-09 10:20:56,229 - INFO - Markdown file updated at gpt4_Markdown_outputs/reg/outputs/UTL/Short-Form/20110722_Daniel J. Edelman, Inc._Norfolk, Jeffrey_Short-Form.md\n",
      "2024-08-09 10:20:56,229 - INFO - Markdown file updated at gpt4_Markdown_outputs/reg/outputs/UTL/Short-Form/20110722_Daniel J. Edelman, Inc._Norfolk, Jeffrey_Short-Form.md\n",
      "2024-08-09 10:20:56,230 - INFO - Markdown file updated at gpt4_Markdown_outputs/reg/outputs/UTL/Short-Form/20170228_BGR Government Affairs, LLC_Vajdich, Daniel_Short-Form.md\n",
      "2024-08-09 10:20:56,230 - INFO - Markdown file updated at gpt4_Markdown_outputs/reg/outputs/UTL/Short-Form/20170228_BGR Government Affairs, LLC_Vajdich, Daniel_Short-Form.md\n",
      "2024-08-09 10:20:56,231 - INFO - Markdown file updated at gpt4_Markdown_outputs/reg/outputs/UTL/Short-Form/20101208_Ketchum Inc. NY_Austria, Kristine Partolan_Short-Form.md\n",
      "2024-08-09 10:20:56,231 - INFO - Markdown file updated at gpt4_Markdown_outputs/reg/outputs/UTL/Short-Form/20101208_Ketchum Inc. NY_Austria, Kristine Partolan_Short-Form.md\n",
      "2024-08-09 10:20:56,232 - INFO - Markdown file updated at gpt4_Markdown_outputs/reg/outputs/UTL/Short-Form/20121129_Commonwealth of Dominica Maritime Registry, Inc._Jamal, Shahid_Short-Form.md\n",
      "2024-08-09 10:20:56,232 - INFO - Markdown file updated at gpt4_Markdown_outputs/reg/outputs/UTL/Short-Form/20121129_Commonwealth of Dominica Maritime Registry, Inc._Jamal, Shahid_Short-Form.md\n",
      "2024-08-09 10:20:56,233 - INFO - Markdown file updated at gpt4_Markdown_outputs/reg/outputs/UTL/Short-Form/20100909_Gephardt Group Government Affairs, LLC_Messmer, Michael_Short-Form.md\n",
      "2024-08-09 10:20:56,233 - INFO - Markdown file updated at gpt4_Markdown_outputs/reg/outputs/UTL/Short-Form/20100909_Gephardt Group Government Affairs, LLC_Messmer, Michael_Short-Form.md\n",
      "2024-08-09 10:20:56,234 - INFO - Markdown file updated at gpt4_Markdown_outputs/reg/outputs/UTL/Short-Form/20170130_Burson-Marsteller, LLC (Washington, DC)_Pruitt, David_Short-Form.md\n",
      "2024-08-09 10:20:56,234 - INFO - Markdown file updated at gpt4_Markdown_outputs/reg/outputs/UTL/Short-Form/20170130_Burson-Marsteller, LLC (Washington, DC)_Pruitt, David_Short-Form.md\n",
      "2024-08-09 10:20:56,235 - INFO - Markdown file updated at gpt4_Markdown_outputs/reg/outputs/UTL/Short-Form/20110628_KBS America, Inc._Noh, Ji Young_Short-Form.md\n",
      "2024-08-09 10:20:56,235 - INFO - Markdown file updated at gpt4_Markdown_outputs/reg/outputs/UTL/Short-Form/20110628_KBS America, Inc._Noh, Ji Young_Short-Form.md\n",
      "2024-08-09 10:20:56,236 - INFO - Markdown file updated at gpt4_Markdown_outputs/reg/outputs/UTL/Short-Form/20170424_Singapore Tourism Board_Yang, Yawen_Short-Form.md\n",
      "2024-08-09 10:20:56,236 - INFO - Markdown file updated at gpt4_Markdown_outputs/reg/outputs/UTL/Short-Form/20170424_Singapore Tourism Board_Yang, Yawen_Short-Form.md\n",
      "2024-08-09 10:20:56,237 - INFO - Markdown file updated at gpt4_Markdown_outputs/reg/outputs/UTL/Short-Form/20131009_VisitBritain_Walsh, Carl_Short-Form.md\n",
      "2024-08-09 10:20:56,237 - INFO - Markdown file updated at gpt4_Markdown_outputs/reg/outputs/UTL/Short-Form/20131009_VisitBritain_Walsh, Carl_Short-Form.md\n",
      "2024-08-09 10:20:56,238 - INFO - Markdown file updated at gpt4_Markdown_outputs/reg/outputs/UTL/Short-Form/20090409_Daniel J. Edelman, Inc._Segall, Jules Peter_Short-Form.md\n",
      "2024-08-09 10:20:56,238 - INFO - Markdown file updated at gpt4_Markdown_outputs/reg/outputs/UTL/Short-Form/20090409_Daniel J. Edelman, Inc._Segall, Jules Peter_Short-Form.md\n",
      "2024-08-09 10:20:56,239 - INFO - Markdown file updated at gpt4_Markdown_outputs/reg/outputs/UTL/Short-Form/20140507_Ketchum Inc. NY_Amorosi, Alexandra Scott_Short-Form.md\n",
      "2024-08-09 10:20:56,239 - INFO - Markdown file updated at gpt4_Markdown_outputs/reg/outputs/UTL/Short-Form/20140507_Ketchum Inc. NY_Amorosi, Alexandra Scott_Short-Form.md\n",
      "2024-08-09 10:20:56,240 - INFO - Markdown file updated at gpt4_Markdown_outputs/reg/outputs/UTL/Short-Form/20090522_Invest Northern Ireland_Murray, Aengus_Short-Form.md\n",
      "2024-08-09 10:20:56,240 - INFO - Markdown file updated at gpt4_Markdown_outputs/reg/outputs/UTL/Short-Form/20090522_Invest Northern Ireland_Murray, Aengus_Short-Form.md\n",
      "2024-08-09 10:20:56,241 - INFO - Markdown file updated at gpt4_Markdown_outputs/reg/outputs/UTL/Short-Form/20160731_Burson-Marsteller, LLC (Washington, DC)_Jarnagan, Stephanie_Short-Form.md\n",
      "2024-08-09 10:20:56,241 - INFO - Markdown file updated at gpt4_Markdown_outputs/reg/outputs/UTL/Short-Form/20160731_Burson-Marsteller, LLC (Washington, DC)_Jarnagan, Stephanie_Short-Form.md\n",
      "2024-08-09 10:20:56,242 - INFO - Markdown file updated at gpt4_Markdown_outputs/reg/outputs/UTL/Short-Form/20140414_VisitBritain_Medway, Kellen_Short-Form.md\n",
      "2024-08-09 10:20:56,242 - INFO - Markdown file updated at gpt4_Markdown_outputs/reg/outputs/UTL/Short-Form/20140414_VisitBritain_Medway, Kellen_Short-Form.md\n",
      "2024-08-09 10:20:56,243 - INFO - Markdown file updated at gpt4_Markdown_outputs/reg/outputs/UTL/Short-Form/20130513_Commonwealth of Dominica Maritime Registry, Inc._Ottaviano, Pasquale Diego_Short-Form.md\n",
      "2024-08-09 10:20:56,244 - INFO - Markdown file updated at gpt4_Markdown_outputs/reg/outputs/UTL/Short-Form/20130513_Commonwealth of Dominica Maritime Registry, Inc._Ottaviano, Pasquale Diego_Short-Form.md\n",
      "2024-08-09 10:20:56,244 - INFO - Markdown file updated at gpt4_Markdown_outputs/reg/outputs/UTL/Short-Form/20170130_Burson-Marsteller, LLC (Washington, DC)_Thompson, Randi_Short-Form.md\n",
      "2024-08-09 10:20:56,245 - INFO - Markdown file updated at gpt4_Markdown_outputs/reg/outputs/UTL/Short-Form/20170130_Burson-Marsteller, LLC (Washington, DC)_Thompson, Randi_Short-Form.md\n",
      "2024-08-09 10:20:56,245 - INFO - Markdown file updated at gpt4_Markdown_outputs/reg/outputs/UTL/Short-Form/20161031_MSLGROUP Americas, Inc._Everett, J. Ballard_Short-Form.md\n",
      "2024-08-09 10:20:56,246 - INFO - Markdown file updated at gpt4_Markdown_outputs/reg/outputs/UTL/Short-Form/20161031_MSLGROUP Americas, Inc._Everett, J. Ballard_Short-Form.md\n",
      "2024-08-09 10:20:56,246 - INFO - Markdown file updated at gpt4_Markdown_outputs/reg/outputs/UTL/Short-Form/20140227_Nelson Mullins Riley _ Scarborough, LLP_Clarke, Britton_Short-Form.md\n",
      "2024-08-09 10:20:56,247 - INFO - Markdown file updated at gpt4_Markdown_outputs/reg/outputs/UTL/Short-Form/20140227_Nelson Mullins Riley _ Scarborough, LLP_Clarke, Britton_Short-Form.md\n",
      "2024-08-09 10:20:56,247 - INFO - Markdown file updated at gpt4_Markdown_outputs/reg/outputs/UTL/Short-Form/20100111_O_Brien Gentry _ Scott, LLC_Gentry, James_Short-Form.md\n",
      "2024-08-09 10:20:56,248 - INFO - Markdown file updated at gpt4_Markdown_outputs/reg/outputs/UTL/Short-Form/20100111_O_Brien Gentry _ Scott, LLC_Gentry, James_Short-Form.md\n",
      "2024-08-09 10:20:56,248 - INFO - Markdown file updated at gpt4_Markdown_outputs/reg/outputs/UTL/Short-Form/20100111_O_Brien Gentry _ Scott, LLC_Gentry, James_Short-Form.md\n",
      "2024-08-09 10:20:56,249 - INFO - Markdown file updated at gpt4_Markdown_outputs/reg/outputs/UTL/Short-Form/20090623_Fleishman-Hillard, Inc._Dinagan, John_Short-Form.md\n",
      "2024-08-09 10:20:56,249 - INFO - Markdown file updated at gpt4_Markdown_outputs/reg/outputs/UTL/Short-Form/20090623_Fleishman-Hillard, Inc._Dinagan, John_Short-Form.md\n",
      "2024-08-09 10:20:56,250 - INFO - Markdown file updated at gpt4_Markdown_outputs/reg/outputs/UTL/Short-Form/20170112_Podesta Group, Inc._Thompson, Dana_Short-Form.md\n",
      "2024-08-09 10:20:56,250 - INFO - Markdown file updated at gpt4_Markdown_outputs/reg/outputs/UTL/Short-Form/20170112_Podesta Group, Inc._Thompson, Dana_Short-Form.md\n",
      "2024-08-09 10:20:56,251 - INFO - Markdown file updated at gpt4_Markdown_outputs/reg/outputs/UTL/Short-Form/20110912_BLJ Worldwide LTD_Smrikarov, Marc Philip George_Short-Form.md\n",
      "2024-08-09 10:20:56,251 - INFO - Markdown file updated at gpt4_Markdown_outputs/reg/outputs/UTL/Short-Form/20110912_BLJ Worldwide LTD_Smrikarov, Marc Philip George_Short-Form.md\n",
      "2024-08-09 10:20:56,252 - INFO - Markdown file updated at gpt4_Markdown_outputs/reg/outputs/UTL/Short-Form/20110912_BLJ Worldwide LTD_Smrikarov, Marc Philip George_Short-Form.md\n",
      "2024-08-09 10:20:56,252 - INFO - Markdown file updated at gpt4_Markdown_outputs/reg/outputs/UTL/Short-Form/20160622_Raben Group, LLC_Raben, Robert_Short-Form.md\n",
      "2024-08-09 10:20:56,253 - INFO - Markdown file updated at gpt4_Markdown_outputs/reg/outputs/UTL/Short-Form/20160622_Raben Group, LLC_Raben, Robert_Short-Form.md\n",
      "2024-08-09 10:20:56,253 - INFO - Markdown file updated at gpt4_Markdown_outputs/reg/outputs/UTL/Short-Form/20171103_Dentons US LLP_Goldberg, Gary_Short-Form.md\n",
      "2024-08-09 10:20:56,254 - INFO - Markdown file updated at gpt4_Markdown_outputs/reg/outputs/UTL/Short-Form/20171103_Dentons US LLP_Goldberg, Gary_Short-Form.md\n",
      "2024-08-09 10:20:56,254 - INFO - Markdown file updated at gpt4_Markdown_outputs/reg/outputs/UTL/Short-Form/20170313_Alston _ Bird, LLP_Jones, Robert C._Short-Form.md\n",
      "2024-08-09 10:20:56,255 - INFO - Markdown file updated at gpt4_Markdown_outputs/reg/outputs/UTL/Short-Form/20170313_Alston _ Bird, LLP_Jones, Robert C._Short-Form.md\n",
      "2024-08-09 10:20:56,255 - INFO - Markdown file updated at gpt4_Markdown_outputs/reg/outputs/STL/Amendment/20090930_Garvey, Schubert _ Barer_Amendment_Amendment.md\n",
      "2024-08-09 10:20:56,256 - INFO - Markdown file updated at gpt4_Markdown_outputs/reg/outputs/STL/Amendment/20090930_Garvey, Schubert _ Barer_Amendment_Amendment.md\n",
      "2024-08-09 10:20:56,256 - INFO - Markdown file updated at gpt4_Markdown_outputs/reg/outputs/STL/Amendment/19760201_Italian Government Tourist Board (ENIT), Los Angeles_Amendment_Amendment.md\n",
      "2024-08-09 10:20:56,257 - INFO - Markdown file updated at gpt4_Markdown_outputs/reg/outputs/STL/Amendment/19760201_Italian Government Tourist Board (ENIT), Los Angeles_Amendment_Amendment.md\n",
      "2024-08-09 10:20:56,257 - INFO - Markdown file updated at gpt4_Markdown_outputs/reg/outputs/STL/Amendment/19760201_Italian Government Tourist Board (ENIT), Los Angeles_Amendment_Amendment.md\n",
      "2024-08-09 10:20:56,258 - INFO - Markdown file updated at gpt4_Markdown_outputs/reg/outputs/STL/Amendment/20070613_Pillsbury Winthrop Shaw Pittman, LLP_Amendment_Amendment.md\n",
      "2024-08-09 10:20:56,258 - INFO - Markdown file updated at gpt4_Markdown_outputs/reg/outputs/STL/Amendment/20070613_Pillsbury Winthrop Shaw Pittman, LLP_Amendment_Amendment.md\n",
      "2024-08-09 10:20:56,259 - INFO - Markdown file updated at gpt4_Markdown_outputs/reg/outputs/STL/Amendment/20131127_Independent Diplomat, Inc._Amendment_Amendment.md\n",
      "2024-08-09 10:20:56,259 - INFO - Markdown file updated at gpt4_Markdown_outputs/reg/outputs/STL/Amendment/20131127_Independent Diplomat, Inc._Amendment_Amendment.md\n",
      "2024-08-09 10:20:56,260 - INFO - Markdown file updated at gpt4_Markdown_outputs/reg/outputs/STL/Amendment/20120424_Pillsbury Winthrop Shaw Pittman, LLP_Amendment_Amendment.md\n",
      "2024-08-09 10:20:56,260 - INFO - Markdown file updated at gpt4_Markdown_outputs/reg/outputs/STL/Amendment/20120424_Pillsbury Winthrop Shaw Pittman, LLP_Amendment_Amendment.md\n",
      "2024-08-09 10:20:56,261 - INFO - Markdown file updated at gpt4_Markdown_outputs/reg/outputs/STL/Amendment/20170815_Pillsbury Winthrop Shaw Pittman, LLP_Amendment_Amendment.md\n",
      "2024-08-09 10:20:56,262 - INFO - Markdown file updated at gpt4_Markdown_outputs/reg/outputs/STL/Amendment/20170815_Pillsbury Winthrop Shaw Pittman, LLP_Amendment_Amendment.md\n",
      "2024-08-09 10:20:56,262 - INFO - Markdown file updated at gpt4_Markdown_outputs/reg/outputs/STL/Amendment/19820401_Bermuda Tourism Authority_Amendment_Amendment.md\n",
      "2024-08-09 10:20:56,263 - INFO - Markdown file updated at gpt4_Markdown_outputs/reg/outputs/STL/Amendment/19830401_Bermuda Tourism Authority_Amendment_Amendment.md\n",
      "2024-08-09 10:20:56,263 - INFO - Markdown file updated at gpt4_Markdown_outputs/reg/outputs/STL/Amendment/20130815_Squire Patton Boggs, LLP_Amendment_Amendment.md\n",
      "2024-08-09 10:20:56,264 - INFO - Markdown file updated at gpt4_Markdown_outputs/reg/outputs/STL/Amendment/20130815_Squire Patton Boggs, LLP_Amendment_Amendment.md\n",
      "2024-08-09 10:20:56,264 - INFO - Markdown file updated at gpt4_Markdown_outputs/reg/outputs/STL/Amendment/19850801_St. Lucia Tourist Board_Amendment_Amendment.md\n",
      "2024-08-09 10:20:56,265 - INFO - Markdown file updated at gpt4_Markdown_outputs/reg/outputs/STL/Amendment/19850801_St. Lucia Tourist Board_Amendment_Amendment.md\n",
      "2024-08-09 10:20:56,265 - INFO - Markdown file updated at gpt4_Markdown_outputs/reg/outputs/STL/Amendment/20180124_Nickles Group, LLC_Amendment_Amendment.md\n",
      "2024-08-09 10:20:56,266 - INFO - Markdown file updated at gpt4_Markdown_outputs/reg/outputs/STL/Amendment/20180124_Nickles Group, LLC_Amendment_Amendment.md\n",
      "2024-08-09 10:20:56,266 - INFO - Markdown file updated at gpt4_Markdown_outputs/reg/outputs/STL/Amendment/20180105_Hill and Knowlton Strategies, LLC_Amendment_Amendment.md\n",
      "2024-08-09 10:20:56,267 - INFO - Markdown file updated at gpt4_Markdown_outputs/reg/outputs/STL/Amendment/20180105_Hill and Knowlton Strategies, LLC_Amendment_Amendment.md\n",
      "2024-08-09 10:20:56,267 - INFO - Markdown file updated at gpt4_Markdown_outputs/reg/outputs/STL/Amendment/20110103_Representative of the Turkish Republic of Northern Cyprus_Amendment_Amendment.md\n",
      "2024-08-09 10:20:56,268 - INFO - Markdown file updated at gpt4_Markdown_outputs/reg/outputs/STL/Amendment/20110103_Representative of the Turkish Republic of Northern Cyprus_Amendment_Amendment.md\n",
      "2024-08-09 10:20:56,269 - INFO - Markdown file updated at gpt4_Markdown_outputs/reg/outputs/STL/Amendment/19790101_Representative of the Turkish Republic of Northern Cyprus_Amendment_Amendment.md\n",
      "2024-08-09 10:20:56,269 - INFO - Markdown file updated at gpt4_Markdown_outputs/reg/outputs/STL/Amendment/19790101_Representative of the Turkish Republic of Northern Cyprus_Amendment_Amendment.md\n",
      "2024-08-09 10:20:56,270 - INFO - Markdown file updated at gpt4_Markdown_outputs/reg/outputs/STL/Amendment/20130131_Sidley Austin, LLP_Amendment_Amendment.md\n",
      "2024-08-09 10:20:56,271 - INFO - Markdown file updated at gpt4_Markdown_outputs/reg/outputs/STL/Amendment/20130131_Sidley Austin, LLP_Amendment_Amendment.md\n",
      "2024-08-09 10:20:56,271 - INFO - Markdown file updated at gpt4_Markdown_outputs/reg/outputs/STL/Amendment/20081001_Garvey, Schubert _ Barer_Amendment_Amendment.md\n",
      "2024-08-09 10:20:56,271 - INFO - Markdown file updated at gpt4_Markdown_outputs/reg/outputs/STL/Amendment/20081001_Garvey, Schubert _ Barer_Amendment_Amendment.md\n",
      "2024-08-09 10:20:56,272 - INFO - Markdown file updated at gpt4_Markdown_outputs/reg/outputs/STL/Amendment/20020611_CMGRP, Inc._Amendment_Amendment.md\n",
      "2024-08-09 10:20:56,273 - INFO - Markdown file updated at gpt4_Markdown_outputs/reg/outputs/STL/Amendment/20020611_CMGRP, Inc._Amendment_Amendment.md\n",
      "2024-08-09 10:20:56,273 - INFO - Markdown file updated at gpt4_Markdown_outputs/reg/outputs/STL/Amendment/20021204_JWI, LLC_Amendment_Amendment.md\n",
      "2024-08-09 10:20:56,274 - INFO - Markdown file updated at gpt4_Markdown_outputs/reg/outputs/STL/Amendment/20021204_JWI, LLC_Amendment_Amendment.md\n",
      "2024-08-09 10:20:56,274 - INFO - Markdown file updated at gpt4_Markdown_outputs/reg/outputs/STL/Amendment/20120604_Squire Patton Boggs, LLP_Amendment_Amendment.md\n",
      "2024-08-09 10:20:56,275 - INFO - Markdown file updated at gpt4_Markdown_outputs/reg/outputs/STL/Amendment/20120604_Squire Patton Boggs, LLP_Amendment_Amendment.md\n",
      "2024-08-09 10:20:56,275 - INFO - Markdown file updated at gpt4_Markdown_outputs/reg/outputs/STL/Amendment/20110527_Monaco Government Tourist Office_Amendment_Amendment.md\n",
      "2024-08-09 10:20:56,276 - INFO - Markdown file updated at gpt4_Markdown_outputs/reg/outputs/STL/Amendment/20110527_Monaco Government Tourist Office_Amendment_Amendment.md\n",
      "2024-08-09 10:20:56,276 - INFO - Markdown file updated at gpt4_Markdown_outputs/reg/outputs/STL/Amendment/19901201_CMGRP, Inc._Amendment_Amendment.md\n",
      "2024-08-09 10:20:56,277 - INFO - Markdown file updated at gpt4_Markdown_outputs/reg/outputs/STL/Amendment/19901201_CMGRP, Inc._Amendment_Amendment.md\n",
      "2024-08-09 10:20:56,277 - INFO - Markdown file updated at gpt4_Markdown_outputs/reg/outputs/STL/Amendment/19770101_Representative of the Turkish Republic of Northern Cyprus_Amendment_Amendment.md\n",
      "2024-08-09 10:20:56,278 - INFO - Markdown file updated at gpt4_Markdown_outputs/reg/outputs/STL/Amendment/19770101_Representative of the Turkish Republic of Northern Cyprus_Amendment_Amendment.md\n",
      "2024-08-09 10:20:56,278 - INFO - Markdown file updated at gpt4_Markdown_outputs/reg/outputs/STL/Amendment/19920201_Sidley Austin, LLP_Amendment_Amendment.md\n",
      "2024-08-09 10:20:56,279 - INFO - Markdown file updated at gpt4_Markdown_outputs/reg/outputs/STL/Amendment/19920201_Sidley Austin, LLP_Amendment_Amendment.md\n",
      "2024-08-09 10:20:56,279 - INFO - Markdown file updated at gpt4_Markdown_outputs/reg/outputs/STL/Amendment/20171116_Wiley Rein, LLP_Amendment_Amendment.md\n",
      "2024-08-09 10:20:56,280 - INFO - Markdown file updated at gpt4_Markdown_outputs/reg/outputs/STL/Amendment/20171116_Wiley Rein, LLP_Amendment_Amendment.md\n",
      "2024-08-09 10:20:56,280 - INFO - Markdown file updated at gpt4_Markdown_outputs/reg/outputs/STL/Amendment/20171116_Wiley Rein, LLP_Amendment_Amendment.md\n",
      "2024-08-09 10:20:56,281 - INFO - Markdown file updated at gpt4_Markdown_outputs/reg/outputs/STL/Amendment/20180430_Public Strategies Washington, Inc._Amendment_Amendment.md\n",
      "2024-08-09 10:20:56,281 - INFO - Markdown file updated at gpt4_Markdown_outputs/reg/outputs/STL/Amendment/20180430_Public Strategies Washington, Inc._Amendment_Amendment.md\n",
      "2024-08-09 10:20:56,282 - INFO - Markdown file updated at gpt4_Markdown_outputs/reg/outputs/STL/Amendment/20170224_Alston _ Bird, LLP_Amendment_Amendment.md\n",
      "2024-08-09 10:20:56,282 - INFO - Markdown file updated at gpt4_Markdown_outputs/reg/outputs/STL/Amendment/20170224_Alston _ Bird, LLP_Amendment_Amendment.md\n",
      "2024-08-09 10:20:56,283 - INFO - Markdown file updated at gpt4_Markdown_outputs/reg/outputs/STL/Amendment/20150530_Parvin, C. Landon_Amendment_Amendment.md\n",
      "2024-08-09 10:20:56,283 - INFO - Markdown file updated at gpt4_Markdown_outputs/reg/outputs/STL/Amendment/20150530_Parvin, C. Landon_Amendment_Amendment.md\n",
      "2024-08-09 10:20:56,284 - INFO - Markdown file updated at gpt4_Markdown_outputs/reg/outputs/STL/Amendment/20150105_Squire Patton Boggs, LLP_Amendment_Amendment.md\n",
      "2024-08-09 10:20:56,284 - INFO - Markdown file updated at gpt4_Markdown_outputs/reg/outputs/STL/Amendment/20150105_Squire Patton Boggs, LLP_Amendment_Amendment.md\n",
      "2024-08-09 10:20:56,285 - INFO - Markdown file updated at gpt4_Markdown_outputs/reg/outputs/STL/Amendment/19961018_DLA Piper US LLP_Amendment_Amendment.md\n",
      "2024-08-09 10:20:56,285 - INFO - Markdown file updated at gpt4_Markdown_outputs/reg/outputs/STL/Amendment/19961018_DLA Piper US LLP_Amendment_Amendment.md\n",
      "2024-08-09 10:20:56,286 - INFO - Markdown file updated at gpt4_Markdown_outputs/reg/outputs/STL/Amendment/19961018_DLA Piper US LLP_Amendment_Amendment.md\n",
      "2024-08-09 10:20:56,286 - INFO - Markdown file updated at gpt4_Markdown_outputs/reg/outputs/STL/Amendment/20140813_Fratelli Group_Amendment_Amendment.md\n",
      "2024-08-09 10:20:56,287 - INFO - Markdown file updated at gpt4_Markdown_outputs/reg/outputs/STL/Amendment/20140813_Fratelli Group_Amendment_Amendment.md\n",
      "2024-08-09 10:20:56,287 - INFO - Markdown file updated at gpt4_Markdown_outputs/reg/outputs/STL/Amendment/20150203_Burson-Marsteller, LLC (Miami Office)_Amendment_Amendment.md\n",
      "2024-08-09 10:20:56,288 - INFO - Markdown file updated at gpt4_Markdown_outputs/reg/outputs/STL/Amendment/20150203_Burson-Marsteller, LLC (Miami Office)_Amendment_Amendment.md\n",
      "2024-08-09 10:20:56,288 - INFO - Markdown file updated at gpt4_Markdown_outputs/reg/outputs/STL/Amendment/20160406_Rokk Solutions, LLC_Amendment_Amendment.md\n",
      "2024-08-09 10:20:56,289 - INFO - Markdown file updated at gpt4_Markdown_outputs/reg/outputs/STL/Amendment/20160406_Rokk Solutions, LLC_Amendment_Amendment.md\n",
      "2024-08-09 10:20:56,289 - INFO - Markdown file updated at gpt4_Markdown_outputs/reg/outputs/STL/Amendment/20180123_Fleishman-Hillard, Inc._Amendment_Amendment.md\n",
      "2024-08-09 10:20:56,290 - INFO - Markdown file updated at gpt4_Markdown_outputs/reg/outputs/STL/Amendment/20180123_Fleishman-Hillard, Inc._Amendment_Amendment.md\n",
      "2024-08-09 10:20:56,290 - INFO - Markdown file updated at gpt4_Markdown_outputs/reg/outputs/STL/Amendment/19710401_Netherlands Board of Tourism and Conventions (NBTC)_Amendment_Amendment.md\n",
      "2024-08-09 10:20:56,291 - INFO - Markdown file updated at gpt4_Markdown_outputs/reg/outputs/STL/Amendment/20010820_Arnold _ Porter Kaye Scholer, LLP_Amendment_Amendment.md\n"
     ]
    },
    {
     "name": "stdout",
     "output_type": "stream",
     "text": [
      "Processing file:  gpt4_Markdown_outputs/reg/responses/batch_NEmKL4xiVOreeI8WcArrCeEw_output.jsonl\n",
      "file_content:  {\"id\": \"batch_req_Uwt959fNCd1UcoqEcNxOfuYN\", \"custom_id\": \"0_UTL_Amendment_20090930_Garvey_Schubert___Barer_Amendment_Amendmentpdf_0_b363b55d09a1e1f6b18aa4b5cc2d3200\", \"response\": {\"status_code\": 200, \"request_id\": \"1fa9640a4b3a5d0c5dbff2d3529a7ca8\", \"body\": {\"id\": \"chatcmpl-9uGUsquNbVlp85YOEot62zNk4fGdJ\", \"object\": \"chat.completion\", \"created\": 1723196810, \"model\": \"gpt-4o-2024-05-13\", \"choices\": [{\"index\": 0, \"message\": {\"role\": \"assistant\", \"content\": \"```markdown\\n1. Name of Registrant\\n    \n",
      "Markdown file updated at gpt4_Markdown_outputs/reg/outputs/UTL/Amendment/20090930_Garvey, Schubert _ Barer_Amendment_Amendment.md\n",
      "Markdown file updated at gpt4_Markdown_outputs/reg/outputs/UTL/Amendment/20090930_Garvey, Schubert _ Barer_Amendment_Amendment.md\n",
      "Markdown file updated at gpt4_Markdown_outputs/reg/outputs/UTL/Amendment/19760201_Italian Government Tourist Board (ENIT), Los Angeles_Amendment_Amendment.md\n",
      "Markdown file updated at gpt4_Markdown_outputs/reg/outputs/UTL/Amendment/19760201_Italian Government Tourist Board (ENIT), Los Angeles_Amendment_Amendment.md\n",
      "Markdown file updated at gpt4_Markdown_outputs/reg/outputs/UTL/Amendment/19760201_Italian Government Tourist Board (ENIT), Los Angeles_Amendment_Amendment.md\n",
      "Markdown file updated at gpt4_Markdown_outputs/reg/outputs/UTL/Amendment/20070613_Pillsbury Winthrop Shaw Pittman, LLP_Amendment_Amendment.md\n",
      "Markdown file updated at gpt4_Markdown_outputs/reg/outputs/UTL/Amendment/20070613_Pillsbury Winthrop Shaw Pittman, LLP_Amendment_Amendment.md\n",
      "Markdown file updated at gpt4_Markdown_outputs/reg/outputs/UTL/Amendment/20131127_Independent Diplomat, Inc._Amendment_Amendment.md\n",
      "Markdown file updated at gpt4_Markdown_outputs/reg/outputs/UTL/Amendment/20131127_Independent Diplomat, Inc._Amendment_Amendment.md\n",
      "Markdown file updated at gpt4_Markdown_outputs/reg/outputs/UTL/Amendment/20120424_Pillsbury Winthrop Shaw Pittman, LLP_Amendment_Amendment.md\n",
      "Markdown file updated at gpt4_Markdown_outputs/reg/outputs/UTL/Amendment/20120424_Pillsbury Winthrop Shaw Pittman, LLP_Amendment_Amendment.md\n",
      "Markdown file updated at gpt4_Markdown_outputs/reg/outputs/UTL/Amendment/20170815_Pillsbury Winthrop Shaw Pittman, LLP_Amendment_Amendment.md\n",
      "Markdown file updated at gpt4_Markdown_outputs/reg/outputs/UTL/Amendment/20170815_Pillsbury Winthrop Shaw Pittman, LLP_Amendment_Amendment.md\n",
      "Markdown file updated at gpt4_Markdown_outputs/reg/outputs/UTL/Amendment/19820401_Bermuda Tourism Authority_Amendment_Amendment.md\n",
      "Markdown file updated at gpt4_Markdown_outputs/reg/outputs/UTL/Amendment/19830401_Bermuda Tourism Authority_Amendment_Amendment.md\n",
      "Markdown file updated at gpt4_Markdown_outputs/reg/outputs/UTL/Amendment/20130815_Squire Patton Boggs, LLP_Amendment_Amendment.md\n",
      "Markdown file updated at gpt4_Markdown_outputs/reg/outputs/UTL/Amendment/20130815_Squire Patton Boggs, LLP_Amendment_Amendment.md\n",
      "Markdown file updated at gpt4_Markdown_outputs/reg/outputs/UTL/Amendment/19850801_St. Lucia Tourist Board_Amendment_Amendment.md\n",
      "Markdown file updated at gpt4_Markdown_outputs/reg/outputs/UTL/Amendment/19850801_St. Lucia Tourist Board_Amendment_Amendment.md\n",
      "Markdown file updated at gpt4_Markdown_outputs/reg/outputs/UTL/Amendment/20180124_Nickles Group, LLC_Amendment_Amendment.md\n",
      "Markdown file updated at gpt4_Markdown_outputs/reg/outputs/UTL/Amendment/20180124_Nickles Group, LLC_Amendment_Amendment.md\n",
      "Markdown file updated at gpt4_Markdown_outputs/reg/outputs/UTL/Amendment/20180105_Hill and Knowlton Strategies, LLC_Amendment_Amendment.md\n",
      "Markdown file updated at gpt4_Markdown_outputs/reg/outputs/UTL/Amendment/20180105_Hill and Knowlton Strategies, LLC_Amendment_Amendment.md\n",
      "Markdown file updated at gpt4_Markdown_outputs/reg/outputs/UTL/Amendment/20110103_Representative of the Turkish Republic of Northern Cyprus_Amendment_Amendment.md\n",
      "Markdown file updated at gpt4_Markdown_outputs/reg/outputs/UTL/Amendment/20110103_Representative of the Turkish Republic of Northern Cyprus_Amendment_Amendment.md\n",
      "Markdown file updated at gpt4_Markdown_outputs/reg/outputs/UTL/Amendment/19790101_Representative of the Turkish Republic of Northern Cyprus_Amendment_Amendment.md\n",
      "Markdown file updated at gpt4_Markdown_outputs/reg/outputs/UTL/Amendment/19790101_Representative of the Turkish Republic of Northern Cyprus_Amendment_Amendment.md\n",
      "Markdown file updated at gpt4_Markdown_outputs/reg/outputs/UTL/Amendment/20130131_Sidley Austin, LLP_Amendment_Amendment.md\n",
      "Markdown file updated at gpt4_Markdown_outputs/reg/outputs/UTL/Amendment/20130131_Sidley Austin, LLP_Amendment_Amendment.md\n",
      "Markdown file updated at gpt4_Markdown_outputs/reg/outputs/UTL/Amendment/20081001_Garvey, Schubert _ Barer_Amendment_Amendment.md\n",
      "Markdown file updated at gpt4_Markdown_outputs/reg/outputs/UTL/Amendment/20081001_Garvey, Schubert _ Barer_Amendment_Amendment.md\n",
      "Markdown file updated at gpt4_Markdown_outputs/reg/outputs/UTL/Amendment/20020611_CMGRP, Inc._Amendment_Amendment.md\n",
      "Markdown file updated at gpt4_Markdown_outputs/reg/outputs/UTL/Amendment/20020611_CMGRP, Inc._Amendment_Amendment.md\n",
      "Markdown file updated at gpt4_Markdown_outputs/reg/outputs/UTL/Amendment/20021204_JWI, LLC_Amendment_Amendment.md\n",
      "Markdown file updated at gpt4_Markdown_outputs/reg/outputs/UTL/Amendment/20021204_JWI, LLC_Amendment_Amendment.md\n",
      "Markdown file updated at gpt4_Markdown_outputs/reg/outputs/UTL/Amendment/20120604_Squire Patton Boggs, LLP_Amendment_Amendment.md\n",
      "Markdown file updated at gpt4_Markdown_outputs/reg/outputs/UTL/Amendment/20120604_Squire Patton Boggs, LLP_Amendment_Amendment.md\n",
      "Markdown file updated at gpt4_Markdown_outputs/reg/outputs/UTL/Amendment/20110527_Monaco Government Tourist Office_Amendment_Amendment.md\n",
      "Markdown file updated at gpt4_Markdown_outputs/reg/outputs/UTL/Amendment/20110527_Monaco Government Tourist Office_Amendment_Amendment.md\n",
      "Markdown file updated at gpt4_Markdown_outputs/reg/outputs/UTL/Amendment/19901201_CMGRP, Inc._Amendment_Amendment.md\n",
      "Markdown file updated at gpt4_Markdown_outputs/reg/outputs/UTL/Amendment/19901201_CMGRP, Inc._Amendment_Amendment.md\n",
      "Markdown file updated at gpt4_Markdown_outputs/reg/outputs/UTL/Amendment/19770101_Representative of the Turkish Republic of Northern Cyprus_Amendment_Amendment.md\n",
      "Markdown file updated at gpt4_Markdown_outputs/reg/outputs/UTL/Amendment/19770101_Representative of the Turkish Republic of Northern Cyprus_Amendment_Amendment.md\n",
      "Markdown file updated at gpt4_Markdown_outputs/reg/outputs/UTL/Amendment/19920201_Sidley Austin, LLP_Amendment_Amendment.md\n",
      "Markdown file updated at gpt4_Markdown_outputs/reg/outputs/UTL/Amendment/19920201_Sidley Austin, LLP_Amendment_Amendment.md\n",
      "Markdown file updated at gpt4_Markdown_outputs/reg/outputs/UTL/Amendment/20171116_Wiley Rein, LLP_Amendment_Amendment.md\n",
      "Markdown file updated at gpt4_Markdown_outputs/reg/outputs/UTL/Amendment/20171116_Wiley Rein, LLP_Amendment_Amendment.md\n",
      "Markdown file updated at gpt4_Markdown_outputs/reg/outputs/UTL/Amendment/20171116_Wiley Rein, LLP_Amendment_Amendment.md\n",
      "Markdown file updated at gpt4_Markdown_outputs/reg/outputs/UTL/Amendment/20180430_Public Strategies Washington, Inc._Amendment_Amendment.md\n",
      "Markdown file updated at gpt4_Markdown_outputs/reg/outputs/UTL/Amendment/20180430_Public Strategies Washington, Inc._Amendment_Amendment.md\n",
      "Markdown file updated at gpt4_Markdown_outputs/reg/outputs/UTL/Amendment/20170224_Alston _ Bird, LLP_Amendment_Amendment.md\n",
      "Markdown file updated at gpt4_Markdown_outputs/reg/outputs/UTL/Amendment/20170224_Alston _ Bird, LLP_Amendment_Amendment.md\n",
      "Markdown file updated at gpt4_Markdown_outputs/reg/outputs/UTL/Amendment/20150530_Parvin, C. Landon_Amendment_Amendment.md\n",
      "Markdown file updated at gpt4_Markdown_outputs/reg/outputs/UTL/Amendment/20150530_Parvin, C. Landon_Amendment_Amendment.md\n",
      "Markdown file updated at gpt4_Markdown_outputs/reg/outputs/UTL/Amendment/20150105_Squire Patton Boggs, LLP_Amendment_Amendment.md\n",
      "Markdown file updated at gpt4_Markdown_outputs/reg/outputs/UTL/Amendment/20150105_Squire Patton Boggs, LLP_Amendment_Amendment.md\n",
      "Markdown file updated at gpt4_Markdown_outputs/reg/outputs/UTL/Amendment/19961018_DLA Piper US LLP_Amendment_Amendment.md\n",
      "Markdown file updated at gpt4_Markdown_outputs/reg/outputs/UTL/Amendment/19961018_DLA Piper US LLP_Amendment_Amendment.md\n",
      "Markdown file updated at gpt4_Markdown_outputs/reg/outputs/UTL/Amendment/19961018_DLA Piper US LLP_Amendment_Amendment.md\n",
      "Markdown file updated at gpt4_Markdown_outputs/reg/outputs/UTL/Amendment/20140813_Fratelli Group_Amendment_Amendment.md\n",
      "Markdown file updated at gpt4_Markdown_outputs/reg/outputs/UTL/Amendment/20140813_Fratelli Group_Amendment_Amendment.md\n",
      "Markdown file updated at gpt4_Markdown_outputs/reg/outputs/UTL/Amendment/20150203_Burson-Marsteller, LLC (Miami Office)_Amendment_Amendment.md\n",
      "Markdown file updated at gpt4_Markdown_outputs/reg/outputs/UTL/Amendment/20150203_Burson-Marsteller, LLC (Miami Office)_Amendment_Amendment.md\n",
      "Markdown file updated at gpt4_Markdown_outputs/reg/outputs/UTL/Amendment/20160406_Rokk Solutions, LLC_Amendment_Amendment.md\n",
      "Markdown file updated at gpt4_Markdown_outputs/reg/outputs/UTL/Amendment/20160406_Rokk Solutions, LLC_Amendment_Amendment.md\n",
      "Markdown file updated at gpt4_Markdown_outputs/reg/outputs/UTL/Amendment/20180123_Fleishman-Hillard, Inc._Amendment_Amendment.md\n",
      "Markdown file updated at gpt4_Markdown_outputs/reg/outputs/UTL/Amendment/20180123_Fleishman-Hillard, Inc._Amendment_Amendment.md\n",
      "Markdown file updated at gpt4_Markdown_outputs/reg/outputs/UTL/Amendment/19710401_Netherlands Board of Tourism and Conventions (NBTC)_Amendment_Amendment.md\n",
      "Markdown file updated at gpt4_Markdown_outputs/reg/outputs/UTL/Amendment/20010820_Arnold _ Porter Kaye Scholer, LLP_Amendment_Amendment.md\n",
      "Markdown file updated at gpt4_Markdown_outputs/reg/outputs/UTL/Amendment/20010820_Arnold _ Porter Kaye Scholer, LLP_Amendment_Amendment.md\n",
      "Markdown file updated at gpt4_Markdown_outputs/reg/outputs/UTL/Amendment/20170901_Bryan Cave, LLP_Amendment_Amendment.md\n",
      "Markdown file updated at gpt4_Markdown_outputs/reg/outputs/UTL/Amendment/20170901_Bryan Cave, LLP_Amendment_Amendment.md\n",
      "Markdown file updated at gpt4_Markdown_outputs/reg/outputs/UTL/Amendment/20030714_Arnold _ Porter Kaye Scholer, LLP_Amendment_Amendment.md\n",
      "Markdown file updated at gpt4_Markdown_outputs/reg/outputs/UTL/Amendment/20030714_Arnold _ Porter Kaye Scholer, LLP_Amendment_Amendment.md\n",
      "Markdown file updated at gpt4_Markdown_outputs/reg/outputs/UTL/Amendment/19950929_Hogan Lovells US LLP_Amendment_Amendment.md\n",
      "Markdown file updated at gpt4_Markdown_outputs/reg/outputs/UTL/Amendment/19950929_Hogan Lovells US LLP_Amendment_Amendment.md\n",
      "Markdown file updated at gpt4_Markdown_outputs/reg/outputs/UTL/Amendment/19920601_JETRO, San Francisco_Amendment_Amendment.md\n",
      "Markdown file updated at gpt4_Markdown_outputs/reg/outputs/UTL/Amendment/19920601_JETRO, San Francisco_Amendment_Amendment.md\n",
      "Markdown file updated at gpt4_Markdown_outputs/reg/outputs/UTL/Amendment/20180613_Ballard Partners_Amendment_Amendment.md\n",
      "Markdown file updated at gpt4_Markdown_outputs/reg/outputs/UTL/Amendment/20180613_Ballard Partners_Amendment_Amendment.md\n",
      "Markdown file updated at gpt4_Markdown_outputs/reg/outputs/UTL/Dissemination/19920901_Daniel J. Edelman, Inc._Dissemination Report_Dissemination Report.md\n",
      "Markdown file updated at gpt4_Markdown_outputs/reg/outputs/UTL/Dissemination/19921201_Far East Trade Services, Inc._Dissemination Report_Dissemination Report.md\n",
      "Markdown file updated at gpt4_Markdown_outputs/reg/outputs/UTL/Dissemination/19921201_Far East Trade Services, Inc._Dissemination Report_Dissemination Report.md\n",
      "Markdown file updated at gpt4_Markdown_outputs/reg/outputs/UTL/Dissemination/19910201_Akin, Gump, Strauss, Hauer _ Feld, LLP_Dissemination Report_Dissemination Report.md\n",
      "Markdown file updated at gpt4_Markdown_outputs/reg/outputs/UTL/Dissemination/19910201_Akin, Gump, Strauss, Hauer _ Feld, LLP_Dissemination Report_Dissemination Report.md\n",
      "Markdown file updated at gpt4_Markdown_outputs/reg/outputs/UTL/Dissemination/19920701_JETRO, New York_Dissemination Report_Dissemination Report.md\n",
      "Markdown file updated at gpt4_Markdown_outputs/reg/outputs/UTL/Dissemination/19920701_JETRO, New York_Dissemination Report_Dissemination Report.md\n",
      "Markdown file updated at gpt4_Markdown_outputs/reg/outputs/UTL/Dissemination/19911201_JETRO, Houston_Dissemination Report_Dissemination Report.md\n",
      "Markdown file updated at gpt4_Markdown_outputs/reg/outputs/UTL/Dissemination/19911201_JETRO, Houston_Dissemination Report_Dissemination Report.md\n",
      "Markdown file updated at gpt4_Markdown_outputs/reg/outputs/UTL/Dissemination/19910501_JETRO, Atlanta_Dissemination Report_Dissemination Report.md\n",
      "Markdown file updated at gpt4_Markdown_outputs/reg/outputs/UTL/Dissemination/19910501_JETRO, Atlanta_Dissemination Report_Dissemination Report.md\n",
      "Markdown file updated at gpt4_Markdown_outputs/reg/outputs/UTL/Dissemination/19931101_Hogan Lovells US LLP_Dissemination Report_Dissemination Report.md\n",
      "Markdown file updated at gpt4_Markdown_outputs/reg/outputs/UTL/Dissemination/19920701_Daniel J. Edelman, Inc._Dissemination Report_Dissemination Report.md\n",
      "Markdown file updated at gpt4_Markdown_outputs/reg/outputs/UTL/Dissemination/19920701_Far East Trade Services, Inc._Dissemination Report_Dissemination Report.md\n",
      "Markdown file updated at gpt4_Markdown_outputs/reg/outputs/UTL/Dissemination/19920701_Far East Trade Services, Inc._Dissemination Report_Dissemination Report.md\n",
      "Markdown file updated at gpt4_Markdown_outputs/reg/outputs/UTL/Dissemination/19930101_Representative of the Turkish Republic of Northern Cyprus_Dissemination Report_Dissemination Report.md\n",
      "Markdown file updated at gpt4_Markdown_outputs/reg/outputs/UTL/Dissemination/19930101_Representative of the Turkish Republic of Northern Cyprus_Dissemination Report_Dissemination Report.md\n",
      "Markdown file updated at gpt4_Markdown_outputs/reg/outputs/UTL/Dissemination/19930101_JETRO, Los Angeles_Dissemination Report_Dissemination Report.md\n",
      "Markdown file updated at gpt4_Markdown_outputs/reg/outputs/UTL/Dissemination/19930101_JETRO, Los Angeles_Dissemination Report_Dissemination Report.md\n",
      "Markdown file updated at gpt4_Markdown_outputs/reg/outputs/UTL/Dissemination/19930801_JETRO, Los Angeles_Dissemination Report_Dissemination Report.md\n",
      "Markdown file updated at gpt4_Markdown_outputs/reg/outputs/UTL/Dissemination/19930801_JETRO, Los Angeles_Dissemination Report_Dissemination Report.md\n",
      "Markdown file updated at gpt4_Markdown_outputs/reg/outputs/UTL/Dissemination/19950522_JETRO, Los Angeles_Dissemination Report_Dissemination Report.md\n",
      "Markdown file updated at gpt4_Markdown_outputs/reg/outputs/UTL/Dissemination/19950522_JETRO, Los Angeles_Dissemination Report_Dissemination Report.md\n",
      "Markdown file updated at gpt4_Markdown_outputs/reg/outputs/UTL/Dissemination/19941221_JETRO, Chicago_Dissemination Report_Dissemination Report.md\n",
      "Markdown file updated at gpt4_Markdown_outputs/reg/outputs/UTL/Dissemination/19941221_JETRO, Chicago_Dissemination Report_Dissemination Report.md\n",
      "Markdown file updated at gpt4_Markdown_outputs/reg/outputs/UTL/Dissemination/19930901_Hill and Knowlton Strategies, LLC_Dissemination Report_Dissemination Report.md\n",
      "Markdown file updated at gpt4_Markdown_outputs/reg/outputs/UTL/Dissemination/19930901_Hill and Knowlton Strategies, LLC_Dissemination Report_Dissemination Report.md\n",
      "Markdown file updated at gpt4_Markdown_outputs/reg/outputs/UTL/Dissemination/19931101_JETRO, Los Angeles_Dissemination Report_Dissemination Report.md\n",
      "Markdown file updated at gpt4_Markdown_outputs/reg/outputs/UTL/Dissemination/19931101_JETRO, Los Angeles_Dissemination Report_Dissemination Report.md\n",
      "Markdown file updated at gpt4_Markdown_outputs/reg/outputs/UTL/Dissemination/19930901_JETRO, Los Angeles_Dissemination Report_Dissemination Report.md\n",
      "Markdown file updated at gpt4_Markdown_outputs/reg/outputs/UTL/Dissemination/19930901_JETRO, Los Angeles_Dissemination Report_Dissemination Report.md\n",
      "Markdown file updated at gpt4_Markdown_outputs/reg/outputs/UTL/Dissemination/19920701_International Registries, Inc._Dissemination Report_Dissemination Report.md\n",
      "Markdown file updated at gpt4_Markdown_outputs/reg/outputs/UTL/Dissemination/19920701_International Registries, Inc._Dissemination Report_Dissemination Report.md\n",
      "Markdown file updated at gpt4_Markdown_outputs/reg/outputs/UTL/Dissemination/19930201_Kobe Trade Information Office_Dissemination Report_Dissemination Report.md\n",
      "Markdown file updated at gpt4_Markdown_outputs/reg/outputs/UTL/Dissemination/19930201_Kobe Trade Information Office_Dissemination Report_Dissemination Report.md\n",
      "Markdown file updated at gpt4_Markdown_outputs/reg/outputs/UTL/Dissemination/19940914_JETRO, Los Angeles_Dissemination Report_Dissemination Report.md\n",
      "Markdown file updated at gpt4_Markdown_outputs/reg/outputs/UTL/Dissemination/19940914_JETRO, Los Angeles_Dissemination Report_Dissemination Report.md\n",
      "Markdown file updated at gpt4_Markdown_outputs/reg/outputs/UTL/Dissemination/19940914_JETRO, Los Angeles_Dissemination Report_Dissemination Report.md\n",
      "Markdown file updated at gpt4_Markdown_outputs/reg/outputs/UTL/Dissemination/19911201_Scottish Enterprise_Dissemination Report_Dissemination Report.md\n",
      "Markdown file updated at gpt4_Markdown_outputs/reg/outputs/UTL/Dissemination/19920301_JETRO, Los Angeles_Dissemination Report_Dissemination Report.md\n",
      "Markdown file updated at gpt4_Markdown_outputs/reg/outputs/UTL/Dissemination/19920301_JETRO, Los Angeles_Dissemination Report_Dissemination Report.md\n",
      "Markdown file updated at gpt4_Markdown_outputs/reg/outputs/UTL/Dissemination/19920701_JETRO, Los Angeles_Dissemination Report_Dissemination Report.md\n",
      "Markdown file updated at gpt4_Markdown_outputs/reg/outputs/UTL/Dissemination/19920701_JETRO, Los Angeles_Dissemination Report_Dissemination Report.md\n",
      "Markdown file updated at gpt4_Markdown_outputs/reg/outputs/UTL/Dissemination/19950110_JETRO, New York_Dissemination Report_Dissemination Report.md\n",
      "Markdown file updated at gpt4_Markdown_outputs/reg/outputs/UTL/Dissemination/19930601_International Registries, Inc._Dissemination Report_Dissemination Report.md\n",
      "Markdown file updated at gpt4_Markdown_outputs/reg/outputs/UTL/Dissemination/19930601_International Registries, Inc._Dissemination Report_Dissemination Report.md\n",
      "Markdown file updated at gpt4_Markdown_outputs/reg/outputs/UTL/Dissemination/19930701_JETRO, New York_Dissemination Report_Dissemination Report.md\n",
      "Markdown file updated at gpt4_Markdown_outputs/reg/outputs/UTL/Dissemination/19930701_JETRO, New York_Dissemination Report_Dissemination Report.md\n",
      "Markdown file updated at gpt4_Markdown_outputs/reg/outputs/UTL/Dissemination/19920501_Hogan Lovells US LLP_Dissemination Report_Dissemination Report.md\n",
      "Markdown file updated at gpt4_Markdown_outputs/reg/outputs/UTL/Dissemination/19920501_Hogan Lovells US LLP_Dissemination Report_Dissemination Report.md\n",
      "Markdown file updated at gpt4_Markdown_outputs/reg/outputs/UTL/Dissemination/19950619_JETRO, Houston_Dissemination Report_Dissemination Report.md\n",
      "Markdown file updated at gpt4_Markdown_outputs/reg/outputs/UTL/Dissemination/19950619_JETRO, Houston_Dissemination Report_Dissemination Report.md\n",
      "Markdown file updated at gpt4_Markdown_outputs/reg/outputs/UTL/Dissemination/19910801_Representative of the Turkish Republic of Northern Cyprus_Dissemination Report_Dissemination Report.md\n",
      "Markdown file updated at gpt4_Markdown_outputs/reg/outputs/UTL/Dissemination/19910801_Representative of the Turkish Republic of Northern Cyprus_Dissemination Report_Dissemination Report.md\n",
      "Markdown file updated at gpt4_Markdown_outputs/reg/outputs/UTL/Dissemination/19910801_Representative of the Turkish Republic of Northern Cyprus_Dissemination Report_Dissemination Report.md\n",
      "Markdown file updated at gpt4_Markdown_outputs/reg/outputs/UTL/Dissemination/19930701_JETRO, Atlanta_Dissemination Report_Dissemination Report.md\n",
      "Markdown file updated at gpt4_Markdown_outputs/reg/outputs/UTL/Dissemination/19930701_JETRO, Atlanta_Dissemination Report_Dissemination Report.md\n",
      "Markdown file updated at gpt4_Markdown_outputs/reg/outputs/UTL/Dissemination/19931117_KOTRA_Dissemination Report_Dissemination Report.md\n",
      "Markdown file updated at gpt4_Markdown_outputs/reg/outputs/UTL/Dissemination/19931117_KOTRA_Dissemination Report_Dissemination Report.md\n",
      "Markdown file updated at gpt4_Markdown_outputs/reg/outputs/UTL/Dissemination/19930101_JETRO, Chicago_Dissemination Report_Dissemination Report.md\n",
      "Markdown file updated at gpt4_Markdown_outputs/reg/outputs/UTL/Dissemination/19930101_JETRO, Chicago_Dissemination Report_Dissemination Report.md\n",
      "Markdown file updated at gpt4_Markdown_outputs/reg/outputs/UTL/Dissemination/19960116_JETRO, Chicago_Dissemination Report_Dissemination Report.md\n",
      "Markdown file updated at gpt4_Markdown_outputs/reg/outputs/UTL/Dissemination/19960116_JETRO, Chicago_Dissemination Report_Dissemination Report.md\n",
      "Markdown file updated at gpt4_Markdown_outputs/reg/outputs/UTL/Dissemination/19920901_Representative of the Turkish Republic of Northern Cyprus_Dissemination Report_Dissemination Report.md\n",
      "Markdown file updated at gpt4_Markdown_outputs/reg/outputs/UTL/Dissemination/19920901_Representative of the Turkish Republic of Northern Cyprus_Dissemination Report_Dissemination Report.md\n",
      "Markdown file updated at gpt4_Markdown_outputs/reg/outputs/UTL/Dissemination/19920701_Hill and Knowlton Strategies, LLC_Dissemination Report_Dissemination Report.md\n",
      "Markdown file updated at gpt4_Markdown_outputs/reg/outputs/UTL/Dissemination/19920701_Hill and Knowlton Strategies, LLC_Dissemination Report_Dissemination Report.md\n",
      "Markdown file updated at gpt4_Markdown_outputs/reg/outputs/UTL/Dissemination/19910201_World Zionist Organization - American Section, Inc._Dissemination Report_Dissemination Report.md\n",
      "Markdown file updated at gpt4_Markdown_outputs/reg/outputs/UTL/Dissemination/19930201_Akin, Gump, Strauss, Hauer _ Feld, LLP_Dissemination Report_Dissemination Report.md\n",
      "Markdown file updated at gpt4_Markdown_outputs/reg/outputs/UTL/Dissemination/19920401_Quebec Government Office_Dissemination Report_Dissemination Report.md\n",
      "Markdown file updated at gpt4_Markdown_outputs/reg/outputs/UTL/Dissemination/19920401_Quebec Government Office_Dissemination Report_Dissemination Report.md\n",
      "Markdown file updated at gpt4_Markdown_outputs/reg/outputs/UTL/Dissemination/19910401_World Zionist Organization - American Section, Inc._Dissemination Report_Dissemination Report.md\n",
      "Markdown file updated at gpt4_Markdown_outputs/reg/outputs/UTL/Dissemination/19930901_Scottish Enterprise_Dissemination Report_Dissemination Report.md\n",
      "Markdown file updated at gpt4_Markdown_outputs/reg/outputs/UTL/Dissemination/19930901_Scottish Enterprise_Dissemination Report_Dissemination Report.md\n",
      "Markdown file updated at gpt4_Markdown_outputs/reg/outputs/UTL/Short-Form/20090414_LeClairRyan, A Professional Corporation_Williams, Krystal J._Short-Form.md\n",
      "Markdown file updated at gpt4_Markdown_outputs/reg/outputs/UTL/Short-Form/20090414_LeClairRyan, A Professional Corporation_Williams, Krystal J._Short-Form.md\n",
      "Markdown file updated at gpt4_Markdown_outputs/reg/outputs/UTL/Short-Form/20110929_DLA Piper US LLP_Schwanke, Beth_Short-Form.md\n",
      "Markdown file updated at gpt4_Markdown_outputs/reg/outputs/UTL/Short-Form/20110929_DLA Piper US LLP_Schwanke, Beth_Short-Form.md\n",
      "Markdown file updated at gpt4_Markdown_outputs/reg/outputs/UTL/Short-Form/20110929_DLA Piper US LLP_Schwanke, Beth_Short-Form.md\n",
      "Markdown file updated at gpt4_Markdown_outputs/reg/outputs/UTL/Short-Form/20120917_Singapore Economic Development Board_Choo, Xing Jie_Short-Form.md\n",
      "Markdown file updated at gpt4_Markdown_outputs/reg/outputs/UTL/Short-Form/20120917_Singapore Economic Development Board_Choo, Xing Jie_Short-Form.md\n",
      "Markdown file updated at gpt4_Markdown_outputs/reg/outputs/UTL/Short-Form/20090408_Arab Information Center_Sherif, Walid Mahmoud Sayed Ahmed_Short-Form.md\n",
      "Markdown file updated at gpt4_Markdown_outputs/reg/outputs/UTL/Short-Form/20090408_Arab Information Center_Sherif, Walid Mahmoud Sayed Ahmed_Short-Form.md\n",
      "Markdown file updated at gpt4_Markdown_outputs/reg/outputs/UTL/Short-Form/20140418_Sorini, Samet _ Associates, LLC_Kingery, John_Short-Form.md\n",
      "Markdown file updated at gpt4_Markdown_outputs/reg/outputs/UTL/Short-Form/20140418_Sorini, Samet _ Associates, LLC_Kingery, John_Short-Form.md\n",
      "Markdown file updated at gpt4_Markdown_outputs/reg/outputs/UTL/Short-Form/20160601_Manatos _ Manatos_Manatos, Emanuel A. _Mike__Short-Form.md\n",
      "Markdown file updated at gpt4_Markdown_outputs/reg/outputs/UTL/Short-Form/20160601_Manatos _ Manatos_Manatos, Emanuel A. _Mike__Short-Form.md\n",
      "Markdown file updated at gpt4_Markdown_outputs/reg/outputs/UTL/Short-Form/20110210_Korea National Tourism Organization, New Jersey_Kim, Jeongah_Short-Form.md\n",
      "Markdown file updated at gpt4_Markdown_outputs/reg/outputs/UTL/Short-Form/20110210_Korea National Tourism Organization, New Jersey_Kim, Jeongah_Short-Form.md\n",
      "Markdown file updated at gpt4_Markdown_outputs/reg/outputs/UTL/Short-Form/20140812_Greenberg Traurig, LLP_Wynn, Albert R._Short-Form.md\n",
      "Markdown file updated at gpt4_Markdown_outputs/reg/outputs/UTL/Short-Form/20140812_Greenberg Traurig, LLP_Wynn, Albert R._Short-Form.md\n",
      "Markdown file updated at gpt4_Markdown_outputs/reg/outputs/UTL/Short-Form/20090424_Raben Group, LLC_Goulart, Kimberly_Short-Form.md\n",
      "Markdown file updated at gpt4_Markdown_outputs/reg/outputs/UTL/Short-Form/20090424_Raben Group, LLC_Goulart, Kimberly_Short-Form.md\n",
      "Markdown file updated at gpt4_Markdown_outputs/reg/outputs/UTL/Short-Form/20090624_Akin, Gump, Strauss, Hauer _ Feld, LLP_Davis, Smith W._Short-Form.md\n",
      "Markdown file updated at gpt4_Markdown_outputs/reg/outputs/UTL/Short-Form/20090624_Akin, Gump, Strauss, Hauer _ Feld, LLP_Davis, Smith W._Short-Form.md\n",
      "Markdown file updated at gpt4_Markdown_outputs/reg/outputs/UTL/Short-Form/20090624_Akin, Gump, Strauss, Hauer _ Feld, LLP_Davis, Smith W._Short-Form.md\n",
      "Markdown file updated at gpt4_Markdown_outputs/reg/outputs/UTL/Short-Form/20080918_Squire Patton Boggs, LLP_Varma, Anurag_Short-Form.md\n",
      "Markdown file updated at gpt4_Markdown_outputs/reg/outputs/UTL/Short-Form/20080918_Squire Patton Boggs, LLP_Varma, Anurag_Short-Form.md\n",
      "Markdown file updated at gpt4_Markdown_outputs/reg/outputs/UTL/Short-Form/20110805_Squire Patton Boggs, LLP_Nardotti, Michael J. Jr._Short-Form.md\n",
      "Markdown file updated at gpt4_Markdown_outputs/reg/outputs/UTL/Short-Form/20110805_Squire Patton Boggs, LLP_Nardotti, Michael J. Jr._Short-Form.md\n",
      "Markdown file updated at gpt4_Markdown_outputs/reg/outputs/UTL/Short-Form/20110913_MSLGROUP Americas, Inc._Dealey, Sam_Short-Form.md\n",
      "Markdown file updated at gpt4_Markdown_outputs/reg/outputs/UTL/Short-Form/20110913_MSLGROUP Americas, Inc._Dealey, Sam_Short-Form.md\n",
      "Markdown file updated at gpt4_Markdown_outputs/reg/outputs/UTL/Short-Form/20100820_South African Tourism_Jacobberger, Dean_Short-Form.md\n",
      "Markdown file updated at gpt4_Markdown_outputs/reg/outputs/UTL/Short-Form/20100820_South African Tourism_Jacobberger, Dean_Short-Form.md\n",
      "Markdown file updated at gpt4_Markdown_outputs/reg/outputs/UTL/Short-Form/20100820_South African Tourism_Jacobberger, Dean_Short-Form.md\n",
      "Markdown file updated at gpt4_Markdown_outputs/reg/outputs/UTL/Short-Form/20160506_MSLGROUP Americas, Inc._Kurapovna, Marcia Christoff_Short-Form.md\n",
      "Markdown file updated at gpt4_Markdown_outputs/reg/outputs/UTL/Short-Form/20160506_MSLGROUP Americas, Inc._Kurapovna, Marcia Christoff_Short-Form.md\n",
      "Markdown file updated at gpt4_Markdown_outputs/reg/outputs/UTL/Short-Form/20110722_Daniel J. Edelman, Inc._Norfolk, Jeffrey_Short-Form.md\n",
      "Markdown file updated at gpt4_Markdown_outputs/reg/outputs/UTL/Short-Form/20110722_Daniel J. Edelman, Inc._Norfolk, Jeffrey_Short-Form.md\n",
      "Markdown file updated at gpt4_Markdown_outputs/reg/outputs/UTL/Short-Form/20170228_BGR Government Affairs, LLC_Vajdich, Daniel_Short-Form.md\n",
      "Markdown file updated at gpt4_Markdown_outputs/reg/outputs/UTL/Short-Form/20170228_BGR Government Affairs, LLC_Vajdich, Daniel_Short-Form.md\n",
      "Markdown file updated at gpt4_Markdown_outputs/reg/outputs/UTL/Short-Form/20101208_Ketchum Inc. NY_Austria, Kristine Partolan_Short-Form.md\n",
      "Markdown file updated at gpt4_Markdown_outputs/reg/outputs/UTL/Short-Form/20101208_Ketchum Inc. NY_Austria, Kristine Partolan_Short-Form.md\n",
      "Markdown file updated at gpt4_Markdown_outputs/reg/outputs/UTL/Short-Form/20121129_Commonwealth of Dominica Maritime Registry, Inc._Jamal, Shahid_Short-Form.md\n",
      "Markdown file updated at gpt4_Markdown_outputs/reg/outputs/UTL/Short-Form/20121129_Commonwealth of Dominica Maritime Registry, Inc._Jamal, Shahid_Short-Form.md\n",
      "Markdown file updated at gpt4_Markdown_outputs/reg/outputs/UTL/Short-Form/20100909_Gephardt Group Government Affairs, LLC_Messmer, Michael_Short-Form.md\n",
      "Markdown file updated at gpt4_Markdown_outputs/reg/outputs/UTL/Short-Form/20100909_Gephardt Group Government Affairs, LLC_Messmer, Michael_Short-Form.md\n",
      "Markdown file updated at gpt4_Markdown_outputs/reg/outputs/UTL/Short-Form/20170130_Burson-Marsteller, LLC (Washington, DC)_Pruitt, David_Short-Form.md\n",
      "Markdown file updated at gpt4_Markdown_outputs/reg/outputs/UTL/Short-Form/20170130_Burson-Marsteller, LLC (Washington, DC)_Pruitt, David_Short-Form.md\n",
      "Markdown file updated at gpt4_Markdown_outputs/reg/outputs/UTL/Short-Form/20110628_KBS America, Inc._Noh, Ji Young_Short-Form.md\n",
      "Markdown file updated at gpt4_Markdown_outputs/reg/outputs/UTL/Short-Form/20110628_KBS America, Inc._Noh, Ji Young_Short-Form.md\n",
      "Markdown file updated at gpt4_Markdown_outputs/reg/outputs/UTL/Short-Form/20170424_Singapore Tourism Board_Yang, Yawen_Short-Form.md\n",
      "Markdown file updated at gpt4_Markdown_outputs/reg/outputs/UTL/Short-Form/20170424_Singapore Tourism Board_Yang, Yawen_Short-Form.md\n",
      "Markdown file updated at gpt4_Markdown_outputs/reg/outputs/UTL/Short-Form/20131009_VisitBritain_Walsh, Carl_Short-Form.md\n",
      "Markdown file updated at gpt4_Markdown_outputs/reg/outputs/UTL/Short-Form/20131009_VisitBritain_Walsh, Carl_Short-Form.md\n",
      "Markdown file updated at gpt4_Markdown_outputs/reg/outputs/UTL/Short-Form/20090409_Daniel J. Edelman, Inc._Segall, Jules Peter_Short-Form.md\n",
      "Markdown file updated at gpt4_Markdown_outputs/reg/outputs/UTL/Short-Form/20090409_Daniel J. Edelman, Inc._Segall, Jules Peter_Short-Form.md\n",
      "Markdown file updated at gpt4_Markdown_outputs/reg/outputs/UTL/Short-Form/20140507_Ketchum Inc. NY_Amorosi, Alexandra Scott_Short-Form.md\n",
      "Markdown file updated at gpt4_Markdown_outputs/reg/outputs/UTL/Short-Form/20140507_Ketchum Inc. NY_Amorosi, Alexandra Scott_Short-Form.md\n",
      "Markdown file updated at gpt4_Markdown_outputs/reg/outputs/UTL/Short-Form/20090522_Invest Northern Ireland_Murray, Aengus_Short-Form.md\n",
      "Markdown file updated at gpt4_Markdown_outputs/reg/outputs/UTL/Short-Form/20090522_Invest Northern Ireland_Murray, Aengus_Short-Form.md\n",
      "Markdown file updated at gpt4_Markdown_outputs/reg/outputs/UTL/Short-Form/20160731_Burson-Marsteller, LLC (Washington, DC)_Jarnagan, Stephanie_Short-Form.md\n",
      "Markdown file updated at gpt4_Markdown_outputs/reg/outputs/UTL/Short-Form/20160731_Burson-Marsteller, LLC (Washington, DC)_Jarnagan, Stephanie_Short-Form.md\n",
      "Markdown file updated at gpt4_Markdown_outputs/reg/outputs/UTL/Short-Form/20140414_VisitBritain_Medway, Kellen_Short-Form.md\n",
      "Markdown file updated at gpt4_Markdown_outputs/reg/outputs/UTL/Short-Form/20140414_VisitBritain_Medway, Kellen_Short-Form.md\n",
      "Markdown file updated at gpt4_Markdown_outputs/reg/outputs/UTL/Short-Form/20130513_Commonwealth of Dominica Maritime Registry, Inc._Ottaviano, Pasquale Diego_Short-Form.md\n",
      "Markdown file updated at gpt4_Markdown_outputs/reg/outputs/UTL/Short-Form/20130513_Commonwealth of Dominica Maritime Registry, Inc._Ottaviano, Pasquale Diego_Short-Form.md\n",
      "Markdown file updated at gpt4_Markdown_outputs/reg/outputs/UTL/Short-Form/20170130_Burson-Marsteller, LLC (Washington, DC)_Thompson, Randi_Short-Form.md\n",
      "Markdown file updated at gpt4_Markdown_outputs/reg/outputs/UTL/Short-Form/20170130_Burson-Marsteller, LLC (Washington, DC)_Thompson, Randi_Short-Form.md\n",
      "Markdown file updated at gpt4_Markdown_outputs/reg/outputs/UTL/Short-Form/20161031_MSLGROUP Americas, Inc._Everett, J. Ballard_Short-Form.md\n",
      "Markdown file updated at gpt4_Markdown_outputs/reg/outputs/UTL/Short-Form/20161031_MSLGROUP Americas, Inc._Everett, J. Ballard_Short-Form.md\n",
      "Markdown file updated at gpt4_Markdown_outputs/reg/outputs/UTL/Short-Form/20140227_Nelson Mullins Riley _ Scarborough, LLP_Clarke, Britton_Short-Form.md\n",
      "Markdown file updated at gpt4_Markdown_outputs/reg/outputs/UTL/Short-Form/20140227_Nelson Mullins Riley _ Scarborough, LLP_Clarke, Britton_Short-Form.md\n",
      "Markdown file updated at gpt4_Markdown_outputs/reg/outputs/UTL/Short-Form/20100111_O_Brien Gentry _ Scott, LLC_Gentry, James_Short-Form.md\n",
      "Markdown file updated at gpt4_Markdown_outputs/reg/outputs/UTL/Short-Form/20100111_O_Brien Gentry _ Scott, LLC_Gentry, James_Short-Form.md\n",
      "Markdown file updated at gpt4_Markdown_outputs/reg/outputs/UTL/Short-Form/20100111_O_Brien Gentry _ Scott, LLC_Gentry, James_Short-Form.md\n",
      "Markdown file updated at gpt4_Markdown_outputs/reg/outputs/UTL/Short-Form/20090623_Fleishman-Hillard, Inc._Dinagan, John_Short-Form.md\n",
      "Markdown file updated at gpt4_Markdown_outputs/reg/outputs/UTL/Short-Form/20090623_Fleishman-Hillard, Inc._Dinagan, John_Short-Form.md\n",
      "Markdown file updated at gpt4_Markdown_outputs/reg/outputs/UTL/Short-Form/20170112_Podesta Group, Inc._Thompson, Dana_Short-Form.md\n",
      "Markdown file updated at gpt4_Markdown_outputs/reg/outputs/UTL/Short-Form/20170112_Podesta Group, Inc._Thompson, Dana_Short-Form.md\n",
      "Markdown file updated at gpt4_Markdown_outputs/reg/outputs/UTL/Short-Form/20110912_BLJ Worldwide LTD_Smrikarov, Marc Philip George_Short-Form.md\n",
      "Markdown file updated at gpt4_Markdown_outputs/reg/outputs/UTL/Short-Form/20110912_BLJ Worldwide LTD_Smrikarov, Marc Philip George_Short-Form.md\n",
      "Markdown file updated at gpt4_Markdown_outputs/reg/outputs/UTL/Short-Form/20110912_BLJ Worldwide LTD_Smrikarov, Marc Philip George_Short-Form.md\n",
      "Markdown file updated at gpt4_Markdown_outputs/reg/outputs/UTL/Short-Form/20160622_Raben Group, LLC_Raben, Robert_Short-Form.md\n",
      "Markdown file updated at gpt4_Markdown_outputs/reg/outputs/UTL/Short-Form/20160622_Raben Group, LLC_Raben, Robert_Short-Form.md\n",
      "Markdown file updated at gpt4_Markdown_outputs/reg/outputs/UTL/Short-Form/20171103_Dentons US LLP_Goldberg, Gary_Short-Form.md\n",
      "Markdown file updated at gpt4_Markdown_outputs/reg/outputs/UTL/Short-Form/20171103_Dentons US LLP_Goldberg, Gary_Short-Form.md\n",
      "Markdown file updated at gpt4_Markdown_outputs/reg/outputs/UTL/Short-Form/20170313_Alston _ Bird, LLP_Jones, Robert C._Short-Form.md\n",
      "Markdown file updated at gpt4_Markdown_outputs/reg/outputs/UTL/Short-Form/20170313_Alston _ Bird, LLP_Jones, Robert C._Short-Form.md\n",
      "Markdown file updated at gpt4_Markdown_outputs/reg/outputs/STL/Amendment/20090930_Garvey, Schubert _ Barer_Amendment_Amendment.md\n",
      "Markdown file updated at gpt4_Markdown_outputs/reg/outputs/STL/Amendment/20090930_Garvey, Schubert _ Barer_Amendment_Amendment.md\n",
      "Markdown file updated at gpt4_Markdown_outputs/reg/outputs/STL/Amendment/19760201_Italian Government Tourist Board (ENIT), Los Angeles_Amendment_Amendment.md\n",
      "Markdown file updated at gpt4_Markdown_outputs/reg/outputs/STL/Amendment/19760201_Italian Government Tourist Board (ENIT), Los Angeles_Amendment_Amendment.md\n",
      "Markdown file updated at gpt4_Markdown_outputs/reg/outputs/STL/Amendment/19760201_Italian Government Tourist Board (ENIT), Los Angeles_Amendment_Amendment.md\n",
      "Markdown file updated at gpt4_Markdown_outputs/reg/outputs/STL/Amendment/20070613_Pillsbury Winthrop Shaw Pittman, LLP_Amendment_Amendment.md\n",
      "Markdown file updated at gpt4_Markdown_outputs/reg/outputs/STL/Amendment/20070613_Pillsbury Winthrop Shaw Pittman, LLP_Amendment_Amendment.md\n",
      "Markdown file updated at gpt4_Markdown_outputs/reg/outputs/STL/Amendment/20131127_Independent Diplomat, Inc._Amendment_Amendment.md\n",
      "Markdown file updated at gpt4_Markdown_outputs/reg/outputs/STL/Amendment/20131127_Independent Diplomat, Inc._Amendment_Amendment.md\n",
      "Markdown file updated at gpt4_Markdown_outputs/reg/outputs/STL/Amendment/20120424_Pillsbury Winthrop Shaw Pittman, LLP_Amendment_Amendment.md\n",
      "Markdown file updated at gpt4_Markdown_outputs/reg/outputs/STL/Amendment/20120424_Pillsbury Winthrop Shaw Pittman, LLP_Amendment_Amendment.md\n",
      "Markdown file updated at gpt4_Markdown_outputs/reg/outputs/STL/Amendment/20170815_Pillsbury Winthrop Shaw Pittman, LLP_Amendment_Amendment.md\n",
      "Markdown file updated at gpt4_Markdown_outputs/reg/outputs/STL/Amendment/20170815_Pillsbury Winthrop Shaw Pittman, LLP_Amendment_Amendment.md\n",
      "Markdown file updated at gpt4_Markdown_outputs/reg/outputs/STL/Amendment/19820401_Bermuda Tourism Authority_Amendment_Amendment.md\n",
      "Markdown file updated at gpt4_Markdown_outputs/reg/outputs/STL/Amendment/19830401_Bermuda Tourism Authority_Amendment_Amendment.md\n",
      "Markdown file updated at gpt4_Markdown_outputs/reg/outputs/STL/Amendment/20130815_Squire Patton Boggs, LLP_Amendment_Amendment.md\n",
      "Markdown file updated at gpt4_Markdown_outputs/reg/outputs/STL/Amendment/20130815_Squire Patton Boggs, LLP_Amendment_Amendment.md\n",
      "Markdown file updated at gpt4_Markdown_outputs/reg/outputs/STL/Amendment/19850801_St. Lucia Tourist Board_Amendment_Amendment.md\n",
      "Markdown file updated at gpt4_Markdown_outputs/reg/outputs/STL/Amendment/19850801_St. Lucia Tourist Board_Amendment_Amendment.md\n",
      "Markdown file updated at gpt4_Markdown_outputs/reg/outputs/STL/Amendment/20180124_Nickles Group, LLC_Amendment_Amendment.md\n",
      "Markdown file updated at gpt4_Markdown_outputs/reg/outputs/STL/Amendment/20180124_Nickles Group, LLC_Amendment_Amendment.md\n",
      "Markdown file updated at gpt4_Markdown_outputs/reg/outputs/STL/Amendment/20180105_Hill and Knowlton Strategies, LLC_Amendment_Amendment.md\n",
      "Markdown file updated at gpt4_Markdown_outputs/reg/outputs/STL/Amendment/20180105_Hill and Knowlton Strategies, LLC_Amendment_Amendment.md\n",
      "Markdown file updated at gpt4_Markdown_outputs/reg/outputs/STL/Amendment/20110103_Representative of the Turkish Republic of Northern Cyprus_Amendment_Amendment.md\n",
      "Markdown file updated at gpt4_Markdown_outputs/reg/outputs/STL/Amendment/20110103_Representative of the Turkish Republic of Northern Cyprus_Amendment_Amendment.md\n",
      "Markdown file updated at gpt4_Markdown_outputs/reg/outputs/STL/Amendment/19790101_Representative of the Turkish Republic of Northern Cyprus_Amendment_Amendment.md\n",
      "Markdown file updated at gpt4_Markdown_outputs/reg/outputs/STL/Amendment/19790101_Representative of the Turkish Republic of Northern Cyprus_Amendment_Amendment.md\n",
      "Markdown file updated at gpt4_Markdown_outputs/reg/outputs/STL/Amendment/20130131_Sidley Austin, LLP_Amendment_Amendment.md\n",
      "Markdown file updated at gpt4_Markdown_outputs/reg/outputs/STL/Amendment/20130131_Sidley Austin, LLP_Amendment_Amendment.md\n",
      "Markdown file updated at gpt4_Markdown_outputs/reg/outputs/STL/Amendment/20081001_Garvey, Schubert _ Barer_Amendment_Amendment.md\n",
      "Markdown file updated at gpt4_Markdown_outputs/reg/outputs/STL/Amendment/20081001_Garvey, Schubert _ Barer_Amendment_Amendment.md\n",
      "Markdown file updated at gpt4_Markdown_outputs/reg/outputs/STL/Amendment/20020611_CMGRP, Inc._Amendment_Amendment.md\n",
      "Markdown file updated at gpt4_Markdown_outputs/reg/outputs/STL/Amendment/20020611_CMGRP, Inc._Amendment_Amendment.md\n",
      "Markdown file updated at gpt4_Markdown_outputs/reg/outputs/STL/Amendment/20021204_JWI, LLC_Amendment_Amendment.md\n",
      "Markdown file updated at gpt4_Markdown_outputs/reg/outputs/STL/Amendment/20021204_JWI, LLC_Amendment_Amendment.md\n",
      "Markdown file updated at gpt4_Markdown_outputs/reg/outputs/STL/Amendment/20120604_Squire Patton Boggs, LLP_Amendment_Amendment.md\n",
      "Markdown file updated at gpt4_Markdown_outputs/reg/outputs/STL/Amendment/20120604_Squire Patton Boggs, LLP_Amendment_Amendment.md\n",
      "Markdown file updated at gpt4_Markdown_outputs/reg/outputs/STL/Amendment/20110527_Monaco Government Tourist Office_Amendment_Amendment.md\n",
      "Markdown file updated at gpt4_Markdown_outputs/reg/outputs/STL/Amendment/20110527_Monaco Government Tourist Office_Amendment_Amendment.md\n",
      "Markdown file updated at gpt4_Markdown_outputs/reg/outputs/STL/Amendment/19901201_CMGRP, Inc._Amendment_Amendment.md\n",
      "Markdown file updated at gpt4_Markdown_outputs/reg/outputs/STL/Amendment/19901201_CMGRP, Inc._Amendment_Amendment.md\n",
      "Markdown file updated at gpt4_Markdown_outputs/reg/outputs/STL/Amendment/19770101_Representative of the Turkish Republic of Northern Cyprus_Amendment_Amendment.md\n",
      "Markdown file updated at gpt4_Markdown_outputs/reg/outputs/STL/Amendment/19770101_Representative of the Turkish Republic of Northern Cyprus_Amendment_Amendment.md\n",
      "Markdown file updated at gpt4_Markdown_outputs/reg/outputs/STL/Amendment/19920201_Sidley Austin, LLP_Amendment_Amendment.md\n",
      "Markdown file updated at gpt4_Markdown_outputs/reg/outputs/STL/Amendment/19920201_Sidley Austin, LLP_Amendment_Amendment.md\n",
      "Markdown file updated at gpt4_Markdown_outputs/reg/outputs/STL/Amendment/20171116_Wiley Rein, LLP_Amendment_Amendment.md\n",
      "Markdown file updated at gpt4_Markdown_outputs/reg/outputs/STL/Amendment/20171116_Wiley Rein, LLP_Amendment_Amendment.md\n",
      "Markdown file updated at gpt4_Markdown_outputs/reg/outputs/STL/Amendment/20171116_Wiley Rein, LLP_Amendment_Amendment.md\n",
      "Markdown file updated at gpt4_Markdown_outputs/reg/outputs/STL/Amendment/20180430_Public Strategies Washington, Inc._Amendment_Amendment.md\n",
      "Markdown file updated at gpt4_Markdown_outputs/reg/outputs/STL/Amendment/20180430_Public Strategies Washington, Inc._Amendment_Amendment.md\n",
      "Markdown file updated at gpt4_Markdown_outputs/reg/outputs/STL/Amendment/20170224_Alston _ Bird, LLP_Amendment_Amendment.md\n",
      "Markdown file updated at gpt4_Markdown_outputs/reg/outputs/STL/Amendment/20170224_Alston _ Bird, LLP_Amendment_Amendment.md\n",
      "Markdown file updated at gpt4_Markdown_outputs/reg/outputs/STL/Amendment/20150530_Parvin, C. Landon_Amendment_Amendment.md\n",
      "Markdown file updated at gpt4_Markdown_outputs/reg/outputs/STL/Amendment/20150530_Parvin, C. Landon_Amendment_Amendment.md\n",
      "Markdown file updated at gpt4_Markdown_outputs/reg/outputs/STL/Amendment/20150105_Squire Patton Boggs, LLP_Amendment_Amendment.md\n",
      "Markdown file updated at gpt4_Markdown_outputs/reg/outputs/STL/Amendment/20150105_Squire Patton Boggs, LLP_Amendment_Amendment.md\n",
      "Markdown file updated at gpt4_Markdown_outputs/reg/outputs/STL/Amendment/19961018_DLA Piper US LLP_Amendment_Amendment.md\n",
      "Markdown file updated at gpt4_Markdown_outputs/reg/outputs/STL/Amendment/19961018_DLA Piper US LLP_Amendment_Amendment.md\n",
      "Markdown file updated at gpt4_Markdown_outputs/reg/outputs/STL/Amendment/19961018_DLA Piper US LLP_Amendment_Amendment.md\n",
      "Markdown file updated at gpt4_Markdown_outputs/reg/outputs/STL/Amendment/20140813_Fratelli Group_Amendment_Amendment.md\n",
      "Markdown file updated at gpt4_Markdown_outputs/reg/outputs/STL/Amendment/20140813_Fratelli Group_Amendment_Amendment.md\n",
      "Markdown file updated at gpt4_Markdown_outputs/reg/outputs/STL/Amendment/20150203_Burson-Marsteller, LLC (Miami Office)_Amendment_Amendment.md\n",
      "Markdown file updated at gpt4_Markdown_outputs/reg/outputs/STL/Amendment/20150203_Burson-Marsteller, LLC (Miami Office)_Amendment_Amendment.md\n",
      "Markdown file updated at gpt4_Markdown_outputs/reg/outputs/STL/Amendment/20160406_Rokk Solutions, LLC_Amendment_Amendment.md\n",
      "Markdown file updated at gpt4_Markdown_outputs/reg/outputs/STL/Amendment/20160406_Rokk Solutions, LLC_Amendment_Amendment.md\n",
      "Markdown file updated at gpt4_Markdown_outputs/reg/outputs/STL/Amendment/20180123_Fleishman-Hillard, Inc._Amendment_Amendment.md\n",
      "Markdown file updated at gpt4_Markdown_outputs/reg/outputs/STL/Amendment/20180123_Fleishman-Hillard, Inc._Amendment_Amendment.md\n",
      "Markdown file updated at gpt4_Markdown_outputs/reg/outputs/STL/Amendment/19710401_Netherlands Board of Tourism and Conventions (NBTC)_Amendment_Amendment.md\n"
     ]
    },
    {
     "name": "stderr",
     "output_type": "stream",
     "text": [
      "2024-08-09 10:20:56,292 - INFO - Markdown file updated at gpt4_Markdown_outputs/reg/outputs/STL/Amendment/20010820_Arnold _ Porter Kaye Scholer, LLP_Amendment_Amendment.md\n",
      "2024-08-09 10:20:56,293 - INFO - Markdown file updated at gpt4_Markdown_outputs/reg/outputs/STL/Amendment/20170901_Bryan Cave, LLP_Amendment_Amendment.md\n",
      "2024-08-09 10:20:56,293 - INFO - Markdown file updated at gpt4_Markdown_outputs/reg/outputs/STL/Amendment/20170901_Bryan Cave, LLP_Amendment_Amendment.md\n",
      "2024-08-09 10:20:56,294 - INFO - Markdown file updated at gpt4_Markdown_outputs/reg/outputs/STL/Amendment/20030714_Arnold _ Porter Kaye Scholer, LLP_Amendment_Amendment.md\n",
      "2024-08-09 10:20:56,294 - INFO - Markdown file updated at gpt4_Markdown_outputs/reg/outputs/STL/Amendment/20030714_Arnold _ Porter Kaye Scholer, LLP_Amendment_Amendment.md\n",
      "2024-08-09 10:20:56,295 - INFO - Markdown file updated at gpt4_Markdown_outputs/reg/outputs/STL/Amendment/19950929_Hogan Lovells US LLP_Amendment_Amendment.md\n",
      "2024-08-09 10:20:56,295 - INFO - Markdown file updated at gpt4_Markdown_outputs/reg/outputs/STL/Amendment/19950929_Hogan Lovells US LLP_Amendment_Amendment.md\n",
      "2024-08-09 10:20:56,296 - INFO - Markdown file updated at gpt4_Markdown_outputs/reg/outputs/STL/Amendment/19920601_JETRO, San Francisco_Amendment_Amendment.md\n",
      "2024-08-09 10:20:56,296 - INFO - Markdown file updated at gpt4_Markdown_outputs/reg/outputs/STL/Amendment/19920601_JETRO, San Francisco_Amendment_Amendment.md\n",
      "2024-08-09 10:20:56,297 - INFO - Markdown file updated at gpt4_Markdown_outputs/reg/outputs/STL/Amendment/20180613_Ballard Partners_Amendment_Amendment.md\n",
      "2024-08-09 10:20:56,297 - INFO - Markdown file updated at gpt4_Markdown_outputs/reg/outputs/STL/Amendment/20180613_Ballard Partners_Amendment_Amendment.md\n",
      "2024-08-09 10:20:56,298 - INFO - Markdown file updated at gpt4_Markdown_outputs/reg/outputs/STL/Dissemination/19920901_Daniel J. Edelman, Inc._Dissemination Report_Dissemination Report.md\n",
      "2024-08-09 10:20:56,298 - INFO - Markdown file updated at gpt4_Markdown_outputs/reg/outputs/STL/Dissemination/19921201_Far East Trade Services, Inc._Dissemination Report_Dissemination Report.md\n",
      "2024-08-09 10:20:56,299 - INFO - Markdown file updated at gpt4_Markdown_outputs/reg/outputs/STL/Dissemination/19921201_Far East Trade Services, Inc._Dissemination Report_Dissemination Report.md\n",
      "2024-08-09 10:20:56,299 - INFO - Markdown file updated at gpt4_Markdown_outputs/reg/outputs/STL/Dissemination/19910201_Akin, Gump, Strauss, Hauer _ Feld, LLP_Dissemination Report_Dissemination Report.md\n",
      "2024-08-09 10:20:56,300 - INFO - Markdown file updated at gpt4_Markdown_outputs/reg/outputs/STL/Dissemination/19910201_Akin, Gump, Strauss, Hauer _ Feld, LLP_Dissemination Report_Dissemination Report.md\n",
      "2024-08-09 10:20:56,300 - INFO - Markdown file updated at gpt4_Markdown_outputs/reg/outputs/STL/Dissemination/19920701_JETRO, New York_Dissemination Report_Dissemination Report.md\n",
      "2024-08-09 10:20:56,301 - INFO - Markdown file updated at gpt4_Markdown_outputs/reg/outputs/STL/Dissemination/19920701_JETRO, New York_Dissemination Report_Dissemination Report.md\n",
      "2024-08-09 10:20:56,301 - INFO - Markdown file updated at gpt4_Markdown_outputs/reg/outputs/STL/Dissemination/19911201_JETRO, Houston_Dissemination Report_Dissemination Report.md\n",
      "2024-08-09 10:20:56,302 - INFO - Markdown file updated at gpt4_Markdown_outputs/reg/outputs/STL/Dissemination/19911201_JETRO, Houston_Dissemination Report_Dissemination Report.md\n",
      "2024-08-09 10:20:56,302 - INFO - Markdown file updated at gpt4_Markdown_outputs/reg/outputs/STL/Dissemination/19910501_JETRO, Atlanta_Dissemination Report_Dissemination Report.md\n",
      "2024-08-09 10:20:56,303 - INFO - Markdown file updated at gpt4_Markdown_outputs/reg/outputs/STL/Dissemination/19910501_JETRO, Atlanta_Dissemination Report_Dissemination Report.md\n",
      "2024-08-09 10:20:56,303 - INFO - Markdown file updated at gpt4_Markdown_outputs/reg/outputs/STL/Dissemination/19931101_Hogan Lovells US LLP_Dissemination Report_Dissemination Report.md\n",
      "2024-08-09 10:20:56,304 - INFO - Markdown file updated at gpt4_Markdown_outputs/reg/outputs/STL/Dissemination/19920701_Daniel J. Edelman, Inc._Dissemination Report_Dissemination Report.md\n",
      "2024-08-09 10:20:56,304 - INFO - Markdown file updated at gpt4_Markdown_outputs/reg/outputs/STL/Dissemination/19920701_Far East Trade Services, Inc._Dissemination Report_Dissemination Report.md\n",
      "2024-08-09 10:20:56,305 - INFO - Markdown file updated at gpt4_Markdown_outputs/reg/outputs/STL/Dissemination/19920701_Far East Trade Services, Inc._Dissemination Report_Dissemination Report.md\n",
      "2024-08-09 10:20:56,305 - INFO - Markdown file updated at gpt4_Markdown_outputs/reg/outputs/STL/Dissemination/19930101_Representative of the Turkish Republic of Northern Cyprus_Dissemination Report_Dissemination Report.md\n",
      "2024-08-09 10:20:56,306 - INFO - Markdown file updated at gpt4_Markdown_outputs/reg/outputs/STL/Dissemination/19930101_Representative of the Turkish Republic of Northern Cyprus_Dissemination Report_Dissemination Report.md\n",
      "2024-08-09 10:20:56,306 - INFO - Markdown file updated at gpt4_Markdown_outputs/reg/outputs/STL/Dissemination/19930101_JETRO, Los Angeles_Dissemination Report_Dissemination Report.md\n",
      "2024-08-09 10:20:56,307 - INFO - Markdown file updated at gpt4_Markdown_outputs/reg/outputs/STL/Dissemination/19930101_JETRO, Los Angeles_Dissemination Report_Dissemination Report.md\n",
      "2024-08-09 10:20:56,307 - INFO - Markdown file updated at gpt4_Markdown_outputs/reg/outputs/STL/Dissemination/19930801_JETRO, Los Angeles_Dissemination Report_Dissemination Report.md\n",
      "2024-08-09 10:20:56,308 - INFO - Markdown file updated at gpt4_Markdown_outputs/reg/outputs/STL/Dissemination/19930801_JETRO, Los Angeles_Dissemination Report_Dissemination Report.md\n",
      "2024-08-09 10:20:56,308 - INFO - Markdown file updated at gpt4_Markdown_outputs/reg/outputs/STL/Dissemination/19950522_JETRO, Los Angeles_Dissemination Report_Dissemination Report.md\n",
      "2024-08-09 10:20:56,309 - INFO - Markdown file updated at gpt4_Markdown_outputs/reg/outputs/STL/Dissemination/19950522_JETRO, Los Angeles_Dissemination Report_Dissemination Report.md\n",
      "2024-08-09 10:20:56,309 - INFO - Markdown file updated at gpt4_Markdown_outputs/reg/outputs/STL/Dissemination/19941221_JETRO, Chicago_Dissemination Report_Dissemination Report.md\n",
      "2024-08-09 10:20:56,310 - INFO - Markdown file updated at gpt4_Markdown_outputs/reg/outputs/STL/Dissemination/19941221_JETRO, Chicago_Dissemination Report_Dissemination Report.md\n",
      "2024-08-09 10:20:56,310 - INFO - Markdown file updated at gpt4_Markdown_outputs/reg/outputs/STL/Dissemination/19930901_Hill and Knowlton Strategies, LLC_Dissemination Report_Dissemination Report.md\n",
      "2024-08-09 10:20:56,311 - INFO - Markdown file updated at gpt4_Markdown_outputs/reg/outputs/STL/Dissemination/19930901_Hill and Knowlton Strategies, LLC_Dissemination Report_Dissemination Report.md\n",
      "2024-08-09 10:20:56,311 - INFO - Markdown file updated at gpt4_Markdown_outputs/reg/outputs/STL/Dissemination/19931101_JETRO, Los Angeles_Dissemination Report_Dissemination Report.md\n",
      "2024-08-09 10:20:56,312 - INFO - Markdown file updated at gpt4_Markdown_outputs/reg/outputs/STL/Dissemination/19931101_JETRO, Los Angeles_Dissemination Report_Dissemination Report.md\n",
      "2024-08-09 10:20:56,312 - INFO - Markdown file updated at gpt4_Markdown_outputs/reg/outputs/STL/Dissemination/19930901_JETRO, Los Angeles_Dissemination Report_Dissemination Report.md\n",
      "2024-08-09 10:20:56,313 - INFO - Markdown file updated at gpt4_Markdown_outputs/reg/outputs/STL/Dissemination/19930901_JETRO, Los Angeles_Dissemination Report_Dissemination Report.md\n",
      "2024-08-09 10:20:56,313 - INFO - Markdown file updated at gpt4_Markdown_outputs/reg/outputs/STL/Dissemination/19920701_International Registries, Inc._Dissemination Report_Dissemination Report.md\n",
      "2024-08-09 10:20:56,314 - INFO - Markdown file updated at gpt4_Markdown_outputs/reg/outputs/STL/Dissemination/19920701_International Registries, Inc._Dissemination Report_Dissemination Report.md\n",
      "2024-08-09 10:20:56,314 - INFO - Markdown file updated at gpt4_Markdown_outputs/reg/outputs/STL/Dissemination/19930201_Kobe Trade Information Office_Dissemination Report_Dissemination Report.md\n",
      "2024-08-09 10:20:56,315 - INFO - Markdown file updated at gpt4_Markdown_outputs/reg/outputs/STL/Dissemination/19930201_Kobe Trade Information Office_Dissemination Report_Dissemination Report.md\n",
      "2024-08-09 10:20:56,315 - INFO - Markdown file updated at gpt4_Markdown_outputs/reg/outputs/STL/Dissemination/19940914_JETRO, Los Angeles_Dissemination Report_Dissemination Report.md\n",
      "2024-08-09 10:20:56,316 - INFO - Markdown file updated at gpt4_Markdown_outputs/reg/outputs/STL/Dissemination/19940914_JETRO, Los Angeles_Dissemination Report_Dissemination Report.md\n",
      "2024-08-09 10:20:56,316 - INFO - Markdown file updated at gpt4_Markdown_outputs/reg/outputs/STL/Dissemination/19940914_JETRO, Los Angeles_Dissemination Report_Dissemination Report.md\n",
      "2024-08-09 10:20:56,317 - INFO - Markdown file updated at gpt4_Markdown_outputs/reg/outputs/STL/Dissemination/19911201_Scottish Enterprise_Dissemination Report_Dissemination Report.md\n"
     ]
    },
    {
     "name": "stdout",
     "output_type": "stream",
     "text": [
      "Markdown file updated at gpt4_Markdown_outputs/reg/outputs/STL/Amendment/20010820_Arnold _ Porter Kaye Scholer, LLP_Amendment_Amendment.md\n",
      "Markdown file updated at gpt4_Markdown_outputs/reg/outputs/STL/Amendment/20010820_Arnold _ Porter Kaye Scholer, LLP_Amendment_Amendment.md\n",
      "Markdown file updated at gpt4_Markdown_outputs/reg/outputs/STL/Amendment/20170901_Bryan Cave, LLP_Amendment_Amendment.md\n",
      "Markdown file updated at gpt4_Markdown_outputs/reg/outputs/STL/Amendment/20170901_Bryan Cave, LLP_Amendment_Amendment.md\n",
      "Markdown file updated at gpt4_Markdown_outputs/reg/outputs/STL/Amendment/20030714_Arnold _ Porter Kaye Scholer, LLP_Amendment_Amendment.md\n",
      "Markdown file updated at gpt4_Markdown_outputs/reg/outputs/STL/Amendment/20030714_Arnold _ Porter Kaye Scholer, LLP_Amendment_Amendment.md\n",
      "Markdown file updated at gpt4_Markdown_outputs/reg/outputs/STL/Amendment/19950929_Hogan Lovells US LLP_Amendment_Amendment.md\n",
      "Markdown file updated at gpt4_Markdown_outputs/reg/outputs/STL/Amendment/19950929_Hogan Lovells US LLP_Amendment_Amendment.md\n",
      "Markdown file updated at gpt4_Markdown_outputs/reg/outputs/STL/Amendment/19920601_JETRO, San Francisco_Amendment_Amendment.md\n",
      "Markdown file updated at gpt4_Markdown_outputs/reg/outputs/STL/Amendment/19920601_JETRO, San Francisco_Amendment_Amendment.md\n",
      "Markdown file updated at gpt4_Markdown_outputs/reg/outputs/STL/Amendment/20180613_Ballard Partners_Amendment_Amendment.md\n",
      "Markdown file updated at gpt4_Markdown_outputs/reg/outputs/STL/Amendment/20180613_Ballard Partners_Amendment_Amendment.md\n",
      "Markdown file updated at gpt4_Markdown_outputs/reg/outputs/STL/Dissemination/19920901_Daniel J. Edelman, Inc._Dissemination Report_Dissemination Report.md\n",
      "Markdown file updated at gpt4_Markdown_outputs/reg/outputs/STL/Dissemination/19921201_Far East Trade Services, Inc._Dissemination Report_Dissemination Report.md\n",
      "Markdown file updated at gpt4_Markdown_outputs/reg/outputs/STL/Dissemination/19921201_Far East Trade Services, Inc._Dissemination Report_Dissemination Report.md\n",
      "Markdown file updated at gpt4_Markdown_outputs/reg/outputs/STL/Dissemination/19910201_Akin, Gump, Strauss, Hauer _ Feld, LLP_Dissemination Report_Dissemination Report.md\n",
      "Markdown file updated at gpt4_Markdown_outputs/reg/outputs/STL/Dissemination/19910201_Akin, Gump, Strauss, Hauer _ Feld, LLP_Dissemination Report_Dissemination Report.md\n",
      "Markdown file updated at gpt4_Markdown_outputs/reg/outputs/STL/Dissemination/19920701_JETRO, New York_Dissemination Report_Dissemination Report.md\n",
      "Markdown file updated at gpt4_Markdown_outputs/reg/outputs/STL/Dissemination/19920701_JETRO, New York_Dissemination Report_Dissemination Report.md\n",
      "Markdown file updated at gpt4_Markdown_outputs/reg/outputs/STL/Dissemination/19911201_JETRO, Houston_Dissemination Report_Dissemination Report.md\n",
      "Markdown file updated at gpt4_Markdown_outputs/reg/outputs/STL/Dissemination/19911201_JETRO, Houston_Dissemination Report_Dissemination Report.md\n",
      "Markdown file updated at gpt4_Markdown_outputs/reg/outputs/STL/Dissemination/19910501_JETRO, Atlanta_Dissemination Report_Dissemination Report.md\n",
      "Markdown file updated at gpt4_Markdown_outputs/reg/outputs/STL/Dissemination/19910501_JETRO, Atlanta_Dissemination Report_Dissemination Report.md\n",
      "Markdown file updated at gpt4_Markdown_outputs/reg/outputs/STL/Dissemination/19931101_Hogan Lovells US LLP_Dissemination Report_Dissemination Report.md\n",
      "Markdown file updated at gpt4_Markdown_outputs/reg/outputs/STL/Dissemination/19920701_Daniel J. Edelman, Inc._Dissemination Report_Dissemination Report.md\n",
      "Markdown file updated at gpt4_Markdown_outputs/reg/outputs/STL/Dissemination/19920701_Far East Trade Services, Inc._Dissemination Report_Dissemination Report.md\n",
      "Markdown file updated at gpt4_Markdown_outputs/reg/outputs/STL/Dissemination/19920701_Far East Trade Services, Inc._Dissemination Report_Dissemination Report.md\n",
      "Markdown file updated at gpt4_Markdown_outputs/reg/outputs/STL/Dissemination/19930101_Representative of the Turkish Republic of Northern Cyprus_Dissemination Report_Dissemination Report.md\n",
      "Markdown file updated at gpt4_Markdown_outputs/reg/outputs/STL/Dissemination/19930101_Representative of the Turkish Republic of Northern Cyprus_Dissemination Report_Dissemination Report.md\n",
      "Markdown file updated at gpt4_Markdown_outputs/reg/outputs/STL/Dissemination/19930101_JETRO, Los Angeles_Dissemination Report_Dissemination Report.md\n",
      "Markdown file updated at gpt4_Markdown_outputs/reg/outputs/STL/Dissemination/19930101_JETRO, Los Angeles_Dissemination Report_Dissemination Report.md\n",
      "Markdown file updated at gpt4_Markdown_outputs/reg/outputs/STL/Dissemination/19930801_JETRO, Los Angeles_Dissemination Report_Dissemination Report.md\n",
      "Markdown file updated at gpt4_Markdown_outputs/reg/outputs/STL/Dissemination/19930801_JETRO, Los Angeles_Dissemination Report_Dissemination Report.md\n",
      "Markdown file updated at gpt4_Markdown_outputs/reg/outputs/STL/Dissemination/19950522_JETRO, Los Angeles_Dissemination Report_Dissemination Report.md\n",
      "Markdown file updated at gpt4_Markdown_outputs/reg/outputs/STL/Dissemination/19950522_JETRO, Los Angeles_Dissemination Report_Dissemination Report.md\n",
      "Markdown file updated at gpt4_Markdown_outputs/reg/outputs/STL/Dissemination/19941221_JETRO, Chicago_Dissemination Report_Dissemination Report.md\n",
      "Markdown file updated at gpt4_Markdown_outputs/reg/outputs/STL/Dissemination/19941221_JETRO, Chicago_Dissemination Report_Dissemination Report.md\n",
      "Markdown file updated at gpt4_Markdown_outputs/reg/outputs/STL/Dissemination/19930901_Hill and Knowlton Strategies, LLC_Dissemination Report_Dissemination Report.md\n",
      "Markdown file updated at gpt4_Markdown_outputs/reg/outputs/STL/Dissemination/19930901_Hill and Knowlton Strategies, LLC_Dissemination Report_Dissemination Report.md\n",
      "Markdown file updated at gpt4_Markdown_outputs/reg/outputs/STL/Dissemination/19931101_JETRO, Los Angeles_Dissemination Report_Dissemination Report.md\n",
      "Markdown file updated at gpt4_Markdown_outputs/reg/outputs/STL/Dissemination/19931101_JETRO, Los Angeles_Dissemination Report_Dissemination Report.md\n",
      "Markdown file updated at gpt4_Markdown_outputs/reg/outputs/STL/Dissemination/19930901_JETRO, Los Angeles_Dissemination Report_Dissemination Report.md\n",
      "Markdown file updated at gpt4_Markdown_outputs/reg/outputs/STL/Dissemination/19930901_JETRO, Los Angeles_Dissemination Report_Dissemination Report.md\n",
      "Markdown file updated at gpt4_Markdown_outputs/reg/outputs/STL/Dissemination/19920701_International Registries, Inc._Dissemination Report_Dissemination Report.md\n",
      "Markdown file updated at gpt4_Markdown_outputs/reg/outputs/STL/Dissemination/19920701_International Registries, Inc._Dissemination Report_Dissemination Report.md\n",
      "Markdown file updated at gpt4_Markdown_outputs/reg/outputs/STL/Dissemination/19930201_Kobe Trade Information Office_Dissemination Report_Dissemination Report.md\n",
      "Markdown file updated at gpt4_Markdown_outputs/reg/outputs/STL/Dissemination/19930201_Kobe Trade Information Office_Dissemination Report_Dissemination Report.md\n",
      "Markdown file updated at gpt4_Markdown_outputs/reg/outputs/STL/Dissemination/19940914_JETRO, Los Angeles_Dissemination Report_Dissemination Report.md\n",
      "Markdown file updated at gpt4_Markdown_outputs/reg/outputs/STL/Dissemination/19940914_JETRO, Los Angeles_Dissemination Report_Dissemination Report.md\n",
      "Markdown file updated at gpt4_Markdown_outputs/reg/outputs/STL/Dissemination/19940914_JETRO, Los Angeles_Dissemination Report_Dissemination Report.md\n",
      "Markdown file updated at gpt4_Markdown_outputs/reg/outputs/STL/Dissemination/19911201_Scottish Enterprise_Dissemination Report_Dissemination Report.md\n"
     ]
    },
    {
     "name": "stderr",
     "output_type": "stream",
     "text": [
      "2024-08-09 10:20:56,317 - INFO - Markdown file updated at gpt4_Markdown_outputs/reg/outputs/STL/Dissemination/19920301_JETRO, Los Angeles_Dissemination Report_Dissemination Report.md\n",
      "2024-08-09 10:20:56,318 - INFO - Markdown file updated at gpt4_Markdown_outputs/reg/outputs/STL/Dissemination/19920301_JETRO, Los Angeles_Dissemination Report_Dissemination Report.md\n",
      "2024-08-09 10:20:56,319 - INFO - Markdown file updated at gpt4_Markdown_outputs/reg/outputs/STL/Dissemination/19920701_JETRO, Los Angeles_Dissemination Report_Dissemination Report.md\n",
      "2024-08-09 10:20:56,319 - INFO - Markdown file updated at gpt4_Markdown_outputs/reg/outputs/STL/Dissemination/19920701_JETRO, Los Angeles_Dissemination Report_Dissemination Report.md\n",
      "2024-08-09 10:20:56,320 - INFO - Markdown file updated at gpt4_Markdown_outputs/reg/outputs/STL/Dissemination/19950110_JETRO, New York_Dissemination Report_Dissemination Report.md\n",
      "2024-08-09 10:20:56,320 - INFO - Markdown file updated at gpt4_Markdown_outputs/reg/outputs/STL/Dissemination/19930601_International Registries, Inc._Dissemination Report_Dissemination Report.md\n",
      "2024-08-09 10:20:56,421 - INFO - Markdown file updated at gpt4_Markdown_outputs/reg/outputs/STL/Dissemination/19930601_International Registries, Inc._Dissemination Report_Dissemination Report.md\n",
      "2024-08-09 10:20:56,422 - INFO - Markdown file updated at gpt4_Markdown_outputs/reg/outputs/STL/Dissemination/19930701_JETRO, New York_Dissemination Report_Dissemination Report.md\n",
      "2024-08-09 10:20:56,423 - INFO - Markdown file updated at gpt4_Markdown_outputs/reg/outputs/STL/Dissemination/19930701_JETRO, New York_Dissemination Report_Dissemination Report.md\n",
      "2024-08-09 10:20:56,424 - INFO - Markdown file updated at gpt4_Markdown_outputs/reg/outputs/STL/Dissemination/19920501_Hogan Lovells US LLP_Dissemination Report_Dissemination Report.md\n",
      "2024-08-09 10:20:56,425 - INFO - Markdown file updated at gpt4_Markdown_outputs/reg/outputs/STL/Dissemination/19920501_Hogan Lovells US LLP_Dissemination Report_Dissemination Report.md\n",
      "2024-08-09 10:20:56,426 - INFO - Markdown file updated at gpt4_Markdown_outputs/reg/outputs/STL/Dissemination/19950619_JETRO, Houston_Dissemination Report_Dissemination Report.md\n",
      "2024-08-09 10:20:56,427 - INFO - Markdown file updated at gpt4_Markdown_outputs/reg/outputs/STL/Dissemination/19950619_JETRO, Houston_Dissemination Report_Dissemination Report.md\n",
      "2024-08-09 10:20:56,428 - INFO - Markdown file updated at gpt4_Markdown_outputs/reg/outputs/STL/Dissemination/19910801_Representative of the Turkish Republic of Northern Cyprus_Dissemination Report_Dissemination Report.md\n",
      "2024-08-09 10:20:56,429 - INFO - Markdown file updated at gpt4_Markdown_outputs/reg/outputs/STL/Dissemination/19910801_Representative of the Turkish Republic of Northern Cyprus_Dissemination Report_Dissemination Report.md\n",
      "2024-08-09 10:20:56,430 - INFO - Markdown file updated at gpt4_Markdown_outputs/reg/outputs/STL/Dissemination/19910801_Representative of the Turkish Republic of Northern Cyprus_Dissemination Report_Dissemination Report.md\n",
      "2024-08-09 10:20:56,431 - INFO - Markdown file updated at gpt4_Markdown_outputs/reg/outputs/STL/Dissemination/19930701_JETRO, Atlanta_Dissemination Report_Dissemination Report.md\n",
      "2024-08-09 10:20:56,432 - INFO - Markdown file updated at gpt4_Markdown_outputs/reg/outputs/STL/Dissemination/19930701_JETRO, Atlanta_Dissemination Report_Dissemination Report.md\n",
      "2024-08-09 10:20:56,433 - INFO - Markdown file updated at gpt4_Markdown_outputs/reg/outputs/STL/Dissemination/19931117_KOTRA_Dissemination Report_Dissemination Report.md\n",
      "2024-08-09 10:20:56,433 - INFO - Markdown file updated at gpt4_Markdown_outputs/reg/outputs/STL/Dissemination/19931117_KOTRA_Dissemination Report_Dissemination Report.md\n",
      "2024-08-09 10:20:56,434 - INFO - Markdown file updated at gpt4_Markdown_outputs/reg/outputs/STL/Dissemination/19930101_JETRO, Chicago_Dissemination Report_Dissemination Report.md\n",
      "2024-08-09 10:20:56,435 - INFO - Markdown file updated at gpt4_Markdown_outputs/reg/outputs/STL/Dissemination/19930101_JETRO, Chicago_Dissemination Report_Dissemination Report.md\n",
      "2024-08-09 10:20:56,436 - INFO - Markdown file updated at gpt4_Markdown_outputs/reg/outputs/STL/Dissemination/19960116_JETRO, Chicago_Dissemination Report_Dissemination Report.md\n",
      "2024-08-09 10:20:56,436 - INFO - Markdown file updated at gpt4_Markdown_outputs/reg/outputs/STL/Dissemination/19960116_JETRO, Chicago_Dissemination Report_Dissemination Report.md\n",
      "2024-08-09 10:20:56,437 - INFO - Markdown file updated at gpt4_Markdown_outputs/reg/outputs/STL/Dissemination/19920901_Representative of the Turkish Republic of Northern Cyprus_Dissemination Report_Dissemination Report.md\n",
      "2024-08-09 10:20:56,438 - INFO - Markdown file updated at gpt4_Markdown_outputs/reg/outputs/STL/Dissemination/19920901_Representative of the Turkish Republic of Northern Cyprus_Dissemination Report_Dissemination Report.md\n",
      "2024-08-09 10:20:56,438 - INFO - Markdown file updated at gpt4_Markdown_outputs/reg/outputs/STL/Dissemination/19920701_Hill and Knowlton Strategies, LLC_Dissemination Report_Dissemination Report.md\n",
      "2024-08-09 10:20:56,439 - INFO - Markdown file updated at gpt4_Markdown_outputs/reg/outputs/STL/Dissemination/19920701_Hill and Knowlton Strategies, LLC_Dissemination Report_Dissemination Report.md\n",
      "2024-08-09 10:20:56,440 - INFO - Markdown file updated at gpt4_Markdown_outputs/reg/outputs/STL/Dissemination/19910201_World Zionist Organization - American Section, Inc._Dissemination Report_Dissemination Report.md\n",
      "2024-08-09 10:20:56,441 - INFO - Markdown file updated at gpt4_Markdown_outputs/reg/outputs/STL/Dissemination/19930201_Akin, Gump, Strauss, Hauer _ Feld, LLP_Dissemination Report_Dissemination Report.md\n",
      "2024-08-09 10:20:56,441 - INFO - Markdown file updated at gpt4_Markdown_outputs/reg/outputs/STL/Dissemination/19920401_Quebec Government Office_Dissemination Report_Dissemination Report.md\n",
      "2024-08-09 10:20:56,442 - INFO - Markdown file updated at gpt4_Markdown_outputs/reg/outputs/STL/Dissemination/19920401_Quebec Government Office_Dissemination Report_Dissemination Report.md\n",
      "2024-08-09 10:20:56,443 - INFO - Markdown file updated at gpt4_Markdown_outputs/reg/outputs/STL/Dissemination/19910401_World Zionist Organization - American Section, Inc._Dissemination Report_Dissemination Report.md\n",
      "2024-08-09 10:20:56,444 - INFO - Markdown file updated at gpt4_Markdown_outputs/reg/outputs/STL/Dissemination/19930901_Scottish Enterprise_Dissemination Report_Dissemination Report.md\n",
      "2024-08-09 10:20:56,445 - INFO - Markdown file updated at gpt4_Markdown_outputs/reg/outputs/STL/Dissemination/19930901_Scottish Enterprise_Dissemination Report_Dissemination Report.md\n",
      "2024-08-09 10:20:56,445 - INFO - Markdown file updated at gpt4_Markdown_outputs/reg/outputs/STL/Short-Form/20090414_LeClairRyan, A Professional Corporation_Williams, Krystal J._Short-Form.md\n",
      "2024-08-09 10:20:56,446 - INFO - Markdown file updated at gpt4_Markdown_outputs/reg/outputs/STL/Short-Form/20090414_LeClairRyan, A Professional Corporation_Williams, Krystal J._Short-Form.md\n",
      "2024-08-09 10:20:56,447 - INFO - Markdown file updated at gpt4_Markdown_outputs/reg/outputs/STL/Short-Form/20110929_DLA Piper US LLP_Schwanke, Beth_Short-Form.md\n",
      "2024-08-09 10:20:56,447 - INFO - Markdown file updated at gpt4_Markdown_outputs/reg/outputs/STL/Short-Form/20110929_DLA Piper US LLP_Schwanke, Beth_Short-Form.md\n",
      "2024-08-09 10:20:56,448 - INFO - Markdown file updated at gpt4_Markdown_outputs/reg/outputs/STL/Short-Form/20110929_DLA Piper US LLP_Schwanke, Beth_Short-Form.md\n",
      "2024-08-09 10:20:56,448 - INFO - Markdown file updated at gpt4_Markdown_outputs/reg/outputs/STL/Short-Form/20120917_Singapore Economic Development Board_Choo, Xing Jie_Short-Form.md\n",
      "2024-08-09 10:20:56,449 - INFO - Markdown file updated at gpt4_Markdown_outputs/reg/outputs/STL/Short-Form/20120917_Singapore Economic Development Board_Choo, Xing Jie_Short-Form.md\n",
      "2024-08-09 10:20:56,450 - INFO - Markdown file updated at gpt4_Markdown_outputs/reg/outputs/STL/Short-Form/20090408_Arab Information Center_Sherif, Walid Mahmoud Sayed Ahmed_Short-Form.md\n",
      "2024-08-09 10:20:56,450 - INFO - Markdown file updated at gpt4_Markdown_outputs/reg/outputs/STL/Short-Form/20090408_Arab Information Center_Sherif, Walid Mahmoud Sayed Ahmed_Short-Form.md\n",
      "2024-08-09 10:20:56,451 - INFO - Markdown file updated at gpt4_Markdown_outputs/reg/outputs/STL/Short-Form/20140418_Sorini, Samet _ Associates, LLC_Kingery, John_Short-Form.md\n",
      "2024-08-09 10:20:56,451 - INFO - Markdown file updated at gpt4_Markdown_outputs/reg/outputs/STL/Short-Form/20140418_Sorini, Samet _ Associates, LLC_Kingery, John_Short-Form.md\n",
      "2024-08-09 10:20:56,452 - INFO - Markdown file updated at gpt4_Markdown_outputs/reg/outputs/STL/Short-Form/20160601_Manatos _ Manatos_Manatos, Emanuel A. _Mike__Short-Form.md\n",
      "2024-08-09 10:20:56,453 - INFO - Markdown file updated at gpt4_Markdown_outputs/reg/outputs/STL/Short-Form/20160601_Manatos _ Manatos_Manatos, Emanuel A. _Mike__Short-Form.md\n",
      "2024-08-09 10:20:56,455 - INFO - Markdown file updated at gpt4_Markdown_outputs/reg/outputs/STL/Short-Form/20110210_Korea National Tourism Organization, New Jersey_Kim, Jeongah_Short-Form.md\n",
      "2024-08-09 10:20:56,457 - INFO - Markdown file updated at gpt4_Markdown_outputs/reg/outputs/STL/Short-Form/20110210_Korea National Tourism Organization, New Jersey_Kim, Jeongah_Short-Form.md\n",
      "2024-08-09 10:20:56,459 - INFO - Markdown file updated at gpt4_Markdown_outputs/reg/outputs/STL/Short-Form/20140812_Greenberg Traurig, LLP_Wynn, Albert R._Short-Form.md\n",
      "2024-08-09 10:20:56,460 - INFO - Markdown file updated at gpt4_Markdown_outputs/reg/outputs/STL/Short-Form/20140812_Greenberg Traurig, LLP_Wynn, Albert R._Short-Form.md\n",
      "2024-08-09 10:20:56,462 - INFO - Markdown file updated at gpt4_Markdown_outputs/reg/outputs/STL/Short-Form/20090424_Raben Group, LLC_Goulart, Kimberly_Short-Form.md\n",
      "2024-08-09 10:20:56,463 - INFO - Markdown file updated at gpt4_Markdown_outputs/reg/outputs/STL/Short-Form/20090424_Raben Group, LLC_Goulart, Kimberly_Short-Form.md\n",
      "2024-08-09 10:20:56,465 - INFO - Markdown file updated at gpt4_Markdown_outputs/reg/outputs/STL/Short-Form/20090624_Akin, Gump, Strauss, Hauer _ Feld, LLP_Davis, Smith W._Short-Form.md\n",
      "2024-08-09 10:20:56,467 - INFO - Markdown file updated at gpt4_Markdown_outputs/reg/outputs/STL/Short-Form/20090624_Akin, Gump, Strauss, Hauer _ Feld, LLP_Davis, Smith W._Short-Form.md\n",
      "2024-08-09 10:20:56,468 - INFO - Markdown file updated at gpt4_Markdown_outputs/reg/outputs/STL/Short-Form/20090624_Akin, Gump, Strauss, Hauer _ Feld, LLP_Davis, Smith W._Short-Form.md\n",
      "2024-08-09 10:20:56,469 - INFO - Markdown file updated at gpt4_Markdown_outputs/reg/outputs/STL/Short-Form/20080918_Squire Patton Boggs, LLP_Varma, Anurag_Short-Form.md\n",
      "2024-08-09 10:20:56,470 - INFO - Markdown file updated at gpt4_Markdown_outputs/reg/outputs/STL/Short-Form/20080918_Squire Patton Boggs, LLP_Varma, Anurag_Short-Form.md\n",
      "2024-08-09 10:20:56,470 - INFO - Markdown file updated at gpt4_Markdown_outputs/reg/outputs/STL/Short-Form/20110805_Squire Patton Boggs, LLP_Nardotti, Michael J. Jr._Short-Form.md\n",
      "2024-08-09 10:20:56,471 - INFO - Markdown file updated at gpt4_Markdown_outputs/reg/outputs/STL/Short-Form/20110805_Squire Patton Boggs, LLP_Nardotti, Michael J. Jr._Short-Form.md\n",
      "2024-08-09 10:20:56,472 - INFO - Markdown file updated at gpt4_Markdown_outputs/reg/outputs/STL/Short-Form/20110913_MSLGROUP Americas, Inc._Dealey, Sam_Short-Form.md\n",
      "2024-08-09 10:20:56,473 - INFO - Markdown file updated at gpt4_Markdown_outputs/reg/outputs/STL/Short-Form/20110913_MSLGROUP Americas, Inc._Dealey, Sam_Short-Form.md\n",
      "2024-08-09 10:20:56,474 - INFO - Markdown file updated at gpt4_Markdown_outputs/reg/outputs/STL/Short-Form/20100820_South African Tourism_Jacobberger, Dean_Short-Form.md\n",
      "2024-08-09 10:20:56,475 - INFO - Markdown file updated at gpt4_Markdown_outputs/reg/outputs/STL/Short-Form/20100820_South African Tourism_Jacobberger, Dean_Short-Form.md\n",
      "2024-08-09 10:20:56,476 - INFO - Markdown file updated at gpt4_Markdown_outputs/reg/outputs/STL/Short-Form/20100820_South African Tourism_Jacobberger, Dean_Short-Form.md\n",
      "2024-08-09 10:20:56,477 - INFO - Markdown file updated at gpt4_Markdown_outputs/reg/outputs/STL/Short-Form/20160506_MSLGROUP Americas, Inc._Kurapovna, Marcia Christoff_Short-Form.md\n",
      "2024-08-09 10:20:56,478 - INFO - Markdown file updated at gpt4_Markdown_outputs/reg/outputs/STL/Short-Form/20160506_MSLGROUP Americas, Inc._Kurapovna, Marcia Christoff_Short-Form.md\n",
      "2024-08-09 10:20:56,479 - INFO - Markdown file updated at gpt4_Markdown_outputs/reg/outputs/STL/Short-Form/20110722_Daniel J. Edelman, Inc._Norfolk, Jeffrey_Short-Form.md\n",
      "2024-08-09 10:20:56,480 - INFO - Markdown file updated at gpt4_Markdown_outputs/reg/outputs/STL/Short-Form/20110722_Daniel J. Edelman, Inc._Norfolk, Jeffrey_Short-Form.md\n",
      "2024-08-09 10:20:56,481 - INFO - Markdown file updated at gpt4_Markdown_outputs/reg/outputs/STL/Short-Form/20170228_BGR Government Affairs, LLC_Vajdich, Daniel_Short-Form.md\n",
      "2024-08-09 10:20:56,482 - INFO - Markdown file updated at gpt4_Markdown_outputs/reg/outputs/STL/Short-Form/20170228_BGR Government Affairs, LLC_Vajdich, Daniel_Short-Form.md\n",
      "2024-08-09 10:20:56,482 - INFO - Markdown file updated at gpt4_Markdown_outputs/reg/outputs/STL/Short-Form/20101208_Ketchum Inc. NY_Austria, Kristine Partolan_Short-Form.md\n",
      "2024-08-09 10:20:56,483 - INFO - Markdown file updated at gpt4_Markdown_outputs/reg/outputs/STL/Short-Form/20101208_Ketchum Inc. NY_Austria, Kristine Partolan_Short-Form.md\n",
      "2024-08-09 10:20:56,484 - INFO - Markdown file updated at gpt4_Markdown_outputs/reg/outputs/STL/Short-Form/20121129_Commonwealth of Dominica Maritime Registry, Inc._Jamal, Shahid_Short-Form.md\n",
      "2024-08-09 10:20:56,485 - INFO - Markdown file updated at gpt4_Markdown_outputs/reg/outputs/STL/Short-Form/20121129_Commonwealth of Dominica Maritime Registry, Inc._Jamal, Shahid_Short-Form.md\n",
      "2024-08-09 10:20:56,485 - INFO - Markdown file updated at gpt4_Markdown_outputs/reg/outputs/STL/Short-Form/20100909_Gephardt Group Government Affairs, LLC_Messmer, Michael_Short-Form.md\n",
      "2024-08-09 10:20:56,486 - INFO - Markdown file updated at gpt4_Markdown_outputs/reg/outputs/STL/Short-Form/20100909_Gephardt Group Government Affairs, LLC_Messmer, Michael_Short-Form.md\n",
      "2024-08-09 10:20:56,487 - INFO - Markdown file updated at gpt4_Markdown_outputs/reg/outputs/STL/Short-Form/20170130_Burson-Marsteller, LLC (Washington, DC)_Pruitt, David_Short-Form.md\n",
      "2024-08-09 10:20:56,487 - INFO - Markdown file updated at gpt4_Markdown_outputs/reg/outputs/STL/Short-Form/20170130_Burson-Marsteller, LLC (Washington, DC)_Pruitt, David_Short-Form.md\n",
      "2024-08-09 10:20:56,488 - INFO - Markdown file updated at gpt4_Markdown_outputs/reg/outputs/STL/Short-Form/20110628_KBS America, Inc._Noh, Ji Young_Short-Form.md\n",
      "2024-08-09 10:20:56,489 - INFO - Markdown file updated at gpt4_Markdown_outputs/reg/outputs/STL/Short-Form/20110628_KBS America, Inc._Noh, Ji Young_Short-Form.md\n",
      "2024-08-09 10:20:56,489 - INFO - Markdown file updated at gpt4_Markdown_outputs/reg/outputs/STL/Short-Form/20170424_Singapore Tourism Board_Yang, Yawen_Short-Form.md\n",
      "2024-08-09 10:20:56,490 - INFO - Markdown file updated at gpt4_Markdown_outputs/reg/outputs/STL/Short-Form/20170424_Singapore Tourism Board_Yang, Yawen_Short-Form.md\n",
      "2024-08-09 10:20:56,490 - INFO - Markdown file updated at gpt4_Markdown_outputs/reg/outputs/STL/Short-Form/20131009_VisitBritain_Walsh, Carl_Short-Form.md\n",
      "2024-08-09 10:20:56,491 - INFO - Markdown file updated at gpt4_Markdown_outputs/reg/outputs/STL/Short-Form/20131009_VisitBritain_Walsh, Carl_Short-Form.md\n",
      "2024-08-09 10:20:56,492 - INFO - Markdown file updated at gpt4_Markdown_outputs/reg/outputs/STL/Short-Form/20090409_Daniel J. Edelman, Inc._Segall, Jules Peter_Short-Form.md\n"
     ]
    },
    {
     "name": "stdout",
     "output_type": "stream",
     "text": [
      "Markdown file updated at gpt4_Markdown_outputs/reg/outputs/STL/Dissemination/19920301_JETRO, Los Angeles_Dissemination Report_Dissemination Report.md\n",
      "Markdown file updated at gpt4_Markdown_outputs/reg/outputs/STL/Dissemination/19920301_JETRO, Los Angeles_Dissemination Report_Dissemination Report.md\n",
      "Markdown file updated at gpt4_Markdown_outputs/reg/outputs/STL/Dissemination/19920701_JETRO, Los Angeles_Dissemination Report_Dissemination Report.md\n",
      "Markdown file updated at gpt4_Markdown_outputs/reg/outputs/STL/Dissemination/19920701_JETRO, Los Angeles_Dissemination Report_Dissemination Report.md\n",
      "Markdown file updated at gpt4_Markdown_outputs/reg/outputs/STL/Dissemination/19950110_JETRO, New York_Dissemination Report_Dissemination Report.md\n",
      "Markdown file updated at gpt4_Markdown_outputs/reg/outputs/STL/Dissemination/19930601_International Registries, Inc._Dissemination Report_Dissemination Report.md\n",
      "Markdown file updated at gpt4_Markdown_outputs/reg/outputs/STL/Dissemination/19930601_International Registries, Inc._Dissemination Report_Dissemination Report.md\n",
      "Markdown file updated at gpt4_Markdown_outputs/reg/outputs/STL/Dissemination/19930701_JETRO, New York_Dissemination Report_Dissemination Report.md\n",
      "Markdown file updated at gpt4_Markdown_outputs/reg/outputs/STL/Dissemination/19930701_JETRO, New York_Dissemination Report_Dissemination Report.md\n",
      "Markdown file updated at gpt4_Markdown_outputs/reg/outputs/STL/Dissemination/19920501_Hogan Lovells US LLP_Dissemination Report_Dissemination Report.md\n",
      "Markdown file updated at gpt4_Markdown_outputs/reg/outputs/STL/Dissemination/19920501_Hogan Lovells US LLP_Dissemination Report_Dissemination Report.md\n",
      "Markdown file updated at gpt4_Markdown_outputs/reg/outputs/STL/Dissemination/19950619_JETRO, Houston_Dissemination Report_Dissemination Report.md\n",
      "Markdown file updated at gpt4_Markdown_outputs/reg/outputs/STL/Dissemination/19950619_JETRO, Houston_Dissemination Report_Dissemination Report.md\n",
      "Markdown file updated at gpt4_Markdown_outputs/reg/outputs/STL/Dissemination/19910801_Representative of the Turkish Republic of Northern Cyprus_Dissemination Report_Dissemination Report.md\n",
      "Markdown file updated at gpt4_Markdown_outputs/reg/outputs/STL/Dissemination/19910801_Representative of the Turkish Republic of Northern Cyprus_Dissemination Report_Dissemination Report.md\n",
      "Markdown file updated at gpt4_Markdown_outputs/reg/outputs/STL/Dissemination/19910801_Representative of the Turkish Republic of Northern Cyprus_Dissemination Report_Dissemination Report.md\n",
      "Markdown file updated at gpt4_Markdown_outputs/reg/outputs/STL/Dissemination/19930701_JETRO, Atlanta_Dissemination Report_Dissemination Report.md\n",
      "Markdown file updated at gpt4_Markdown_outputs/reg/outputs/STL/Dissemination/19930701_JETRO, Atlanta_Dissemination Report_Dissemination Report.md\n",
      "Markdown file updated at gpt4_Markdown_outputs/reg/outputs/STL/Dissemination/19931117_KOTRA_Dissemination Report_Dissemination Report.md\n",
      "Markdown file updated at gpt4_Markdown_outputs/reg/outputs/STL/Dissemination/19931117_KOTRA_Dissemination Report_Dissemination Report.md\n",
      "Markdown file updated at gpt4_Markdown_outputs/reg/outputs/STL/Dissemination/19930101_JETRO, Chicago_Dissemination Report_Dissemination Report.md\n",
      "Markdown file updated at gpt4_Markdown_outputs/reg/outputs/STL/Dissemination/19930101_JETRO, Chicago_Dissemination Report_Dissemination Report.md\n",
      "Markdown file updated at gpt4_Markdown_outputs/reg/outputs/STL/Dissemination/19960116_JETRO, Chicago_Dissemination Report_Dissemination Report.md\n",
      "Markdown file updated at gpt4_Markdown_outputs/reg/outputs/STL/Dissemination/19960116_JETRO, Chicago_Dissemination Report_Dissemination Report.md\n",
      "Markdown file updated at gpt4_Markdown_outputs/reg/outputs/STL/Dissemination/19920901_Representative of the Turkish Republic of Northern Cyprus_Dissemination Report_Dissemination Report.md\n",
      "Markdown file updated at gpt4_Markdown_outputs/reg/outputs/STL/Dissemination/19920901_Representative of the Turkish Republic of Northern Cyprus_Dissemination Report_Dissemination Report.md\n",
      "Markdown file updated at gpt4_Markdown_outputs/reg/outputs/STL/Dissemination/19920701_Hill and Knowlton Strategies, LLC_Dissemination Report_Dissemination Report.md\n",
      "Markdown file updated at gpt4_Markdown_outputs/reg/outputs/STL/Dissemination/19920701_Hill and Knowlton Strategies, LLC_Dissemination Report_Dissemination Report.md\n",
      "Markdown file updated at gpt4_Markdown_outputs/reg/outputs/STL/Dissemination/19910201_World Zionist Organization - American Section, Inc._Dissemination Report_Dissemination Report.md\n",
      "Markdown file updated at gpt4_Markdown_outputs/reg/outputs/STL/Dissemination/19930201_Akin, Gump, Strauss, Hauer _ Feld, LLP_Dissemination Report_Dissemination Report.md\n",
      "Markdown file updated at gpt4_Markdown_outputs/reg/outputs/STL/Dissemination/19920401_Quebec Government Office_Dissemination Report_Dissemination Report.md\n",
      "Markdown file updated at gpt4_Markdown_outputs/reg/outputs/STL/Dissemination/19920401_Quebec Government Office_Dissemination Report_Dissemination Report.md\n",
      "Processing file:  gpt4_Markdown_outputs/reg/responses/batch_LWAzVkvJRdaG2gwbaJDNapqV_output.jsonl\n",
      "file_content:  {\"id\": \"batch_req_cAyX4kt1y1o6XteEXJEsw4xk\", \"custom_id\": \"1_STL_Dissemination_19910401_World_Zionist_Organization_-_American_Section_Inc_Dissemination_Report_Dissemination_Reportpdf_0_d7cc527f436f3acaa28939d455c7b6f7\", \"response\": {\"status_code\": 200, \"request_id\": \"6c6939b277598b36c1d3b0cf4572af42\", \"body\": {\"id\": \"chatcmpl-9uGJG2W0B8Kv3CA92GiKUV3zShy25\", \"object\": \"chat.completion\", \"created\": 1723196090, \"model\": \"gpt-4o-2024-05-13\", \"choices\": [{\"index\": 0, \"message\": {\"role\": \"assistant\", \n",
      "Markdown file updated at gpt4_Markdown_outputs/reg/outputs/STL/Dissemination/19910401_World Zionist Organization - American Section, Inc._Dissemination Report_Dissemination Report.md\n",
      "Markdown file updated at gpt4_Markdown_outputs/reg/outputs/STL/Dissemination/19930901_Scottish Enterprise_Dissemination Report_Dissemination Report.md\n",
      "Markdown file updated at gpt4_Markdown_outputs/reg/outputs/STL/Dissemination/19930901_Scottish Enterprise_Dissemination Report_Dissemination Report.md\n",
      "Markdown file updated at gpt4_Markdown_outputs/reg/outputs/STL/Short-Form/20090414_LeClairRyan, A Professional Corporation_Williams, Krystal J._Short-Form.md\n",
      "Markdown file updated at gpt4_Markdown_outputs/reg/outputs/STL/Short-Form/20090414_LeClairRyan, A Professional Corporation_Williams, Krystal J._Short-Form.md\n",
      "Markdown file updated at gpt4_Markdown_outputs/reg/outputs/STL/Short-Form/20110929_DLA Piper US LLP_Schwanke, Beth_Short-Form.md\n",
      "Markdown file updated at gpt4_Markdown_outputs/reg/outputs/STL/Short-Form/20110929_DLA Piper US LLP_Schwanke, Beth_Short-Form.md\n",
      "Markdown file updated at gpt4_Markdown_outputs/reg/outputs/STL/Short-Form/20110929_DLA Piper US LLP_Schwanke, Beth_Short-Form.md\n",
      "Markdown file updated at gpt4_Markdown_outputs/reg/outputs/STL/Short-Form/20120917_Singapore Economic Development Board_Choo, Xing Jie_Short-Form.md\n",
      "Markdown file updated at gpt4_Markdown_outputs/reg/outputs/STL/Short-Form/20120917_Singapore Economic Development Board_Choo, Xing Jie_Short-Form.md\n",
      "Markdown file updated at gpt4_Markdown_outputs/reg/outputs/STL/Short-Form/20090408_Arab Information Center_Sherif, Walid Mahmoud Sayed Ahmed_Short-Form.md\n",
      "Markdown file updated at gpt4_Markdown_outputs/reg/outputs/STL/Short-Form/20090408_Arab Information Center_Sherif, Walid Mahmoud Sayed Ahmed_Short-Form.md\n",
      "Markdown file updated at gpt4_Markdown_outputs/reg/outputs/STL/Short-Form/20140418_Sorini, Samet _ Associates, LLC_Kingery, John_Short-Form.md\n",
      "Markdown file updated at gpt4_Markdown_outputs/reg/outputs/STL/Short-Form/20140418_Sorini, Samet _ Associates, LLC_Kingery, John_Short-Form.md\n",
      "Markdown file updated at gpt4_Markdown_outputs/reg/outputs/STL/Short-Form/20160601_Manatos _ Manatos_Manatos, Emanuel A. _Mike__Short-Form.md\n",
      "Markdown file updated at gpt4_Markdown_outputs/reg/outputs/STL/Short-Form/20160601_Manatos _ Manatos_Manatos, Emanuel A. _Mike__Short-Form.md\n",
      "Markdown file updated at gpt4_Markdown_outputs/reg/outputs/STL/Short-Form/20110210_Korea National Tourism Organization, New Jersey_Kim, Jeongah_Short-Form.md\n",
      "Markdown file updated at gpt4_Markdown_outputs/reg/outputs/STL/Short-Form/20110210_Korea National Tourism Organization, New Jersey_Kim, Jeongah_Short-Form.md\n",
      "Markdown file updated at gpt4_Markdown_outputs/reg/outputs/STL/Short-Form/20140812_Greenberg Traurig, LLP_Wynn, Albert R._Short-Form.md\n",
      "Markdown file updated at gpt4_Markdown_outputs/reg/outputs/STL/Short-Form/20140812_Greenberg Traurig, LLP_Wynn, Albert R._Short-Form.md\n",
      "Markdown file updated at gpt4_Markdown_outputs/reg/outputs/STL/Short-Form/20090424_Raben Group, LLC_Goulart, Kimberly_Short-Form.md\n",
      "Markdown file updated at gpt4_Markdown_outputs/reg/outputs/STL/Short-Form/20090424_Raben Group, LLC_Goulart, Kimberly_Short-Form.md\n",
      "Markdown file updated at gpt4_Markdown_outputs/reg/outputs/STL/Short-Form/20090624_Akin, Gump, Strauss, Hauer _ Feld, LLP_Davis, Smith W._Short-Form.md\n",
      "Markdown file updated at gpt4_Markdown_outputs/reg/outputs/STL/Short-Form/20090624_Akin, Gump, Strauss, Hauer _ Feld, LLP_Davis, Smith W._Short-Form.md\n",
      "Markdown file updated at gpt4_Markdown_outputs/reg/outputs/STL/Short-Form/20090624_Akin, Gump, Strauss, Hauer _ Feld, LLP_Davis, Smith W._Short-Form.md\n",
      "Markdown file updated at gpt4_Markdown_outputs/reg/outputs/STL/Short-Form/20080918_Squire Patton Boggs, LLP_Varma, Anurag_Short-Form.md\n",
      "Markdown file updated at gpt4_Markdown_outputs/reg/outputs/STL/Short-Form/20080918_Squire Patton Boggs, LLP_Varma, Anurag_Short-Form.md\n",
      "Markdown file updated at gpt4_Markdown_outputs/reg/outputs/STL/Short-Form/20110805_Squire Patton Boggs, LLP_Nardotti, Michael J. Jr._Short-Form.md\n",
      "Markdown file updated at gpt4_Markdown_outputs/reg/outputs/STL/Short-Form/20110805_Squire Patton Boggs, LLP_Nardotti, Michael J. Jr._Short-Form.md\n",
      "Markdown file updated at gpt4_Markdown_outputs/reg/outputs/STL/Short-Form/20110913_MSLGROUP Americas, Inc._Dealey, Sam_Short-Form.md\n",
      "Markdown file updated at gpt4_Markdown_outputs/reg/outputs/STL/Short-Form/20110913_MSLGROUP Americas, Inc._Dealey, Sam_Short-Form.md\n",
      "Markdown file updated at gpt4_Markdown_outputs/reg/outputs/STL/Short-Form/20100820_South African Tourism_Jacobberger, Dean_Short-Form.md\n",
      "Markdown file updated at gpt4_Markdown_outputs/reg/outputs/STL/Short-Form/20100820_South African Tourism_Jacobberger, Dean_Short-Form.md\n",
      "Markdown file updated at gpt4_Markdown_outputs/reg/outputs/STL/Short-Form/20100820_South African Tourism_Jacobberger, Dean_Short-Form.md\n",
      "Markdown file updated at gpt4_Markdown_outputs/reg/outputs/STL/Short-Form/20160506_MSLGROUP Americas, Inc._Kurapovna, Marcia Christoff_Short-Form.md\n",
      "Markdown file updated at gpt4_Markdown_outputs/reg/outputs/STL/Short-Form/20160506_MSLGROUP Americas, Inc._Kurapovna, Marcia Christoff_Short-Form.md\n",
      "Markdown file updated at gpt4_Markdown_outputs/reg/outputs/STL/Short-Form/20110722_Daniel J. Edelman, Inc._Norfolk, Jeffrey_Short-Form.md\n",
      "Markdown file updated at gpt4_Markdown_outputs/reg/outputs/STL/Short-Form/20110722_Daniel J. Edelman, Inc._Norfolk, Jeffrey_Short-Form.md\n",
      "Markdown file updated at gpt4_Markdown_outputs/reg/outputs/STL/Short-Form/20170228_BGR Government Affairs, LLC_Vajdich, Daniel_Short-Form.md\n",
      "Markdown file updated at gpt4_Markdown_outputs/reg/outputs/STL/Short-Form/20170228_BGR Government Affairs, LLC_Vajdich, Daniel_Short-Form.md\n",
      "Markdown file updated at gpt4_Markdown_outputs/reg/outputs/STL/Short-Form/20101208_Ketchum Inc. NY_Austria, Kristine Partolan_Short-Form.md\n",
      "Markdown file updated at gpt4_Markdown_outputs/reg/outputs/STL/Short-Form/20101208_Ketchum Inc. NY_Austria, Kristine Partolan_Short-Form.md\n",
      "Markdown file updated at gpt4_Markdown_outputs/reg/outputs/STL/Short-Form/20121129_Commonwealth of Dominica Maritime Registry, Inc._Jamal, Shahid_Short-Form.md\n",
      "Markdown file updated at gpt4_Markdown_outputs/reg/outputs/STL/Short-Form/20121129_Commonwealth of Dominica Maritime Registry, Inc._Jamal, Shahid_Short-Form.md\n",
      "Markdown file updated at gpt4_Markdown_outputs/reg/outputs/STL/Short-Form/20100909_Gephardt Group Government Affairs, LLC_Messmer, Michael_Short-Form.md\n",
      "Markdown file updated at gpt4_Markdown_outputs/reg/outputs/STL/Short-Form/20100909_Gephardt Group Government Affairs, LLC_Messmer, Michael_Short-Form.md\n",
      "Markdown file updated at gpt4_Markdown_outputs/reg/outputs/STL/Short-Form/20170130_Burson-Marsteller, LLC (Washington, DC)_Pruitt, David_Short-Form.md\n",
      "Markdown file updated at gpt4_Markdown_outputs/reg/outputs/STL/Short-Form/20170130_Burson-Marsteller, LLC (Washington, DC)_Pruitt, David_Short-Form.md\n",
      "Markdown file updated at gpt4_Markdown_outputs/reg/outputs/STL/Short-Form/20110628_KBS America, Inc._Noh, Ji Young_Short-Form.md\n",
      "Markdown file updated at gpt4_Markdown_outputs/reg/outputs/STL/Short-Form/20110628_KBS America, Inc._Noh, Ji Young_Short-Form.md\n",
      "Markdown file updated at gpt4_Markdown_outputs/reg/outputs/STL/Short-Form/20170424_Singapore Tourism Board_Yang, Yawen_Short-Form.md\n",
      "Markdown file updated at gpt4_Markdown_outputs/reg/outputs/STL/Short-Form/20170424_Singapore Tourism Board_Yang, Yawen_Short-Form.md\n",
      "Markdown file updated at gpt4_Markdown_outputs/reg/outputs/STL/Short-Form/20131009_VisitBritain_Walsh, Carl_Short-Form.md\n",
      "Markdown file updated at gpt4_Markdown_outputs/reg/outputs/STL/Short-Form/20131009_VisitBritain_Walsh, Carl_Short-Form.md\n",
      "Markdown file updated at gpt4_Markdown_outputs/reg/outputs/STL/Short-Form/20090409_Daniel J. Edelman, Inc._Segall, Jules Peter_Short-Form.md\n"
     ]
    },
    {
     "name": "stderr",
     "output_type": "stream",
     "text": [
      "2024-08-09 10:20:56,492 - INFO - Markdown file updated at gpt4_Markdown_outputs/reg/outputs/STL/Short-Form/20090409_Daniel J. Edelman, Inc._Segall, Jules Peter_Short-Form.md\n",
      "2024-08-09 10:20:56,493 - INFO - Markdown file updated at gpt4_Markdown_outputs/reg/outputs/STL/Short-Form/20140507_Ketchum Inc. NY_Amorosi, Alexandra Scott_Short-Form.md\n",
      "2024-08-09 10:20:56,494 - INFO - Markdown file updated at gpt4_Markdown_outputs/reg/outputs/STL/Short-Form/20140507_Ketchum Inc. NY_Amorosi, Alexandra Scott_Short-Form.md\n",
      "2024-08-09 10:20:56,495 - INFO - Markdown file updated at gpt4_Markdown_outputs/reg/outputs/STL/Short-Form/20090522_Invest Northern Ireland_Murray, Aengus_Short-Form.md\n",
      "2024-08-09 10:20:56,495 - INFO - Markdown file updated at gpt4_Markdown_outputs/reg/outputs/STL/Short-Form/20090522_Invest Northern Ireland_Murray, Aengus_Short-Form.md\n",
      "2024-08-09 10:20:56,496 - INFO - Markdown file updated at gpt4_Markdown_outputs/reg/outputs/STL/Short-Form/20160731_Burson-Marsteller, LLC (Washington, DC)_Jarnagan, Stephanie_Short-Form.md\n",
      "2024-08-09 10:20:56,496 - INFO - Markdown file updated at gpt4_Markdown_outputs/reg/outputs/STL/Short-Form/20160731_Burson-Marsteller, LLC (Washington, DC)_Jarnagan, Stephanie_Short-Form.md\n",
      "2024-08-09 10:20:56,497 - INFO - Markdown file updated at gpt4_Markdown_outputs/reg/outputs/STL/Short-Form/20140414_VisitBritain_Medway, Kellen_Short-Form.md\n",
      "2024-08-09 10:20:56,497 - INFO - Markdown file updated at gpt4_Markdown_outputs/reg/outputs/STL/Short-Form/20140414_VisitBritain_Medway, Kellen_Short-Form.md\n",
      "2024-08-09 10:20:56,498 - INFO - Markdown file updated at gpt4_Markdown_outputs/reg/outputs/STL/Short-Form/20130513_Commonwealth of Dominica Maritime Registry, Inc._Ottaviano, Pasquale Diego_Short-Form.md\n",
      "2024-08-09 10:20:56,498 - INFO - Markdown file updated at gpt4_Markdown_outputs/reg/outputs/STL/Short-Form/20130513_Commonwealth of Dominica Maritime Registry, Inc._Ottaviano, Pasquale Diego_Short-Form.md\n",
      "2024-08-09 10:20:56,499 - INFO - Markdown file updated at gpt4_Markdown_outputs/reg/outputs/STL/Short-Form/20170130_Burson-Marsteller, LLC (Washington, DC)_Thompson, Randi_Short-Form.md\n",
      "2024-08-09 10:20:56,499 - INFO - Markdown file updated at gpt4_Markdown_outputs/reg/outputs/STL/Short-Form/20170130_Burson-Marsteller, LLC (Washington, DC)_Thompson, Randi_Short-Form.md\n",
      "2024-08-09 10:20:56,500 - INFO - Markdown file updated at gpt4_Markdown_outputs/reg/outputs/STL/Short-Form/20161031_MSLGROUP Americas, Inc._Everett, J. Ballard_Short-Form.md\n",
      "2024-08-09 10:20:56,500 - INFO - Markdown file updated at gpt4_Markdown_outputs/reg/outputs/STL/Short-Form/20161031_MSLGROUP Americas, Inc._Everett, J. Ballard_Short-Form.md\n",
      "2024-08-09 10:20:56,501 - INFO - Markdown file updated at gpt4_Markdown_outputs/reg/outputs/STL/Short-Form/20140227_Nelson Mullins Riley _ Scarborough, LLP_Clarke, Britton_Short-Form.md\n",
      "2024-08-09 10:20:56,502 - INFO - Markdown file updated at gpt4_Markdown_outputs/reg/outputs/STL/Short-Form/20140227_Nelson Mullins Riley _ Scarborough, LLP_Clarke, Britton_Short-Form.md\n",
      "2024-08-09 10:20:56,502 - INFO - Markdown file updated at gpt4_Markdown_outputs/reg/outputs/STL/Short-Form/20100111_O_Brien Gentry _ Scott, LLC_Gentry, James_Short-Form.md\n",
      "2024-08-09 10:20:56,503 - INFO - Markdown file updated at gpt4_Markdown_outputs/reg/outputs/STL/Short-Form/20100111_O_Brien Gentry _ Scott, LLC_Gentry, James_Short-Form.md\n",
      "2024-08-09 10:20:56,503 - INFO - Markdown file updated at gpt4_Markdown_outputs/reg/outputs/STL/Short-Form/20100111_O_Brien Gentry _ Scott, LLC_Gentry, James_Short-Form.md\n",
      "2024-08-09 10:20:56,504 - INFO - Markdown file updated at gpt4_Markdown_outputs/reg/outputs/STL/Short-Form/20090623_Fleishman-Hillard, Inc._Dinagan, John_Short-Form.md\n",
      "2024-08-09 10:20:56,504 - INFO - Markdown file updated at gpt4_Markdown_outputs/reg/outputs/STL/Short-Form/20090623_Fleishman-Hillard, Inc._Dinagan, John_Short-Form.md\n",
      "2024-08-09 10:20:56,505 - INFO - Markdown file updated at gpt4_Markdown_outputs/reg/outputs/STL/Short-Form/20170112_Podesta Group, Inc._Thompson, Dana_Short-Form.md\n",
      "2024-08-09 10:20:56,505 - INFO - Markdown file updated at gpt4_Markdown_outputs/reg/outputs/STL/Short-Form/20170112_Podesta Group, Inc._Thompson, Dana_Short-Form.md\n",
      "2024-08-09 10:20:56,506 - INFO - Markdown file updated at gpt4_Markdown_outputs/reg/outputs/STL/Short-Form/20110912_BLJ Worldwide LTD_Smrikarov, Marc Philip George_Short-Form.md\n",
      "2024-08-09 10:20:56,506 - INFO - Markdown file updated at gpt4_Markdown_outputs/reg/outputs/STL/Short-Form/20110912_BLJ Worldwide LTD_Smrikarov, Marc Philip George_Short-Form.md\n",
      "2024-08-09 10:20:56,507 - INFO - Markdown file updated at gpt4_Markdown_outputs/reg/outputs/STL/Short-Form/20110912_BLJ Worldwide LTD_Smrikarov, Marc Philip George_Short-Form.md\n",
      "2024-08-09 10:20:56,507 - INFO - Markdown file updated at gpt4_Markdown_outputs/reg/outputs/STL/Short-Form/20160622_Raben Group, LLC_Raben, Robert_Short-Form.md\n",
      "2024-08-09 10:20:56,508 - INFO - Markdown file updated at gpt4_Markdown_outputs/reg/outputs/STL/Short-Form/20160622_Raben Group, LLC_Raben, Robert_Short-Form.md\n",
      "2024-08-09 10:20:56,509 - INFO - Markdown file updated at gpt4_Markdown_outputs/reg/outputs/STL/Short-Form/20171103_Dentons US LLP_Goldberg, Gary_Short-Form.md\n",
      "2024-08-09 10:20:56,509 - INFO - Markdown file updated at gpt4_Markdown_outputs/reg/outputs/STL/Short-Form/20171103_Dentons US LLP_Goldberg, Gary_Short-Form.md\n",
      "2024-08-09 10:20:56,510 - INFO - Markdown file updated at gpt4_Markdown_outputs/reg/outputs/STL/Short-Form/20170313_Alston _ Bird, LLP_Jones, Robert C._Short-Form.md\n",
      "2024-08-09 10:20:56,510 - INFO - Markdown file updated at gpt4_Markdown_outputs/reg/outputs/STL/Short-Form/20170313_Alston _ Bird, LLP_Jones, Robert C._Short-Form.md\n"
     ]
    },
    {
     "name": "stdout",
     "output_type": "stream",
     "text": [
      "Markdown file updated at gpt4_Markdown_outputs/reg/outputs/STL/Short-Form/20090409_Daniel J. Edelman, Inc._Segall, Jules Peter_Short-Form.md\n",
      "Markdown file updated at gpt4_Markdown_outputs/reg/outputs/STL/Short-Form/20140507_Ketchum Inc. NY_Amorosi, Alexandra Scott_Short-Form.md\n",
      "Markdown file updated at gpt4_Markdown_outputs/reg/outputs/STL/Short-Form/20140507_Ketchum Inc. NY_Amorosi, Alexandra Scott_Short-Form.md\n",
      "Markdown file updated at gpt4_Markdown_outputs/reg/outputs/STL/Short-Form/20090522_Invest Northern Ireland_Murray, Aengus_Short-Form.md\n",
      "Markdown file updated at gpt4_Markdown_outputs/reg/outputs/STL/Short-Form/20090522_Invest Northern Ireland_Murray, Aengus_Short-Form.md\n",
      "Markdown file updated at gpt4_Markdown_outputs/reg/outputs/STL/Short-Form/20160731_Burson-Marsteller, LLC (Washington, DC)_Jarnagan, Stephanie_Short-Form.md\n",
      "Markdown file updated at gpt4_Markdown_outputs/reg/outputs/STL/Short-Form/20160731_Burson-Marsteller, LLC (Washington, DC)_Jarnagan, Stephanie_Short-Form.md\n",
      "Markdown file updated at gpt4_Markdown_outputs/reg/outputs/STL/Short-Form/20140414_VisitBritain_Medway, Kellen_Short-Form.md\n",
      "Markdown file updated at gpt4_Markdown_outputs/reg/outputs/STL/Short-Form/20140414_VisitBritain_Medway, Kellen_Short-Form.md\n",
      "Markdown file updated at gpt4_Markdown_outputs/reg/outputs/STL/Short-Form/20130513_Commonwealth of Dominica Maritime Registry, Inc._Ottaviano, Pasquale Diego_Short-Form.md\n",
      "Markdown file updated at gpt4_Markdown_outputs/reg/outputs/STL/Short-Form/20130513_Commonwealth of Dominica Maritime Registry, Inc._Ottaviano, Pasquale Diego_Short-Form.md\n",
      "Markdown file updated at gpt4_Markdown_outputs/reg/outputs/STL/Short-Form/20170130_Burson-Marsteller, LLC (Washington, DC)_Thompson, Randi_Short-Form.md\n",
      "Markdown file updated at gpt4_Markdown_outputs/reg/outputs/STL/Short-Form/20170130_Burson-Marsteller, LLC (Washington, DC)_Thompson, Randi_Short-Form.md\n",
      "Markdown file updated at gpt4_Markdown_outputs/reg/outputs/STL/Short-Form/20161031_MSLGROUP Americas, Inc._Everett, J. Ballard_Short-Form.md\n",
      "Markdown file updated at gpt4_Markdown_outputs/reg/outputs/STL/Short-Form/20161031_MSLGROUP Americas, Inc._Everett, J. Ballard_Short-Form.md\n",
      "Markdown file updated at gpt4_Markdown_outputs/reg/outputs/STL/Short-Form/20140227_Nelson Mullins Riley _ Scarborough, LLP_Clarke, Britton_Short-Form.md\n",
      "Markdown file updated at gpt4_Markdown_outputs/reg/outputs/STL/Short-Form/20140227_Nelson Mullins Riley _ Scarborough, LLP_Clarke, Britton_Short-Form.md\n",
      "Markdown file updated at gpt4_Markdown_outputs/reg/outputs/STL/Short-Form/20100111_O_Brien Gentry _ Scott, LLC_Gentry, James_Short-Form.md\n",
      "Markdown file updated at gpt4_Markdown_outputs/reg/outputs/STL/Short-Form/20100111_O_Brien Gentry _ Scott, LLC_Gentry, James_Short-Form.md\n",
      "Markdown file updated at gpt4_Markdown_outputs/reg/outputs/STL/Short-Form/20100111_O_Brien Gentry _ Scott, LLC_Gentry, James_Short-Form.md\n",
      "Markdown file updated at gpt4_Markdown_outputs/reg/outputs/STL/Short-Form/20090623_Fleishman-Hillard, Inc._Dinagan, John_Short-Form.md\n",
      "Markdown file updated at gpt4_Markdown_outputs/reg/outputs/STL/Short-Form/20090623_Fleishman-Hillard, Inc._Dinagan, John_Short-Form.md\n",
      "Markdown file updated at gpt4_Markdown_outputs/reg/outputs/STL/Short-Form/20170112_Podesta Group, Inc._Thompson, Dana_Short-Form.md\n",
      "Markdown file updated at gpt4_Markdown_outputs/reg/outputs/STL/Short-Form/20170112_Podesta Group, Inc._Thompson, Dana_Short-Form.md\n",
      "Markdown file updated at gpt4_Markdown_outputs/reg/outputs/STL/Short-Form/20110912_BLJ Worldwide LTD_Smrikarov, Marc Philip George_Short-Form.md\n",
      "Markdown file updated at gpt4_Markdown_outputs/reg/outputs/STL/Short-Form/20110912_BLJ Worldwide LTD_Smrikarov, Marc Philip George_Short-Form.md\n",
      "Markdown file updated at gpt4_Markdown_outputs/reg/outputs/STL/Short-Form/20110912_BLJ Worldwide LTD_Smrikarov, Marc Philip George_Short-Form.md\n",
      "Markdown file updated at gpt4_Markdown_outputs/reg/outputs/STL/Short-Form/20160622_Raben Group, LLC_Raben, Robert_Short-Form.md\n",
      "Markdown file updated at gpt4_Markdown_outputs/reg/outputs/STL/Short-Form/20160622_Raben Group, LLC_Raben, Robert_Short-Form.md\n",
      "Markdown file updated at gpt4_Markdown_outputs/reg/outputs/STL/Short-Form/20171103_Dentons US LLP_Goldberg, Gary_Short-Form.md\n",
      "Markdown file updated at gpt4_Markdown_outputs/reg/outputs/STL/Short-Form/20171103_Dentons US LLP_Goldberg, Gary_Short-Form.md\n",
      "Markdown file updated at gpt4_Markdown_outputs/reg/outputs/STL/Short-Form/20170313_Alston _ Bird, LLP_Jones, Robert C._Short-Form.md\n",
      "Markdown file updated at gpt4_Markdown_outputs/reg/outputs/STL/Short-Form/20170313_Alston _ Bird, LLP_Jones, Robert C._Short-Form.md\n"
     ]
    }
   ],
   "source": [
    "output_dir = os.path.join(base_output_directory, \"outputs\")\n",
    "response_dir = os.path.join(base_output_directory, \"responses\")\n",
    "\n",
    "retrieve_and_process_batch_results(response_dir, output_dir, all_filename_mappings)"
   ]
  },
  {
   "cell_type": "markdown",
   "id": "bb1a12f0-ae02-499a-a2e1-1e7c6e4e88be",
   "metadata": {
    "jp-MarkdownHeadingCollapsed": true
   },
   "source": [
    "## Check Consistency of Files"
   ]
  },
  {
   "cell_type": "code",
   "execution_count": 19,
   "id": "9d4d8c4d-b545-4d47-98fb-f11c8fd0625d",
   "metadata": {},
   "outputs": [
    {
     "name": "stdout",
     "output_type": "stream",
     "text": [
      "Template type 'Amendment' matches between STL and UTL.\n",
      "Template type 'Dissemination' matches between STL and UTL.\n",
      "Template type 'Short-Form' matches between STL and UTL.\n",
      "All checks passed. The files in 'outputs' directory are consistent.\n"
     ]
    }
   ],
   "source": [
    "import os\n",
    "\n",
    "def check_output_files(output_dir):\n",
    "    levels = ['STL', 'UTL']\n",
    "    template_types = ['Amendment', 'Dissemination', 'Short-Form']\n",
    "    \n",
    "    level_files = {level: {template: set() for template in template_types} for level in levels}\n",
    "    \n",
    "    # Collect file names for each level and template type\n",
    "    for level in levels:\n",
    "        for template in template_types:\n",
    "            template_dir = os.path.join(output_dir, level, template)\n",
    "            if os.path.exists(template_dir):\n",
    "                level_files[level][template] = set(os.listdir(template_dir))\n",
    "            else:\n",
    "                print(f\"Directory does not exist: {template_dir}\")\n",
    "\n",
    "    all_checks_passed = True\n",
    "\n",
    "    # Compare files between corresponding template types in different levels\n",
    "    for template in template_types:\n",
    "        stl_files = level_files['STL'][template]\n",
    "        utl_files = level_files['UTL'][template]\n",
    "        \n",
    "        if stl_files != utl_files:\n",
    "            all_checks_passed = False\n",
    "            print(f\"Discrepancy found in template type '{template}':\")\n",
    "            print(f\"Files in STL: {stl_files}\")\n",
    "            print(f\"Files in UTL: {utl_files}\")\n",
    "        else:\n",
    "            print(f\"Template type '{template}' matches between STL and UTL.\")\n",
    "\n",
    "    if all_checks_passed:\n",
    "        print(\"All checks passed. The files in 'outputs' directory are consistent.\")\n",
    "    else:\n",
    "        print(\"Some discrepancies were found. Please check the details above.\")\n",
    "\n",
    "# Usage example\n",
    "output_dir = 'gpt4_Markdown_outputs/reg/outputs'  # Replace with your actual output directory path\n",
    "check_output_files(output_dir)\n"
   ]
  },
  {
   "cell_type": "code",
   "execution_count": null,
   "id": "a5eaebe2-6a2a-46ab-a912-9863f36e9ce5",
   "metadata": {},
   "outputs": [],
   "source": []
  }
 ],
 "metadata": {
  "kernelspec": {
   "display_name": "Python 3 (ipykernel)",
   "language": "python",
   "name": "python3"
  },
  "language_info": {
   "codemirror_mode": {
    "name": "ipython",
    "version": 3
   },
   "file_extension": ".py",
   "mimetype": "text/x-python",
   "name": "python",
   "nbconvert_exporter": "python",
   "pygments_lexer": "ipython3",
   "version": "3.11.6"
  }
 },
 "nbformat": 4,
 "nbformat_minor": 5
}
